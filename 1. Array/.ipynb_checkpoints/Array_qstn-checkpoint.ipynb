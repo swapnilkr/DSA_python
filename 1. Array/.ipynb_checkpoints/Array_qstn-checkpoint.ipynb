{
 "cells": [
  {
   "cell_type": "markdown",
   "metadata": {},
   "source": [
    "### swap alternate\n",
    "input- <br>\n",
    "6 <br>\n",
    "9 3 6 12 4 32 <br>\n",
    "output-<br>\n",
    "3 9 12 6 32 4"
   ]
  },
  {
   "cell_type": "code",
   "execution_count": null,
   "metadata": {},
   "outputs": [],
   "source": [
    "n = int(input())\n",
    "li = [int(x) for x in input().split()]\n",
    "length = len(li)\n",
    "if length % 2 == 1:\n",
    "    length = length - 1 \n",
    "for i in range(0,length,2):\n",
    "    li[i], li[i+1] = li[i+1], li[i] \n",
    "for i in range (0,n):\n",
    "    print(li[i],end=\" \")\n"
   ]
  },
  {
   "cell_type": "markdown",
   "metadata": {},
   "source": [
    "### find unique (where except one element all are present in 2)\n",
    "input- <br>\n",
    "6 <br>\n",
    "1 2 3 3 2 4 5 <br>\n",
    "output-<br>\n",
    "1"
   ]
  },
  {
   "cell_type": "code",
   "execution_count": null,
   "metadata": {},
   "outputs": [],
   "source": [
    "n = int(input())\n",
    "li = [int(x) for x in input().split()]\n",
    "li.sort()\n",
    "k = 0\n",
    "for i in range(0, len(li), 1):\n",
    "    i = k\n",
    "    if(li[i]==li[i+1]):\n",
    "        li.remove(li[i])\n",
    "        li.remove(li[i])\n",
    "       \n",
    "        if len(li) == 1:\n",
    "            break\n",
    "    else:\n",
    "        k = k + 1\n",
    "for ele in li:\n",
    "    print(ele)"
   ]
  },
  {
   "cell_type": "markdown",
   "metadata": {},
   "source": [
    "##### XOR\n",
    "The best solution is to use XOR. XOR of all array elements gives us the number with a single occurrence. The idea is based on the following two facts. \n",
    "a) XOR of a number with itself is 0. \n",
    "b) XOR of a number with 0 is number itself."
   ]
  },
  {
   "cell_type": "code",
   "execution_count": 2,
   "metadata": {},
   "outputs": [
    {
     "name": "stdout",
     "output_type": "stream",
     "text": [
      "7\n",
      "1 2 2 3 3 4 4 5\n",
      "1\n"
     ]
    }
   ],
   "source": [
    "def findSingle( ar, n):\n",
    "     \n",
    "    res = ar[0]\n",
    "    for i in range(1,n):\n",
    "        res = res ^ ar[i]\n",
    "     \n",
    "    return res\n",
    "n = int(input())\n",
    "li = [int(x) for x in input().split()]\n",
    "print(findSingle(li,n))"
   ]
  },
  {
   "cell_type": "markdown",
   "metadata": {},
   "source": [
    "##### set  (does not contain duplicates)\n",
    "we add each number once and multiply the sum by 2, we will get twice the sum of each element of the array. Then we will subtract the sum of the whole array from the twice_sum and get the required number (which appears once in the array).\n",
    "Array [] : [a, a, b, b, c, c, d] \n",
    "Mathematical Equation = 2*(a+b+c+d) – (a + a + b + b + c + c + d) \n",
    "In more simple words: 2*(sum_of_array_without_duplicates) – (sum_of_array)"
   ]
  },
  {
   "cell_type": "code",
   "execution_count": null,
   "metadata": {},
   "outputs": [],
   "source": [
    "def singleNumber(nums):\n",
    " #applying the formula\n",
    "    return 2 * sum(set(nums)) - sum(nums)\n",
    "\n",
    "n = int(input())\n",
    "li = [int(x) for x in input().split()]\n",
    "print(singleNumber(li))"
   ]
  },
  {
   "cell_type": "markdown",
   "metadata": {},
   "source": [
    "### find duplicates (Find the only repeating element in a sorted array of size n)\n",
    "input- <br>\n",
    "9 <br>\n",
    "0 7 2 5 4 7 1 3 6\n",
    " <br>\n",
    "output-<br>\n",
    "7"
   ]
  },
  {
   "cell_type": "code",
   "execution_count": null,
   "metadata": {},
   "outputs": [],
   "source": [
    "n = int(input())\n",
    "li = [int(x) for x in input().split()]\n",
    "li.sort()\n",
    "k = 0\n",
    "for i in range(0, len(li), 1):\n",
    "    i = k\n",
    "    i=0\n",
    "    if(li[i] != li[i+1]):\n",
    "        li.remove(li[i])\n",
    "        li.remove(li[i])\n",
    "       \n",
    "        if len(li) == 1:\n",
    "            break\n",
    "    else:\n",
    "        k = k + 1\n",
    "for i in range(0,1,1):\n",
    "    print(li[i])\n"
   ]
  },
  {
   "cell_type": "markdown",
   "metadata": {},
   "source": [
    "An efficient method is to use Binary Search . \n",
    "1- Check if the middle element is the repeating one. \n",
    "2- If not then check if the middle element is at proper position if yes then start searching repeating element in right. \n",
    "3- Otherwise the repeating one will be in left."
   ]
  },
  {
   "cell_type": "code",
   "execution_count": 3,
   "metadata": {},
   "outputs": [],
   "source": [
    "def findRepeatingElement(arr, low, high):\n",
    " \n",
    "    # low = 0 , high = n-1\n",
    "    if low > high:\n",
    "        return -1\n",
    " \n",
    "    mid = (low + high) / 2\n",
    " \n",
    "    # Check if the mid element is the repeating one\n",
    "    if (arr[mid] != mid + 1):\n",
    "     \n",
    "        if (mid > 0 and arr[mid]==arr[mid-1]):\n",
    "            return mid\n",
    " \n",
    "        # If mid element is not at its position that means\n",
    "        # the repeated element is in leftb\n",
    "        return  findRepeatingElement(arr, low, mid-1)\n",
    " \n",
    "    # If mid is at proper position then repeated one is in\n",
    "    # right.\n",
    "    return findRepeatingElement(arr, mid+1, high)"
   ]
  },
  {
   "cell_type": "markdown",
   "metadata": {},
   "source": [
    "### Array intersection\n",
    "input- <br>\n",
    "6 <br>\n",
    "2 6 8 5 4 3\n",
    "4\n",
    "2 3 4 7 \n",
    " <br>\n",
    "output-<br>\n",
    "2 4 3\n",
    "\n",
    "input- <br>\n",
    "2 <br>\n",
    "10 10\n",
    "1\n",
    "10\n",
    " <br>\n",
    "output-<br>\n",
    "10"
   ]
  },
  {
   "cell_type": "code",
   "execution_count": null,
   "metadata": {},
   "outputs": [],
   "source": [
    "t=int(input())\n",
    "while t>0:\n",
    "    n1 = int(input())\n",
    "    li1=[]\n",
    "    if n1>0:\n",
    "        li1 = [int(x) for x in input().split()]\n",
    "    \n",
    "    n2 = int(input())\n",
    "    li2=[]\n",
    "    if n2>0:\n",
    "        li2 = [int(x) for x in input().split()]\n",
    "\n",
    "    for i in li1:\n",
    "        if i in li2:\n",
    "            print(i,end=\" \")\n",
    "            li2.remove(i)\n",
    "    print()\n",
    "    t=t-1"
   ]
  },
  {
   "cell_type": "markdown",
   "metadata": {},
   "source": [
    "### pair sum\n",
    "input- <br>\n",
    "5<br>\n",
    "1 5 7 -1 5<br>\n",
    " 6<br>\n",
    "output-<br>\n",
    "1 5<br>\n",
    "7 -1<br>\n",
    "1 5<br>"
   ]
  },
  {
   "cell_type": "code",
   "execution_count": null,
   "metadata": {},
   "outputs": [],
   "source": [
    "### naive approach\n",
    "\n",
    "def pair_sum(a,b):\n",
    "    if a <= b:\n",
    "        print(a,\" \",b)\n",
    "    else:\n",
    "        print(b,\" \",a)\n",
    "n = int(input())\n",
    "li = [int(y) for y in input().split()]\n",
    "x=int(input())\n",
    "\n",
    "for i in range (0,len(li)-1):\n",
    "    for j in range (i+1,len(li)):\n",
    "        if (li[i]+li[j]==x):\n",
    "            pair_sum(li[i],li[j])\n",
    "        print()\n"
   ]
  },
  {
   "cell_type": "code",
   "execution_count": null,
   "metadata": {},
   "outputs": [],
   "source": [
    "### using hashing\n",
    "\n",
    "def printPairs(arr, n, sum):\n",
    "     \n",
    "    # Store counts of all elements\n",
    "    # in a dictionary\n",
    "    d={}\n",
    " \n",
    "    for i in range(n):\n",
    "         \n",
    "        # Search if a pair can be\n",
    "        # formed with arr[i]\n",
    "        temp = sum - arr[i]\n",
    "         \n",
    "        if temp in d:\n",
    "            count = d[temp]\n",
    "            for j in range(count):\n",
    "                print(\"(\", temp, \", \", arr[i],\n",
    "                      \")\", sep = \"\", end = '\\n')\n",
    "                       \n",
    "        d[arr[i]]=d.get(arr[i],0)+1"
   ]
  },
  {
   "cell_type": "markdown",
   "metadata": {},
   "source": [
    "### triplet sum\n",
    "input- <br>\n",
    "9<br>\n",
    "2 -5 8 -6 0 5 10 11 -3<br>\n",
    "10\n",
    " <br>\n",
    "output-<br>\n",
    "0 2 8 <br>\n",
    "-3 2 11 <br>\n",
    "-5 5 10 <br>\n",
    "-3 5 8 <br>\n",
    "-6 5 11 <br>"
   ]
  },
  {
   "cell_type": "code",
   "execution_count": 2,
   "metadata": {},
   "outputs": [
    {
     "name": "stdout",
     "output_type": "stream",
     "text": [
      "9\n",
      "2 -5 8 -6 0 5 10 11 -3\n",
      "10\n",
      "0 2 8 \n",
      "-3 2 11 \n",
      "-5 5 10 \n",
      "-3 5 8 \n",
      "-6 5 11 \n"
     ]
    }
   ],
   "source": [
    "### brute force\n",
    "\n",
    "def pair_sum(a,b,c):\n",
    "    list3 = []\n",
    "    list3.append(a)\n",
    "    list3.append(b)\n",
    "    list3.append(c)\n",
    "    list3.sort()\n",
    "    for ele in list3:\n",
    "        print(ele, end = ' ')\n",
    "    print()\n",
    "        \n",
    "n = int(input())\n",
    "list = [int(x) for x in input().split()[:n]]\n",
    "key = int(input())\n",
    "for i in range(0, len(list)-2):\n",
    "    for j in range(i+1, len(list)-1):\n",
    "        for k in range(j+1, len(list)):\n",
    "            if(list[i] + list[j] + list[k] == key):\n",
    "                pair_sum(list[i], list[j], list[k])"
   ]
  },
  {
   "cell_type": "markdown",
   "metadata": {},
   "source": [
    "#### hashing\n",
    "Run a loop from i=0 to n-2\n",
    "  Create an empty hash table\n",
    "  Run inner loop from j=i+1 to n-1\n",
    "      If -(arr[i] + arr[j]) is present in hash table\n",
    "         print arr[i], arr[j] and -(arr[i] + arr[j])\n",
    "      Else\n",
    "         Insert arr[j] in hash table."
   ]
  },
  {
   "cell_type": "code",
   "execution_count": null,
   "metadata": {},
   "outputs": [],
   "source": [
    "import math as mt\n",
    " \n",
    "def findTriplets(arr, n, Sum):\n",
    " \n",
    "    for i in range(n - 1):\n",
    "         \n",
    "        # Find all pairs with Sum equals\n",
    "        # to \"Sum-arr[i]\"\n",
    "        s = {}\n",
    "        for j in range(i + 1, n):\n",
    "            x = Sum - (arr[i] + arr[j])\n",
    "            if x in s.keys():\n",
    "                print(x, arr[i], arr[j])\n",
    "            else:\n",
    "                s[arr[j]] = 1"
   ]
  },
  {
   "cell_type": "markdown",
   "metadata": {},
   "source": [
    "### Sort 0 1\n",
    "input- <br>\n",
    "6 <br>\n",
    "0 1 0 1 0 1 <br>\n",
    "output- <br>\n",
    "0 0 0 1 1 1 <br>"
   ]
  },
  {
   "cell_type": "code",
   "execution_count": null,
   "metadata": {},
   "outputs": [],
   "source": [
    "# Python program to sort a binary array in one pass\n",
    "def segregate0and1(arr, size):\n",
    "    # Initialize left and right indexes\n",
    "    left, right = 0, size-1\n",
    "     \n",
    "    while left < right:\n",
    "        # Increment left index while we see 0 at left\n",
    "        while arr[left] == 0 and left < right:\n",
    "            left += 1\n",
    " \n",
    "        # Decrement right index while we see 1 at right\n",
    "        while arr[right] == 1 and left < right:\n",
    "            right -= 1\n",
    " \n",
    "        # If left is smaller than right then there is a 1 at left\n",
    "        # and a 0 at right. Exchange arr[left] and arr[right]\n",
    "        if left < right:\n",
    "            arr[left] = 0\n",
    "            arr[right] = 1\n",
    "            left += 1\n",
    "            right -= 1\n",
    " \n",
    "    return arr"
   ]
  },
  {
   "cell_type": "code",
   "execution_count": null,
   "metadata": {},
   "outputs": [],
   "source": [
    "### naive\n",
    "n = int(input())\n",
    "li = [int (x) for x in input().split()]\n",
    "c0 = 0\n",
    "c1 = 0\n",
    "for i in li:\n",
    "    if i == 0:\n",
    "        c0 = c0 + 1\n",
    "    else:\n",
    "        c1=c1 + 1\n",
    "li=[]\n",
    "for i in range(0, c0):\n",
    "    li.append(0)\n",
    "for i in range(0, c1):\n",
    "    li.append(1)\n",
    "for ele in li:\n",
    "    print(ele, end = ' ')"
   ]
  },
  {
   "cell_type": "code",
   "execution_count": null,
   "metadata": {},
   "outputs": [],
   "source": [
    "def segregate0and1(arr, size):\n",
    " \n",
    "    type0 = 0\n",
    "    type1 = size - 1\n",
    "     \n",
    "    while(type0 < type1):\n",
    "        if(arr[type0] == 1):\n",
    "            (arr[type0],arr[type1]) = (arr[type1],arr[type0])\n",
    "            type1 -= 1\n",
    "        else:\n",
    "            type0 += 1"
   ]
  },
  {
   "cell_type": "markdown",
   "metadata": {},
   "source": [
    "### reverse array\n",
    "input- <br>\n",
    "1 2 3 4 <br>\n",
    "output-\n",
    "4 3 2 1 <br>"
   ]
  },
  {
   "cell_type": "code",
   "execution_count": null,
   "metadata": {},
   "outputs": [],
   "source": [
    "def reverseList(A, start, end):\n",
    "    while start < end:\n",
    "        A[start], A[end] = A[end], A[start]\n",
    "        start += 1\n",
    "        end -= 1"
   ]
  },
  {
   "cell_type": "code",
   "execution_count": null,
   "metadata": {},
   "outputs": [],
   "source": [
    "### reverse\n",
    "\n",
    "def reverseList(A):\n",
    "    print( A[::-1])"
   ]
  },
  {
   "cell_type": "markdown",
   "metadata": {},
   "source": [
    "### Min and Max \n",
    "input- <br>\n",
    "10 20 21 19 25 <br>\n",
    "output- <br>\n",
    "10 25"
   ]
  },
  {
   "cell_type": "code",
   "execution_count": null,
   "metadata": {},
   "outputs": [],
   "source": [
    "def max_min(li):\n",
    "    maxm = max(li)\n",
    "    minm = min(li)\n",
    "    \n",
    "    print(maxm,minm)\n",
    "li=[int(ele) for ele in input().split()]"
   ]
  },
  {
   "cell_type": "markdown",
   "metadata": {},
   "source": [
    "METHOD 2 (Tournament Method) \n",
    "Divide the array into two parts and compare the maximums and minimums of the two parts to get the maximum and the minimum of the whole array.\n",
    "\n",
    "Pair MaxMin(array, array_size)\n",
    "   if array_size = 1\n",
    "      return element as both max and min\n",
    "   else if arry_size = 2\n",
    "      one comparison to determine max and min\n",
    "      return that pair\n",
    "   else    /* array_size  > 2 */\n",
    "      recur for max and min of left half\n",
    "      recur for max and min of right half\n",
    "      one comparison determines true max of the two candidates\n",
    "      one comparison determines true min of the two candidates\n",
    "      return the pair of max and min"
   ]
  },
  {
   "cell_type": "code",
   "execution_count": null,
   "metadata": {},
   "outputs": [],
   "source": [
    "def getMinMax(low, high, arr):\n",
    "    arr_max = arr[high]\n",
    "    arr_min = arr[low]\n",
    "     \n",
    "    # If there is only one element\n",
    "    if low == high:\n",
    "        arr_max = arr[low]\n",
    "        arr_min = arr[low]\n",
    "        return (arr_max, arr_min)\n",
    "\n",
    "    elif high == low + 1:\n",
    "        if arr[low] > arr[high]:\n",
    "            arr_max = arr[low]\n",
    "            arr_min = arr[high]\n",
    "        else:\n",
    "            arr_max = arr[high]\n",
    "            arr_min = arr[low]\n",
    "        return (arr_max, arr_min)\n",
    "    else:\n",
    "         \n",
    "        mid = int((low + high) / 2)\n",
    "        arr_max1, arr_min1 = getMinMax(low, mid, arr)\n",
    "        arr_max2, arr_min2 = getMinMax(mid + 1, high, arr)\n",
    " \n",
    "    return (max(arr_max1, arr_max2), min(arr_min1, arr_min2))"
   ]
  },
  {
   "cell_type": "markdown",
   "metadata": {},
   "source": [
    "### K’th Smallest/Largest Element in Unsorted Array\n",
    "input-\n",
    "6 <br>\n",
    "1 3 4 7 10 2<br>\n",
    "3<br>\n",
    "output- \n",
    "3"
   ]
  },
  {
   "cell_type": "code",
   "execution_count": null,
   "metadata": {},
   "outputs": [],
   "source": [
    "def kthSmallest(arr, k):\n",
    " \n",
    "    arr.sort()\n",
    "    return arr[k-1]"
   ]
  },
  {
   "cell_type": "markdown",
   "metadata": {},
   "source": [
    "### Sort 0 1 2 without any algo\n",
    "input- <br>\n",
    "8 <br>\n",
    "0 1 0 2 1 0 2 1 <br>\n",
    "output- <br>\n",
    "0 0 0 1 1 1 2 2 <br>"
   ]
  },
  {
   "cell_type": "code",
   "execution_count": null,
   "metadata": {},
   "outputs": [],
   "source": [
    "def count_tech(arr,n):\n",
    "    count0 = 0\n",
    "    count1 = 0\n",
    "    count2 = 0\n",
    "    for i in range(0,n):\n",
    "        if (arr[i] == 0):\n",
    "            count0+=1\n",
    "        if (arr[i] == 1):\n",
    "            count1+=1\n",
    "        if (arr[i] == 2):\n",
    "            count2+=1\n",
    "     \n",
    "    for i in range(0,count0):\n",
    "        arr[i] = 0\n",
    "\n",
    "    for i in range( count0, (count0 + count1)) :\n",
    "        arr[i] = 1\n",
    "     \n",
    "    for i in range((count0 + count1),n) :\n",
    "        arr[i] = 2\n",
    "     \n",
    "    return"
   ]
  },
  {
   "cell_type": "code",
   "execution_count": null,
   "metadata": {},
   "outputs": [],
   "source": [
    "### new approach\n",
    "outputArray = []\n",
    "indexOfOne = 0\n",
    "for item in arr:\n",
    "    if item == 2:\n",
    "        outputArray.append(item)\n",
    "    elif item == 1:\n",
    "        outputArray.insert(indexOfOne, item)\n",
    "        indexOfOne += 1\n",
    "    else:\n",
    "        outputArray.insert(0, item)\n",
    "        indexOfOne += 1"
   ]
  },
  {
   "cell_type": "markdown",
   "metadata": {},
   "source": [
    "#### Dutch National flag problem\n",
    "The problem was posed with three colours, here `0′, `1′ and `2′. The array is divided into four sections: \n",
    "a[1..Lo-1] zeroes (red)\n",
    "a[Lo..Mid-1] ones (white)\n",
    "a[Mid..Hi] unknown\n",
    "a[Hi+1..N] twos (blue)\n",
    "If the ith element is 0 then swap the element to the low range, thus shrinking the unknown range.\n",
    "Similarly, if the element is 1 then keep it as it is but shrink the unknown range.\n",
    "If the element is 2 then swap it with an element in high range."
   ]
  },
  {
   "cell_type": "code",
   "execution_count": null,
   "metadata": {},
   "outputs": [],
   "source": [
    "def sort012( a, arr_size):\n",
    "    lo = 0\n",
    "    hi = arr_size - 1\n",
    "    mid = 0\n",
    "    while mid <= hi:\n",
    "        if a[mid] == 0:\n",
    "            a[lo], a[mid] = a[mid], a[lo]\n",
    "            lo = lo + 1\n",
    "            mid = mid + 1\n",
    "        elif a[mid] == 1:\n",
    "            mid = mid + 1\n",
    "        else:\n",
    "            a[mid], a[hi] = a[hi], a[mid]\n",
    "            hi = hi - 1\n",
    "    return a"
   ]
  },
  {
   "cell_type": "markdown",
   "metadata": {},
   "source": [
    "### Move all negative numbers to beginning and positive to end with constant extra space\n",
    "Input: -12, 11, -13, -5, 6, -7, 5, -3, -6 <br>\n",
    "Output: -12 -13 -5 -7 -3 -6 11 6 5"
   ]
  },
  {
   "cell_type": "code",
   "execution_count": 1,
   "metadata": {},
   "outputs": [
    {
     "data": {
      "text/plain": [
       "[-12, -13, -5, -7, -3, -6, 6, 11, 5]"
      ]
     },
     "execution_count": 1,
     "metadata": {},
     "output_type": "execute_result"
    }
   ],
   "source": [
    "### basic\n",
    "li=[-12, 11, -13, -5, 6, -7, 5, -3, -6 ]\n",
    "n=len(li)\n",
    "for i in range (0,n):\n",
    "    if li[i]>=0:\n",
    "        ele=li.pop(i)\n",
    "        li.append(ele)\n",
    "        i=i-1\n",
    "li"
   ]
  },
  {
   "cell_type": "markdown",
   "metadata": {},
   "source": [
    "Two Pointer Approach: The idea is to solve this problem with constant space and linear time is by using a two-pointer or two-variable approach where we simply take two variables like left and right which hold the 0 and N-1 indexes. Just need to check that :\n",
    "\n",
    "Check If the left and right pointer elements are negative then simply increment the left pointer.\n",
    "Otherwise, if the left element is positive and the right element is negative then simply swap the elements, and simultaneously increment and decrement the left and right pointers.\n",
    "Else if the left element is positive and the right element is also positive then simply decrement the right pointer.\n",
    "Repeat the above 3 steps until the left pointer ≤ right pointer."
   ]
  },
  {
   "cell_type": "code",
   "execution_count": null,
   "metadata": {},
   "outputs": [],
   "source": [
    "def shiftall(arr,left,right):\n",
    "   \n",
    "\n",
    "    while left<=right:\n",
    "     \n",
    "\n",
    "        if arr[left] < 0 and arr[right] < 0:\n",
    "            left+=1\n",
    "\n",
    "\n",
    "        elif arr[left]>0 and arr[right]<0:\n",
    "            arr[left], arr[right] = arr[right],arr[left]\n",
    "            left+=1\n",
    "            right-=1\n",
    "\n",
    "\n",
    "        elif arr[left]>0 and arr[right]>0:\n",
    "            right-=1\n",
    "        else:\n",
    "            left+=1\n",
    "            right-=1"
   ]
  },
  {
   "cell_type": "markdown",
   "metadata": {},
   "source": [
    "### Union and Intersection of two sorted arrays\n",
    "Input : <br>arr1[] = {1, 3, 4, 5, 7} <br>\n",
    "        arr2[] = {2, 3, 5, 6} <br>\n",
    "Output :<br> Union : {1, 2, 3, 4, 5, 6, 7}  <br>\n",
    "         Intersection : {3, 5}<br>"
   ]
  },
  {
   "cell_type": "code",
   "execution_count": 2,
   "metadata": {},
   "outputs": [
    {
     "name": "stdout",
     "output_type": "stream",
     "text": [
      "5 6\n",
      "1 2 4 5 6\n",
      "2 3 5 6\n",
      "1\n",
      "2\n",
      "4\n",
      "5\n",
      "6\n",
      "3\n"
     ]
    }
   ],
   "source": [
    "### union\n",
    "\n",
    "def doUnion(a,n,b,m):\n",
    "        d={}\n",
    "        for i in a:\n",
    "            d[i]=d.get(i,0)+1\n",
    "        for i in b:\n",
    "            d[i]=d.get(i,0)+1\n",
    "        c=0\n",
    "        for w in d:\n",
    "            print(w,end=\" \")\n",
    "\n",
    "n,m=[int(ele)for ele in input().split()]\n",
    "li1=[int(ele)for ele in input().split()]\n",
    "li2=[int(ele)for ele in input().split()]\n",
    "\n",
    "doUnion(li1,n,li2,m)\n"
   ]
  },
  {
   "cell_type": "code",
   "execution_count": null,
   "metadata": {},
   "outputs": [],
   "source": [
    "### union\n",
    "def printUnion(arr1, arr2, m, n):\n",
    "    i, j = 0, 0\n",
    "    while i < m and j < n:\n",
    "        if arr1[i] < arr2[j]:\n",
    "            print(arr1[i])\n",
    "            i += 1\n",
    "        elif arr2[j] < arr1[i]:\n",
    "            print(arr2[j])\n",
    "            j+= 1\n",
    "        else:\n",
    "            print(arr2[j])\n",
    "            j += 1\n",
    "            i += 1\n",
    "  \n",
    "    # Print remaining elements of the larger array\n",
    "    while i < m:\n",
    "        print(arr1[i])\n",
    "        i += 1\n",
    "  \n",
    "    while j < n:\n",
    "        print(arr2[j])\n",
    "        j += 1"
   ]
  },
  {
   "cell_type": "code",
   "execution_count": null,
   "metadata": {},
   "outputs": [],
   "source": [
    "#### intersection\n",
    "t=int(input())\n",
    "while t>0:\n",
    "    n1 = int(input())\n",
    "    li1=[]\n",
    "    if n1>0:\n",
    "        li1 = [int(x) for x in input().split()]\n",
    "    \n",
    "    n2 = int(input())\n",
    "    li2=[]\n",
    "    if n2>0:\n",
    "        li2 = [int(x) for x in input().split()]\n",
    "\n",
    "    for i in li1:\n",
    "        if i in li2:\n",
    "            print(i,end=\" \")\n",
    "            li2.remove(i)\n",
    "    print()\n",
    "    t=t-1"
   ]
  },
  {
   "cell_type": "markdown",
   "metadata": {},
   "source": [
    "### Cyclically rotate an array by one  clock-wise direction\n",
    "\n",
    "Input: <br>\n",
    "N = 5 <br>\n",
    "A[] = {1, 2, 3, 4, 5}<br>\n",
    "Output:<br>\n",
    "5 1 2 3 4"
   ]
  },
  {
   "cell_type": "code",
   "execution_count": null,
   "metadata": {},
   "outputs": [],
   "source": [
    "def rotate( arr, n):\n",
    "    ele=arr.pop()\n",
    "    arr.insert(0,ele)"
   ]
  },
  {
   "cell_type": "markdown",
   "metadata": {},
   "source": [
    "# Kadane's Algorithm \n",
    "#### Given an array arr of N integers. Find the contiguous sub-array with maximum sum.\n",
    "\n",
    "Input: <br>\n",
    "N = 5 <br>\n",
    "arr[] = {1,2,3,-2,5} <br>\n",
    "Output: <br>\n",
    "9 <br>\n",
    "Explanation: <br>\n",
    "Max subarray sum is 9 <br>\n",
    "of elements (1, 2, 3, -2, 5) which <br>\n",
    "is a contiguous subarray."
   ]
  },
  {
   "cell_type": "code",
   "execution_count": null,
   "metadata": {},
   "outputs": [],
   "source": []
  },
  {
   "cell_type": "code",
   "execution_count": null,
   "metadata": {},
   "outputs": [],
   "source": []
  },
  {
   "cell_type": "code",
   "execution_count": null,
   "metadata": {},
   "outputs": [],
   "source": []
  },
  {
   "cell_type": "code",
   "execution_count": null,
   "metadata": {},
   "outputs": [],
   "source": []
  },
  {
   "cell_type": "code",
   "execution_count": null,
   "metadata": {},
   "outputs": [],
   "source": []
  },
  {
   "cell_type": "code",
   "execution_count": null,
   "metadata": {},
   "outputs": [],
   "source": []
  },
  {
   "cell_type": "code",
   "execution_count": null,
   "metadata": {},
   "outputs": [],
   "source": []
  },
  {
   "cell_type": "code",
   "execution_count": null,
   "metadata": {},
   "outputs": [],
   "source": []
  }
 ],
 "metadata": {
  "kernelspec": {
   "display_name": "Python 3",
   "language": "python",
   "name": "python3"
  },
  "language_info": {
   "codemirror_mode": {
    "name": "ipython",
    "version": 3
   },
   "file_extension": ".py",
   "mimetype": "text/x-python",
   "name": "python",
   "nbconvert_exporter": "python",
   "pygments_lexer": "ipython3",
   "version": "3.8.5"
  }
 },
 "nbformat": 4,
 "nbformat_minor": 4
}
