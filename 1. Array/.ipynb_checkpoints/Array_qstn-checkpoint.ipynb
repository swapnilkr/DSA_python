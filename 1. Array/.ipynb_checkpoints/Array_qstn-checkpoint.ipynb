{
 "cells": [
  {
   "cell_type": "markdown",
   "metadata": {},
   "source": [
    "### swap alternate\n",
    "input- <br>\n",
    "6 <br>\n",
    "9 3 6 12 4 32 <br>\n",
    "output-<br>\n",
    "3 9 12 6 32 4"
   ]
  },
  {
   "cell_type": "code",
   "execution_count": null,
   "metadata": {},
   "outputs": [],
   "source": [
    "n = int(input())\n",
    "li = [int(x) for x in input().split()]\n",
    "length = len(li)\n",
    "if length % 2 == 1:\n",
    "    length = length - 1 \n",
    "for i in range(0,length,2):\n",
    "    li[i], li[i+1] = li[i+1], li[i] \n",
    "for i in range (0,n):\n",
    "    print(li[i],end=\" \")\n"
   ]
  },
  {
   "cell_type": "markdown",
   "metadata": {},
   "source": [
    "### find unique (where except one element all are present in 2)\n",
    "input- <br>\n",
    "6 <br>\n",
    "1 2 3 3 2 4 5 <br>\n",
    "output-<br>\n",
    "1"
   ]
  },
  {
   "cell_type": "code",
   "execution_count": null,
   "metadata": {},
   "outputs": [],
   "source": [
    "n = int(input())\n",
    "li = [int(x) for x in input().split()]\n",
    "li.sort()\n",
    "k = 0\n",
    "for i in range(0, len(li), 1):\n",
    "    i = k\n",
    "    if(li[i]==li[i+1]):\n",
    "        li.remove(li[i])\n",
    "        li.remove(li[i])\n",
    "       \n",
    "        if len(li) == 1:\n",
    "            break\n",
    "    else:\n",
    "        k = k + 1\n",
    "for ele in li:\n",
    "    print(ele)"
   ]
  },
  {
   "cell_type": "markdown",
   "metadata": {},
   "source": [
    "##### XOR\n",
    "The best solution is to use XOR. XOR of all array elements gives us the number with a single occurrence. The idea is based on the following two facts. \n",
    "a) XOR of a number with itself is 0. \n",
    "b) XOR of a number with 0 is number itself."
   ]
  },
  {
   "cell_type": "code",
   "execution_count": 2,
   "metadata": {},
   "outputs": [
    {
     "name": "stdout",
     "output_type": "stream",
     "text": [
      "7\n",
      "1 2 2 3 3 4 4 5\n",
      "1\n"
     ]
    }
   ],
   "source": [
    "def findSingle( ar, n):\n",
    "     \n",
    "    res = ar[0]\n",
    "    for i in range(1,n):\n",
    "        res = res ^ ar[i]\n",
    "     \n",
    "    return res\n",
    "n = int(input())\n",
    "li = [int(x) for x in input().split()]\n",
    "print(findSingle(li,n))"
   ]
  },
  {
   "cell_type": "markdown",
   "metadata": {},
   "source": [
    "##### set  (does not contain duplicates)\n",
    "we add each number once and multiply the sum by 2, we will get twice the sum of each element of the array. Then we will subtract the sum of the whole array from the twice_sum and get the required number (which appears once in the array).\n",
    "Array [] : [a, a, b, b, c, c, d] \n",
    "Mathematical Equation = 2*(a+b+c+d) – (a + a + b + b + c + c + d) \n",
    "In more simple words: 2*(sum_of_array_without_duplicates) – (sum_of_array)"
   ]
  },
  {
   "cell_type": "code",
   "execution_count": null,
   "metadata": {},
   "outputs": [],
   "source": [
    "def singleNumber(nums):\n",
    " #applying the formula\n",
    "    return 2 * sum(set(nums)) - sum(nums)\n",
    "\n",
    "n = int(input())\n",
    "li = [int(x) for x in input().split()]\n",
    "print(singleNumber(li))"
   ]
  },
  {
   "cell_type": "markdown",
   "metadata": {},
   "source": [
    "### find duplicates (Find the only repeating element in a sorted array of size n)\n",
    "input- <br>\n",
    "9 <br>\n",
    "0 7 2 5 4 7 1 3 6\n",
    " <br>\n",
    "output-<br>\n",
    "7"
   ]
  },
  {
   "cell_type": "code",
   "execution_count": null,
   "metadata": {},
   "outputs": [],
   "source": [
    "n = int(input())\n",
    "li = [int(x) for x in input().split()]\n",
    "li.sort()\n",
    "k = 0\n",
    "for i in range(0, len(li), 1):\n",
    "    i = k\n",
    "    i=0\n",
    "    if(li[i] != li[i+1]):\n",
    "        li.remove(li[i])\n",
    "        li.remove(li[i])\n",
    "       \n",
    "        if len(li) == 1:\n",
    "            break\n",
    "    else:\n",
    "        k = k + 1\n",
    "for i in range(0,1,1):\n",
    "    print(li[i])\n"
   ]
  },
  {
   "cell_type": "markdown",
   "metadata": {},
   "source": [
    "An efficient method is to use Binary Search . \n",
    "1- Check if the middle element is the repeating one. \n",
    "2- If not then check if the middle element is at proper position if yes then start searching repeating element in right. \n",
    "3- Otherwise the repeating one will be in left."
   ]
  },
  {
   "cell_type": "code",
   "execution_count": 3,
   "metadata": {},
   "outputs": [],
   "source": [
    "def findRepeatingElement(arr, low, high):\n",
    " \n",
    "    # low = 0 , high = n-1\n",
    "    if low > high:\n",
    "        return -1\n",
    " \n",
    "    mid = (low + high) / 2\n",
    " \n",
    "    # Check if the mid element is the repeating one\n",
    "    if (arr[mid] != mid + 1):\n",
    "     \n",
    "        if (mid > 0 and arr[mid]==arr[mid-1]):\n",
    "            return mid\n",
    " \n",
    "        # If mid element is not at its position that means\n",
    "        # the repeated element is in leftb\n",
    "        return  findRepeatingElement(arr, low, mid-1)\n",
    " \n",
    "    # If mid is at proper position then repeated one is in\n",
    "    # right.\n",
    "    return findRepeatingElement(arr, mid+1, high)"
   ]
  },
  {
   "cell_type": "markdown",
   "metadata": {},
   "source": [
    "### Array intersection\n",
    "input- <br>\n",
    "6 <br>\n",
    "2 6 8 5 4 3\n",
    "4\n",
    "2 3 4 7 \n",
    " <br>\n",
    "output-<br>\n",
    "2 4 3\n",
    "\n",
    "input- <br>\n",
    "2 <br>\n",
    "10 10\n",
    "1\n",
    "10\n",
    " <br>\n",
    "output-<br>\n",
    "10"
   ]
  },
  {
   "cell_type": "code",
   "execution_count": null,
   "metadata": {},
   "outputs": [],
   "source": [
    "t=int(input())\n",
    "while t>0:\n",
    "    n1 = int(input())\n",
    "    li1=[]\n",
    "    if n1>0:\n",
    "        li1 = [int(x) for x in input().split()]\n",
    "    \n",
    "    n2 = int(input())\n",
    "    li2=[]\n",
    "    if n2>0:\n",
    "        li2 = [int(x) for x in input().split()]\n",
    "\n",
    "    for i in li1:\n",
    "        if i in li2:\n",
    "            print(i,end=\" \")\n",
    "            li2.remove(i)\n",
    "    print()\n",
    "    t=t-1"
   ]
  },
  {
   "cell_type": "code",
   "execution_count": null,
   "metadata": {},
   "outputs": [],
   "source": []
  },
  {
   "cell_type": "code",
   "execution_count": null,
   "metadata": {},
   "outputs": [],
   "source": []
  },
  {
   "cell_type": "code",
   "execution_count": null,
   "metadata": {},
   "outputs": [],
   "source": []
  },
  {
   "cell_type": "code",
   "execution_count": null,
   "metadata": {},
   "outputs": [],
   "source": []
  }
 ],
 "metadata": {
  "kernelspec": {
   "display_name": "Python 3",
   "language": "python",
   "name": "python3"
  },
  "language_info": {
   "codemirror_mode": {
    "name": "ipython",
    "version": 3
   },
   "file_extension": ".py",
   "mimetype": "text/x-python",
   "name": "python",
   "nbconvert_exporter": "python",
   "pygments_lexer": "ipython3",
   "version": "3.8.5"
  }
 },
 "nbformat": 4,
 "nbformat_minor": 4
}
