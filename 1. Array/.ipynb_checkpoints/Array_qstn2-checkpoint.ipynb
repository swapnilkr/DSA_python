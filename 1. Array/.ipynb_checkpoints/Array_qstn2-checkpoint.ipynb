{
 "cells": [
  {
   "cell_type": "markdown",
   "metadata": {},
   "source": [
    "### Given an array of size n and a number k, find all elements that appear more than n/k times\n",
    "\n",
    "Given an array of size n, find all elements in array that appear more than n/k times.<br>\n",
    "For example, <br>\n",
    "if the input arrays is <br>\n",
    "{3, 1, 2, 2, 1, 2, 3, 3} and k is 4, <br>\n",
    "then the output should be <br>\n",
    "[2, 3]<br>\n",
    "Note that size of array is \n",
    "8 (or n = 8), <br> \n",
    "so we need to find all elements that appear more than 2 (or 8/4) times.<br>\n",
    "There are two elements that appear more than two times, 2 and 3. "
   ]
  },
  {
   "cell_type": "code",
   "execution_count": null,
   "metadata": {},
   "outputs": [],
   "source": [
    "ef morethanNbyK(arr, n, k) :\n",
    "    x = n // k\n",
    "      \n",
    "    # unordered_map initialization\n",
    "    d = {}\n",
    "  \n",
    "    for i in arr :   \n",
    "        d[i]=d.get(i,0)+1\n",
    "\n",
    "    for i in freq :\n",
    "\n",
    "        if (freq[i] > x) :\n",
    "\n",
    "            print(i)"
   ]
  },
  {
   "cell_type": "code",
   "execution_count": null,
   "metadata": {},
   "outputs": [],
   "source": [
    "from collections import Counter\n",
    "\n",
    "def printElements(arr, n, k):\n",
    "\n",
    "    x = n//k\n",
    " \n",
    "\n",
    "    mp = Counter(arr)\n",
    "\n",
    "    for i in mp:\n",
    "        if mp[i] > x:\n",
    "            print(i)"
   ]
  },
  {
   "cell_type": "markdown",
   "metadata": {},
   "source": [
    "### Maximum profit by buying and selling a share at most twice\n",
    "\n",
    "In daily share trading, a buyer buys shares in the morning and sells them on the same day. If the trader is allowed to make at most 2 transactions in a day, whereas the second transaction can only start after the first one is complete (Sell->buy->sell->buy). Given stock prices throughout the day, find out the maximum profit that a share trader could have made.\n",
    "\n",
    "Examples: \n",
    "\n",
    "Input:   price[] = {10, 22, 5, 75, 65, 80} <br>\n",
    "Output:  87 <br>\n",
    "Trader earns 87 as sum of 12, 75 <br>\n",
    "Buy at 10, sell at 22,  <br>\n",
    "Buy at 5 and sell at 80 <br>\n",
    "\n",
    "Input:   price[] = {2, 30, 15, 10, 8, 25, 80} <br>\n",
    "Output:  100 <br>\n",
    "Trader earns 100 as sum of 28 and 72 <br>\n",
    "Buy at price 2, sell at 30, buy at 8 and sell at 80 <br>\n",
    "\n",
    "Input:   price[] = {100, 30, 15, 10, 8, 25, 80}; <br>\n",
    "Output:  72 <br>\n",
    "Buy at price 8 and sell at 80. <br>\n",
    "\n",
    "Input:   price[] = {90, 80, 70, 60, 50} <br>\n",
    "Output:  0 <br>\n",
    "Not possible to earn. <br>"
   ]
  },
  {
   "cell_type": "code",
   "execution_count": null,
   "metadata": {},
   "outputs": [],
   "source": []
  },
  {
   "cell_type": "code",
   "execution_count": null,
   "metadata": {},
   "outputs": [],
   "source": []
  },
  {
   "cell_type": "code",
   "execution_count": null,
   "metadata": {},
   "outputs": [],
   "source": []
  },
  {
   "cell_type": "code",
   "execution_count": null,
   "metadata": {},
   "outputs": [],
   "source": []
  },
  {
   "cell_type": "code",
   "execution_count": null,
   "metadata": {},
   "outputs": [],
   "source": []
  },
  {
   "cell_type": "code",
   "execution_count": null,
   "metadata": {},
   "outputs": [],
   "source": []
  },
  {
   "cell_type": "code",
   "execution_count": null,
   "metadata": {},
   "outputs": [],
   "source": []
  },
  {
   "cell_type": "code",
   "execution_count": null,
   "metadata": {},
   "outputs": [],
   "source": []
  },
  {
   "cell_type": "code",
   "execution_count": null,
   "metadata": {},
   "outputs": [],
   "source": []
  },
  {
   "cell_type": "code",
   "execution_count": null,
   "metadata": {},
   "outputs": [],
   "source": []
  },
  {
   "cell_type": "code",
   "execution_count": null,
   "metadata": {},
   "outputs": [],
   "source": []
  },
  {
   "cell_type": "code",
   "execution_count": null,
   "metadata": {},
   "outputs": [],
   "source": []
  },
  {
   "cell_type": "code",
   "execution_count": null,
   "metadata": {},
   "outputs": [],
   "source": []
  },
  {
   "cell_type": "code",
   "execution_count": null,
   "metadata": {},
   "outputs": [],
   "source": []
  },
  {
   "cell_type": "code",
   "execution_count": null,
   "metadata": {},
   "outputs": [],
   "source": []
  },
  {
   "cell_type": "code",
   "execution_count": null,
   "metadata": {},
   "outputs": [],
   "source": []
  },
  {
   "cell_type": "code",
   "execution_count": null,
   "metadata": {},
   "outputs": [],
   "source": []
  },
  {
   "cell_type": "code",
   "execution_count": null,
   "metadata": {},
   "outputs": [],
   "source": []
  },
  {
   "cell_type": "code",
   "execution_count": null,
   "metadata": {},
   "outputs": [],
   "source": []
  },
  {
   "cell_type": "code",
   "execution_count": null,
   "metadata": {},
   "outputs": [],
   "source": []
  }
 ],
 "metadata": {
  "kernelspec": {
   "display_name": "Python 3",
   "language": "python",
   "name": "python3"
  },
  "language_info": {
   "codemirror_mode": {
    "name": "ipython",
    "version": 3
   },
   "file_extension": ".py",
   "mimetype": "text/x-python",
   "name": "python",
   "nbconvert_exporter": "python",
   "pygments_lexer": "ipython3",
   "version": "3.8.5"
  }
 },
 "nbformat": 4,
 "nbformat_minor": 4
}
