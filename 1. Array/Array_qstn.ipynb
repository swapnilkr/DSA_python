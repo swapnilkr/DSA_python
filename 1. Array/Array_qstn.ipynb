{
 "cells": [
  {
   "cell_type": "markdown",
   "metadata": {},
   "source": [
    "### swap alternate\n",
    "input- <br>\n",
    "6 <br>\n",
    "9 3 6 12 4 32 <br>\n",
    "output-<br>\n",
    "3 9 12 6 32 4"
   ]
  },
  {
   "cell_type": "code",
   "execution_count": null,
   "metadata": {},
   "outputs": [],
   "source": [
    "n = int(input())\n",
    "li = [int(x) for x in input().split()]\n",
    "length = len(li)\n",
    "if length % 2 == 1:\n",
    "    length = length - 1 \n",
    "for i in range(0,length,2):\n",
    "    li[i], li[i+1] = li[i+1], li[i] \n",
    "for i in range (0,n):\n",
    "    print(li[i],end=\" \")\n"
   ]
  },
  {
   "cell_type": "markdown",
   "metadata": {},
   "source": [
    "### find unique (where except one element all are present in 2)\n",
    "input- <br>\n",
    "6 <br>\n",
    "1 2 3 3 2 4 5 <br>\n",
    "output-<br>\n",
    "1"
   ]
  },
  {
   "cell_type": "code",
   "execution_count": null,
   "metadata": {},
   "outputs": [],
   "source": [
    "n = int(input())\n",
    "li = [int(x) for x in input().split()]\n",
    "li.sort()\n",
    "k = 0\n",
    "for i in range(0, len(li), 1):\n",
    "    i = k\n",
    "    if(li[i]==li[i+1]):\n",
    "        li.remove(li[i])\n",
    "        li.remove(li[i])\n",
    "       \n",
    "        if len(li) == 1:\n",
    "            break\n",
    "    else:\n",
    "        k = k + 1\n",
    "for ele in li:\n",
    "    print(ele)"
   ]
  },
  {
   "cell_type": "markdown",
   "metadata": {},
   "source": [
    "##### XOR\n",
    "The best solution is to use XOR. XOR of all array elements gives us the number with a single occurrence. The idea is based on the following two facts. \n",
    "a) XOR of a number with itself is 0. \n",
    "b) XOR of a number with 0 is number itself."
   ]
  },
  {
   "cell_type": "code",
   "execution_count": 2,
   "metadata": {},
   "outputs": [
    {
     "name": "stdout",
     "output_type": "stream",
     "text": [
      "7\n",
      "1 2 2 3 3 4 4 5\n",
      "1\n"
     ]
    }
   ],
   "source": [
    "def findSingle( ar, n):\n",
    "     \n",
    "    res = ar[0]\n",
    "    for i in range(1,n):\n",
    "        res = res ^ ar[i]\n",
    "     \n",
    "    return res\n",
    "n = int(input())\n",
    "li = [int(x) for x in input().split()]\n",
    "print(findSingle(li,n))"
   ]
  },
  {
   "cell_type": "markdown",
   "metadata": {},
   "source": [
    "##### set  (does not contain duplicates)\n",
    "we add each number once and multiply the sum by 2, we will get twice the sum of each element of the array. Then we will subtract the sum of the whole array from the twice_sum and get the required number (which appears once in the array).\n",
    "Array [] : [a, a, b, b, c, c, d] \n",
    "Mathematical Equation = 2*(a+b+c+d) – (a + a + b + b + c + c + d) \n",
    "In more simple words: 2*(sum_of_array_without_duplicates) – (sum_of_array)"
   ]
  },
  {
   "cell_type": "code",
   "execution_count": null,
   "metadata": {},
   "outputs": [],
   "source": [
    "def singleNumber(nums):\n",
    " #applying the formula\n",
    "    return 2 * sum(set(nums)) - sum(nums)\n",
    "\n",
    "n = int(input())\n",
    "li = [int(x) for x in input().split()]\n",
    "print(singleNumber(li))"
   ]
  },
  {
   "cell_type": "markdown",
   "metadata": {},
   "source": [
    "### find duplicates (Find the only repeating element in a sorted array of size n)\n",
    "input- <br>\n",
    "9 <br>\n",
    "0 7 2 5 4 7 1 3 6\n",
    " <br>\n",
    "output-<br>\n",
    "7"
   ]
  },
  {
   "cell_type": "code",
   "execution_count": null,
   "metadata": {},
   "outputs": [],
   "source": [
    "n = int(input())\n",
    "li = [int(x) for x in input().split()]\n",
    "li.sort()\n",
    "k = 0\n",
    "for i in range(0, len(li), 1):\n",
    "    i = k\n",
    "    i=0\n",
    "    if(li[i] != li[i+1]):\n",
    "        li.remove(li[i])\n",
    "        li.remove(li[i])\n",
    "       \n",
    "        if len(li) == 1:\n",
    "            break\n",
    "    else:\n",
    "        k = k + 1\n",
    "for i in range(0,1,1):\n",
    "    print(li[i])\n"
   ]
  },
  {
   "cell_type": "code",
   "execution_count": 3,
   "metadata": {},
   "outputs": [
    {
     "name": "stdout",
     "output_type": "stream",
     "text": [
      "9\n",
      "0 7 2 5 4 7 1 3 6\n",
      "7\n"
     ]
    }
   ],
   "source": [
    "n = int(input())\n",
    "li = [int(x) for x in input().split()]\n",
    "d={}\n",
    "val=-1\n",
    "for i in li:\n",
    "    d[i]=d.get(i,0)+1\n",
    "    if d[i]>1:\n",
    "        val=i\n",
    "print(val)\n",
    "    "
   ]
  },
  {
   "cell_type": "markdown",
   "metadata": {},
   "source": [
    "An efficient method is to use Binary Search . \n",
    "1- Check if the middle element is the repeating one. \n",
    "2- If not then check if the middle element is at proper position if yes then start searching repeating element in right. \n",
    "3- Otherwise the repeating one will be in left."
   ]
  },
  {
   "cell_type": "code",
   "execution_count": 3,
   "metadata": {},
   "outputs": [],
   "source": [
    "def findRepeatingElement(arr, low, high):\n",
    " \n",
    "    # low = 0 , high = n-1\n",
    "    if low > high:\n",
    "        return -1\n",
    " \n",
    "    mid = (low + high) / 2\n",
    " \n",
    "    # Check if the mid element is the repeating one\n",
    "    if (arr[mid] != mid + 1):\n",
    "     \n",
    "        if (mid > 0 and arr[mid]==arr[mid-1]):\n",
    "            return mid\n",
    " \n",
    "        # If mid element is not at its position that means\n",
    "        # the repeated element is in leftb\n",
    "        return  findRepeatingElement(arr, low, mid-1)\n",
    " \n",
    "    # If mid is at proper position then repeated one is in\n",
    "    # right.\n",
    "    return findRepeatingElement(arr, mid+1, high)"
   ]
  },
  {
   "cell_type": "markdown",
   "metadata": {},
   "source": [
    "### Array intersection\n",
    "input- <br>\n",
    "6 <br>\n",
    "2 6 8 5 4 3<br>\n",
    "4<br>\n",
    "2 3 4 7 \n",
    " <br>\n",
    "output-<br>\n",
    "2 4 3\n",
    "\n",
    "input- <br>\n",
    "2 <br>\n",
    "10 10<br>\n",
    "1<br>\n",
    "10\n",
    " <br>\n",
    "output-<br>\n",
    "10"
   ]
  },
  {
   "cell_type": "code",
   "execution_count": null,
   "metadata": {},
   "outputs": [],
   "source": [
    "t=int(input())\n",
    "while t>0:\n",
    "    n1 = int(input())\n",
    "    li1=[]\n",
    "    if n1>0:\n",
    "        li1 = [int(x) for x in input().split()]\n",
    "    \n",
    "    n2 = int(input())\n",
    "    li2=[]\n",
    "    if n2>0:\n",
    "        li2 = [int(x) for x in input().split()]\n",
    "\n",
    "    for i in li1:\n",
    "        if i in li2:\n",
    "            print(i,end=\" \")\n",
    "            li2.remove(i)\n",
    "    print()\n",
    "    t=t-1"
   ]
  },
  {
   "cell_type": "markdown",
   "metadata": {},
   "source": [
    "### pair sum\n",
    "input- <br>\n",
    "5<br>\n",
    "1 5 7 -1 5<br>\n",
    " 6<br>\n",
    "output-<br>\n",
    "1 5<br>\n",
    "7 -1<br>\n",
    "1 5<br>"
   ]
  },
  {
   "cell_type": "code",
   "execution_count": null,
   "metadata": {},
   "outputs": [],
   "source": [
    "### naive approach\n",
    "\n",
    "def pair_sum(a,b):\n",
    "    if a <= b:\n",
    "        print(a,\" \",b)\n",
    "    else:\n",
    "        print(b,\" \",a)\n",
    "n = int(input())\n",
    "li = [int(y) for y in input().split()]\n",
    "x=int(input())\n",
    "\n",
    "for i in range (0,len(li)-1):\n",
    "    for j in range (i+1,len(li)):\n",
    "        if (li[i]+li[j]==x):\n",
    "            pair_sum(li[i],li[j])\n",
    "        print()\n"
   ]
  },
  {
   "cell_type": "code",
   "execution_count": null,
   "metadata": {},
   "outputs": [],
   "source": [
    "### using hashing\n",
    "\n",
    "def printPairs(arr, n, sum):\n",
    "     \n",
    "    # Store counts of all elements\n",
    "    # in a dictionary\n",
    "    d={}\n",
    " \n",
    "    for i in range(n):\n",
    "         \n",
    "        # Search if a pair can be\n",
    "        # formed with arr[i]\n",
    "        temp = sum - arr[i]\n",
    "         \n",
    "        if temp in d:\n",
    "            count = d[temp]\n",
    "            for j in range(count):\n",
    "                print(\"(\", temp, \", \", arr[i],\n",
    "                      \")\", sep = \"\", end = '\\n')\n",
    "                       \n",
    "        d[arr[i]]=d.get(arr[i],0)+1"
   ]
  },
  {
   "cell_type": "markdown",
   "metadata": {},
   "source": [
    "### triplet sum\n",
    "input- <br>\n",
    "9<br>\n",
    "2 -5 8 -6 0 5 10 11 -3<br>\n",
    "10\n",
    " <br>\n",
    "output-<br>\n",
    "0 2 8 <br>\n",
    "-3 2 11 <br>\n",
    "-5 5 10 <br>\n",
    "-3 5 8 <br>\n",
    "-6 5 11 <br>"
   ]
  },
  {
   "cell_type": "code",
   "execution_count": 2,
   "metadata": {},
   "outputs": [
    {
     "name": "stdout",
     "output_type": "stream",
     "text": [
      "9\n",
      "2 -5 8 -6 0 5 10 11 -3\n",
      "10\n",
      "0 2 8 \n",
      "-3 2 11 \n",
      "-5 5 10 \n",
      "-3 5 8 \n",
      "-6 5 11 \n"
     ]
    }
   ],
   "source": [
    "### brute force\n",
    "\n",
    "def pair_sum(a,b,c):\n",
    "    list3 = []\n",
    "    list3.append(a)\n",
    "    list3.append(b)\n",
    "    list3.append(c)\n",
    "    list3.sort()\n",
    "    for ele in list3:\n",
    "        print(ele, end = ' ')\n",
    "    print()\n",
    "        \n",
    "n = int(input())\n",
    "list = [int(x) for x in input().split()[:n]]\n",
    "key = int(input())\n",
    "for i in range(0, len(list)-2):\n",
    "    for j in range(i+1, len(list)-1):\n",
    "        for k in range(j+1, len(list)):\n",
    "            if(list[i] + list[j] + list[k] == key):\n",
    "                pair_sum(list[i], list[j], list[k])"
   ]
  },
  {
   "cell_type": "markdown",
   "metadata": {},
   "source": [
    "#### hashing\n",
    "Run a loop from i=0 to n-2\n",
    "  Create an empty hash table\n",
    "  Run inner loop from j=i+1 to n-1\n",
    "      If -(arr[i] + arr[j]) is present in hash table\n",
    "         print arr[i], arr[j] and -(arr[i] + arr[j])\n",
    "      Else\n",
    "         Insert arr[j] in hash table."
   ]
  },
  {
   "cell_type": "code",
   "execution_count": null,
   "metadata": {},
   "outputs": [],
   "source": [
    "import math as mt\n",
    " \n",
    "def findTriplets(arr, n, Sum):\n",
    " \n",
    "    for i in range(n - 1):\n",
    "         \n",
    "        # Find all pairs with Sum equals\n",
    "        # to \"Sum-arr[i]\"\n",
    "        s = {}\n",
    "        for j in range(i + 1, n):\n",
    "            x = Sum - (arr[i] + arr[j])\n",
    "            if x in s.keys():\n",
    "                print(x, arr[i], arr[j])\n",
    "            else:\n",
    "                s[arr[j]] = 1"
   ]
  },
  {
   "cell_type": "markdown",
   "metadata": {},
   "source": [
    "### Sort 0 1\n",
    "input- <br>\n",
    "6 <br>\n",
    "0 1 0 1 0 1 <br>\n",
    "output- <br>\n",
    "0 0 0 1 1 1 <br>"
   ]
  },
  {
   "cell_type": "code",
   "execution_count": null,
   "metadata": {},
   "outputs": [],
   "source": [
    "li=[int(ele)for ele in input().split()]\n",
    "li.sort()"
   ]
  },
  {
   "cell_type": "code",
   "execution_count": null,
   "metadata": {},
   "outputs": [],
   "source": [
    "# Python program to sort a binary array in one pass\n",
    "def segregate0and1(arr, size):\n",
    "    # Initialize left and right indexes\n",
    "    left, right = 0, size-1\n",
    "     \n",
    "    while left < right:\n",
    "        # Increment left index while we see 0 at left\n",
    "        while arr[left] == 0 and left < right:\n",
    "            left += 1\n",
    " \n",
    "        # Decrement right index while we see 1 at right\n",
    "        while arr[right] == 1 and left < right:\n",
    "            right -= 1\n",
    " \n",
    "        # If left is smaller than right then there is a 1 at left\n",
    "        # and a 0 at right. Exchange arr[left] and arr[right]\n",
    "        if left < right:\n",
    "            arr[left] = 0\n",
    "            arr[right] = 1\n",
    "            left += 1\n",
    "            right -= 1\n",
    " \n",
    "    return arr"
   ]
  },
  {
   "cell_type": "code",
   "execution_count": null,
   "metadata": {},
   "outputs": [],
   "source": [
    "### naive\n",
    "n = int(input())\n",
    "li = [int (x) for x in input().split()]\n",
    "c0 = 0\n",
    "c1 = 0\n",
    "for i in li:\n",
    "    if i == 0:\n",
    "        c0 = c0 + 1\n",
    "    else:\n",
    "        c1=c1 + 1\n",
    "li=[]\n",
    "for i in range(0, c0):\n",
    "    li.append(0)\n",
    "for i in range(0, c1):\n",
    "    li.append(1)\n",
    "for ele in li:\n",
    "    print(ele, end = ' ')"
   ]
  },
  {
   "cell_type": "code",
   "execution_count": null,
   "metadata": {},
   "outputs": [],
   "source": [
    "def segregate0and1(arr, size):\n",
    " \n",
    "    type0 = 0\n",
    "    type1 = size - 1\n",
    "     \n",
    "    while(type0 < type1):\n",
    "        if(arr[type0] == 1):\n",
    "            (arr[type0],arr[type1]) = (arr[type1],arr[type0])\n",
    "            type1 -= 1\n",
    "        else:\n",
    "            type0 += 1"
   ]
  },
  {
   "cell_type": "markdown",
   "metadata": {},
   "source": [
    "### reverse array\n",
    "input- <br>\n",
    "1 2 3 4 <br>\n",
    "output-\n",
    "4 3 2 1 <br>"
   ]
  },
  {
   "cell_type": "code",
   "execution_count": null,
   "metadata": {},
   "outputs": [],
   "source": [
    "def reverseList(A, start, end):\n",
    "    while start < end:\n",
    "        A[start], A[end] = A[end], A[start]\n",
    "        start += 1\n",
    "        end -= 1"
   ]
  },
  {
   "cell_type": "code",
   "execution_count": null,
   "metadata": {},
   "outputs": [],
   "source": [
    "### reverse\n",
    "\n",
    "def reverseList(A):\n",
    "    print( A[::-1])"
   ]
  },
  {
   "cell_type": "markdown",
   "metadata": {},
   "source": [
    "### Min and Max \n",
    "input- <br>\n",
    "10 20 21 19 25 <br>\n",
    "output- <br>\n",
    "10 25"
   ]
  },
  {
   "cell_type": "code",
   "execution_count": null,
   "metadata": {},
   "outputs": [],
   "source": [
    "def max_min(li):\n",
    "    maxm = max(li)\n",
    "    minm = min(li)\n",
    "    \n",
    "    print(maxm,minm)\n",
    "li=[int(ele) for ele in input().split()]"
   ]
  },
  {
   "cell_type": "markdown",
   "metadata": {},
   "source": [
    "METHOD 2 (Tournament Method) \n",
    "Divide the array into two parts and compare the maximums and minimums of the two parts to get the maximum and the minimum of the whole array.\n",
    "\n",
    "Pair MaxMin(array, array_size)\n",
    "   if array_size = 1\n",
    "      return element as both max and min\n",
    "   else if arry_size = 2\n",
    "      one comparison to determine max and min\n",
    "      return that pair\n",
    "   else    /* array_size  > 2 */\n",
    "      recur for max and min of left half\n",
    "      recur for max and min of right half\n",
    "      one comparison determines true max of the two candidates\n",
    "      one comparison determines true min of the two candidates\n",
    "      return the pair of max and min"
   ]
  },
  {
   "cell_type": "code",
   "execution_count": null,
   "metadata": {},
   "outputs": [],
   "source": [
    "def getMinMax(low, high, arr):\n",
    "    arr_max = arr[high]\n",
    "    arr_min = arr[low]\n",
    "     \n",
    "    # If there is only one element\n",
    "    if low == high:\n",
    "        arr_max = arr[low]\n",
    "        arr_min = arr[low]\n",
    "        return (arr_max, arr_min)\n",
    "\n",
    "    elif high == low + 1:\n",
    "        if arr[low] > arr[high]:\n",
    "            arr_max = arr[low]\n",
    "            arr_min = arr[high]\n",
    "        else:\n",
    "            arr_max = arr[high]\n",
    "            arr_min = arr[low]\n",
    "        return (arr_max, arr_min)\n",
    "    else:\n",
    "         \n",
    "        mid = int((low + high) / 2)\n",
    "        arr_max1, arr_min1 = getMinMax(low, mid, arr)\n",
    "        arr_max2, arr_min2 = getMinMax(mid + 1, high, arr)\n",
    " \n",
    "    return (max(arr_max1, arr_max2), min(arr_min1, arr_min2))"
   ]
  },
  {
   "cell_type": "markdown",
   "metadata": {},
   "source": [
    "### K’th Smallest/Largest Element in Unsorted Array\n",
    "input-\n",
    "6 <br>\n",
    "1 3 4 7 10 2<br>\n",
    "3<br>\n",
    "output- \n",
    "3"
   ]
  },
  {
   "cell_type": "code",
   "execution_count": null,
   "metadata": {},
   "outputs": [],
   "source": [
    "def kthSmallest(arr, k):\n",
    " \n",
    "    arr.sort()\n",
    "    return arr[k-1]"
   ]
  },
  {
   "cell_type": "markdown",
   "metadata": {},
   "source": [
    "### Sort 0 1 2 without any algo\n",
    "input- <br>\n",
    "8 <br>\n",
    "0 1 0 2 1 0 2 1 <br>\n",
    "output- <br>\n",
    "0 0 0 1 1 1 2 2 <br>"
   ]
  },
  {
   "cell_type": "code",
   "execution_count": null,
   "metadata": {},
   "outputs": [],
   "source": [
    "def count_tech(arr,n):\n",
    "    count0 = 0\n",
    "    count1 = 0\n",
    "    count2 = 0\n",
    "    for i in range(0,n):\n",
    "        if (arr[i] == 0):\n",
    "            count0+=1\n",
    "        if (arr[i] == 1):\n",
    "            count1+=1\n",
    "        if (arr[i] == 2):\n",
    "            count2+=1\n",
    "     \n",
    "    for i in range(0,count0):\n",
    "        arr[i] = 0\n",
    "\n",
    "    for i in range( count0, (count0 + count1)) :\n",
    "        arr[i] = 1\n",
    "     \n",
    "    for i in range((count0 + count1),n) :\n",
    "        arr[i] = 2\n",
    "     \n",
    "    return"
   ]
  },
  {
   "cell_type": "code",
   "execution_count": null,
   "metadata": {},
   "outputs": [],
   "source": [
    "### new approach\n",
    "outputArray = []\n",
    "indexOfOne = 0\n",
    "for item in arr:\n",
    "    if item == 2:\n",
    "        outputArray.append(item)\n",
    "    elif item == 1:\n",
    "        outputArray.insert(indexOfOne, item)\n",
    "        indexOfOne += 1\n",
    "    else:\n",
    "        outputArray.insert(0, item)\n",
    "        indexOfOne += 1"
   ]
  },
  {
   "cell_type": "markdown",
   "metadata": {},
   "source": [
    "#### Dutch National flag problem\n",
    "The problem was posed with three colours, here `0′, `1′ and `2′. The array is divided into four sections: \n",
    "a[1..Lo-1] zeroes (red)\n",
    "a[Lo..Mid-1] ones (white)\n",
    "a[Mid..Hi] unknown\n",
    "a[Hi+1..N] twos (blue)\n",
    "If the ith element is 0 then swap the element to the low range, thus shrinking the unknown range.\n",
    "Similarly, if the element is 1 then keep it as it is but shrink the unknown range.\n",
    "If the element is 2 then swap it with an element in high range."
   ]
  },
  {
   "cell_type": "code",
   "execution_count": null,
   "metadata": {},
   "outputs": [],
   "source": [
    "def sort012( a, arr_size):\n",
    "    lo = 0\n",
    "    hi = arr_size - 1\n",
    "    mid = 0\n",
    "    while mid <= hi:\n",
    "        if a[mid] == 0:\n",
    "            a[lo], a[mid] = a[mid], a[lo]\n",
    "            lo = lo + 1\n",
    "            mid = mid + 1\n",
    "        elif a[mid] == 1:\n",
    "            mid = mid + 1\n",
    "        else:\n",
    "            a[mid], a[hi] = a[hi], a[mid]\n",
    "            hi = hi - 1\n",
    "    return a"
   ]
  },
  {
   "cell_type": "markdown",
   "metadata": {},
   "source": [
    "### Move all negative numbers to beginning and positive to end with constant extra space\n",
    "Input: -12, 11, -13, -5, 6, -7, 5, -3, -6 <br>\n",
    "Output: -12 -13 -5 -7 -3 -6 11 6 5"
   ]
  },
  {
   "cell_type": "code",
   "execution_count": 1,
   "metadata": {},
   "outputs": [
    {
     "data": {
      "text/plain": [
       "[-12, -13, -5, -7, -3, -6, 6, 11, 5]"
      ]
     },
     "execution_count": 1,
     "metadata": {},
     "output_type": "execute_result"
    }
   ],
   "source": [
    "### basic\n",
    "li=[-12, 11, -13, -5, 6, -7, 5, -3, -6 ]\n",
    "n=len(li)\n",
    "for i in range (0b,n):\n",
    "    if li[i]>=0:\n",
    "        ele=li.pop(i)\n",
    "        li.append(ele)\n",
    "        i=i-1\n",
    "li"
   ]
  },
  {
   "cell_type": "code",
   "execution_count": null,
   "metadata": {},
   "outputs": [],
   "source": [
    "def rearrange(arr, n ) :                                                                                                                                                                                                                                       \n",
    "    j = 0\n",
    "    for i in range(0, n) :\n",
    "        if (arr[i] < 0) :\n",
    "            temp = arr[i]\n",
    "            arr[i] = arr[j]\n",
    "            arr[j]= temp\n",
    "            j = j + 1\n",
    "    print(arr)"
   ]
  },
  {
   "cell_type": "markdown",
   "metadata": {},
   "source": [
    "Two Pointer Approach: The idea is to solve this problem with constant space and linear time is by using a two-pointer or two-variable approach where we simply take two variables like left and right which hold the 0 and N-1 indexes. Just need to check that :\n",
    "\n",
    "Check If the left and right pointer elements are negative then simply increment the left pointer.\n",
    "Otherwise, if the left element is positive and the right element is negative then simply swap the elements, and simultaneously increment and decrement the left and right pointers.\n",
    "Else if the left element is positive and the right element is also positive then simply decrement the right pointer.\n",
    "Repeat the above 3 steps until the left pointer ≤ right pointer."
   ]
  },
  {
   "cell_type": "code",
   "execution_count": null,
   "metadata": {},
   "outputs": [],
   "source": [
    "def shiftall(arr,left,right):\n",
    "   \n",
    "\n",
    "    while left<=right:\n",
    "     \n",
    "\n",
    "        if arr[left] < 0 and arr[right] < 0:\n",
    "            left+=1\n",
    "\n",
    "\n",
    "        elif arr[left]>0 and arr[right]<0:\n",
    "            arr[left], arr[right] = arr[right],arr[left]\n",
    "            left+=1\n",
    "            right-=1\n",
    "\n",
    "\n",
    "        elif arr[left]>0 and arr[right]>0:\n",
    "            right-=1\n",
    "        else:\n",
    "            left+=1\n",
    "            right-=1"
   ]
  },
  {
   "cell_type": "markdown",
   "metadata": {},
   "source": [
    "### Union and Intersection of two sorted arrays\n",
    "Input : <br>arr1[] = {1, 3, 4, 5, 7} <br>\n",
    "        arr2[] = {2, 3, 5, 6} <br>\n",
    "Output :<br> Union : {1, 2, 3, 4, 5, 6, 7}  <br>\n",
    "         Intersection : {3, 5}<br>"
   ]
  },
  {
   "cell_type": "code",
   "execution_count": 2,
   "metadata": {},
   "outputs": [
    {
     "name": "stdout",
     "output_type": "stream",
     "text": [
      "5 6\n",
      "1 2 4 5 6\n",
      "2 3 5 6\n",
      "1\n",
      "2\n",
      "4\n",
      "5\n",
      "6\n",
      "3\n"
     ]
    }
   ],
   "source": [
    "### union\n",
    "\n",
    "def doUnion(a,n,b,m):\n",
    "        d={}\n",
    "        for i in a:\n",
    "            d[i]=d.get(i,0)+1\n",
    "        for i in b:\n",
    "            d[i]=d.get(i,0)+1\n",
    "        c=0\n",
    "        for w in d:\n",
    "            print(w,end=\" \")\n",
    "\n",
    "n,m=[int(ele)for ele in input().split()]\n",
    "li1=[int(ele)for ele in input().split()]\n",
    "li2=[int(ele)for ele in input().split()]\n",
    "\n",
    "doUnion(li1,n,li2,m)\n"
   ]
  },
  {
   "cell_type": "code",
   "execution_count": null,
   "metadata": {},
   "outputs": [],
   "source": [
    "### union\n",
    "def printUnion(arr1, arr2, m, n):\n",
    "    i, j = 0, 0\n",
    "    while i < m and j < n:\n",
    "        if arr1[i] < arr2[j]:\n",
    "            print(arr1[i])\n",
    "            i += 1\n",
    "        elif arr2[j] < arr1[i]:\n",
    "            print(arr2[j])\n",
    "            j+= 1\n",
    "        else:\n",
    "            print(arr2[j])\n",
    "            j += 1\n",
    "            i += 1\n",
    "  \n",
    "    # Print remaining elements of the larger array\n",
    "    while i < m:\n",
    "        print(arr1[i])\n",
    "        i += 1\n",
    "  \n",
    "    while j < n:\n",
    "        print(arr2[j])\n",
    "        j += 1"
   ]
  },
  {
   "cell_type": "code",
   "execution_count": null,
   "metadata": {},
   "outputs": [],
   "source": [
    "#### intersection\n",
    "t=int(input())\n",
    "while t>0:\n",
    "    n1 = int(input())\n",
    "    li1=[]\n",
    "    if n1>0:\n",
    "        li1 = [int(x) for x in input().split()]\n",
    "    \n",
    "    n2 = int(input())\n",
    "    li2=[]\n",
    "    if n2>0:\n",
    "        li2 = [int(x) for x in input().split()]\n",
    "\n",
    "    for i in li1:\n",
    "        if i in li2:\n",
    "            print(i,end=\" \")\n",
    "            li2.remove(i)\n",
    "    print()\n",
    "    t=t-1"
   ]
  },
  {
   "cell_type": "markdown",
   "metadata": {},
   "source": [
    "### Cyclically rotate an array by one  clock-wise direction\n",
    "\n",
    "Input: <br>\n",
    "N = 5 <br>\n",
    "A[] = {1, 2, 3, 4, 5}<br>\n",
    "Output:<br>\n",
    "5 1 2 3 4"
   ]
  },
  {
   "cell_type": "code",
   "execution_count": null,
   "metadata": {},
   "outputs": [],
   "source": [
    "def rotate( arr, n):\n",
    "    ele=arr.pop()\n",
    "    arr.insert(0,ele)"
   ]
  },
  {
   "cell_type": "markdown",
   "metadata": {},
   "source": [
    "# Kadane's Algorithm \n",
    "#### Given an array arr of N integers. Find the contiguous sub-array with maximum sum.\n",
    "\n",
    "Input: <br>\n",
    "N = 5 <br>\n",
    "arr[] = {1,2,3,-2,5} <br>\n",
    "Output: <br>\n",
    "9 <br>\n",
    "Explanation: <br>\n",
    "Max subarray sum is 9 <br>\n",
    "of elements (1, 2, 3, -2, 5) which <br>\n",
    "is a contiguous subarray."
   ]
  },
  {
   "cell_type": "code",
   "execution_count": null,
   "metadata": {},
   "outputs": [],
   "source": [
    "def maxSubArraySum(a,size):\n",
    " \n",
    "    max_so_far = -maxsize - 1\n",
    "    max_ending_here = 0\n",
    "    start = 0\n",
    "    end = 0\n",
    "    s = 0\n",
    " \n",
    "    for i in range(0,size):\n",
    " \n",
    "        max_ending_here += a[i]\n",
    " \n",
    "        if max_so_far < max_ending_here:\n",
    "            max_so_far = max_ending_here\n",
    "            start = s\n",
    "            end = i\n",
    " \n",
    "        if max_ending_here < 0:\n",
    "            max_ending_here = 0\n",
    "            s = i+1\n",
    " \n",
    "    print (\"Maximum contiguous sum is %d\"%(max_so_far))\n",
    "    print (\"Starting Index %d\"%(start))\n",
    "    print (\"Ending Index %d\"%(end))"
   ]
  },
  {
   "cell_type": "code",
   "execution_count": null,
   "metadata": {},
   "outputs": [],
   "source": [
    "def maxSubArraySum(a,size):\n",
    "     \n",
    "    max_so_far =a[0]\n",
    "    curr_max = a[0]\n",
    "     \n",
    "    for i in range(1,size):\n",
    "        curr_max = max(a[i], curr_max + a[i])\n",
    "        max_so_far = max(max_so_far,curr_max)\n",
    "         \n",
    "    return max_so_far"
   ]
  },
  {
   "cell_type": "markdown",
   "metadata": {},
   "source": [
    "### Minimize the Heights II\n",
    "\n",
    "Given an array arr[] denoting heights of N towers and a positive integer K, you have to modify the height of each tower either by increasing or decreasing them by K only once. After modifying, height should be a non-negative integer. \n",
    "Find out what could be the possible minimum difference of the height of shortest and longest towers after you have modified each tower.\n",
    "\n",
    "Input: <br>\n",
    "K = 2, N = 4 <br>\n",
    "Arr[] = {1, 5, 8, 10} <br>\n",
    "Output: <br>\n",
    "5 <br>\n",
    "Explanation: <br>\n",
    "The array can be modified as  <br>\n",
    "{3, 3, 6, 8}. The difference between  <br>\n",
    "the largest and the smallest is 8-3 = 5. <br>"
   ]
  },
  {
   "cell_type": "code",
   "execution_count": null,
   "metadata": {},
   "outputs": [],
   "source": [
    "def getMinDiff(arr, n, k):\n",
    " \n",
    "    if (n == 1):\n",
    "        return 0\n",
    " \n",
    "    # Sort all elements\n",
    "    arr.sort()\n",
    " \n",
    "    # Initialize result\n",
    "    ans = arr[n-1] - arr[0]\n",
    " \n",
    "    # Handle corner elements\n",
    "    small = arr[0] + k\n",
    "    big = arr[n-1] - k\n",
    "     \n",
    "    if (small > big):\n",
    "        small, big = big, small\n",
    " \n",
    "    # Traverse middle elements\n",
    "    for i in range(1, n-1):\n",
    "     \n",
    "        subtract = arr[i] - k\n",
    "        add = arr[i] + k\n",
    " \n",
    "        # If both subtraction and addition\n",
    "        # do not change diff\n",
    "        if (subtract >= small or add <= big):\n",
    "            continue\n",
    " \n",
    "        # Either subtraction causes a smaller\n",
    "        # number or addition causes a greater\n",
    "        # number. Update small or big using\n",
    "        # greedy approach (If big - subtract\n",
    "        # causes smaller diff, update small\n",
    "        # Else update big)\n",
    "        if (big - subtract <= add - small):\n",
    "            small = subtract\n",
    "        else:\n",
    "            big = add\n",
    "     \n",
    " \n",
    "    return min(ans, big - small)\n",
    " "
   ]
  },
  {
   "cell_type": "markdown",
   "metadata": {},
   "source": [
    "### Minimum number of jumps\n",
    "Given an array of integers where each element represents the max number of steps that can be made forward from that element. Find the minimum number of jumps to reach the end of the array (starting from the first element). If an element is 0, then you cannot move through that element.\n",
    "Input: <br>\n",
    "N=11  <br>\n",
    "arr=1 3 5 8 9 2 6 7 6 8 9  <br>\n",
    "Output: 3  <br>\n",
    "Explanation:  <br>\n",
    "First jump from 1st element to 2nd  <br>\n",
    "element with value 3. Now, from here  <br>\n",
    "we jump to 5th element with value 9,  <br>\n",
    "and from here we will jump to last.  <br>\n"
   ]
  },
  {
   "cell_type": "code",
   "execution_count": 2,
   "metadata": {},
   "outputs": [
    {
     "name": "stdout",
     "output_type": "stream",
     "text": [
      "5\n"
     ]
    }
   ],
   "source": [
    "### naive solution\n",
    "def minJumps(arr, l, h):\n",
    " \n",
    "    # Base case: when source and\n",
    "    # destination are same\n",
    "    if (h == l):\n",
    "        return 0\n",
    " \n",
    "    # when nothing is reachable\n",
    "    # from the given source\n",
    "    if (arr[l] == 0):\n",
    "        return float('inf')\n",
    " \n",
    "    # Traverse through all the points\n",
    "    # reachable from arr[l]. Recursively\n",
    "    # get the minimum number of jumps\n",
    "    # needed to reach arr[h] from\n",
    "    # these reachable points.\n",
    "    min = float('inf')\n",
    "    for i in range(l + 1, h + 1):\n",
    "        if (i < l + arr[l] + 1):\n",
    "            jumps = minJumps(arr, i, h)\n",
    "            if (jumps != float('inf') and\n",
    "                       jumps + 1 < min):\n",
    "                min = jumps + 1\n",
    " \n",
    "    return min\n",
    "print(minJumps([2,3,1,1,2,4,2,0,1,1],0,10))"
   ]
  },
  {
   "cell_type": "markdown",
   "metadata": {},
   "source": [
    "Implementation: \n",
    "Variables to be used: \n",
    "\n",
    "maxReach The variable maxReach stores at all time the maximal reachable index in the array.\n",
    "step The variable step stores the number of steps we can still take(and is initialized with value at index 0, i.e. initial number of steps)\n",
    "jump jump stores the amount of jumps necessary to reach that maximal reachable position."
   ]
  },
  {
   "cell_type": "code",
   "execution_count": null,
   "metadata": {},
   "outputs": [],
   "source": [
    "def minJumps(arr, n):\n",
    "  # The number of jumps needed to reach the starting index is 0\n",
    "  if (n <= 1):\n",
    "    return 0\n",
    "  \n",
    "  # Return -1 if not possible to jump\n",
    "  if (arr[0] == 0):\n",
    "    return -1\n",
    "  \n",
    "  # initialization\n",
    "  # stores all time the maximal reachable index in the array\n",
    "  maxReach = arr[0] \n",
    "  # stores the amount of steps we can still take\n",
    "  step = arr[0]\n",
    "  # stores the amount of jumps necessary to reach that maximal reachable position\n",
    "  jump = 1\n",
    "  \n",
    "  # Start traversing array\n",
    "  \n",
    "  for i in range(1, n):\n",
    "    # Check if we have reached the end of the array\n",
    "    if (i == n-1):\n",
    "      return jump\n",
    "  \n",
    "    # updating maxReach\n",
    "    maxReach = max(maxReach, i + arr[i])\n",
    "  \n",
    "    # we use a step to get to the current index\n",
    "    step -= 1;\n",
    "  \n",
    "    # If no further steps left\n",
    "    if (step == 0):\n",
    "      # we must have used a jump\n",
    "      jump += 1\n",
    "       \n",
    "      # Check if the current index / position or lesser index\n",
    "      # is the maximum reach point from the previous indexes\n",
    "      if(i >= maxReach):\n",
    "        return -1\n",
    "  \n",
    "      # re-initialize the steps to the amount\n",
    "      # of steps to reach maxReach from position i.\n",
    "      step = maxReach - i;\n",
    "  return -1"
   ]
  },
  {
   "cell_type": "markdown",
   "metadata": {},
   "source": [
    "### Find the Duplicate Number\n",
    "Given an array of integers nums containing n + 1 integers where each integer is in the range [1, n] inclusive.\n",
    "\n",
    "There is only one repeated number in nums, return this repeated number.\n",
    "\n",
    "Input: <br>\n",
    "nums = [1,3,4,2,2] <br>\n",
    "Output: 2 <br>\n"
   ]
  },
  {
   "cell_type": "code",
   "execution_count": 30,
   "metadata": {},
   "outputs": [],
   "source": [
    "def findDuplicate( nums):\n",
    "        d={}\n",
    "        for i in nums:\n",
    "            d[i]=d.get(i,0)+1\n",
    "        \n",
    "        for w in d:\n",
    "            \n",
    "            if d[w]>1:\n",
    "                return w\n",
    "                "
   ]
  },
  {
   "cell_type": "code",
   "execution_count": null,
   "metadata": {},
   "outputs": [],
   "source": [
    "def findDuplicate( nums):\n",
    "        s=set()\n",
    "        for ele in nums:\n",
    "            if ele in s:\n",
    "                return ele\n",
    "            s.add(ele)\n",
    "\n"
   ]
  },
  {
   "cell_type": "code",
   "execution_count": 2,
   "metadata": {},
   "outputs": [
    {
     "name": "stdout",
     "output_type": "stream",
     "text": [
      "6\n"
     ]
    }
   ],
   "source": [
    "def find(li):\n",
    "    return sum(li)-sum(set(li))\n",
    "print(find([1,2,3,4,5,6,6]))"
   ]
  },
  {
   "cell_type": "markdown",
   "metadata": {},
   "source": [
    "### Merge Without Extra Space\n",
    "Given two sorted arrays arr1[] of size N and arr2[] of size M. Each array is sorted in non-decreasing order. Merge the two arrays into one sorted array in non-decreasing order without using any extra space.\n",
    "\n",
    "Input:\n",
    "N = 4, M = 5 <br>\n",
    "arr1[] = {1, 3, 5, 7} <br>\n",
    "arr2[] = {0, 2, 6, 8, 9} <br>\n",
    "Output: 0 1 2 3 5 6 7 8 9 <br>\n",
    "Explanation: Since you can't use any  <br>\n",
    "extra space, modify the given arrays\n",
    "to form  <br>\n",
    "arr1[] = {0, 1, 2, 3} <br>\n",
    "arr2[] = {5, 6, 7, 8, 9} <br>"
   ]
  },
  {
   "cell_type": "code",
   "execution_count": 40,
   "metadata": {},
   "outputs": [],
   "source": [
    "def merge(li1, li2, n, m): \n",
    "\n",
    "    i=n-1\n",
    "    j=0\n",
    "    while(i>=0 and j<m  ):\n",
    "        if li1[i]>li2[j]:\n",
    "            li1[i],li2[j]=li2[j],li1[i]\n",
    "        j=j+1\n",
    "        i=i-1\n",
    "    li1.sort()\n",
    "    li2.sort()"
   ]
  },
  {
   "cell_type": "markdown",
   "metadata": {},
   "source": [
    "### Merge Intervals\n",
    "Given an array of intervals where intervals[i] = [starti, endi], merge all overlapping intervals, and return an array of the non-overlapping intervals that cover all the intervals in the input.<br>\n",
    "Input: intervals = [[1,3],[2,6],[8,10],[15,18]] <br>\n",
    "Output: [[1,6],[8,10],[15,18]]<br>\n",
    "Explanation: Since intervals [1,3] and [2,6] overlaps, merge them into [1,6].<br>"
   ]
  },
  {
   "cell_type": "code",
   "execution_count": 2,
   "metadata": {},
   "outputs": [
    {
     "data": {
      "text/plain": [
       "[[1, 3], [2, 6], [8, 10], [15, 18]]"
      ]
     },
     "execution_count": 2,
     "metadata": {},
     "output_type": "execute_result"
    }
   ],
   "source": [
    "intervals = [[2,6],[1,3],[8,10],[15,18]]\n",
    "# for i in intervals:\n",
    "#     print(i[1])\n",
    "intervals.sort()\n",
    "intervals"
   ]
  },
  {
   "cell_type": "code",
   "execution_count": null,
   "metadata": {},
   "outputs": [],
   "source": [
    "class Solution:\n",
    "    def merge(self, a: List[List[int]]) -> List[List[int]]:\n",
    "        new=[]\n",
    "        a.sort()\n",
    "        small=a[0][0]\n",
    "        big=a[0][1]\n",
    "        flag=False\n",
    "        for i in a:\n",
    "            if i[0]<=big:\n",
    "                if i[0]<=small:\n",
    "                    small=i[0]\n",
    "                if big<i[1]:\n",
    "                    big=i[1]\n",
    "                flag=True\n",
    "            else:\n",
    "                arr=[small,big]\n",
    "                new.append(arr)\n",
    "                big=i[1]\n",
    "                small=i[0]\n",
    "                flag=False\n",
    "        arr=[small,big]\n",
    "        new.append(arr)   \n",
    "        return new"
   ]
  },
  {
   "cell_type": "markdown",
   "metadata": {},
   "source": [
    "### Next Permutation VVVVVVVVVIIIIIIIII\n",
    "\n",
    "Implement next permutation, which rearranges numbers into the lexicographically next greater permutation of numbers.\n",
    "\n",
    "If such an arrangement is not possible, it must rearrange it as the lowest possible order (i.e., sorted in ascending order).\n",
    "\n",
    "Input:<br>\n",
    "nums = [1,2,3]<br>\n",
    "Output: [1,3,2]<br>\n",
    "\n",
    "Input: nums = [1,1,5]<br>\n",
    "Output: [1,5,1]<br>\n",
    "\n",
    "Input: nums = [3,2,1]<br>\n",
    "Output: [1,2,3]<br>"
   ]
  },
  {
   "cell_type": "markdown",
   "metadata": {},
   "source": [
    "The lexicographically next permutation is basically the greater permutation. For example, the next of “ACB” will be “BAC”. In some cases, the lexicographically next permutation is not present, like “BBB” or “DCBA” etc.\n",
    "\n",
    "1) An sequence sorted in descending order does not have next permutation. For example edcba” does not have next permutation.\n",
    "2) For a sequence which is not sorted in descending order for example “abedc”, we can follow below steps.\n",
    "……….a) Traverse from right and find the first item that is not following the descending order. For example in “abedc”, the character ‘b’ does not follow the descending order.\n",
    "……….b) Swap the found character with closest greater (or smallest greater) element on right side of it. In case of “abedc”, we have ‘c’ as the closest greater element. After swapping ‘b’ and ‘c’, string becomes “acedb”.\n",
    "……….c) After swapping, sort the string after the position of character found in step a. After sorting the substring “edb” of “acedb”, we get “acbde” which is the required next permutation."
   ]
  },
  {
   "cell_type": "code",
   "execution_count": null,
   "metadata": {},
   "outputs": [],
   "source": [
    "def nextPermutation(self, nums: List[int]) -> None:\n",
    "    \n",
    "    \"\"\"\n",
    "    Do not return anything, modify nums in-place instead.\n",
    "    \"\"\"\n",
    "    found = False\n",
    "    i = len(nums)-2\n",
    "    while i >=0:\n",
    "        if nums[i] < nums[i+1]:\n",
    "            found =True\n",
    "            break\n",
    "        i-=1\n",
    "    if not found:\n",
    "        nums.sort()\n",
    "    else:\n",
    "        m = self.findMaxIndex(i+1,nums,nums[i])\n",
    "        nums[i],nums[m] = nums[m],nums[i]\n",
    "        nums[i+1:] = nums[i+1:][::-1]\n",
    "    return nums\n",
    "\n",
    "def findMaxIndex(self,index,a,curr):\n",
    "    ans = -1\n",
    "    index = 0\n",
    "    for i in range(index,len(a)):\n",
    "        if a[i]>curr:\n",
    "            if ans == -1:\n",
    "                ans = curr\n",
    "                index = i\n",
    "            else:\n",
    "                ans = min(ans,a[i])\n",
    "                index = i\n",
    "    return index"
   ]
  },
  {
   "cell_type": "markdown",
   "metadata": {},
   "source": [
    "### Count Inversions\n",
    "Given an array of integers. Find the Inversion Count in the array. \n",
    "\n",
    "Inversion Count: For an array, inversion count indicates how far (or close) the array is from being sorted. If array is already sorted then the inversion count is 0. If an array is sorted in the reverse order then the inversion count is the maximum. \n",
    "Formally, two elements a[i] and a[j] form an inversion if a[i] > a[j] and i < j.\n",
    "\n",
    "\n",
    "Input: <br>\n",
    "N = 5, arr[] = {2, 4, 1, 3, 5} <br>\n",
    "Output: 3<br>\n",
    "Explanation: The sequence 2, 4, 1, 3, 5  <br>\n",
    "has three inversions (2, 1), (4, 1), (4, 3).\n",
    "\n",
    "Input: N = 5 <br>\n",
    "arr[] = {2, 3, 4, 5, 6} <br>\n",
    "Output: 0\n",
    "Explanation: As the sequence is already  <br>\n",
    "sorted so there is no inversion count.\n",
    "\n",
    "Input:<br> N = 3, <br>arr[] = {10, 10, 10}<br>\n",
    "Output: 0<br>\n",
    "Explanation: As all the elements of array <br>\n",
    "are same, so there is no inversion count."
   ]
  },
  {
   "cell_type": "code",
   "execution_count": null,
   "metadata": {},
   "outputs": [],
   "source": [
    "### naive \n",
    "\n",
    "def inversionCount(self, a, n):\n",
    "    # Your Code Here\n",
    "    c=0\n",
    "    for i in range(0,n):\n",
    "        for j in range(i+1,n):\n",
    "            if a[i]>a[j]:\n",
    "                c=c+1\n",
    "    return c"
   ]
  },
  {
   "cell_type": "markdown",
   "metadata": {},
   "source": [
    "Algorithm: \n",
    "The idea is similar to merge sort, divide the array into two equal or almost equal halves in each step until the base case is reached.\n",
    "Create a function merge that counts the number of inversions when two halves of the array are merged, create two indices i and j, i is the index for the first half, and j is an index of the second half. if a[i] is greater than a[j], then there are (mid – i) inversions. because left and right subarrays are sorted, so all the remaining elements in left-subarray (a[i+1], a[i+2] … a[mid]) will be greater than a[j].\n",
    "Create a recursive function to divide the array into halves and find the answer by summing the number of inversions is the first half, the number of inversion in the second half and the number of inversions by merging the two.\n",
    "The base case of recursion is when there is only one element in the given half.\n",
    "Print the answer"
   ]
  },
  {
   "cell_type": "code",
   "execution_count": null,
   "metadata": {},
   "outputs": [],
   "source": [
    " # Function to Use Inversion Count\n",
    "def mergeSort(arr, n):\n",
    "    # A temp_arr is created to store\n",
    "    # sorted array in merge function\n",
    "    temp_arr = [0]*n\n",
    "    return _mergeSort(arr, temp_arr, 0, n-1)\n",
    " \n",
    "# This Function will use MergeSort to count inversions\n",
    " \n",
    "def _mergeSort(arr, temp_arr, left, right):\n",
    " \n",
    "    # A variable inv_count is used to store\n",
    "    # inversion counts in each recursive call\n",
    " \n",
    "    inv_count = 0\n",
    " \n",
    "    # We will make a recursive call if and only if\n",
    "    # we have more than one elements\n",
    " \n",
    "    if left < right:\n",
    " \n",
    "        # mid is calculated to divide the array into two subarrays\n",
    "        # Floor division is must in case of python\n",
    " \n",
    "        mid = (left + right)//2\n",
    " \n",
    "        # It will calculate inversion\n",
    "        # counts in the left subarray\n",
    " \n",
    "        inv_count += _mergeSort(arr, temp_arr,\n",
    "                                    left, mid)\n",
    " \n",
    "        # It will calculate inversion\n",
    "        # counts in right subarray\n",
    " \n",
    "        inv_count += _mergeSort(arr, temp_arr,\n",
    "                                  mid + 1, right)\n",
    " \n",
    "        # It will merge two subarrays in\n",
    "        # a sorted subarray\n",
    " \n",
    "        inv_count += merge(arr, temp_arr, left, mid, right)\n",
    "    return inv_count\n",
    " \n",
    "# This function will merge two subarrays\n",
    "# in a single sorted subarray\n",
    "def merge(arr, temp_arr, left, mid, right):\n",
    "    i = left     # Starting index of left subarray\n",
    "    j = mid + 1 # Starting index of right subarray\n",
    "    k = left     # Starting index of to be sorted subarray\n",
    "    inv_count = 0\n",
    " \n",
    "    # Conditions are checked to make sure that\n",
    "    # i and j don't exceed their\n",
    "    # subarray limits.\n",
    " \n",
    "    while i <= mid and j <= right:\n",
    " \n",
    "        # There will be no inversion if arr[i] <= arr[j]\n",
    " \n",
    "        if arr[i] <= arr[j]:\n",
    "            temp_arr[k] = arr[i]\n",
    "            k += 1\n",
    "            i += 1\n",
    "        else:\n",
    "            # Inversion will occur.\n",
    "            temp_arr[k] = arr[j]\n",
    "            inv_count += (mid-i + 1)\n",
    "            k += 1\n",
    "            j += 1\n",
    " \n",
    "    # Copy the remaining elements of left\n",
    "    # subarray into temporary array\n",
    "    while i <= mid:\n",
    "        temp_arr[k] = arr[i]\n",
    "        k += 1\n",
    "        i += 1\n",
    " \n",
    "    # Copy the remaining elements of right\n",
    "    # subarray into temporary array\n",
    "    while j <= right:\n",
    "        temp_arr[k] = arr[j]\n",
    "        k += 1\n",
    "        j += 1\n",
    " \n",
    "    # Copy the sorted subarray into Original array\n",
    "    for loop_var in range(left, right + 1):\n",
    "        arr[loop_var] = temp_arr[loop_var]\n",
    "         \n",
    "    return inv_count\n",
    " \n",
    "# Driver Code\n",
    "# Given array is\n",
    "arr = [1, 20, 6, 4, 5]\n",
    "n = len(arr)\n",
    "result = mergeSort(arr, n)\n",
    "print(\"Number of inversions are\", result)"
   ]
  },
  {
   "cell_type": "markdown",
   "metadata": {},
   "source": [
    "### Best Time to Buy and Sell Stock\n",
    "\n",
    "You are given an array prices where prices[i] is the price of a given stock on the ith day.\n",
    "\n",
    "You want to maximize your profit by choosing a single day to buy one stock and choosing a different day in the future to sell that stock.\n",
    "\n",
    "Return the maximum profit you can achieve from this transaction. If you cannot achieve any profit, return 0.\n",
    "\n",
    "\n",
    "Input:\n",
    "prices = [7,1,5,3,6,4]<br>\n",
    "Output: 5<br>\n",
    "Explanation: Buy on day 2 (price = 1) and sell on day 5 (price = 6), profit = 6-1 = 5.<br>\n",
    "Note that buying on day 2 and selling on day 1 is not allowed because you must buy before you sell. <br>"
   ]
  },
  {
   "cell_type": "code",
   "execution_count": 9,
   "metadata": {},
   "outputs": [
    {
     "name": "stdout",
     "output_type": "stream",
     "text": [
      "5\n"
     ]
    }
   ],
   "source": [
    "\n",
    "def maxProfit( prices):\n",
    "    max=0\n",
    "    for i in range(0,len(prices)-1):\n",
    "        \n",
    "        if(prices[i]>prices[i+1]):\n",
    "#             print(prices[i],prices[i+1],i,max)\n",
    "            continue\n",
    "        else:\n",
    "            for j in range(i+1,len(prices)):\n",
    "                \n",
    "                sub=prices[j]-prices[i]\n",
    "#                 print(i,j,max)\n",
    "                if sub>max:\n",
    "                    max=sub\n",
    "    return max\n",
    "\n",
    "arr=[7,1,5,3,6,4]\n",
    "print(maxProfit(arr))"
   ]
  },
  {
   "cell_type": "markdown",
   "metadata": {},
   "source": [
    "### move from back"
   ]
  },
  {
   "cell_type": "code",
   "execution_count": null,
   "metadata": {},
   "outputs": [],
   "source": [
    "# // good solution\n",
    "\n",
    "def maxProfit(ls: Lisbt[int]) -> int:\n",
    "        maxx=-12345678\n",
    "        res=0\n",
    "        for i in range(len(ls)-1,-1,-1):\n",
    "            if ls[i]>maxx:\n",
    "                maxx=ls[i]\n",
    "            elif (maxx-ls[i])>res:\n",
    "                print(res)\n",
    "                res=maxx-ls[i]\n",
    "        return res"
   ]
  },
  {
   "cell_type": "markdown",
   "metadata": {},
   "source": [
    "### Count pairs with given sum \n",
    "\n",
    "Given an array of N integers, and an integer K, find the number of pairs of elements in the array whose sum is equal to K.\n",
    "\n",
    "Input: <br>\n",
    "N = 4, K = 6  <br>\n",
    "arr[] = {1, 5, 7, 1}  <br>\n",
    "Output: 2  <br>\n",
    "Explanation:   <br>\n",
    "arr[0] + arr[1] = 1 + 5 = 6   <br>\n",
    "and arr[1] + arr[3] = 5 + 1 = 6.  <br>"
   ]
  },
  {
   "cell_type": "code",
   "execution_count": null,
   "metadata": {},
   "outputs": [],
   "source": [
    "def getPairsCount( arr, n, k):\n",
    "    # code here\n",
    "    d={}\n",
    "    count=0\n",
    "    for i in range(0,n,1):\n",
    "        temp = k-arr[i]\n",
    "\n",
    "        if temp in d:\n",
    "            count=count+d[temp]\n",
    "\n",
    "\n",
    "        d[arr[i]]=d.get(arr[i],0)+1\n",
    "    return count"
   ]
  },
  {
   "cell_type": "markdown",
   "metadata": {},
   "source": [
    "### Common elements \n",
    "\n",
    "Given three arrays sorted in increasing order. Find the elements that are common in all three arrays.\n",
    "Note: can you take care of the duplicates without using any additional Data Structure?\n",
    "\n",
    "Input: <br>\n",
    "n1 = 6; A = {1, 5, 10, 20, 40, 80} <br>\n",
    "n2 = 5; B = {6, 7, 20, 80, 100} <br>\n",
    "n3 = 8; C = {3, 4, 15, 20, 30, 70, 80, 120} <br>\n",
    "Output:  <br>20 80 <br>\n",
    "Explanation: 20 and 80 are the only <br>\n",
    "common elements in A, B and C. <br>"
   ]
  },
  {
   "cell_type": "code",
   "execution_count": 2,
   "metadata": {},
   "outputs": [
    {
     "name": "stdout",
     "output_type": "stream",
     "text": [
      "[]\n"
     ]
    }
   ],
   "source": [
    "def commonElements(A, B, C, n1, n2, n3):\n",
    "        # your code here\n",
    "        a=list(set(A))\n",
    "        b=list(set(B))\n",
    "        c=list(set(C))\n",
    "        \n",
    "        z=a+b+c\n",
    "        z.sort()\n",
    "        li=[]\n",
    "        for i in range(len(z)-2):\n",
    "            if z[i]==z[i+1]==z[i+2]:\n",
    "                li.append(z[i])\n",
    "        r=list(set(li))\n",
    "        r.sort()\n",
    "        return r\n",
    "print(commonElements([1,2,3],[2,3,4],[4,5,6,7],3,3,4))"
   ]
  },
  {
   "cell_type": "markdown",
   "metadata": {},
   "source": [
    "### Rearrange array in alternating positive & negative items with O(1) extra space \n",
    "# (Amazon off campus)\n",
    "Given an array of positive and negative numbers, arrange them in an alternate fashion such that every positive number is followed by negative and vice-versa maintaining the order of appearance. \n",
    "Number of positive and negative numbers need not be equal. If there are more positive numbers they appear at the end of the array. If there are more negative numbers, they too appear in the end of the array.\n",
    "\n",
    "Examples : \n",
    "\n",
    "Input:  arr[] = {1, 2, 3, -4, -1, 4}\n",
    "Output: arr[] = {-4, 1, -1, 2, 3, 4}\n",
    "\n",
    "Input:  arr[] = {-5, -2, 5, 2, 4, 7, 1, 8, 0, -8}\n",
    "output: arr[] = {-5, 5, -2, 2, -8, 4, 7, 1, 8, 0}"
   ]
  },
  {
   "cell_type": "code",
   "execution_count": null,
   "metadata": {},
   "outputs": [],
   "source": [
    "def rightRotate(arr, n, outOfPlace, cur):\n",
    "    temp = arr[cur]\n",
    "    for i in range(cur, outOfPlace, -1):\n",
    "        arr[i] = arr[i - 1]\n",
    "    arr[outOfPlace] = temp\n",
    "    return arr\n",
    " \n",
    " \n",
    "def rearrange(arr, n):\n",
    "    outOfPlace = -1\n",
    "    for index in range(n):\n",
    "        if(outOfPlace >= 0):\n",
    "            if((arr[index] >= 0 and arr[outOfPlace] < 0) or\n",
    "               (arr[index] < 0 and arr[outOfPlace] >= 0)):\n",
    "                arr = rightRotate(arr, n, outOfPlace, index)\n",
    "                if(index-outOfPlace > 2):\n",
    "                    outOfPlace += 2\n",
    "                else:\n",
    "                    outOfPlace = - 1\n",
    " \n",
    "        if(outOfPlace == -1):\n",
    "\n",
    "            if((arr[index] >= 0 and index % 2 == 0) or\n",
    "               (arr[index] < 0 and index % 2 == 1)):\n",
    "                outOfPlace = index\n",
    "    return arr"
   ]
  },
  {
   "cell_type": "code",
   "execution_count": null,
   "metadata": {},
   "outputs": [],
   "source": [
    "####  if order of apperance is allowed to change\n",
    "def rearrange(arr, n):\n",
    "    i = 0\n",
    "    j = n - 1\n",
    "\n",
    "    while (i < j):\n",
    "       \n",
    "        while (i <= n - 1 and arr[i] > 0):\n",
    "            i += 1\n",
    "        while (j >= 0 and arr[j] < 0):\n",
    "            j -= 1\n",
    "             \n",
    "        if (i < j):\n",
    "            temp = arr[i]\n",
    "            arr[i] = arr[j]\n",
    "            arr[j] = temp\n",
    "             \n",
    "\n",
    "    if (i == 0 or i == n):\n",
    "        return 0\n",
    " \n",
    "\n",
    "    k = 0\n",
    "    while (k < n and i < n):\n",
    "\n",
    "        temp = arr[k]\n",
    "        arr[k] = arr[i]\n",
    "        arr[i] = temp\n",
    "        i = i + 1\n",
    "        k = k + 2\n",
    " \n"
   ]
  },
  {
   "cell_type": "code",
   "execution_count": null,
   "metadata": {},
   "outputs": [],
   "source": [
    "def rearrange(arr, n):\n",
    "\n",
    "    arr.sort()\n",
    "\n",
    "    i, j = 1, 1\n",
    "    while j < n:\n",
    "        if arr[j] > 0:\n",
    "            break\n",
    "        j += 1\n",
    "\n",
    "    while (arr[i] < 0) and (j < n):\n",
    "        # swaping\n",
    "        arr[i], arr[j] = arr[j], arr[i]  \n",
    "\n",
    "        i += 2     \n",
    "        j += 1\n",
    "     \n",
    "    return(arr)"
   ]
  },
  {
   "cell_type": "markdown",
   "metadata": {},
   "source": [
    "### Subarray with 0 sum\n",
    "\n",
    "Given an array of positive and negative numbers. Find if there is a subarray (of size at-least one) with 0 sum.\n",
    "\n",
    "Input:\n",
    "5\n",
    "4 2 -3 1 6\n",
    "\n",
    "Output: \n",
    "Yes\n",
    "\n",
    "Explanation: \n",
    "2, -3, 1 is the subarray \n",
    "with sum 0.\n",
    "\n",
    "\n",
    "\n",
    "Input:\n",
    "5\n",
    "4 2 0 1 6\n",
    "\n",
    "Output: \n",
    "Yes\n",
    "\n",
    "Explanation: \n",
    "0 is one of the element \n",
    "in the array so there exist a \n",
    "subarray with sum 0."
   ]
  },
  {
   "cell_type": "markdown",
   "metadata": {},
   "source": [
    "use hashing. The idea is to iterate through the array and for every element arr[i], calculate the sum of elements from 0 to i (this can simply be done as sum += arr[i]). If the current sum has been seen before, then there is a zero-sum array. Hashing is used to store the sum values so that we can quickly store sum and find out whether the current sum is seen before or not"
   ]
  },
  {
   "cell_type": "code",
   "execution_count": null,
   "metadata": {},
   "outputs": [],
   "source": [
    "def subArrayExists(arr, n):\n",
    "\n",
    "    n_sum = 0\n",
    "    s = set()\n",
    " \n",
    "    for i in range(n):\n",
    "        n_sum += arr[i]\n",
    "\n",
    "        if n_sum == 0 or n_sum in s:\n",
    "            return True\n",
    "        s.add(n_sum)\n",
    " \n",
    "    return False"
   ]
  },
  {
   "cell_type": "markdown",
   "metadata": {},
   "source": [
    "### Find factorial of a given number\n",
    "\n",
    "The following is a detailed algorithm for finding factorial.\n",
    "factorial(n)  <br>\n",
    "1) Create an array ‘res[]’ of MAX size where MAX is number of maximum digits in output.  <br>\n",
    "2) Initialize value stored in ‘res[]’ as 1 and initialize ‘res_size’ (size of ‘res[]’) as 1.  <br>\n",
    "3) Do following for all numbers from x = 2 to n.  <br>\n",
    "……a) Multiply x with res[] and update res[] and res_size to store the multiplication result. <br>\n",
    "How to multiply a number ‘x’ with the number stored in res[]?  <br>\n",
    "The idea is to use simple school mathematics. We one by one multiply x with every digit of res[]. The important point to note here is digits are multiplied from rightmost digit to leftmost digit. If we store digits in same order in res[], then it becomes difficult to update res[] without extra space. That is why res[] is maintained in reverse way, i.e., digits from right to left are stored. <br>\n",
    "multiply(res[], x) \n",
    "1) Initialize carry as 0.  <br>\n",
    "2) Do following for i = 0 to res_size – 1  <br>\n",
    "….a) Find value of res[i] * x + carry. Let this value be prod.  <br>\n",
    "….b) Update res[i] by storing last digit of prod in it.  <br>\n",
    "….c) Update carry by storing remaining digits in carry.  <br>\n",
    "3) Put all digits of carry in res[] and increase res_size by number of digits in carry. <br>\n",
    "\n"
   ]
  },
  {
   "cell_type": "code",
   "execution_count": null,
   "metadata": {},
   "outputs": [],
   "source": [
    "import sys\n",
    " \n",
    "# This function finds factorial of large\n",
    "# numbers and prints them\n",
    "def factorial( n) :\n",
    "    res = [None]*500\n",
    "    # Initialize result\n",
    "    res[0] = 1\n",
    "    res_size = 1\n",
    " \n",
    "    # Apply simple factorial formula\n",
    "    # n! = 1 * 2 * 3 * 4...*n\n",
    "    x = 2\n",
    "    while x <= n :\n",
    "        res_size = multiply(x, res, res_size)\n",
    "        x = x + 1\n",
    "     \n",
    "    print (\"Factorial of given number is\")\n",
    "    i = res_size-1\n",
    "    while i >= 0 :\n",
    "        sys.stdout.write(str(res[i]))\n",
    "        sys.stdout.flush()\n",
    "        i = i - 1\n",
    "         \n",
    " \n",
    "# This function multiplies x with the number\n",
    "# represented by res[]. res_size is size of res[]\n",
    "# or number of digits in the number represented\n",
    "# by res[]. This function uses simple school\n",
    "# mathematics for multiplication. This function\n",
    "# may value of res_size and returns the new value\n",
    "# of res_size\n",
    "def multiply(x, res,res_size) :\n",
    "     \n",
    "    carry = 0 # Initialize carry\n",
    " \n",
    "    # One by one multiply n with individual\n",
    "    # digits of res[]\n",
    "    i = 0\n",
    "    while i < res_size :\n",
    "        prod = res[i] *x + carry\n",
    "        res[i] = prod % 10; # Store last digit of\n",
    "                            # 'prod' in res[]\n",
    "        # make sure floor division is used\n",
    "        carry = prod//10; # Put rest in carry\n",
    "        i = i + 1\n",
    " \n",
    "    # Put carry in res and increase result size\n",
    "    while (carry) :\n",
    "        res[res_size] = carry % 10\n",
    "        # make sure floor division is used\n",
    "        # to avoid floating value\n",
    "        carry = carry // 10\n",
    "        res_size = res_size + 1\n",
    "         \n",
    "    return res_size\n",
    " "
   ]
  },
  {
   "cell_type": "markdown",
   "metadata": {},
   "source": [
    "### Maximum Product Subarray\n",
    "Given an array Arr that contains N integers (may be positive, negative or zero). Find the product of the maximum product subarray.\n",
    "\n",
    "Example 1:\n",
    "\n",
    "Input:\n",
    "N = 5\n",
    "Arr[] = {6, -3, -10, 0, 2}\n",
    "Output: 180\n",
    "Explanation: Subarray with maximum product\n",
    "is 6, -3, -10 which gives product as 180.\n",
    "Example 2:\n",
    "\n",
    "Input:\n",
    "N = 6\n",
    "Arr[] = {2, 3, 4, 5, -1, 0}\n",
    "Output: 120\n",
    "Explanation: Subarray with maximum product\n",
    "is 2, 3, 4, 5 which gives product as 120."
   ]
  },
  {
   "cell_type": "code",
   "execution_count": 4,
   "metadata": {},
   "outputs": [
    {
     "name": "stdout",
     "output_type": "stream",
     "text": [
      "12\n"
     ]
    }
   ],
   "source": [
    "def maxProduct(arr, n):\n",
    "    # code here\n",
    "    m=-float('inf')\n",
    "\n",
    "    for i in range(0,n):\n",
    "\n",
    "        ans=arr[i]\n",
    "        if ans>m:\n",
    "            m=ans\n",
    "        for j in range(i+1,n):\n",
    "            ans=ans*arr[j]\n",
    "            if ans>m:\n",
    "                m=ans\n",
    "\n",
    "    return m"
   ]
  },
  {
   "cell_type": "code",
   "execution_count": null,
   "metadata": {},
   "outputs": [],
   "source": [
    "def maxProduct(arr, n):\n",
    "    # code here\n",
    "    m=-float('inf')\n",
    "\n",
    "    for i in range(0,n):\n",
    "\n",
    "        ans=arr[i]\n",
    "        for j in range(i+1,n):\n",
    "            m=max(m,ans)\n",
    "            ans=ans*arr[j]\n",
    "        m=max(m,ans)  \n",
    "\n",
    "    return m"
   ]
  },
  {
   "cell_type": "markdown",
   "metadata": {},
   "source": [
    "The idea is to traverse array from left to right keeping two variables minVal and maxVal which represents the minimum and maximum product value till the ith index of the array. Now, if the ith element of the array is negative that means now the values of minVal and maxVal will be swapped as value of maxVal will become minimum by multiplying it with a negative number. Now, compare the minVal and maxVal. \n",
    "The value of minVal and maxVal depends on the current index element or the product of the current index element and the previous minVal and maxVal respectively.\n",
    "Below is the implementation of above approach: "
   ]
  },
  {
   "cell_type": "code",
   "execution_count": null,
   "metadata": {},
   "outputs": [],
   "source": [
    "def maxProduct(arr, n):\n",
    "\n",
    "    minVal = arr[0]\n",
    "    maxVal = arr[0]\n",
    " \n",
    "    maxProduct = arr[0]\n",
    " \n",
    "    for i in range(1, n, 1):\n",
    "\n",
    "        if (arr[i] < 0):\n",
    "            temp = maxVal\n",
    "            maxVal = minVal\n",
    "            minVal = temp\n",
    "\n",
    "        maxVal = max(arr[i], maxVal * arr[i])\n",
    "        minVal = min(arr[i], minVal * arr[i])\n",
    "\n",
    "        maxProduct = max(maxProduct, maxVal)\n",
    "\n",
    "    return maxProduct"
   ]
  },
  {
   "cell_type": "markdown",
   "metadata": {},
   "source": [
    "### Longest consecutive subsequence \n",
    "Given an array of positive integers. Find the length of the longest sub-sequence such that elements in the subsequence are consecutive integers, the consecutive numbers can be in any order.\n",
    " \n",
    "\n",
    "Example 1:\n",
    "\n",
    "Input:\n",
    "N = 7 <br>\n",
    "a[] = {2,6,1,9,4,5,3} <br>\n",
    "Output: <br>\n",
    "6 <br>\n",
    "Explanation: <br>\n",
    "The consecutive numbers here <br>\n",
    "are 1, 2, 3, 4, 5, 6. These 6  <br>\n",
    "numbers form the longest consecutive\n",
    "subsquence.\n",
    "Example 2: <br>\n",
    "\n",
    "Input: <br>\n",
    "N = 7 <br>\n",
    "a[] = {1,9,3,10,4,20,2} <br>\n",
    "Output: <br>\n",
    "4 <br>\n",
    "Explanation:\n",
    "1, 2, 3, 4 is the longest\n",
    "consecutive subsequence."
   ]
  },
  {
   "cell_type": "code",
   "execution_count": 8,
   "metadata": {},
   "outputs": [
    {
     "data": {
      "text/plain": [
       "3"
      ]
     },
     "execution_count": 8,
     "metadata": {},
     "output_type": "execute_result"
    }
   ],
   "source": [
    "def findLongestConseqSubseq(arr, N):\n",
    "#code here\n",
    "\n",
    "    \n",
    "    s=set(arr)\n",
    "    arr=list(s)\n",
    "    c=1\n",
    "    m=-10\n",
    "    arr.sort()\n",
    "    for i in range(1,len(arr)):\n",
    "        if arr[i]-arr[i-1]==1:\n",
    "            c=c+1\n",
    "            continue\n",
    "        \n",
    "        m=max(c,m)\n",
    "        c=1\n",
    "    m=max(c,m)\n",
    "    return m\n",
    "\n",
    "findLongestConseqSubseq([8,9,1,2,3,1],6)"
   ]
  },
  {
   "cell_type": "markdown",
   "metadata": {},
   "source": [
    " Algorithm: \n",
    "\n",
    "Create an empty hash.\n",
    "Insert all array elements to hash.\n",
    "Do following for every element arr[i]\n",
    "Check if this element is the starting point of a subsequence. To check this, simply look for arr[i] – 1 in the hash, if not found, then this is the first element a subsequence.\n",
    "If this element is the first element, then count the number of elements in the consecutive starting with this element. Iterate from arr[i] + 1 till the last element that can be found.\n",
    "If the count is more than the previous longest subsequence found, then update this"
   ]
  },
  {
   "cell_type": "code",
   "execution_count": null,
   "metadata": {},
   "outputs": [],
   "source": [
    "from sets import Set\n",
    " \n",
    " \n",
    "def findLongestConseqSubseq(arr, n):\n",
    " \n",
    "    s = Set()\n",
    "    ans = 0\n",
    " \n",
    "    # Hash all the array elements\n",
    "    for ele in arr:\n",
    "        s.add(ele)\n",
    " \n",
    "    # check each possible sequence from the start\n",
    "    # then update optimal length\n",
    "    for i in range(n):\n",
    " \n",
    "         # if current element is the starting\n",
    "        # element of a sequence\n",
    "        if (arr[i]-1) not in s:\n",
    " \n",
    "            # Then check for next elements in the\n",
    "            # sequence\n",
    "            j = arr[i]\n",
    "            while(j in s):\n",
    "                j += 1\n",
    " \n",
    "            # update  optimal length if this length\n",
    "            # is more\n",
    "            ans = max(ans, j-arr[i])\n",
    "    return ans"
   ]
  },
  {
   "cell_type": "code",
   "execution_count": null,
   "metadata": {},
   "outputs": [],
   "source": []
  },
  {
   "cell_type": "code",
   "execution_count": null,
   "metadata": {},
   "outputs": [],
   "source": []
  },
  {
   "cell_type": "code",
   "execution_count": null,
   "metadata": {},
   "outputs": [],
   "source": []
  },
  {
   "cell_type": "code",
   "execution_count": null,
   "metadata": {},
   "outputs": [],
   "source": []
  },
  {
   "cell_type": "code",
   "execution_count": null,
   "metadata": {},
   "outputs": [],
   "source": []
  },
  {
   "cell_type": "code",
   "execution_count": null,
   "metadata": {},
   "outputs": [],
   "source": []
  },
  {
   "cell_type": "code",
   "execution_count": null,
   "metadata": {},
   "outputs": [],
   "source": []
  },
  {
   "cell_type": "code",
   "execution_count": null,
   "metadata": {},
   "outputs": [],
   "source": []
  },
  {
   "cell_type": "code",
   "execution_count": null,
   "metadata": {},
   "outputs": [],
   "source": []
  },
  {
   "cell_type": "code",
   "execution_count": null,
   "metadata": {},
   "outputs": [],
   "source": []
  },
  {
   "cell_type": "code",
   "execution_count": null,
   "metadata": {},
   "outputs": [],
   "source": []
  }
 ],
 "metadata": {
  "kernelspec": {
   "display_name": "Python 3",
   "language": "python",
   "name": "python3"
  },
  "language_info": {
   "codemirror_mode": {
    "name": "ipython",
    "version": 3
   },
   "file_extension": ".py",
   "mimetype": "text/x-python",
   "name": "python",
   "nbconvert_exporter": "python",
   "pygments_lexer": "ipython3",
   "version": "3.8.5"
  }
 },
 "nbformat": 4,
 "nbformat_minor": 4
}
