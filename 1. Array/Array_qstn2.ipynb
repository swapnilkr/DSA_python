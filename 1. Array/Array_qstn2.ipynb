{
 "cells": [
  {
   "cell_type": "markdown",
   "metadata": {},
   "source": [
    "### Given an array of size n and a number k, find all elements that appear more than n/k times\n",
    "\n",
    "Given an array of size n, find all elements in array that appear more than n/k times.<br>\n",
    "For example, <br>\n",
    "if the input arrays is <br>\n",
    "{3, 1, 2, 2, 1, 2, 3, 3} and k is 4, <br>\n",
    "then the output should be <br>\n",
    "[2, 3]<br>\n",
    "Note that size of array is \n",
    "8 (or n = 8), <br> \n",
    "so we need to find all elements that appear more than 2 (or 8/4) times.<br>\n",
    "There are two elements that appear more than two times, 2 and 3. "
   ]
  },
  {
   "cell_type": "code",
   "execution_count": null,
   "metadata": {},
   "outputs": [],
   "source": [
    "ef morethanNbyK(arr, n, k) :\n",
    "    x = n // k\n",
    "      \n",
    "    # unordered_map initialization\n",
    "    d = {}\n",
    "  \n",
    "    for i in arr :   \n",
    "        d[i]=d.get(i,0)+1\n",
    "\n",
    "    for i in freq :\n",
    "\n",
    "        if (freq[i] > x) :\n",
    "\n",
    "            print(i)"
   ]
  },
  {
   "cell_type": "code",
   "execution_count": null,
   "metadata": {},
   "outputs": [],
   "source": [
    "from collections import Counter\n",
    "\n",
    "def printElements(arr, n, k):\n",
    "\n",
    "    x = n//k\n",
    " \n",
    "\n",
    "    mp = Counter(arr)\n",
    "\n",
    "    for i in mp:\n",
    "        if mp[i] > x:\n",
    "            print(i)"
   ]
  },
  {
   "cell_type": "markdown",
   "metadata": {},
   "source": [
    "### Maximum profit by buying and selling a share at most twice\n",
    "\n",
    "In daily share trading, a buyer buys shares in the morning and sells them on the same day. If the trader is allowed to make at most 2 transactions in a day, whereas the second transaction can only start after the first one is complete (Sell->buy->sell->buy). Given stock prices throughout the day, find out the maximum profit that a share trader could have made.\n",
    "\n",
    "Examples: \n",
    "\n",
    "Input:   price[] = {10, 22, 5, 75, 65, 80} <br>\n",
    "Output:  87 <br>\n",
    "Trader earns 87 as sum of 12, 75 <br>\n",
    "Buy at 10, sell at 22,  <br>\n",
    "Buy at 5 and sell at 80 <br>\n",
    "\n",
    "Input:   price[] = {2, 30, 15, 10, 8, 25, 80} <br>\n",
    "Output:  100 <br>\n",
    "Trader earns 100 as sum of 28 and 72 <br>\n",
    "Buy at price 2, sell at 30, buy at 8 and sell at 80 <br>\n",
    "\n",
    "Input:   price[] = {100, 30, 15, 10, 8, 25, 80}; <br>\n",
    "Output:  72 <br>\n",
    "Buy at price 8 and sell at 80. <br>\n",
    "\n",
    "Input:   price[] = {90, 80, 70, 60, 50} <br>\n",
    "Output:  0 <br>\n",
    "Not possible to earn. <br>"
   ]
  },
  {
   "cell_type": "markdown",
   "metadata": {},
   "source": [
    "1) Create a table profit[0..n-1] and initialize all values in it 0.\n",
    "2) Traverse price[] from right to left and update profit[i] such that profit[i] stores maximum profit achievable from one transaction in subarray price[i..n-1]\n",
    "3) Traverse price[] from left to right and update profit[i] such that profit[i] stores maximum profit such that profit[i] contains maximum achievable profit from two transactions in subarray price[0..i].\n",
    "4) Return profit[n-1]\n",
    "\n"
   ]
  },
  {
   "cell_type": "code",
   "execution_count": null,
   "metadata": {},
   "outputs": [],
   "source": [
    "# Returns maximum profit with\n",
    "# two transactions on a given\n",
    "# list of stock prices price[0..n-1]\n",
    " \n",
    " \n",
    "def maxProfit(price, n):\n",
    " \n",
    "    # Create profit array and initialize it as 0\n",
    "    profit = [0]*n\n",
    " \n",
    "    # Get the maximum profit\n",
    "    # with only one transaction\n",
    "    # allowed. After this loop,\n",
    "    # profit[i] contains maximum\n",
    "    # profit from price[i..n-1]\n",
    "    # using at most one trans.\n",
    "    max_price = price[n-1]\n",
    " \n",
    "    for i in range(n-2, 0, -1):\n",
    " \n",
    "        if price[i] > max_price:\n",
    "            max_price = price[i]\n",
    " \n",
    "        # we can get profit[i] by\n",
    "        # taking maximum of:\n",
    "        # a) previous maximum,\n",
    "        # i.e., profit[i+1]\n",
    "        # b) profit by buying at\n",
    "        # price[i] and selling at\n",
    "        #    max_price\n",
    "        profit[i] = max(profit[i+1], max_price - price[i])\n",
    " \n",
    "    # Get the maximum profit\n",
    "    # with two transactions allowed\n",
    "    # After this loop, profit[n-1]\n",
    "    # contains the result\n",
    "    min_price = price[0]\n",
    " \n",
    "    for i in range(1, n):\n",
    " \n",
    "        if price[i] < min_price:\n",
    "            min_price = price[i]\n",
    " \n",
    "        # Maximum profit is maximum of:\n",
    "        # a) previous maximum,\n",
    "        # i.e., profit[i-1]\n",
    "        # b) (Buy, Sell) at\n",
    "        # (min_price, A[i]) and add\n",
    "        #  profit of other trans.\n",
    "        # stored in profit[i]\n",
    "        profit[i] = max(profit[i-1], profit[i]+(price[i]-min_price))\n",
    " \n",
    "    result = profit[n-1]\n",
    " \n",
    "    return result"
   ]
  },
  {
   "cell_type": "markdown",
   "metadata": {},
   "source": [
    "# lgorithmic Paradigm: Dynamic Programming  VVVVVI\n",
    "\n",
    "There is one more approach for calculating this problem using the Valley-Peak approach i.e. take a variable profit and initialize it with zero and then traverse through the array of price[] from (i+1)th position whenever the initial position value is greater than the previous value add it to variable profit.\n",
    "\n"
   ]
  },
  {
   "cell_type": "code",
   "execution_count": 4,
   "metadata": {},
   "outputs": [
    {
     "name": "stdout",
     "output_type": "stream",
     "text": [
      "4\n"
     ]
    }
   ],
   "source": [
    "def max_pro(price,n):\n",
    "    profit=0\n",
    "    for i in range(1,n):\n",
    "        sub=price[i]-price[i-1]\n",
    "        if sub>0:\n",
    "            profit+=sub\n",
    "    return profit\n",
    "\n",
    "print(max_pro([1,2,3,4,5],5))"
   ]
  },
  {
   "cell_type": "markdown",
   "metadata": {},
   "source": [
    "### Array Subset of another array \n",
    "\n",
    "Given two arrays: a1[0..n-1] of size n and a2[0..m-1] of size m. Task is to check whether a2[] is a subset of a1[] or not. Both the arrays can be sorted or unsorted. It may be assumed that elements in both array are distinct.\n",
    " \n",
    "\n",
    "Example 1:\n",
    "\n",
    "Input:\n",
    "a1[] = {11, 1, 13, 21, 3, 7}\n",
    "a2[] = {11, 3, 7, 1}\n",
    "Output:\n",
    "Yes\n",
    "Explanation:\n",
    "a2[] is a subset of a1[]\n",
    "\n",
    "Example 2:\n",
    "\n",
    "Input:\n",
    "a1[] = {1, 2, 3, 4, 5, 6}\n",
    "a2[] = {1, 2, 4}\n",
    "Output:\n",
    "Yes\n",
    "Explanation:\n",
    "a2[] is a subset of a1[]\n",
    "\n",
    "Example 3:\n",
    "\n",
    "Input:\n",
    "a1[] = {10, 5, 2, 23, 19}\n",
    "a2[] = {19, 5, 3}\n",
    "Output:\n",
    "No\n",
    "Explanation:\n",
    "a2[] is not a subset of a1[]"
   ]
  },
  {
   "cell_type": "code",
   "execution_count": null,
   "metadata": {},
   "outputs": [],
   "source": [
    "def isSubset( a1, a2, n, m):\n",
    "    if m>n:\n",
    "        return \"No\"\n",
    "    else:\n",
    "        for i in a2:\n",
    "            if i not in a1:\n",
    "                return \"No\"\n",
    "    return \"Yes\"\n",
    "        "
   ]
  },
  {
   "cell_type": "code",
   "execution_count": null,
   "metadata": {},
   "outputs": [],
   "source": [
    "def isSubset(arr1, m, arr2, n):\n",
    "     \n",
    "    # Using STL set for hashing\n",
    "    hashset = set()\n",
    " \n",
    "    # hset stores all the values of arr1\n",
    "    for i in range(0, m):\n",
    "        hashset.add(arr1[i])\n",
    " \n",
    "    # Loop to check if all elements\n",
    "    # of arr2 also lies in arr1\n",
    "    for i in range(0, n):\n",
    "        if arr2[i] not in hashset:\n",
    "            return False\n",
    " \n",
    "    return True"
   ]
  },
  {
   "cell_type": "code",
   "execution_count": null,
   "metadata": {},
   "outputs": [],
   "source": [
    "arr1 = [ 11, 1, 13, 21, 3, 7 ]\n",
    "arr2 = [ 11, 3, 7, 1 ]\n",
    "m = len(arr1)\n",
    "n = len(arr2)\n",
    "s = set()\n",
    "for i in range(m) :\n",
    "    s.add(arr1[i])\n",
    " \n",
    "p = len(s)\n",
    "for i in range(n) :\n",
    "    s.add(arr2[i])\n",
    " \n",
    "if (len(s) == p) :\n",
    "    print(\"arr2[] is subset of arr1[] \")\n",
    " \n",
    "else :\n",
    "    print(\"arr2[] is not subset of arr1[] \")"
   ]
  },
  {
   "cell_type": "markdown",
   "metadata": {},
   "source": [
    "### Triplet Sum in Array\n",
    "\n",
    "Given an array arr of size n and an integer X. Find if there's a triplet in the array which sums up to the given integer X.\n",
    "\n",
    "\n",
    "Example 1:\n",
    "\n",
    "Input:\n",
    "n = 6, X = 13\n",
    "arr[] = [1 4 45 6 10 8]\n",
    "Output:\n",
    "1\n",
    "Explanation:\n",
    "The triplet {1, 4, 8} in \n",
    "the array sums up to 13.\n",
    "Example 2:\n",
    "\n",
    "Input:\n",
    "n = 5, X = 10\n",
    "arr[] = [1 2 4 3 6]\n",
    "Output:\n",
    "1\n",
    "Explanation:\n",
    "The triplet {1, 3, 6} in \n",
    "the array sums up to 10."
   ]
  },
  {
   "cell_type": "code",
   "execution_count": null,
   "metadata": {},
   "outputs": [],
   "source": [
    "def find3Numbers(arr, n, s):\n",
    "    # Your Code Here\n",
    "\n",
    "    c=0\n",
    "\n",
    "    for i in range(n):\n",
    "        d={}\n",
    "        for j in range(i+1,n):\n",
    "            x=s-(arr[i]+arr[j])\n",
    "\n",
    "            if x in d.keys():\n",
    "                c+=1\n",
    "            else:\n",
    "                d[arr[j]]=1\n",
    "    return c"
   ]
  },
  {
   "cell_type": "markdown",
   "metadata": {},
   "source": [
    "### Trapping Rain Water\n",
    "Given an array arr[] of N non-negative integers representing the height of blocks. If width of each block is 1, compute how much water can be trapped between the blocks during the rainy season. \n",
    " \n",
    "\n",
    "Example 1: <br>\n",
    "\n",
    "Input: <br>\n",
    "N = 6 <br>\n",
    "arr[] = {3,0,0,2,0,4} <br>\n",
    "Output: <br>\n",
    "10 <br>\n",
    "\n",
    "\n",
    "Example 2: <br>\n",
    "\n",
    "Input: <br>\n",
    "N = 4 <br>\n",
    "arr[] = {7,4,0,9} <br>\n",
    "Output: <br>\n",
    "10 <br>\n",
    "Explanation: <br> \n",
    "Water trapped by above  <br> \n",
    "block of height 4 is 3 units and above  <br>\n",
    "block of height 0 is 7 units. So, the <br>\n",
    "total unit of water trapped is 10 units. <br>\n",
    "\n",
    "\n",
    "Example 3: <br>\n",
    "\n",
    "Input: <br>\n",
    "N = 3 <br>\n",
    "arr[] = {6,9,9} <br>\n",
    "Output: <br>\n",
    "0 <br>\n",
    "Explanation: <br>\n",
    "No water will be trapped.\n",
    "<br>\n",
    "\n",
    "\n"
   ]
  },
  {
   "cell_type": "markdown",
   "metadata": {},
   "source": [
    "Input: arr[] = [0, 1, 0, 2, 1, 0, 1, 3, 2, 1, 2, 1] <br>\n",
    "Output: 6 <br> \n",
    "Trap \"1 unit\" between first 1 and 2, \"4 units\" between <br>\n",
    "first 2 and 3 and \"1 unit\" between second last 1 and last 2 <br>"
   ]
  },
  {
   "cell_type": "markdown",
   "metadata": {},
   "source": [
    "Algorithm: \n",
    "Traverse the array from start to end.\n",
    "For every element, traverse the array from start to that index and find the maximum height (a) and traverse the array from the current index to end, and find the maximum height (b).\n",
    "The amount of water that will be stored in this column is min(a,b) – array[i], add this value to the total amount of water stored\n",
    "Print the total amount of water stored."
   ]
  },
  {
   "cell_type": "code",
   "execution_count": 2,
   "metadata": {},
   "outputs": [],
   "source": [
    "def maxWater(arr, n) :\n",
    "     \n",
    "    # To store the maximum water\n",
    "    # that can be stored\n",
    "    res = 0;\n",
    "     \n",
    "    # For every element of the array\n",
    "    for i in range(1, n - 1) :\n",
    "         \n",
    "        # Find the maximum element on its left\n",
    "        left = arr[i];\n",
    "        for j in range(i) :\n",
    "            left = max(left, arr[j]);\n",
    "         \n",
    "        # Find the maximum element on its right\n",
    "        right = arr[i];\n",
    "         \n",
    "        for j in range(i + 1 , n) :\n",
    "            right = max(right, arr[j]);\n",
    "             \n",
    "        # Update the maximum water\n",
    "        res = res + (min(left, right) - arr[i]);\n",
    " \n",
    "    return res;"
   ]
  },
  {
   "cell_type": "markdown",
   "metadata": {},
   "source": [
    "Algorithm: \n",
    "Create two arrays left and right of size n. create a variable max_ = INT_MIN.\n",
    "Run one loop from start to end. In each iteration update max_ as max_ = max(max_, arr[i]) and also assign left[i] = max_\n",
    "Update max_ = INT_MIN.\n",
    "Run another loop from end to start. In each iteration update max_ as max_ = max(max_, arr[i]) and also assign right[i] = max_\n",
    "Traverse the array from start to end.\n",
    "The amount of water that will be stored in this column is min(a,b) – array[i],(where a = left[i] and b = right[i]) add this value to total amount of water stored\n",
    "Print the total amount of water stored."
   ]
  },
  {
   "cell_type": "code",
   "execution_count": 3,
   "metadata": {},
   "outputs": [],
   "source": [
    "def findWater(arr, n):\n",
    " \n",
    "    # left[i] contains height of tallest bar to the\n",
    "    # left of i'th bar including itself\n",
    "    left = [0]*n\n",
    " \n",
    "    # Right [i] contains height of tallest bar to\n",
    "    # the right of ith bar including itself\n",
    "    right = [0]*n\n",
    " \n",
    "    # Initialize result\n",
    "    water = 0\n",
    " \n",
    "    # Fill left array\n",
    "    left[0] = arr[0]\n",
    "    for i in range( 1, n):\n",
    "        left[i] = max(left[i-1], arr[i])\n",
    " \n",
    "    # Fill right array\n",
    "    right[n-1] = arr[n-1]\n",
    "    for i in range(n-2, -1, -1):\n",
    "        right[i] = max(right[i + 1], arr[i]);\n",
    " \n",
    "    # Calculate the accumulated water element by element\n",
    "    # consider the amount of water on i'th bar, the\n",
    "    # amount of water accumulated on this particular\n",
    "    # bar will be equal to min(left[i], right[i]) - arr[i] .\n",
    "    for i in range(0, n):\n",
    "        water += min(left[i], right[i]) - arr[i]\n",
    " \n",
    "    return water"
   ]
  },
  {
   "cell_type": "markdown",
   "metadata": {},
   "source": [
    "(Using Stack):\n",
    "\n",
    "We can use a Stack to track the bars that are bounded by the longer left and right bars. This can be done using only one iteration using Stacks.\n",
    "\n",
    "Approach:\n",
    "\n",
    "1. Loop through the indices of the bar array.\n",
    "\n",
    "2. For each bar, we can do the following:\n",
    "\n",
    "\n",
    "\n",
    "\n",
    "\n",
    "\n",
    "While the Stack is not empty and the current bar has a height greater than the top bar of the stack,\n",
    "Store the index of the top bar in pop_height and pop it from the Stack.\n",
    "Find the distance between the left bar(current top) of the popped bar and the current bar.\n",
    "Find the minimum height between the top bar and the current bar.\n",
    "The maximum water that can be trapped in distance * min_height.\n",
    "The water trapped including the popped bar is (distance * min_height) – height[pop_height].\n",
    "Add that to the fans.\n",
    "3. Final answer will the ans."
   ]
  },
  {
   "cell_type": "code",
   "execution_count": 4,
   "metadata": {},
   "outputs": [],
   "source": [
    "def maxWater(height):\n",
    "     \n",
    "    # Stores the indices of the bars\n",
    "    stack = []\n",
    "     \n",
    "    # size of the array\n",
    "    n = len(height)\n",
    "     \n",
    "    # Stores the final result\n",
    "    ans = 0\n",
    "     \n",
    "    # Loop through the each bar\n",
    "    for i in range(n):\n",
    "         \n",
    "        # Remove bars from the stack\n",
    "        # until the condition holds\n",
    "        while(len(stack) != 0 and (height[stack[-1]] < height[i]) ):\n",
    "             \n",
    "            # store the height of the top\n",
    "            # and pop it.\n",
    "            pop_height = height[stack[-1]]\n",
    "            stack.pop()\n",
    "             \n",
    "            # If the stack does not have any\n",
    "            # bars or the the popped bar\n",
    "            # has no left boundary\n",
    "            if(len(stack) == 0):\n",
    "                break\n",
    "             \n",
    "            # Get the distance between the\n",
    "            # left and right boundary of\n",
    "            # popped bar\n",
    "            distance = i - stack[-1] - 1\n",
    "             \n",
    "            # Calculate the min. height\n",
    "            min_height = min(height[stack[-1]],height[i])-pop_height\n",
    "             \n",
    "            ans += distance * min_height\n",
    "         \n",
    "        # If the stack is either empty or\n",
    "        # height of the current bar is less than\n",
    "        # or equal to the top bar of stack\n",
    "        stack.append(i)\n",
    "     \n",
    "    return ans"
   ]
  },
  {
   "cell_type": "markdown",
   "metadata": {},
   "source": [
    "(Two Pointer Approach)\n",
    "\n",
    "Approach: At every index, The amount of rainwater stored is the difference between current index height and a minimum of left max height and right max-height\n",
    "Algorithm :\n",
    "Take two pointers l and r. Initialize l to the starting index 0 and r to the last index n-1\n",
    "Since l is the first element, left_max would be 0, and right max for r would be 0\n",
    "While l <= r , iterate the array . We have two possible conditions\n",
    "Condition1 : left_max <= right max\n",
    "Consider Element at index l\n",
    "Since we have traversed all elements to the left of l, left_max is known \n",
    "For the right max of l, We can say that the right max would  always be >= current r_max here\n",
    "So, min(left_max,right_max) would always equal to left_max in this case\n",
    "Increment l\n",
    "Condition2 : left_max >  right max\n",
    "Consider Element at index r\n",
    "Since we have traversed all elements to the right of r, right_max is known\n",
    "For the left max of l, We can say that the left max would  always be >= current l_max here\n",
    "So, min(left_max,right_max) would always equal to right_max in this case\n",
    "Decrement r"
   ]
  },
  {
   "cell_type": "code",
   "execution_count": 5,
   "metadata": {},
   "outputs": [
    {
     "name": "stdout",
     "output_type": "stream",
     "text": [
      "7\n"
     ]
    }
   ],
   "source": [
    "def maxWater(arr, n):\n",
    "    # indices to traverse the array\n",
    "    left = 0\n",
    "    right = n-1\n",
    " \n",
    "    # To store Left max and right max\n",
    "    # for two pointers left and right\n",
    "    l_max = 0\n",
    "    r_max = 0\n",
    " \n",
    "    # To store the total amount\n",
    "    # of rain water trapped\n",
    "    result = 0\n",
    "    while (left <= right):\n",
    "         \n",
    "        # We need check for minimum of left\n",
    "        # and right max for each element\n",
    "        if r_max <= l_max:\n",
    "             \n",
    "            # Add the difference between\n",
    "            #current value and right max at index r\n",
    "            result += max(0, r_max-arr[right])\n",
    "             \n",
    "            # Update right max\n",
    "            r_max = max(r_max, arr[right])\n",
    "             \n",
    "            # Update right pointer\n",
    "            right -= 1\n",
    "        else:\n",
    "             \n",
    "            # Add the difference between\n",
    "            # current value and left max at index l\n",
    "            result += max(0, l_max-arr[left])\n",
    "             \n",
    "            # Update left max\n",
    "            l_max = max(l_max, arr[left])\n",
    "             \n",
    "            # Update left pointer\n",
    "            left += 1\n",
    "    return result\n",
    "\n",
    "print(maxWater([3,0,2,0,4], 5))"
   ]
  },
  {
   "cell_type": "markdown",
   "metadata": {},
   "source": [
    "### Chocolate Distribution Problem \n",
    "\n",
    "\n",
    "Given an array A[ ] of positive integers of size N, where each value represents the number of chocolates in a packet. Each packet can have a variable number of chocolates. There are M students, the task is to distribute chocolate packets among M students such that : <br>\n",
    "1. Each student gets exactly one packet. <br>\n",
    "2. The difference between maximum number of chocolates given to a student and minimum number of chocolates given to a student is minimum. <br>\n",
    "\n",
    "Example 1: <br>\n",
    "\n",
    "Input: <br>\n",
    "N = 8, M = 5\n",
    "A = {3, 4, 1, 9, 56, 7, 9, 12} <br>\n",
    "Output: 6 <br>\n",
    "Explanation: The minimum difference between \n",
    "maximum chocolates and minimum chocolates \n",
    "is 9 - 3 = 6 by choosing following M packets :<br>\n",
    "{3, 4, 9, 7, 9}.<br>\n",
    "Example 2:\n",
    "\n",
    "Input: <br>\n",
    "N = 7, M = 3 <br>\n",
    "A = {7, 3, 2, 4, 9, 12, 56} <br>\n",
    "Output: 2\n",
    "Explanation: The minimum difference between <br>\n",
    "maximum chocolates and minimum chocolates\n",
    "is 4 - 2 = 2 by choosing following M packets : <br>\n",
    "{3, 2, 4}."
   ]
  },
  {
   "cell_type": "code",
   "execution_count": null,
   "metadata": {},
   "outputs": [],
   "source": [
    "def findMinDiff(self, arr,N,M):\n",
    "\n",
    "    arr.sort()\n",
    "    ans=1000000\n",
    "    j=0\n",
    "    for i in range(M-1,N):\n",
    "        res=abs(arr[j]-arr[i])\n",
    "        j=j+1\n",
    "        ans=min(res,ans)\n",
    "    return ans"
   ]
  },
  {
   "cell_type": "markdown",
   "metadata": {},
   "source": [
    "### Smallest subarray with sum greater than x  (SAme concept of subarray with given sum)\n",
    "\n",
    "Given an array of integers (A[])  and a number x, find the smallest subarray with sum greater than the given value.\n",
    "\n",
    "Note: The answer always exists. It is guaranteed that x doesn't exceed the summation of a[i] (from 1 to N).\n",
    "\n",
    "Example 1:\n",
    "\n",
    "Input:\n",
    "A[] = {1, 4, 45, 6, 0, 19}\n",
    "x  =  51\n",
    "Output: 3\n",
    "Explanation:\n",
    "Minimum length subarray is \n",
    "{4, 45, 6}\n",
    "\n",
    "Example 2:\n",
    "Input:\n",
    "A[] = {1, 10, 5, 2, 7}\n",
    "   x  = 9\n",
    "Output: 1\n",
    "Explanation:\n",
    "Minimum length subarray is {10}"
   ]
  },
  {
   "cell_type": "code",
   "execution_count": null,
   "metadata": {},
   "outputs": [],
   "source": [
    "def sb(self, arr, n, x):\n",
    "    # Your code goes here\n",
    "    c=n+1\n",
    "    for i in range(0,n):\n",
    "        s=arr[i]\n",
    "        if s>x:\n",
    "            return 1\n",
    "        for j in range(i+1,n):\n",
    "            s=s+arr[j]\n",
    "            if s>x and j-i+1<c:\n",
    "                c=j-i+1\n",
    "    return c"
   ]
  },
  {
   "cell_type": "code",
   "execution_count": null,
   "metadata": {},
   "outputs": [],
   "source": [
    "def smallestSubWithSum(arr, n, x):\n",
    " \n",
    "    # Initialize current sum and minimum length\n",
    "    curr_sum = 0\n",
    "    min_len = n + 1\n",
    " \n",
    "    # Initialize starting and ending indexes\n",
    "    start = 0\n",
    "    end = 0\n",
    "    while (end < n):\n",
    " \n",
    "        # Keep adding array elements while current\n",
    "        # sum is smaller than or equal to x\n",
    "        while (curr_sum <= x and end < n):\n",
    "            curr_sum += arr[end]\n",
    "            end += 1\n",
    " \n",
    "        # If current sum becomes greater than x.\n",
    "        while (curr_sum > x and start < n):\n",
    " \n",
    "            # Update minimum length if needed\n",
    "            if (end - start < min_len):\n",
    "                min_len = end - start\n",
    " \n",
    "            # remove starting elements\n",
    "            curr_sum -= arr[start]\n",
    "            start += 1\n",
    " \n",
    "    return min_len\n",
    " "
   ]
  },
  {
   "cell_type": "markdown",
   "metadata": {},
   "source": [
    "### Three way partitioning \n",
    "\n",
    "Given an array of size n and a range [a, b]. The task is to partition the array around the range such that array is divided into three parts.\n",
    "1) All elements smaller than a come first.\n",
    "2) All elements in range a to b come next.\n",
    "3) All elements greater than b appear in the end.\n",
    "The individual elements of three sets can appear in any order. You are required to return the modified array.\n",
    "\n",
    "\n",
    "Example 1:\n",
    "\n",
    "Input: \n",
    "n = 5\n",
    "A[] = {1, 2, 3, 3, 4}\n",
    "[a, b] = [1, 2]\n",
    "Output: 1\n",
    "Explanation: One possible arrangement is:\n",
    "{1, 2, 3, 3, 4}. If you return a valid\n",
    "arrangement, output will be 1.\n",
    "\n",
    "\n",
    "Example 2:\n",
    "\n",
    "Input: \n",
    "n = 3 \n",
    "A[] = {1, 2, 3}\n",
    "[a, b] = [1, 3]\n",
    "Output: 1\n",
    "Explanation: One possible arrangement \n",
    "is: {1, 2, 3}. If you return a valid\n",
    "arrangement, output will be 1.\n"
   ]
  },
  {
   "cell_type": "code",
   "execution_count": null,
   "metadata": {},
   "outputs": [],
   "source": [
    "def threeWayPartition( arr, a,b):\n",
    "    arr.sort()"
   ]
  },
  {
   "cell_type": "markdown",
   "metadata": {},
   "source": [
    "### DUTCH NATIONAL FLAG"
   ]
  },
  {
   "cell_type": "code",
   "execution_count": null,
   "metadata": {},
   "outputs": [],
   "source": [
    "def threeWayPartition(self, arr, lowVal, highVal):\n",
    "    # code here \n",
    "    n=len(arr)\n",
    "    start = 0\n",
    "    end = n - 1\n",
    "    i = 0\n",
    "\n",
    "\n",
    "    while i <= end:\n",
    "\n",
    "    # If current element is smaller than\n",
    "    # range, put it on next available smaller\n",
    "    # position.\n",
    "        if arr[i] < lowVal:\n",
    "            arr[i],arr[start]=arr[start],arr[i]\n",
    "            i += 1\n",
    "            start += 1\n",
    "\n",
    "    # If current element is greater than\n",
    "    # range, put it on next available greater\n",
    "    # position.\n",
    "        elif arr[i] > highVal:\n",
    "            arr[i],arr[end]=arr[end],arr[i]\n",
    "            end -= 1\n",
    "\n",
    "        else:\n",
    "            i += 1"
   ]
  },
  {
   "cell_type": "markdown",
   "metadata": {},
   "source": [
    "### Minimum swaps and K together \n",
    "\n",
    "\n",
    "\n",
    "Given an array of n positive integers and a number k. Find the minimum number of swaps required to bring all the numbers less than or equal to k together.\n",
    "\n",
    "Example 1: <br>\n",
    "\n",
    "â€‹Input : arr[ ] = {2, 1, 5, 6, 3} and K = 3 <br>\n",
    "Output : 1 <br>\n",
    "Explanation: <br>\n",
    "To bring elements 2, 1, 3 together, swap element '5' with '3' <br>\n",
    "such that final array will be- arr[] = {2, 1, 3, 6, 5} <br>\n",
    "\n",
    "â€‹Example 2: <br>\n",
    "\n",
    "Input : arr[ ] = {2, 7, 9, 5, 8, 7, 4} and K = 6  <br>\n",
    "Output :  2 <br>"
   ]
  },
  {
   "cell_type": "code",
   "execution_count": null,
   "metadata": {},
   "outputs": [],
   "source": []
  },
  {
   "cell_type": "code",
   "execution_count": null,
   "metadata": {},
   "outputs": [],
   "source": []
  },
  {
   "cell_type": "code",
   "execution_count": null,
   "metadata": {},
   "outputs": [],
   "source": []
  },
  {
   "cell_type": "code",
   "execution_count": null,
   "metadata": {},
   "outputs": [],
   "source": []
  },
  {
   "cell_type": "code",
   "execution_count": null,
   "metadata": {},
   "outputs": [],
   "source": []
  },
  {
   "cell_type": "code",
   "execution_count": null,
   "metadata": {},
   "outputs": [],
   "source": []
  },
  {
   "cell_type": "code",
   "execution_count": null,
   "metadata": {},
   "outputs": [],
   "source": []
  },
  {
   "cell_type": "code",
   "execution_count": null,
   "metadata": {},
   "outputs": [],
   "source": []
  },
  {
   "cell_type": "code",
   "execution_count": null,
   "metadata": {},
   "outputs": [],
   "source": []
  },
  {
   "cell_type": "code",
   "execution_count": null,
   "metadata": {},
   "outputs": [],
   "source": []
  },
  {
   "cell_type": "code",
   "execution_count": null,
   "metadata": {},
   "outputs": [],
   "source": []
  },
  {
   "cell_type": "code",
   "execution_count": null,
   "metadata": {},
   "outputs": [],
   "source": []
  },
  {
   "cell_type": "code",
   "execution_count": null,
   "metadata": {},
   "outputs": [],
   "source": []
  },
  {
   "cell_type": "code",
   "execution_count": null,
   "metadata": {},
   "outputs": [],
   "source": []
  },
  {
   "cell_type": "code",
   "execution_count": null,
   "metadata": {},
   "outputs": [],
   "source": []
  },
  {
   "cell_type": "code",
   "execution_count": null,
   "metadata": {},
   "outputs": [],
   "source": []
  },
  {
   "cell_type": "code",
   "execution_count": null,
   "metadata": {},
   "outputs": [],
   "source": []
  },
  {
   "cell_type": "code",
   "execution_count": null,
   "metadata": {},
   "outputs": [],
   "source": []
  },
  {
   "cell_type": "code",
   "execution_count": null,
   "metadata": {},
   "outputs": [],
   "source": []
  },
  {
   "cell_type": "code",
   "execution_count": null,
   "metadata": {},
   "outputs": [],
   "source": []
  },
  {
   "cell_type": "code",
   "execution_count": null,
   "metadata": {},
   "outputs": [],
   "source": []
  },
  {
   "cell_type": "code",
   "execution_count": null,
   "metadata": {},
   "outputs": [],
   "source": []
  },
  {
   "cell_type": "code",
   "execution_count": null,
   "metadata": {},
   "outputs": [],
   "source": []
  },
  {
   "cell_type": "code",
   "execution_count": null,
   "metadata": {},
   "outputs": [],
   "source": []
  },
  {
   "cell_type": "code",
   "execution_count": null,
   "metadata": {},
   "outputs": [],
   "source": []
  },
  {
   "cell_type": "code",
   "execution_count": null,
   "metadata": {},
   "outputs": [],
   "source": []
  },
  {
   "cell_type": "code",
   "execution_count": null,
   "metadata": {},
   "outputs": [],
   "source": []
  },
  {
   "cell_type": "code",
   "execution_count": null,
   "metadata": {},
   "outputs": [],
   "source": []
  },
  {
   "cell_type": "code",
   "execution_count": null,
   "metadata": {},
   "outputs": [],
   "source": []
  },
  {
   "cell_type": "code",
   "execution_count": null,
   "metadata": {},
   "outputs": [],
   "source": []
  },
  {
   "cell_type": "code",
   "execution_count": null,
   "metadata": {},
   "outputs": [],
   "source": []
  },
  {
   "cell_type": "code",
   "execution_count": null,
   "metadata": {},
   "outputs": [],
   "source": []
  },
  {
   "cell_type": "code",
   "execution_count": null,
   "metadata": {},
   "outputs": [],
   "source": []
  },
  {
   "cell_type": "code",
   "execution_count": null,
   "metadata": {},
   "outputs": [],
   "source": []
  },
  {
   "cell_type": "code",
   "execution_count": null,
   "metadata": {},
   "outputs": [],
   "source": []
  },
  {
   "cell_type": "code",
   "execution_count": null,
   "metadata": {},
   "outputs": [],
   "source": []
  },
  {
   "cell_type": "code",
   "execution_count": null,
   "metadata": {},
   "outputs": [],
   "source": []
  },
  {
   "cell_type": "code",
   "execution_count": null,
   "metadata": {},
   "outputs": [],
   "source": []
  },
  {
   "cell_type": "code",
   "execution_count": null,
   "metadata": {},
   "outputs": [],
   "source": []
  },
  {
   "cell_type": "code",
   "execution_count": null,
   "metadata": {},
   "outputs": [],
   "source": []
  },
  {
   "cell_type": "code",
   "execution_count": null,
   "metadata": {},
   "outputs": [],
   "source": []
  },
  {
   "cell_type": "code",
   "execution_count": null,
   "metadata": {},
   "outputs": [],
   "source": []
  },
  {
   "cell_type": "code",
   "execution_count": null,
   "metadata": {},
   "outputs": [],
   "source": []
  },
  {
   "cell_type": "code",
   "execution_count": null,
   "metadata": {},
   "outputs": [],
   "source": []
  },
  {
   "cell_type": "code",
   "execution_count": null,
   "metadata": {},
   "outputs": [],
   "source": []
  },
  {
   "cell_type": "code",
   "execution_count": null,
   "metadata": {},
   "outputs": [],
   "source": []
  },
  {
   "cell_type": "code",
   "execution_count": null,
   "metadata": {},
   "outputs": [],
   "source": []
  },
  {
   "cell_type": "code",
   "execution_count": null,
   "metadata": {},
   "outputs": [],
   "source": []
  },
  {
   "cell_type": "code",
   "execution_count": null,
   "metadata": {},
   "outputs": [],
   "source": []
  },
  {
   "cell_type": "code",
   "execution_count": null,
   "metadata": {},
   "outputs": [],
   "source": []
  },
  {
   "cell_type": "code",
   "execution_count": null,
   "metadata": {},
   "outputs": [],
   "source": []
  },
  {
   "cell_type": "code",
   "execution_count": null,
   "metadata": {},
   "outputs": [],
   "source": []
  },
  {
   "cell_type": "code",
   "execution_count": null,
   "metadata": {},
   "outputs": [],
   "source": []
  },
  {
   "cell_type": "code",
   "execution_count": null,
   "metadata": {},
   "outputs": [],
   "source": []
  },
  {
   "cell_type": "code",
   "execution_count": null,
   "metadata": {},
   "outputs": [],
   "source": []
  },
  {
   "cell_type": "code",
   "execution_count": null,
   "metadata": {},
   "outputs": [],
   "source": []
  },
  {
   "cell_type": "code",
   "execution_count": null,
   "metadata": {},
   "outputs": [],
   "source": []
  },
  {
   "cell_type": "code",
   "execution_count": null,
   "metadata": {},
   "outputs": [],
   "source": []
  }
 ],
 "metadata": {
  "kernelspec": {
   "display_name": "Python 3",
   "language": "python",
   "name": "python3"
  },
  "language_info": {
   "codemirror_mode": {
    "name": "ipython",
    "version": 3
   },
   "file_extension": ".py",
   "mimetype": "text/x-python",
   "name": "python",
   "nbconvert_exporter": "python",
   "pygments_lexer": "ipython3",
   "version": "3.8.5"
  }
 },
 "nbformat": 4,
 "nbformat_minor": 4
}
