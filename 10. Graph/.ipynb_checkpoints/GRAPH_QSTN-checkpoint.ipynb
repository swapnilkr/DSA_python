{
 "cells": [
  {
   "cell_type": "markdown",
   "metadata": {},
   "source": [
    "### Has Path\n",
    "\n",
    "V1 AND V2 HAAVE PATH IF 1. v1 and v2 are adj , 2. if adj vertices of v1 have path to v2¶"
   ]
  },
  {
   "cell_type": "code",
   "execution_count": null,
   "metadata": {},
   "outputs": [],
   "source": [
    "global adjMatrix[][]\n",
    "global nVertices\n",
    "\n",
    "def __haspathhelper(v1,v2,visited):\n",
    "    if adjMatrix[v1][v2]>0:\n",
    "        return True\n",
    "    visited[v1]=True\n",
    "\n",
    "    for i in range(self.nVertices):\n",
    "        if adjMatrix[v1][i] > 0  and visited[i] is False:\n",
    "            if __haspathhelper(i, v2, visited):\n",
    "                return True       \n",
    "    return False\n",
    "\n",
    "\n",
    "def hasPath(v1,v2):\n",
    "    visited=[False for i in range(nVertices)]\n",
    "    return __haspathhelper(v1,v2,visited)"
   ]
  },
  {
   "cell_type": "markdown",
   "metadata": {},
   "source": [
    "## GET PATH"
   ]
  },
  {
   "cell_type": "markdown",
   "metadata": {},
   "source": [
    "## DFS"
   ]
  },
  {
   "cell_type": "code",
   "execution_count": null,
   "metadata": {},
   "outputs": [],
   "source": [
    "def __getpathhelper(self,v1,v2,visited,li):\n",
    "    if v1==v2:\n",
    "        li.append(v1)\n",
    "        return li\n",
    "    visited[v1]=True\n",
    "\n",
    "    for i in range(self.nVertices):\n",
    "        if self.adjMatrix[v1][i] > 0  and visited[i] is False:\n",
    "                li= self.__getpathhelper(i, v2, visited,li)\n",
    "                if li!=None\n",
    "                    li.append(v1)\n",
    "                    return li\n",
    "    return None\n",
    "\n",
    "\n",
    "def getPath(self,v1,v2):\n",
    "    visited=[False for i in range(self.nVertices)]\n",
    "    return self.__getpathhelper(v1,v2,visited,[])"
   ]
  },
  {
   "cell_type": "markdown",
   "metadata": {},
   "source": [
    "## BFS"
   ]
  },
  {
   "cell_type": "code",
   "execution_count": null,
   "metadata": {},
   "outputs": [],
   "source": [
    "def __getpathbfs(self,sv,ev,visited):\n",
    "    dict={}\n",
    "    q=queue.Queue()\n",
    "    if self.adjMatrix[sv][ev]==1 and sv==ev:\n",
    "        ans=[]\n",
    "        ans.append(sv)\n",
    "        return ans\n",
    "    q.put(sv)\n",
    "    visited[sv]=True\n",
    "    while q.empty() is False:\n",
    "        front=q.get()\n",
    "        for i in range(self.nVertices):\n",
    "            if self.adjMatrix[sv][i]==1 and visited[i] is False:\n",
    "                dict[i]=front\n",
    "                q.put(i)\n",
    "                visited[i]=True\n",
    "\n",
    "                if i==ev:\n",
    "                    ans=[]\n",
    "                    ans.append(ev)\n",
    "                    value=dict[ev]\n",
    "                    while value!=sv:\n",
    "                        ans.append(value)\n",
    "                        value=dict[value]\n",
    "                    ans.append(value)\n",
    "                    return ans\n",
    "    return []\n",
    "\n",
    "def getpathbfs(self,v1,v2):\n",
    "    visited=[False for i in range(self.nVertices)]\n",
    "    return self.__getpathbfs(v1,v2,visited)"
   ]
  },
  {
   "cell_type": "markdown",
   "metadata": {},
   "source": [
    "### IS connected ??\n",
    "##### use DFS"
   ]
  },
  {
   "cell_type": "code",
   "execution_count": null,
   "metadata": {},
   "outputs": [],
   "source": [
    "def isConnected(self):\n",
    "    visited=[False for i in range (self.nVertices)]\n",
    "    self.dfs(0,visited)\n",
    "\n",
    "    for ele in visited:\n",
    "        if not ele:\n",
    "            return False\n",
    "    return True\n",
    "\n",
    "def dfs(self,sv,visited): ##start vertex\n",
    "\n",
    "    visited[sv]=True\n",
    "    for i in range(self. nVertices):\n",
    "        if self.adjMatrix[sv][i]>0 and visited[i] is False:\n",
    "            self.dfs(i,visited)\n",
    "            visited[i]=True"
   ]
  },
  {
   "cell_type": "markdown",
   "metadata": {},
   "source": [
    "### All Connected Components"
   ]
  },
  {
   "cell_type": "code",
   "execution_count": null,
   "metadata": {},
   "outputs": [],
   "source": [
    "def connected(self):\n",
    "    visited=[False for i in range(self.nVertices)]\n",
    "    li=[]\n",
    "    final=[]\n",
    "    for i in range(self.nVertices):\n",
    "        if visited[i] is False:\n",
    "            li=self.__connectedhlper(i,visited,[])\n",
    "            final.append(li)\n",
    "\n",
    "    return final\n",
    "\n",
    "def __connectedhlper(self,sv,visited,li): ##start vertex\n",
    "\n",
    "    li.append(sv)\n",
    "    visited[sv]=True\n",
    "    for i in range(self. nVertices):\n",
    "        if self.adjMatrix[sv][i]>0 and visited[i] is False:\n",
    "            self.__connectedhlper(i,visited,li)\n",
    "    return li\n",
    "\n"
   ]
  },
  {
   "cell_type": "code",
   "execution_count": null,
   "metadata": {},
   "outputs": [],
   "source": []
  },
  {
   "cell_type": "code",
   "execution_count": null,
   "metadata": {},
   "outputs": [],
   "source": []
  },
  {
   "cell_type": "code",
   "execution_count": null,
   "metadata": {},
   "outputs": [],
   "source": []
  },
  {
   "cell_type": "code",
   "execution_count": null,
   "metadata": {},
   "outputs": [],
   "source": []
  },
  {
   "cell_type": "code",
   "execution_count": null,
   "metadata": {},
   "outputs": [],
   "source": []
  },
  {
   "cell_type": "code",
   "execution_count": null,
   "metadata": {},
   "outputs": [],
   "source": []
  },
  {
   "cell_type": "code",
   "execution_count": null,
   "metadata": {},
   "outputs": [],
   "source": []
  },
  {
   "cell_type": "code",
   "execution_count": null,
   "metadata": {},
   "outputs": [],
   "source": []
  },
  {
   "cell_type": "code",
   "execution_count": null,
   "metadata": {},
   "outputs": [],
   "source": []
  },
  {
   "cell_type": "code",
   "execution_count": null,
   "metadata": {},
   "outputs": [],
   "source": []
  },
  {
   "cell_type": "code",
   "execution_count": null,
   "metadata": {},
   "outputs": [],
   "source": []
  },
  {
   "cell_type": "code",
   "execution_count": null,
   "metadata": {},
   "outputs": [],
   "source": []
  },
  {
   "cell_type": "code",
   "execution_count": null,
   "metadata": {},
   "outputs": [],
   "source": []
  },
  {
   "cell_type": "code",
   "execution_count": null,
   "metadata": {},
   "outputs": [],
   "source": []
  },
  {
   "cell_type": "code",
   "execution_count": null,
   "metadata": {},
   "outputs": [],
   "source": []
  },
  {
   "cell_type": "code",
   "execution_count": null,
   "metadata": {},
   "outputs": [],
   "source": []
  },
  {
   "cell_type": "code",
   "execution_count": null,
   "metadata": {},
   "outputs": [],
   "source": []
  },
  {
   "cell_type": "code",
   "execution_count": null,
   "metadata": {},
   "outputs": [],
   "source": []
  },
  {
   "cell_type": "code",
   "execution_count": null,
   "metadata": {},
   "outputs": [],
   "source": []
  },
  {
   "cell_type": "code",
   "execution_count": null,
   "metadata": {},
   "outputs": [],
   "source": []
  },
  {
   "cell_type": "code",
   "execution_count": null,
   "metadata": {},
   "outputs": [],
   "source": []
  },
  {
   "cell_type": "code",
   "execution_count": null,
   "metadata": {},
   "outputs": [],
   "source": []
  },
  {
   "cell_type": "code",
   "execution_count": null,
   "metadata": {},
   "outputs": [],
   "source": []
  },
  {
   "cell_type": "code",
   "execution_count": null,
   "metadata": {},
   "outputs": [],
   "source": []
  },
  {
   "cell_type": "code",
   "execution_count": null,
   "metadata": {},
   "outputs": [],
   "source": []
  },
  {
   "cell_type": "code",
   "execution_count": null,
   "metadata": {},
   "outputs": [],
   "source": []
  },
  {
   "cell_type": "code",
   "execution_count": null,
   "metadata": {},
   "outputs": [],
   "source": []
  }
 ],
 "metadata": {
  "kernelspec": {
   "display_name": "Python 3",
   "language": "python",
   "name": "python3"
  },
  "language_info": {
   "codemirror_mode": {
    "name": "ipython",
    "version": 3
   },
   "file_extension": ".py",
   "mimetype": "text/x-python",
   "name": "python",
   "nbconvert_exporter": "python",
   "pygments_lexer": "ipython3",
   "version": "3.8.5"
  }
 },
 "nbformat": 4,
 "nbformat_minor": 4
}
