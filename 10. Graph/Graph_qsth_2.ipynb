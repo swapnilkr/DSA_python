{
 "cells": [
  {
   "cell_type": "markdown",
   "metadata": {},
   "source": [
    "# Find whether it is possible to finish all tasks or not from given dependencies\n",
    "\n",
    "### Amazon, google, topo sort VVVIII\n",
    "There are a total of n tasks you have to pick, labelled from 0 to n-1. Some tasks may have prerequisites, for example to pick task 0 you have to first pick task 1, which is expressed as a pair: [0, 1]\n",
    "Given the total number of tasks and a list of prerequisite pairs, is it possible for you to finish all tasks?\n",
    "Examples:\n",
    " \n",
    "\n",
    "Input: 2, [[1, 0]] \n",
    "Output: true \n",
    "Explanation: There are a total of 2 tasks to pick. To pick task 1 you should have finished task 0. So it is possible.\n",
    "Input: 2, [[1, 0], [0, 1]] \n",
    "Output: false \n",
    "Explanation: There are a total of 2 tasks to pick. To pick task 1 you should have finished task 0, and to pick task 0 you should also have finished task 1. So it is impossible.\n",
    "Input: 3, [[1, 0], [2, 1], [3, 2]] \n",
    "Output: true \n",
    "Explanation: There are a total of 3 tasks to pick. To pick tasks 1 you should have finished task 0, and to pick task 2 you should have finished task 1 and to pick task 3 you should have finished task 2. So it is possible.\n",
    "\n",
    "Asked In: Google, Twitter, Amazon and many more companies."
   ]
  },
  {
   "cell_type": "markdown",
   "metadata": {},
   "source": [
    "### Find the number of islands \n",
    "### Counting the number of connected components in an undirected graph\n",
    "### easy just new conecpt\n",
    "\n",
    "Given a grid consisting of '0's(Water) and '1's(Land). Find the number of islands.\n",
    "Note: An island is surrounded by water and is formed by connecting adjacent lands horizontally or vertically or diagonally i.e., in all 8 directions.\n",
    " \n",
    "\n",
    "Example 1:\n",
    "\n",
    "Input:\n",
    "grid = {{0,1},{1,0},{1,1},{1,0}}\n",
    "Output:\n",
    "1\n",
    "Explanation:\n",
    "The grid is-\n",
    "0 1\n",
    "1 0\n",
    "1 1\n",
    "1 0\n",
    "All lands are connected.\n",
    "Example 2:\n",
    "\n",
    "Input:\n",
    "grid = {{0,1,1,1,0,0,0},{0,0,1,1,0,1,0}}\n",
    "Output:\n",
    "2\n",
    "Expanation:\n",
    "The grid is-\n",
    "0 1 1 1 0 0 0\n",
    "0 0 1 1 0 1 0 \n",
    "There are two islands one is colored in blue \n",
    "and other in orange."
   ]
  },
  {
   "cell_type": "code",
   "execution_count": null,
   "metadata": {},
   "outputs": [],
   "source": [
    "class Graph:\n",
    " \n",
    "    def __init__(self, row, col, graph):\n",
    "        self.ROW = row\n",
    "        self.COL = col\n",
    "        self.graph = graph\n",
    " \n",
    "    # A utility function to do DFS for a 2D\n",
    "    # boolean matrix. It only considers\n",
    "    # the 8 neighbours as adjacent vertices\n",
    "    def DFS(self, i, j):\n",
    "        if i < 0 or i >= len(self.graph) or j < 0 or j >= len(self.graph[0]) or self.graph[i][j] != 1:\n",
    "            return\n",
    " \n",
    "        # mark it as visited\n",
    "        self.graph[i][j] = -1\n",
    " \n",
    "        # Recur for 8 neighbours\n",
    "        self.DFS(i - 1, j - 1)\n",
    "        self.DFS(i - 1, j)\n",
    "        self.DFS(i - 1, j + 1)\n",
    "        self.DFS(i, j - 1)\n",
    "        self.DFS(i, j + 1)\n",
    "        self.DFS(i + 1, j - 1)\n",
    "        self.DFS(i + 1, j)\n",
    "        self.DFS(i + 1, j + 1)\n",
    " \n",
    "    # The main function that returns\n",
    "    # count of islands in a given boolean\n",
    "    # 2D matrix\n",
    "    def countIslands(self):\n",
    "        # Initialize count as 0 and traverse\n",
    "        # through the all cells of\n",
    "        # given matrix\n",
    "        count = 0\n",
    "        for i in range(self.ROW):\n",
    "            for j in range(self.COL):\n",
    "                # If a cell with value 1 is not visited yet,\n",
    "                # then new island found\n",
    "                if self.graph[i][j] == 1:\n",
    "                    # Visit all cells in this island\n",
    "                    # and increment island count\n",
    "                    self.DFS(i, j)\n",
    "                    count += 1\n",
    " \n",
    "        return count\n",
    " "
   ]
  },
  {
   "cell_type": "markdown",
   "metadata": {},
   "source": [
    "### Total number of Spanning Trees in a Graph\n",
    "\n",
    "If a graph is a complete graph with n vertices, then total number of spanning trees is n(n-2) where n is the number of nodes in the graph. In complete graph, the task is equal to counting different labeled trees with n nodes for which have Cayley’s formula.\n",
    "\n",
    "What if graph is not complete?\n",
    "Follow the given procedure :-\n",
    "STEP 1: Create Adjacency Matrix for the given graph.\n",
    "STEP 2: Replace all the diagonal elements with the degree of nodes. For eg. element at (1,1) position of adjacency matrix will be replaced by the degree of node 1, element at (2,2) position of adjacency matrix will be replaced by the degree of node 2, and so on.\n",
    "STEP 3: Replace all non-diagonal 1’s with -1.\n",
    "STEP 4: Calculate co-factor for any element.\n",
    "STEP 5: The cofactor that you get is the total number of spanning tree for that graph."
   ]
  },
  {
   "cell_type": "markdown",
   "metadata": {},
   "source": [
    "### Snakes and Ladders\n",
    "\n",
    "You are given an n x n integer matrix board where the cells are labeled from 1 to n2 in a Boustrophedon style starting from the bottom left of the board (i.e. board[n - 1][0]) and alternating direction each row.\n",
    "\n",
    "You start on square 1 of the board. In each move, starting from square curr, do the following:\n",
    "\n",
    "Choose a destination square next with a label in the range [curr + 1, min(curr + 6, n2)].\n",
    "This choice simulates the result of a standard 6-sided die roll: i.e., there are always at most 6 destinations, regardless of the size of the board.\n",
    "If next has a snake or ladder, you must move to the destination of that snake or ladder. Otherwise, you move to next.\n",
    "The game ends when you reach the square n2.\n",
    "A board square on row r and column c has a snake or ladder if board[r][c] != -1. The destination of that snake or ladder is board[r][c]. Squares 1 and n2 do not have a snake or ladder.\n",
    "\n",
    "Note that you only take a snake or ladder at most once per move. If the destination to a snake or ladder is the start of another snake or ladder, you do not follow the subsequent snake or ladder.\n",
    "\n",
    "For example, suppose the board is [[-1,4],[-1,3]], and on the first move, your destination square is 2. You follow the ladder to square 3, but do not follow the subsequent ladder to 4.\n",
    "Return the least number of moves required to reach the square n2. If it is not possible to reach the square, return -1.\n",
    "\n",
    " \n",
    "\n",
    "Example 1:\n",
    "\n",
    "\n",
    "Input: board = [[-1,-1,-1,-1,-1,-1],[-1,-1,-1,-1,-1,-1],[-1,-1,-1,-1,-1,-1],[-1,35,-1,-1,13,-1],[-1,-1,-1,-1,-1,-1],[-1,15,-1,-1,-1,-1]]\n",
    "Output: 4\n",
    "Explanation: \n",
    "In the beginning, you start at square 1 (at row 5, column 0).\n",
    "You decide to move to square 2 and must take the ladder to square 15.\n",
    "You then decide to move to square 17 and must take the snake to square 13.\n",
    "You then decide to move to square 14 and must take the ladder to square 35.\n",
    "You then decide to move to square 36, ending the game.\n",
    "This is the lowest possible number of moves to reach the last square, so return 4.\n",
    "Example 2:\n",
    "\n",
    "Input: board = [[-1,-1],[-1,3]]\n",
    "Output: 1"
   ]
  },
  {
   "cell_type": "code",
   "execution_count": null,
   "metadata": {},
   "outputs": [],
   "source": [
    "class Solution:\n",
    "    def snakesAndLadders(self, board: List[List[int]]) -> int:\n",
    "        n = len(board)\n",
    "        def label_to_position(label):\n",
    "            r, c = divmod(label-1, n)\n",
    "            if r % 2 == 0:\n",
    "                return n-1-r, c\n",
    "            else:\n",
    "                return n-1-r, n-1-c\n",
    "            \n",
    "        seen = set()\n",
    "        queue = collections.deque()\n",
    "        queue.append((1, 0))\n",
    "        while queue:\n",
    "            label, step = queue.popleft()\n",
    "            r, c = label_to_position(label)\n",
    "            if board[r][c] != -1:\n",
    "                label = board[r][c]\n",
    "            if label == n*n:\n",
    "                return step\n",
    "            for x in range(1, 7):\n",
    "                new_label = label + x\n",
    "                if new_label <= n*n and new_label not in seen:\n",
    "                    seen.add(new_label)\n",
    "                    queue.append((new_label, step+1))\n",
    "        return -1\n",
    "        "
   ]
  },
  {
   "cell_type": "markdown",
   "metadata": {},
   "source": [
    "## Bridges in a graph\n",
    "\n",
    "\n",
    "An edge in an undirected connected graph is a bridge iff removing it disconnects the graph. For a disconnected undirected graph, definition is similar, a bridge is an edge removing which increases number of disconnected components. \n",
    "Like Articulation Points, bridges represent vulnerabilities in a connected network and are useful for designing reliable networks. For example, in a wired computer network, an articulation point indicates the critical computers and a bridge indicates the critical wires or connections.\n",
    "Following are some example graphs with bridges highlighted with red color.\n",
    " \n",
    "\n",
    "Bridge1Bridge2Bridge3\n",
    "\n",
    "How to find all bridges in a given graph? \n",
    "A simple approach is to one by one remove all edges and see if removal of an edge causes disconnected graph. Following are steps of simple approach for connected graph.\n",
    "1) For every edge (u, v), do following \n",
    "…..a) Remove (u, v) from graph \n",
    "..…b) See if the graph remains connected (We can either use BFS or DFS) \n",
    "…..c) Add (u, v) back to the graph."
   ]
  },
  {
   "cell_type": "code",
   "execution_count": null,
   "metadata": {},
   "outputs": [],
   "source": [
    "from collections import defaultdict\n",
    "  \n",
    "#This class represents an undirected graph using adjacency list representation\n",
    "class Graph:\n",
    "  \n",
    "    def __init__(self,vertices):\n",
    "        self.V= vertices #No. of vertices\n",
    "        self.graph = defaultdict(list) # default dictionary to store graph\n",
    "        self.Time = 0\n",
    "  \n",
    "    # function to add an edge to graph\n",
    "    def addEdge(self,u,v):\n",
    "        self.graph[u].append(v)\n",
    "        self.graph[v].append(u)\n",
    "  \n",
    "    '''A recursive function that finds and prints bridges\n",
    "    using DFS traversal\n",
    "    u --> The vertex to be visited next\n",
    "    visited[] --> keeps tract of visited vertices\n",
    "    disc[] --> Stores discovery times of visited vertices\n",
    "    parent[] --> Stores parent vertices in DFS tree'''\n",
    "    def bridgeUtil(self,u, visited, parent, low, disc):\n",
    " \n",
    "        # Mark the current node as visited and print it\n",
    "        visited[u]= True\n",
    " \n",
    "        # Initialize discovery time and low value\n",
    "        disc[u] = self.Time\n",
    "        low[u] = self.Time\n",
    "        self.Time += 1\n",
    " \n",
    "        #Recur for all the vertices adjacent to this vertex\n",
    "        for v in self.graph[u]:\n",
    "            # If v is not visited yet, then make it a child of u\n",
    "            # in DFS tree and recur for it\n",
    "            if visited[v] == False :\n",
    "                parent[v] = u\n",
    "                self.bridgeUtil(v, visited, parent, low, disc)\n",
    " \n",
    "                # Check if the subtree rooted with v has a connection to\n",
    "                # one of the ancestors of u\n",
    "                low[u] = min(low[u], low[v])\n",
    " \n",
    " \n",
    "                ''' If the lowest vertex reachable from subtree\n",
    "                under v is below u in DFS tree, then u-v is\n",
    "                a bridge'''\n",
    "                if low[v] > disc[u]:\n",
    "                    print (\"%d %d\" %(u,v))\n",
    "     \n",
    "                     \n",
    "            elif v != parent[u]: # Update low value of u for parent function calls.\n",
    "                low[u] = min(low[u], disc[v])\n",
    " \n",
    " \n",
    "    # DFS based function to find all bridges. It uses recursive\n",
    "    # function bridgeUtil()\n",
    "    def bridge(self):\n",
    "  \n",
    "        # Mark all the vertices as not visited and Initialize parent and visited,\n",
    "        # and ap(articulation point) arrays\n",
    "        visited = [False] * (self.V)\n",
    "        disc = [float(\"Inf\")] * (self.V)\n",
    "        low = [float(\"Inf\")] * (self.V)\n",
    "        parent = [-1] * (self.V)\n",
    " \n",
    "        # Call the recursive helper function to find bridges\n",
    "        # in DFS tree rooted with vertex 'i'\n",
    "        for i in range(self.V):\n",
    "            if visited[i] == False:\n",
    "                self.bridgeUtil(i, visited, parent, low, disc)"
   ]
  },
  {
   "cell_type": "markdown",
   "metadata": {},
   "source": [
    "## Check whether a given graph is Bipartite or not VVVVVVVVVVVVVIIIIIIIIIIII\n",
    "\n",
    "\n",
    "A Bipartite Graph is a graph whose vertices can be divided into two independent sets, U and V such that every edge (u, v) either connects a vertex from U to V or a vertex from V to U. In other words, for every edge (u, v), either u belongs to U and v to V, or u belongs to V and v to U. We can also say that there is no edge that connects vertices of same set.\n",
    " \n",
    "\n",
    "Bipartite1\n",
    "\n",
    "A bipartite graph is possible if the graph coloring is possible using two colors such that vertices in a set are colored with the same color. Note that it is possible to color a cycle graph with even cycle using two colors. For example, see the following graph.\n",
    " \n",
    "\n",
    "Bipartite2\n",
    "\n",
    "It is not possible to color a cycle graph with odd cycle using two colors. \n",
    "\n"
   ]
  },
  {
   "cell_type": "markdown",
   "metadata": {},
   "source": [
    "\n",
    "### Algorithm to check if a graph is Bipartite: \n",
    "\n",
    "\n",
    "One approach is to check whether the graph is 2-colorable or not using backtracking algorithm m coloring problem. \n",
    "Following is a simple algorithm to find out whether a given graph is Birpartite or not using Breadth First Search (BFS). \n",
    "1. Assign RED color to the source vertex (putting into set U). \n",
    "2. Color all the neighbors with BLUE color (putting into set V). \n",
    "3. Color all neighbor’s neighbor with RED color (putting into set U). \n",
    "4. This way, assign color to all vertices such that it satisfies all the constraints of m way coloring problem where m = 2. \n",
    "5. While assigning colors, if we find a neighbor which is colored with same color as current vertex, then the graph cannot be colored with 2 vertices (or graph is not Bipartite) "
   ]
  },
  {
   "cell_type": "code",
   "execution_count": null,
   "metadata": {},
   "outputs": [],
   "source": [
    "class Graph():\n",
    " \n",
    "    def __init__(self, V):\n",
    "        self.V = V\n",
    "        self.graph = [[0 for column in range(V)] \\\n",
    "                                for row in range(V)]\n",
    " \n",
    "\n",
    "    def isBipartite(self, src):\n",
    " \n",
    " \n",
    "        colorArr = [-1] * self.V\n",
    " \n",
    "        # Assign first color to source\n",
    "        colorArr[src] = 1\n",
    " \n",
    "        # Create a queue (FIFO) of vertex numbers and\n",
    "        # enqueue source vertex for BFS traversal\n",
    "        queue = []\n",
    "        queue.append(src)\n",
    "\n",
    "        while queue:\n",
    " \n",
    "            u = queue.pop()\n",
    " \n",
    "            # Return false if there is a self-loop\n",
    "            if self.graph[u][u] == 1:\n",
    "                return False;\n",
    " \n",
    "            for v in range(self.V):\n",
    " \n",
    "                if self.graph[u][v] == 1 and colorArr[v] == -1:\n",
    " \n",
    "                    # Assign alternate color to this\n",
    "                    # adjacent v of u\n",
    "                    colorArr[v] = 1 - colorArr[u]\n",
    "                    queue.append(v)\n",
    " \n",
    "                # An edge from u to v exists and destination\n",
    "                # v is colored with same color as u\n",
    "                elif self.graph[u][v] == 1 and colorArr[v] == colorArr[u]:\n",
    "                    return False\n",
    "\n",
    "        return True\n",
    " "
   ]
  },
  {
   "cell_type": "code",
   "execution_count": null,
   "metadata": {},
   "outputs": [],
   "source": []
  },
  {
   "cell_type": "code",
   "execution_count": null,
   "metadata": {},
   "outputs": [],
   "source": []
  },
  {
   "cell_type": "code",
   "execution_count": null,
   "metadata": {},
   "outputs": [],
   "source": []
  },
  {
   "cell_type": "code",
   "execution_count": null,
   "metadata": {},
   "outputs": [],
   "source": []
  },
  {
   "cell_type": "code",
   "execution_count": null,
   "metadata": {},
   "outputs": [],
   "source": []
  },
  {
   "cell_type": "code",
   "execution_count": null,
   "metadata": {},
   "outputs": [],
   "source": []
  },
  {
   "cell_type": "code",
   "execution_count": null,
   "metadata": {},
   "outputs": [],
   "source": []
  },
  {
   "cell_type": "code",
   "execution_count": null,
   "metadata": {},
   "outputs": [],
   "source": []
  },
  {
   "cell_type": "code",
   "execution_count": null,
   "metadata": {},
   "outputs": [],
   "source": []
  },
  {
   "cell_type": "code",
   "execution_count": null,
   "metadata": {},
   "outputs": [],
   "source": []
  },
  {
   "cell_type": "code",
   "execution_count": null,
   "metadata": {},
   "outputs": [],
   "source": []
  },
  {
   "cell_type": "code",
   "execution_count": null,
   "metadata": {},
   "outputs": [],
   "source": []
  },
  {
   "cell_type": "code",
   "execution_count": null,
   "metadata": {},
   "outputs": [],
   "source": []
  },
  {
   "cell_type": "code",
   "execution_count": null,
   "metadata": {},
   "outputs": [],
   "source": []
  },
  {
   "cell_type": "code",
   "execution_count": null,
   "metadata": {},
   "outputs": [],
   "source": []
  },
  {
   "cell_type": "code",
   "execution_count": null,
   "metadata": {},
   "outputs": [],
   "source": []
  },
  {
   "cell_type": "code",
   "execution_count": null,
   "metadata": {},
   "outputs": [],
   "source": []
  },
  {
   "cell_type": "code",
   "execution_count": null,
   "metadata": {},
   "outputs": [],
   "source": []
  },
  {
   "cell_type": "code",
   "execution_count": null,
   "metadata": {},
   "outputs": [],
   "source": []
  },
  {
   "cell_type": "code",
   "execution_count": null,
   "metadata": {},
   "outputs": [],
   "source": []
  },
  {
   "cell_type": "code",
   "execution_count": null,
   "metadata": {},
   "outputs": [],
   "source": []
  },
  {
   "cell_type": "code",
   "execution_count": null,
   "metadata": {},
   "outputs": [],
   "source": []
  },
  {
   "cell_type": "code",
   "execution_count": null,
   "metadata": {},
   "outputs": [],
   "source": []
  },
  {
   "cell_type": "code",
   "execution_count": null,
   "metadata": {},
   "outputs": [],
   "source": []
  },
  {
   "cell_type": "code",
   "execution_count": null,
   "metadata": {},
   "outputs": [],
   "source": []
  },
  {
   "cell_type": "code",
   "execution_count": null,
   "metadata": {},
   "outputs": [],
   "source": []
  },
  {
   "cell_type": "code",
   "execution_count": null,
   "metadata": {},
   "outputs": [],
   "source": []
  },
  {
   "cell_type": "code",
   "execution_count": null,
   "metadata": {},
   "outputs": [],
   "source": []
  },
  {
   "cell_type": "code",
   "execution_count": null,
   "metadata": {},
   "outputs": [],
   "source": []
  },
  {
   "cell_type": "code",
   "execution_count": null,
   "metadata": {},
   "outputs": [],
   "source": []
  },
  {
   "cell_type": "code",
   "execution_count": null,
   "metadata": {},
   "outputs": [],
   "source": []
  },
  {
   "cell_type": "code",
   "execution_count": null,
   "metadata": {},
   "outputs": [],
   "source": []
  },
  {
   "cell_type": "code",
   "execution_count": null,
   "metadata": {},
   "outputs": [],
   "source": []
  },
  {
   "cell_type": "code",
   "execution_count": null,
   "metadata": {},
   "outputs": [],
   "source": []
  },
  {
   "cell_type": "code",
   "execution_count": null,
   "metadata": {},
   "outputs": [],
   "source": []
  },
  {
   "cell_type": "code",
   "execution_count": null,
   "metadata": {},
   "outputs": [],
   "source": []
  },
  {
   "cell_type": "code",
   "execution_count": null,
   "metadata": {},
   "outputs": [],
   "source": []
  },
  {
   "cell_type": "code",
   "execution_count": null,
   "metadata": {},
   "outputs": [],
   "source": []
  },
  {
   "cell_type": "code",
   "execution_count": null,
   "metadata": {},
   "outputs": [],
   "source": []
  },
  {
   "cell_type": "code",
   "execution_count": null,
   "metadata": {},
   "outputs": [],
   "source": []
  },
  {
   "cell_type": "code",
   "execution_count": null,
   "metadata": {},
   "outputs": [],
   "source": []
  },
  {
   "cell_type": "code",
   "execution_count": null,
   "metadata": {},
   "outputs": [],
   "source": []
  },
  {
   "cell_type": "code",
   "execution_count": null,
   "metadata": {},
   "outputs": [],
   "source": []
  },
  {
   "cell_type": "code",
   "execution_count": null,
   "metadata": {},
   "outputs": [],
   "source": []
  },
  {
   "cell_type": "code",
   "execution_count": null,
   "metadata": {},
   "outputs": [],
   "source": []
  },
  {
   "cell_type": "code",
   "execution_count": null,
   "metadata": {},
   "outputs": [],
   "source": []
  },
  {
   "cell_type": "code",
   "execution_count": null,
   "metadata": {},
   "outputs": [],
   "source": []
  },
  {
   "cell_type": "code",
   "execution_count": null,
   "metadata": {},
   "outputs": [],
   "source": []
  },
  {
   "cell_type": "code",
   "execution_count": null,
   "metadata": {},
   "outputs": [],
   "source": []
  },
  {
   "cell_type": "code",
   "execution_count": null,
   "metadata": {},
   "outputs": [],
   "source": []
  },
  {
   "cell_type": "code",
   "execution_count": null,
   "metadata": {},
   "outputs": [],
   "source": []
  },
  {
   "cell_type": "code",
   "execution_count": null,
   "metadata": {},
   "outputs": [],
   "source": []
  },
  {
   "cell_type": "code",
   "execution_count": null,
   "metadata": {},
   "outputs": [],
   "source": []
  },
  {
   "cell_type": "code",
   "execution_count": null,
   "metadata": {},
   "outputs": [],
   "source": []
  },
  {
   "cell_type": "code",
   "execution_count": null,
   "metadata": {},
   "outputs": [],
   "source": []
  },
  {
   "cell_type": "code",
   "execution_count": null,
   "metadata": {},
   "outputs": [],
   "source": []
  },
  {
   "cell_type": "code",
   "execution_count": null,
   "metadata": {},
   "outputs": [],
   "source": []
  },
  {
   "cell_type": "code",
   "execution_count": null,
   "metadata": {},
   "outputs": [],
   "source": []
  },
  {
   "cell_type": "code",
   "execution_count": null,
   "metadata": {},
   "outputs": [],
   "source": []
  },
  {
   "cell_type": "code",
   "execution_count": null,
   "metadata": {},
   "outputs": [],
   "source": []
  },
  {
   "cell_type": "code",
   "execution_count": null,
   "metadata": {},
   "outputs": [],
   "source": []
  },
  {
   "cell_type": "code",
   "execution_count": null,
   "metadata": {},
   "outputs": [],
   "source": []
  },
  {
   "cell_type": "code",
   "execution_count": null,
   "metadata": {},
   "outputs": [],
   "source": []
  },
  {
   "cell_type": "code",
   "execution_count": null,
   "metadata": {},
   "outputs": [],
   "source": []
  },
  {
   "cell_type": "code",
   "execution_count": null,
   "metadata": {},
   "outputs": [],
   "source": []
  },
  {
   "cell_type": "code",
   "execution_count": null,
   "metadata": {},
   "outputs": [],
   "source": []
  },
  {
   "cell_type": "code",
   "execution_count": null,
   "metadata": {},
   "outputs": [],
   "source": []
  },
  {
   "cell_type": "code",
   "execution_count": null,
   "metadata": {},
   "outputs": [],
   "source": []
  },
  {
   "cell_type": "code",
   "execution_count": null,
   "metadata": {},
   "outputs": [],
   "source": []
  },
  {
   "cell_type": "code",
   "execution_count": null,
   "metadata": {},
   "outputs": [],
   "source": []
  },
  {
   "cell_type": "code",
   "execution_count": null,
   "metadata": {},
   "outputs": [],
   "source": []
  },
  {
   "cell_type": "code",
   "execution_count": null,
   "metadata": {},
   "outputs": [],
   "source": []
  },
  {
   "cell_type": "code",
   "execution_count": null,
   "metadata": {},
   "outputs": [],
   "source": []
  },
  {
   "cell_type": "code",
   "execution_count": null,
   "metadata": {},
   "outputs": [],
   "source": []
  },
  {
   "cell_type": "code",
   "execution_count": null,
   "metadata": {},
   "outputs": [],
   "source": []
  },
  {
   "cell_type": "code",
   "execution_count": null,
   "metadata": {},
   "outputs": [],
   "source": []
  },
  {
   "cell_type": "code",
   "execution_count": null,
   "metadata": {},
   "outputs": [],
   "source": []
  },
  {
   "cell_type": "code",
   "execution_count": null,
   "metadata": {},
   "outputs": [],
   "source": []
  },
  {
   "cell_type": "code",
   "execution_count": null,
   "metadata": {},
   "outputs": [],
   "source": []
  },
  {
   "cell_type": "code",
   "execution_count": null,
   "metadata": {},
   "outputs": [],
   "source": []
  },
  {
   "cell_type": "code",
   "execution_count": null,
   "metadata": {},
   "outputs": [],
   "source": []
  },
  {
   "cell_type": "code",
   "execution_count": null,
   "metadata": {},
   "outputs": [],
   "source": []
  }
 ],
 "metadata": {
  "kernelspec": {
   "display_name": "Python 3",
   "language": "python",
   "name": "python3"
  },
  "language_info": {
   "codemirror_mode": {
    "name": "ipython",
    "version": 3
   },
   "file_extension": ".py",
   "mimetype": "text/x-python",
   "name": "python",
   "nbconvert_exporter": "python",
   "pygments_lexer": "ipython3",
   "version": "3.8.5"
  }
 },
 "nbformat": 4,
 "nbformat_minor": 4
}
