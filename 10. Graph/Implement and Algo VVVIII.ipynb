{
 "cells": [
  {
   "cell_type": "markdown",
   "metadata": {},
   "source": [
    "###### adjacent vertices----- the vertices which are connected by an edge\n",
    "###### degre---- no of edge going through a vertex\n",
    "###### path--- if we can reach out another vertex by passing some dges//vertex we say we have path\n",
    "###### conncetd graph-- path between any two vertices in a graph\n",
    "###### connected component-- the disconnected graph can have subgraph which are connected then it is said to have conncetd compnent,,,,,,,,,,,,,,,,,,,a connected graph have only one connected component\n",
    "###### tree --a tree is also a graph (not vice vera) as tree is always connected and have no cycle\n",
    "###### so a graph to be tree should have two property-- one it shoud be connected and also dont have any cycle or loops\n",
    "cycle---loop"
   ]
  },
  {
   "cell_type": "markdown",
   "metadata": {},
   "source": [
    "#### MIN NO OF EDGES--- 0\n",
    "#### MIN NO OF EDGES IN CONNECTED GRAPH --- N-1\n",
    " #### MAX CAN BE N,N+1,,,BUT IT MEANS IT HAS LOOP\n",
    "#### MAX NO OF EDGES IN CONNECTED GRAPH ---POSSIBILITY IS THERE ALL VERTICES ARE ADJACENT VERICES -- SO EVERY VERTEX IS COONECTED\n",
    "#### therefor,,,, total edges would be -- n-1+n-2+n-3....1-===n(n-1)//2\n",
    "#### that is ---O(n**2) or O(E)"
   ]
  },
  {
   "cell_type": "markdown",
   "metadata": {},
   "source": [
    "# Implement graph\n",
    "\n",
    "\n",
    "### 1. edge list\n",
    "maintain array of vertices and edges ,,, if we told to find an edge ,, we need to traverse full i.e. O(E) time or O(n**2)\n",
    "\n",
    "### 2. ADJACENCY LIST\n",
    "corresponding to each vertice , we store a list or dict to which this vertices are atatched\n",
    "for list,,,,, we can find vertice in O(1) time and then traverse the list then in O(N) time,,,\n",
    "but it can be reduced if we use dict ,, in dict we store dict corresponding to each vertex . Therefore, it takes O(1) time.\n",
    "\n",
    "### 3. ADJACENCY MATRIX\n",
    "ADJ[V1][V2]==1 Then , a edge is present if 0 then not edge present\n",
    "space time compl-- O(n**2),,,,, as we use 2-d matrix\n",
    "for finding edge and vertices corresponding it takes -- O(1) time\n",
    "less no of edges o(n) we use list\n",
    "for more no of edges O(n**2) we use matrix"
   ]
  },
  {
   "cell_type": "markdown",
   "metadata": {},
   "source": [
    "## Implementation using adj mat"
   ]
  },
  {
   "cell_type": "code",
   "execution_count": null,
   "metadata": {},
   "outputs": [],
   "source": [
    "class Graph:\n",
    "    def __init__(self,nVertices):\n",
    "        self.nVertices=nVertices\n",
    "        self.adjMatrix=[[0 for i in range(nVertices)]for j in range(nVertices)]\n",
    "    \n",
    "    def addEdge(self,v1,v2):\n",
    "        self.adjMatrix[v1][v2]=1\n",
    "        self.adjMatrix[v2][v1]=1\n",
    "        \n",
    "    def removeEdge(self):\n",
    "        if self.containsEdge(v1,v2) is False:\n",
    "            return\n",
    "        self.adjMatrix[v1][v2]=0\n",
    "        self.adjMatrix[v2][v1]=0\n",
    "        \n",
    "    def containsEdge(self,v1,v2):\n",
    "        return True if self.adjMatrix[v1][v2]>0 else False\n",
    "    \n",
    "    def __str__(self):\n",
    "        return str(self.adjMatrix)-+."
   ]
  },
  {
   "cell_type": "markdown",
   "metadata": {},
   "source": [
    "# DFS"
   ]
  },
  {
   "cell_type": "markdown",
   "metadata": {},
   "source": [
    "DEPTH FIRST SEARCH -- lame name or its working is same as recursion\n",
    "if we move to one vertices, we keep to explore all vertices connected to it ,, till it gets to last depth . when we reach depth of last vertices and depth ended and still any vertices is left then we move to it.\n",
    "so we can say ,, that it works like RECURSION as in recursion it first goes on calling the one call till it reaches return or solution then move to aanother call or another line ..\n",
    "it works same as recursion , keeps on calling tilll we reach end and then move to next vertices if left\n",
    "main point ,,,,,, WHOEVER OR WHICEVER VERTEX ONCE VISITED , NEEDS NOT TO BE VISITED AGAIN"
   ]
  },
  {
   "cell_type": "code",
   "execution_count": 1,
   "metadata": {},
   "outputs": [],
   "source": [
    "class Graph:\n",
    "    def __init__(self,nVertices):\n",
    "        self.nVertices=nVertices\n",
    "        self.adjMatrix=[[0 for i in range(nVertices)]for j in range(nVertices)]\n",
    "    \n",
    "    def addEdge(self,v1,v2):\n",
    "        self.adjMatrix[v1][v2]=1\n",
    "        self.adjMatrix[v2][v1]=1\n",
    "    \n",
    "    \n",
    "    def removeEdge(self):\n",
    "        if self.containsEdge(v1,v2) is False:\n",
    "            return\n",
    "        self.adjMatrix[v1][v2]=0\n",
    "        self.adjMatrix[v2][v1]=0\n",
    "        \n",
    "    def containsEdge(self,v1,v2):\n",
    "        return True if self.adjMatrix[v1][v2]>0 else False\n",
    "    \n",
    "    def __str__(self):\n",
    "        return str(self.adjMatrix)\n",
    "    \n",
    "    \n",
    "    \n",
    "    \n",
    "    def __dfsHelper(self,sv,visited): ##start vertex\n",
    "        \n",
    "        print(sv)\n",
    "        visited[sv]=True\n",
    "        for i in range(self. nVertices):\n",
    "            if self.adjMatrix[sv][i]>0 and visited[i] is False:\n",
    "                self.__dfsHelper(i,visited)\n",
    "    \n",
    "    \n",
    "    def dfs(self):\n",
    "        visited=[False for i in range(self.nVertices)]\n",
    "        self.__dfsHelper(0,visited)"
   ]
  },
  {
   "cell_type": "markdown",
   "metadata": {},
   "source": [
    "# BFS"
   ]
  },
  {
   "cell_type": "markdown",
   "metadata": {},
   "source": [
    "breadth first seach\n",
    "bfs--- LEVEL ORDER TRAVERSAL same as bt\n",
    "use queue"
   ]
  },
  {
   "cell_type": "code",
   "execution_count": null,
   "metadata": {},
   "outputs": [],
   "source": [
    "import queue\n",
    "class Graph:\n",
    "    def __init__(self,nVertices):\n",
    "        self.nVertices=nVertices\n",
    "        self.adjMatrix=[[0 for i in range(nVertices)]for j in range(nVertices)]\n",
    "    \n",
    "    def addEdge(self,v1,v2):\n",
    "        self.adjMatrix[v1][v2]=1\n",
    "        self.adjMatrix[v2][v1]=1\n",
    "    \n",
    "    def __dfsHelper(self,sv,visited): ##start vertex\n",
    "        \n",
    "        print(sv)\n",
    "        visited[sv]=True\n",
    "        for i in range(self. nVertices):\n",
    "            if self.adjMatrix[sv][i]>0 and visited[i] is False:\n",
    "                self.__dfsHelper(i,visited)\n",
    "    \n",
    "    \n",
    "    def dfs(self):\n",
    "        visited=[False for i in range(self.nVertices)]\n",
    "        self.__dfsHelper(0,visited)\n",
    "                     \n",
    "        \n",
    "    def removeEdge(self):\n",
    "        if self.containsEdge(v1,v2) is False:\n",
    "            return\n",
    "        self.adjMatrix[v1][v2]=0\n",
    "        self.adjMatrix[v2][v1]=0\n",
    "        \n",
    "    def containsEdge(self,v1,v2):\n",
    "        return True if self.adjMatrix[v1][v2]>0 else False\n",
    "    \n",
    "    def __str__(self):\n",
    "        return str(self.adjMatrix)\n",
    "    \n",
    "    \n",
    "    \n",
    "    \n",
    "    \n",
    "    \n",
    "    \n",
    "    \n",
    "    def bfs(self):\n",
    "        q=queue.Queue()\n",
    "        visited=[False for i in range(self.nVertices)]\n",
    "        q.put(0)\n",
    "        visited[0]=True\n",
    "        while q.empty() is False:\n",
    "            u=q.get()\n",
    "            print(u)\n",
    "            for i in range (self.nVertices):\n",
    "                if self.adjMatrix[u][i]>0 and visited[i] is False:\n",
    "                    q.put(i)\n",
    "                    visited[i]=True"
   ]
  },
  {
   "cell_type": "code",
   "execution_count": null,
   "metadata": {},
   "outputs": [],
   "source": [
    "import queue\n",
    "class Graph:\n",
    "    def __init__(self,nVertices):\n",
    "        self.nVertices=nVertices\n",
    "        self.adjMatrix=[[0 for i in range(nVertices)]for j in range(nVertices)]\n",
    "    \n",
    "    def addEdge(self,v1,v2):\n",
    "        self.adjMatrix[v1][v2]=1\n",
    "        self.adjMatrix[v2][v1]=1\n",
    "    \n",
    "    def __dfsHelper(self,sv,visited): ##start vertex\n",
    "        \n",
    "        print(sv)\n",
    "        visited[sv]=True\n",
    "        for i in range(self. nVertices):\n",
    "            if self.adjMatrix[sv][i]>0 and visited[i] is False:\n",
    "                self.__dfsHelper(i,visited)\n",
    "    \n",
    "    \n",
    "    def dfs(self):\n",
    "        visited=[False for i in range(self.nVertices)]\n",
    "        for i in range(self.nVertices):\n",
    "            if visited[i] is False:\n",
    "                self.__dfsHelper(i,visited)\n",
    "        \n",
    "    def __bfshelper(self,sv,visited):\n",
    "        q=queue.Queue()\n",
    "        \n",
    "        q.put(sv)\n",
    "        visited[sv]=True\n",
    "        while q.empty() is False:\n",
    "            u=q.get()\n",
    "            print(u)\n",
    "            for i in range (self.nVertices):\n",
    "                if self.adjMatrix[u][i]>0 and visited[i] is False:\n",
    "                    q.put(i)\n",
    "                    visited[i]=True\n",
    "                    \n",
    "    def bfs(self):\n",
    "        visited=[False for i in range(self.nVertices)]\n",
    "        for i in range(self.nVertices):\n",
    "            if visited[i]is False:\n",
    "                self.__bfshelper(i,visited)\n",
    "                    \n",
    "                    \n",
    "        \n",
    "    def removeEdge(self):\n",
    "        if self.containsEdge(v1,v2) is False:\n",
    "            return\n",
    "        self.adjMatrix[v1][v2]=0\n",
    "        self.adjMatrix[v2][v1]=0\n",
    "        \n",
    "    def containsEdge(self,v1,v2):\n",
    "        return True if self.adjMatrix[v1][v2]>0 else False\n",
    "    \n",
    "    def __str__(self):\n",
    "        return str(self.adjMatrix)\n",
    "    \n",
    "    def __haspathhelper(self,v1,v2,visited):\n",
    "        if self.adjMatrix[v1][v2]>0:\n",
    "            return True\n",
    "        visited[v1]=True\n",
    "        \n",
    "        for i in range(self.nVertices):\n",
    "            if self.adjMatrix[v1][i] > 0  and visited[i] is False:\n",
    "                if self.__haspathhelper(i, v2, visited):\n",
    "                    #visited[v2]=True\n",
    "                    return True       \n",
    "        return False\n",
    "        \n",
    "    \n",
    "    def hasPath(self,v1,v2):\n",
    "        visited=[False for i in range(self.nVertices)]\n",
    "        return self.__haspathhelper(v1,v2,visited)\n",
    "        \n",
    "        \n",
    "    \n",
    "g=Graph(5)\n",
    "g.addEdge(0,1)\n",
    "g.addEdge(1,3)\n",
    "g.addEdge(2,4)\n",
    "g.addEdge(2,3)\n",
    "g.addEdge(0,2)\n",
    "g.dfs()\n",
    "g.bfs()"
   ]
  },
  {
   "cell_type": "markdown",
   "metadata": {},
   "source": [
    "###### TILL NOW WHAT WE DISCUSSED WHERE UNDIRECTED GRAPH THAT IS ADJ MATRIX FOR A,B AS WELL AS B,A IS 1\n",
    "###### FOR DIRECTED , LIKE A--> B THE ADK MATRIX FOR A,B IS 1 N NOT FOR B,A\n",
    "###### WEIGHTED GRAPH --- CAN BE USED IN ROAD PROBLEMS FOND SHORT PATHVVVVVVVVVVVVVVVVVVVVVVVIIIIIIIIIIIIIIIIIIIIIIPPPPPPPPPPPPPPPPPP\n",
    "###### IN WEIGHTED GRAPH ,, IN ADJ MATRIX WE WONT STORE 1 FOR CONNECTION ,, INSTED WE STORE WEIGHTS CORRESPONDING THAT TWO VERTEX\n",
    "###### SO FOR NO CONNECTION WE WONT USE 0 WE USE SYS,GET MAX OR INIFINITY"
   ]
  },
  {
   "cell_type": "markdown",
   "metadata": {},
   "source": [
    "# MST\n",
    "###### tree is a graph which is connected and no cycles\n",
    "###### if we follow above concept then for v vertices we have n-1 edges\n",
    "###### Spanning tree -- is a subgraph of a graph(may or may not have cycles) which dont have any cycles\n",
    "###### MST ---- TREE OR GRAPH should BE WEIGHTES , CONNECTED AND NO CYCLES\n",
    "###### MST IS THE SPANNING TREEE WITH LEAST WEIGHT , with all verices in it"
   ]
  },
  {
   "cell_type": "markdown",
   "metadata": {},
   "source": [
    "##### A Minimum Spanning Tree(MST) or minimum weight spanning tree for a weighted, connected, undirected graph is a spanning tree having a weight less than or equal to the weight of every other possible spanning tree. The weight of a spanning tree is the sum of weights given to each edge of the spanning tree."
   ]
  },
  {
   "cell_type": "markdown",
   "metadata": {},
   "source": [
    "## Kruskals Algo\n",
    "\n",
    "\n",
    "this algo used to find MST(its a subgraph of a main graph covering all vertives V with n-1 edges and have no cycles)\n",
    "Keep in mind MST have no cycles as its a tree, an tree is connected graaph with no cycles\n",
    "#### kruskals algo say----- Pick the edges with minimum weight but if you from cycle while picking it then skip that edge and choose another"
   ]
  },
  {
   "cell_type": "markdown",
   "metadata": {},
   "source": [
    "## detect a cycle\n",
    "\n",
    "conecpt if the vertices already included once while making mst , dont taken them ,,,,,, ITS WRONG CONCEPT\n",
    "CONCEPT IS is theres a path between two VISITED EDGES then only they form a cycle (see copy for exaample)\n",
    "therefore we will check whether two vertices havepath or not\n",
    "O(V**2) , if theres a path we wont take the edge , if no path we take the edge"
   ]
  },
  {
   "cell_type": "markdown",
   "metadata": {},
   "source": [
    "## union find algo\n",
    "\n",
    "cycle detection algo ,works perfectly fine and improves previous time compl\n",
    "IMPROVES TIME COMPL OF O(V**2)\n",
    "this algo says matching two visited vertices which are in same component forms cycles, if matcges in another component or diff component then doesnt form cycles\n",
    "initally all vertices are in diff components , when two vertices attacheed they become same component,,parent dict will be used¶"
   ]
  },
  {
   "cell_type": "markdown",
   "metadata": {},
   "source": [
    "## Kruskals Algo\n",
    "\n",
    "WE WOONT USE ADJ MATRIX TO STORE,,, AS WE NEED WEIGHT IN SORTED ARRAY\n",
    "so we use edge class whuch have source , dest, weight\n",
    "steps,, 1. sort the input array in acc to to wight ,,, 2. iterate on array till ut count goes from 0 to n-1 , n is no of vertices ad edge== no of vertices-1\n",
    "while count< n-1 { chose edge bwteen v1,v2, then apply union find if diff components add that edge and then do count ++ if edge added else return output"
   ]
  },
  {
   "cell_type": "code",
   "execution_count": null,
   "metadata": {},
   "outputs": [],
   "source": [
    "class Edge:\n",
    "    def __init__(self,src,dest,wt):\n",
    "        self.src=src\n",
    "        self.dest=dest\n",
    "        self.wt=wt\n",
    "\n",
    "def getParent(v,parent):\n",
    "    if v==parent[v]:\n",
    "        return v\n",
    "    return getParent(parent[v],parent)\n",
    "        \n",
    "def kruskal(edges,nVertices):    \n",
    "    parent=[i for i in range(nVertices)]\n",
    "    edges=sorted(edges,key=lambda edge:edge.wt)\n",
    "    count=0\n",
    "    \n",
    "    output=[]\n",
    "    i=0\n",
    "    while count<(nVertices-1):\n",
    "        currentEdges=edges[i]\n",
    "        srcParent=getParent(currentEdges.src,parent)\n",
    "        destParent=getParent(currentEdges.dest,parent)\n",
    "        \n",
    "        if srcParent!=destParent:\n",
    "            output.append(currentEdges)\n",
    "            count+=1\n",
    "            parent[srcParent]=destParent\n",
    "        i+=1\n",
    "    return output\n",
    "        \n",
    "li=[int(ele)for ele in input().split()]\n",
    "n=li[0]\n",
    "E=li[1]\n",
    "edges=[]\n",
    "for i in range(E):\n",
    "    curr_input=[int(ele)for ele in input().split()]\n",
    "    src=curr_input[0]\n",
    "    dest=curr_input[1]\n",
    "    wt=curr_input[2]\n",
    "    edge=Edge(src,dest,wt)\n",
    "    edges.append(edge)\n",
    "output=kruskal(edges,n)\n",
    "for edge in output:\n",
    "    if edge.src<edge.dest:\n",
    "        print(str(edge.src)+\" \"+(str(edge.dest))+\" \"+str(edge.wt))\n",
    "    else: \n",
    "        print(str(edge.dest)+\" \"+(str(edge.src))+\" \"+str(edge.wt))\n"
   ]
  },
  {
   "cell_type": "code",
   "execution_count": null,
   "metadata": {},
   "outputs": [],
   "source": []
  },
  {
   "cell_type": "code",
   "execution_count": null,
   "metadata": {},
   "outputs": [],
   "source": []
  },
  {
   "cell_type": "code",
   "execution_count": null,
   "metadata": {},
   "outputs": [],
   "source": []
  },
  {
   "cell_type": "code",
   "execution_count": null,
   "metadata": {},
   "outputs": [],
   "source": []
  },
  {
   "cell_type": "code",
   "execution_count": null,
   "metadata": {},
   "outputs": [],
   "source": []
  },
  {
   "cell_type": "code",
   "execution_count": null,
   "metadata": {},
   "outputs": [],
   "source": []
  },
  {
   "cell_type": "code",
   "execution_count": null,
   "metadata": {},
   "outputs": [],
   "source": []
  },
  {
   "cell_type": "code",
   "execution_count": null,
   "metadata": {},
   "outputs": [],
   "source": []
  },
  {
   "cell_type": "code",
   "execution_count": null,
   "metadata": {},
   "outputs": [],
   "source": []
  },
  {
   "cell_type": "code",
   "execution_count": null,
   "metadata": {},
   "outputs": [],
   "source": []
  },
  {
   "cell_type": "code",
   "execution_count": null,
   "metadata": {},
   "outputs": [],
   "source": []
  },
  {
   "cell_type": "code",
   "execution_count": null,
   "metadata": {},
   "outputs": [],
   "source": []
  },
  {
   "cell_type": "code",
   "execution_count": null,
   "metadata": {},
   "outputs": [],
   "source": []
  },
  {
   "cell_type": "code",
   "execution_count": null,
   "metadata": {},
   "outputs": [],
   "source": []
  },
  {
   "cell_type": "code",
   "execution_count": null,
   "metadata": {},
   "outputs": [],
   "source": []
  },
  {
   "cell_type": "code",
   "execution_count": null,
   "metadata": {},
   "outputs": [],
   "source": []
  },
  {
   "cell_type": "code",
   "execution_count": null,
   "metadata": {},
   "outputs": [],
   "source": []
  },
  {
   "cell_type": "code",
   "execution_count": null,
   "metadata": {},
   "outputs": [],
   "source": []
  },
  {
   "cell_type": "code",
   "execution_count": null,
   "metadata": {},
   "outputs": [],
   "source": []
  },
  {
   "cell_type": "code",
   "execution_count": null,
   "metadata": {},
   "outputs": [],
   "source": []
  },
  {
   "cell_type": "code",
   "execution_count": null,
   "metadata": {},
   "outputs": [],
   "source": []
  },
  {
   "cell_type": "code",
   "execution_count": null,
   "metadata": {},
   "outputs": [],
   "source": []
  },
  {
   "cell_type": "code",
   "execution_count": null,
   "metadata": {},
   "outputs": [],
   "source": []
  },
  {
   "cell_type": "code",
   "execution_count": null,
   "metadata": {},
   "outputs": [],
   "source": []
  },
  {
   "cell_type": "code",
   "execution_count": null,
   "metadata": {},
   "outputs": [],
   "source": []
  },
  {
   "cell_type": "code",
   "execution_count": null,
   "metadata": {},
   "outputs": [],
   "source": []
  },
  {
   "cell_type": "code",
   "execution_count": null,
   "metadata": {},
   "outputs": [],
   "source": []
  },
  {
   "cell_type": "code",
   "execution_count": null,
   "metadata": {},
   "outputs": [],
   "source": []
  },
  {
   "cell_type": "code",
   "execution_count": null,
   "metadata": {},
   "outputs": [],
   "source": []
  },
  {
   "cell_type": "code",
   "execution_count": null,
   "metadata": {},
   "outputs": [],
   "source": []
  },
  {
   "cell_type": "code",
   "execution_count": null,
   "metadata": {},
   "outputs": [],
   "source": []
  },
  {
   "cell_type": "code",
   "execution_count": null,
   "metadata": {},
   "outputs": [],
   "source": []
  },
  {
   "cell_type": "code",
   "execution_count": null,
   "metadata": {},
   "outputs": [],
   "source": []
  },
  {
   "cell_type": "code",
   "execution_count": null,
   "metadata": {},
   "outputs": [],
   "source": []
  },
  {
   "cell_type": "code",
   "execution_count": null,
   "metadata": {},
   "outputs": [],
   "source": []
  },
  {
   "cell_type": "code",
   "execution_count": null,
   "metadata": {},
   "outputs": [],
   "source": []
  },
  {
   "cell_type": "code",
   "execution_count": null,
   "metadata": {},
   "outputs": [],
   "source": []
  },
  {
   "cell_type": "code",
   "execution_count": null,
   "metadata": {},
   "outputs": [],
   "source": []
  }
 ],
 "metadata": {
  "kernelspec": {
   "display_name": "Python 3",
   "language": "python",
   "name": "python3"
  },
  "language_info": {
   "codemirror_mode": {
    "name": "ipython",
    "version": 3
   },
   "file_extension": ".py",
   "mimetype": "text/x-python",
   "name": "python",
   "nbconvert_exporter": "python",
   "pygments_lexer": "ipython3",
   "version": "3.8.5"
  }
 },
 "nbformat": 4,
 "nbformat_minor": 4
}
