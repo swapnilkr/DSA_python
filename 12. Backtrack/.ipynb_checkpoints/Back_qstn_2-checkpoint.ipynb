{
 "cells": [
  {
   "cell_type": "markdown",
   "metadata": {},
   "source": [
    "## Find Maximum number possible by doing at-most K swaps\n",
    "\n",
    "\n",
    "Given a positive integer, find the maximum integer possible by doing at-most K swap operations on its digits.\n",
    "Examples: \n",
    "\n",
    "Input: M = 254, K = 1\n",
    "Output: 524\n",
    "Swap 5 with 2 so number becomes 524\n",
    "\n",
    "Input: M = 254, K = 2\n",
    "Output: 542\n",
    "Swap 5 with 2 so number becomes 524\n",
    "Swap 4 with 2 so number becomes 542\n",
    "\n",
    "Input: M = 68543, K = 1 \n",
    "Output: 86543\n",
    "Swap 8 with 6 so number becomes 86543\n",
    "\n",
    "Input: M = 7599, K = 2\n",
    "Output: 9975\n",
    "Swap 9 with 5 so number becomes 7995\n",
    "Swap 9 with 7 so number becomes 9975\n",
    "\n",
    "Input: M = 76543, K = 1 \n",
    "Output: 76543\n",
    "Explanation: No swap is required.\n",
    "\n",
    "Input: M = 129814999, K = 4\n",
    "Output: 999984211\n",
    "Swap 9 with 1 so number becomes 929814991\n",
    "Swap 9 with 2 so number becomes 999814291\n",
    "Swap 9 with 8 so number becomes 999914281\n",
    "Swap 1 with 8 so number becomes 999984211"
   ]
  },
  {
   "cell_type": "code",
   "execution_count": null,
   "metadata": {},
   "outputs": [],
   "source": [
    "def swap(string, i, j):\n",
    " \n",
    "    return (string[:i] + string[j] +\n",
    "            string[i + 1:j] +\n",
    "            string[i] + string[j + 1:])\n",
    "\n",
    "def findMaximumNum(string, k, maxm):\n",
    "\n",
    "    if k == 0:\n",
    "        return\n",
    " \n",
    "    n = len(string)\n",
    " \n",
    "    for i in range(n - 1):\n",
    " \n",
    "        for j in range(i + 1, n):\n",
    "\n",
    "            if string[i] < string[j]:\n",
    " \n",
    "                string = swap(string, i, j)\n",
    "\n",
    "                if string > maxm[0]:\n",
    "                    maxm[0] = string\n",
    "\n",
    "                findMaximumNum(string, k - 1, maxm)\n",
    "\n",
    "                string = swap(string, i, j)\n",
    " "
   ]
  },
  {
   "cell_type": "markdown",
   "metadata": {},
   "source": [
    "## Permutations of a given string "
   ]
  },
  {
   "cell_type": "code",
   "execution_count": null,
   "metadata": {},
   "outputs": [],
   "source": [
    "from itertools import permutations\n",
    "  \n",
    "def allPermutations(str):\n",
    "\n",
    "     permList = permutations(str)\n",
    "     for perm in list(permList):\n",
    "         print (''.join(perm))"
   ]
  },
  {
   "cell_type": "markdown",
   "metadata": {},
   "source": [
    "## Permutations of a given string with repeating characters\n",
    "The idea is to use dictionary to avoid printing duplicates."
   ]
  },
  {
   "cell_type": "code",
   "execution_count": null,
   "metadata": {},
   "outputs": [],
   "source": [
    "s = \"GEEKKKGA\"\n",
    "p = permutations(s)\n",
    "  \n",
    "# Create a dictionary\n",
    "d = []\n",
    "for i in list(p):\n",
    "\n",
    "    if (i not in d):\n",
    "        d.append(i)\n",
    "        print(''.join(i))"
   ]
  },
  {
   "cell_type": "markdown",
   "metadata": {},
   "source": [
    "## Find if there is a path of more than k length from a source\n",
    "\n",
    "Given a graph, a source vertex in the graph and a number k, find if there is a simple path (without any cycle) starting from given source and ending at any other vertex such that the distance from source to that vertex is atleast ‘k’ length.\n",
    " \n",
    "\n",
    "Example:\n",
    "Input  : Source s = 0, k = 58\n",
    "Output : True\n",
    "There exists a simple path 0 -> 7 -> 1\n",
    "-> 2 -> 8 -> 6 -> 5 -> 3 -> 4\n",
    "Which has a total distance of 60 km which\n",
    "is more than 58.\n",
    "\n",
    "Input  : Source s = 0, k = 62\n",
    "Output : False\n",
    "\n",
    "In the above graph, the longest simple\n",
    "path has distance 61 (0 -> 7 -> 1-> 2\n",
    " -> 3 -> 4 -> 5-> 6 -> 8, so output \n",
    "should be false for any input greater \n",
    "than 61.\n"
   ]
  },
  {
   "cell_type": "markdown",
   "metadata": {},
   "source": [
    "One important thing to note is, simply doing BFS or DFS and picking the longest edge at every step would not work. The reason is, a shorter edge can produce longer path due to higher weight edges connected through it.\n",
    "The idea is to use Backtracking. We start from given source, explore all paths from current vertex. We keep track of current distance from source. If distance becomes more than k, we return true. If a path doesn’t produces more than k distance, we backtrack.\n",
    "How do we make sure that the path is simple and we don’t loop in a cycle? The idea is to keep track of current path vertices in an array. Whenever we add a vertex to path, we check if it already exists or not in current path. If it exists, we ignore the edge."
   ]
  },
  {
   "cell_type": "markdown",
   "metadata": {},
   "source": [
    "### Print all possible paths from top left to bottom right of a mXn matrix\n",
    "##### Rat in a maze\n",
    "The problem is to print all the possible paths from top left to bottom right of a mXn matrix with the constraints that from each cell you can either move only to right or down. <b> no left or up </b>\n",
    "\n",
    "Examples : \n",
    "\n",
    "Input : 1 2 3\n",
    "        4 5 6\n",
    "Output : 1 4 5 6\n",
    "         1 2 5 6\n",
    "         1 2 3 6\n",
    "\n",
    "Input : 1 2 \n",
    "        3 4\n",
    "Output : 1 2 4\n",
    "         1 3 4\n"
   ]
  },
  {
   "cell_type": "code",
   "execution_count": null,
   "metadata": {},
   "outputs": [],
   "source": [
    "def isSafe(row: int, col: int,\n",
    "           m: List[List[int]], n: int,\n",
    "           visited: List[List[bool]]) -> bool:\n",
    " \n",
    "    if (row == -1 or row == n or\n",
    "        col == -1 or col == n or\n",
    "        visited[row][col]):\n",
    "        return False\n",
    " \n",
    "    return True\n",
    "\n",
    "def printPathUtil(row: int, col: int,\n",
    "                  m: List[List[int]],\n",
    "                  n: int, path: str,\n",
    "                  possiblePaths: List[str],\n",
    "                  visited: List[List[bool]]) -> None:\n",
    "    if (row == -1 or row == n or\n",
    "        col == -1 or col == n or\n",
    "        visited[row][col]):\n",
    "        return\n",
    "\n",
    "    if (row == n - 1 and col == n - 1):\n",
    "        possiblePaths.append(path)\n",
    "        return\n",
    "\n",
    "    visited[row][col] = True\n",
    "\n",
    " \n",
    "    # Check if downward move is valid\n",
    "    if (isSafe(row + 1, col, m, n, visited)):\n",
    "        path += str(m[row+1][col])\n",
    "        printPathUtil(row + 1, col, m, n,\n",
    "                      path, possiblePaths, visited)\n",
    "        path = path[:-1]\n",
    " \n",
    " \n",
    "    # Check if the right move is valid\n",
    "    if (isSafe(row, col + 1, m, n, visited)):\n",
    "        path += str(m[row][col+1])\n",
    "        printPathUtil(row, col + 1, m, n,\n",
    "                      path, possiblePaths, visited)\n",
    "        path = path[:-1]\n",
    " \n",
    "    # Mark the cell as unvisited for\n",
    "    # other possible paths\n",
    "    visited[row][col] = False\n",
    " \n",
    "\n",
    "def printPath(m: List[List[int]], n: int) -> None:\n",
    "    possiblePaths = []\n",
    "    path = \"\"\n",
    "    visited = [[False for _ in range(MAX)]\n",
    "                      for _ in range(n)]\n",
    "                       \n",
    "\n",
    "    printPathUtil(0, 0, m, n, path,\n",
    "                  possiblePaths, visited)\n",
    "    for i in range(len(possiblePaths)):\n",
    "        print(possiblePaths[i], end = \" \")"
   ]
  },
  {
   "cell_type": "markdown",
   "metadata": {},
   "source": [
    "## Find the K-th Permutation Sequence of first N natural numbers\n",
    "\n",
    "Given two integers N and K, find the Kth permutation sequence of numbers from 1 to N without using STL function.\n",
    "Note: Assume that the inputs are such that Kth permutation of N number is always possible.\n",
    "\n",
    "Examples: \n",
    "\n",
    "Input: N = 3, K = 4 \n",
    "Output: 231 \n",
    "Explanation: \n",
    "The ordered list of permutation sequence from integer 1 to 3 is : 123, 132, 213, 231, 312, 321. So, the 4th permutation sequence is “231”.\n",
    "\n",
    "Input: N = 2, K = 1 \n",
    "Output: 12 \n",
    "Explanation: \n",
    "For n = 2, only 2 permutations are possible 12 21. So, the 1st permutation sequence is “12”. "
   ]
  },
  {
   "cell_type": "markdown",
   "metadata": {},
   "source": [
    "#### Naive Approach:\n",
    "To solve the problem mentioned above the simple approach is to find all permutation sequences and output the kth out of them. But this method is not so efficient and takes more time, hence it can be optimized."
   ]
  },
  {
   "cell_type": "markdown",
   "metadata": {},
   "source": [
    "Efficient Approach:\n",
    "To optimize the above method mentioned above, observe that the value of k can be directly used to find the number at each index of the sequence.  \n",
    "\n",
    "\n",
    "\n",
    "\n",
    "The first position of an n length sequence is occupied by each of the numbers from 1 to n exactly n! / n that is (n-1)! number of times and in ascending order. So the first position of the kth sequence will be occupied by the number present at index = k / (n-1)! (according to 1-based indexing).\n",
    "The currently found number can not occur again so it is removed from the original n numbers and now the problem reduces to finding the ( k % (n-1)! )th permutation sequence of the remaining n-1 numbers.\n",
    "This process can be repeated until we have only one number left which will be placed in the first position of the last 1-length sequence.\n",
    "The factorial values involved here can be very large as compared to k. So, the trick used to avoid the full computation of such large factorials is that as soon as the product n * (n-1) * … becomes greater than k, we no longer need to find the actual factorial value because: \n",
    "k / n_actual_factorial_value = 0 \n",
    "and k / n_partial_factorial_value = 0 \n",
    "when partial_factorial_value > k "
   ]
  },
  {
   "cell_type": "code",
   "execution_count": null,
   "metadata": {},
   "outputs": [],
   "source": [
    "def findFirstNumIndex(k, n):\n",
    " \n",
    "    if (n == 1):\n",
    "        return 0, k\n",
    "         \n",
    "    n -= 1\n",
    " \n",
    "    first_num_index = 0\n",
    "\n",
    "    n_partial_fact = n\n",
    " \n",
    "    while (k >= n_partial_fact and n > 1):\n",
    "        n_partial_fact = n_partial_fact * (n - 1)\n",
    "        n -= 1\n",
    "\n",
    "    first_num_index = k // n_partial_fact\n",
    " \n",
    "    k = k % n_partial_fact\n",
    " \n",
    "    return first_num_index, k\n",
    " \n",
    "\n",
    "def findKthPermutation(n, k):\n",
    "\n",
    "    ans = \"\"\n",
    " \n",
    "    s = set()\n",
    "\n",
    "    for i in range(1, n + 1):\n",
    "        s.add(i)\n",
    "\n",
    "    k = k - 1\n",
    " \n",
    "    for i in range(n):\n",
    "\n",
    "        itr = list(s)\n",
    " \n",
    "        index, k = findFirstNumIndex(k, n - i)\n",
    "\n",
    "        ans += str(itr[index])\n",
    "\n",
    "        itr.pop(index)\n",
    "         \n",
    "        s = set(itr)\n",
    "     \n",
    "    return ans"
   ]
  },
  {
   "cell_type": "code",
   "execution_count": null,
   "metadata": {},
   "outputs": [],
   "source": []
  },
  {
   "cell_type": "code",
   "execution_count": null,
   "metadata": {},
   "outputs": [],
   "source": []
  },
  {
   "cell_type": "code",
   "execution_count": null,
   "metadata": {},
   "outputs": [],
   "source": []
  },
  {
   "cell_type": "code",
   "execution_count": null,
   "metadata": {},
   "outputs": [],
   "source": []
  },
  {
   "cell_type": "code",
   "execution_count": null,
   "metadata": {},
   "outputs": [],
   "source": []
  },
  {
   "cell_type": "code",
   "execution_count": null,
   "metadata": {},
   "outputs": [],
   "source": []
  },
  {
   "cell_type": "code",
   "execution_count": null,
   "metadata": {},
   "outputs": [],
   "source": []
  },
  {
   "cell_type": "code",
   "execution_count": null,
   "metadata": {},
   "outputs": [],
   "source": []
  },
  {
   "cell_type": "code",
   "execution_count": null,
   "metadata": {},
   "outputs": [],
   "source": []
  },
  {
   "cell_type": "code",
   "execution_count": null,
   "metadata": {},
   "outputs": [],
   "source": []
  },
  {
   "cell_type": "code",
   "execution_count": null,
   "metadata": {},
   "outputs": [],
   "source": []
  },
  {
   "cell_type": "code",
   "execution_count": null,
   "metadata": {},
   "outputs": [],
   "source": []
  },
  {
   "cell_type": "code",
   "execution_count": null,
   "metadata": {},
   "outputs": [],
   "source": []
  },
  {
   "cell_type": "code",
   "execution_count": null,
   "metadata": {},
   "outputs": [],
   "source": []
  },
  {
   "cell_type": "code",
   "execution_count": null,
   "metadata": {},
   "outputs": [],
   "source": []
  },
  {
   "cell_type": "code",
   "execution_count": null,
   "metadata": {},
   "outputs": [],
   "source": []
  },
  {
   "cell_type": "code",
   "execution_count": null,
   "metadata": {},
   "outputs": [],
   "source": []
  },
  {
   "cell_type": "code",
   "execution_count": null,
   "metadata": {},
   "outputs": [],
   "source": []
  },
  {
   "cell_type": "code",
   "execution_count": null,
   "metadata": {},
   "outputs": [],
   "source": []
  },
  {
   "cell_type": "code",
   "execution_count": null,
   "metadata": {},
   "outputs": [],
   "source": []
  },
  {
   "cell_type": "code",
   "execution_count": null,
   "metadata": {},
   "outputs": [],
   "source": []
  },
  {
   "cell_type": "code",
   "execution_count": null,
   "metadata": {},
   "outputs": [],
   "source": []
  },
  {
   "cell_type": "code",
   "execution_count": null,
   "metadata": {},
   "outputs": [],
   "source": []
  },
  {
   "cell_type": "code",
   "execution_count": null,
   "metadata": {},
   "outputs": [],
   "source": []
  },
  {
   "cell_type": "code",
   "execution_count": null,
   "metadata": {},
   "outputs": [],
   "source": []
  },
  {
   "cell_type": "code",
   "execution_count": null,
   "metadata": {},
   "outputs": [],
   "source": []
  },
  {
   "cell_type": "code",
   "execution_count": null,
   "metadata": {},
   "outputs": [],
   "source": []
  },
  {
   "cell_type": "code",
   "execution_count": null,
   "metadata": {},
   "outputs": [],
   "source": []
  },
  {
   "cell_type": "code",
   "execution_count": null,
   "metadata": {},
   "outputs": [],
   "source": []
  },
  {
   "cell_type": "code",
   "execution_count": null,
   "metadata": {},
   "outputs": [],
   "source": []
  },
  {
   "cell_type": "code",
   "execution_count": null,
   "metadata": {},
   "outputs": [],
   "source": []
  },
  {
   "cell_type": "code",
   "execution_count": null,
   "metadata": {},
   "outputs": [],
   "source": []
  },
  {
   "cell_type": "code",
   "execution_count": null,
   "metadata": {},
   "outputs": [],
   "source": []
  },
  {
   "cell_type": "code",
   "execution_count": null,
   "metadata": {},
   "outputs": [],
   "source": []
  },
  {
   "cell_type": "code",
   "execution_count": null,
   "metadata": {},
   "outputs": [],
   "source": []
  },
  {
   "cell_type": "code",
   "execution_count": null,
   "metadata": {},
   "outputs": [],
   "source": []
  },
  {
   "cell_type": "code",
   "execution_count": null,
   "metadata": {},
   "outputs": [],
   "source": []
  },
  {
   "cell_type": "code",
   "execution_count": null,
   "metadata": {},
   "outputs": [],
   "source": []
  },
  {
   "cell_type": "code",
   "execution_count": null,
   "metadata": {},
   "outputs": [],
   "source": []
  },
  {
   "cell_type": "code",
   "execution_count": null,
   "metadata": {},
   "outputs": [],
   "source": []
  },
  {
   "cell_type": "code",
   "execution_count": null,
   "metadata": {},
   "outputs": [],
   "source": []
  },
  {
   "cell_type": "code",
   "execution_count": null,
   "metadata": {},
   "outputs": [],
   "source": []
  },
  {
   "cell_type": "code",
   "execution_count": null,
   "metadata": {},
   "outputs": [],
   "source": []
  },
  {
   "cell_type": "code",
   "execution_count": null,
   "metadata": {},
   "outputs": [],
   "source": []
  },
  {
   "cell_type": "code",
   "execution_count": null,
   "metadata": {},
   "outputs": [],
   "source": []
  },
  {
   "cell_type": "code",
   "execution_count": null,
   "metadata": {},
   "outputs": [],
   "source": []
  },
  {
   "cell_type": "code",
   "execution_count": null,
   "metadata": {},
   "outputs": [],
   "source": []
  },
  {
   "cell_type": "code",
   "execution_count": null,
   "metadata": {},
   "outputs": [],
   "source": []
  },
  {
   "cell_type": "code",
   "execution_count": null,
   "metadata": {},
   "outputs": [],
   "source": []
  },
  {
   "cell_type": "code",
   "execution_count": null,
   "metadata": {},
   "outputs": [],
   "source": []
  },
  {
   "cell_type": "code",
   "execution_count": null,
   "metadata": {},
   "outputs": [],
   "source": []
  },
  {
   "cell_type": "code",
   "execution_count": null,
   "metadata": {},
   "outputs": [],
   "source": []
  },
  {
   "cell_type": "code",
   "execution_count": null,
   "metadata": {},
   "outputs": [],
   "source": []
  },
  {
   "cell_type": "code",
   "execution_count": null,
   "metadata": {},
   "outputs": [],
   "source": []
  },
  {
   "cell_type": "code",
   "execution_count": null,
   "metadata": {},
   "outputs": [],
   "source": []
  },
  {
   "cell_type": "code",
   "execution_count": null,
   "metadata": {},
   "outputs": [],
   "source": []
  },
  {
   "cell_type": "code",
   "execution_count": null,
   "metadata": {},
   "outputs": [],
   "source": []
  },
  {
   "cell_type": "code",
   "execution_count": null,
   "metadata": {},
   "outputs": [],
   "source": []
  },
  {
   "cell_type": "code",
   "execution_count": null,
   "metadata": {},
   "outputs": [],
   "source": []
  },
  {
   "cell_type": "code",
   "execution_count": null,
   "metadata": {},
   "outputs": [],
   "source": []
  },
  {
   "cell_type": "code",
   "execution_count": null,
   "metadata": {},
   "outputs": [],
   "source": []
  },
  {
   "cell_type": "code",
   "execution_count": null,
   "metadata": {},
   "outputs": [],
   "source": []
  },
  {
   "cell_type": "code",
   "execution_count": null,
   "metadata": {},
   "outputs": [],
   "source": []
  },
  {
   "cell_type": "code",
   "execution_count": null,
   "metadata": {},
   "outputs": [],
   "source": []
  }
 ],
 "metadata": {
  "kernelspec": {
   "display_name": "Python 3",
   "language": "python",
   "name": "python3"
  },
  "language_info": {
   "codemirror_mode": {
    "name": "ipython",
    "version": 3
   },
   "file_extension": ".py",
   "mimetype": "text/x-python",
   "name": "python",
   "nbconvert_exporter": "python",
   "pygments_lexer": "ipython3",
   "version": "3.8.5"
  }
 },
 "nbformat": 4,
 "nbformat_minor": 4
}
