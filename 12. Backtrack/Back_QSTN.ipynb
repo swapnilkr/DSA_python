{
 "cells": [
  {
   "cell_type": "markdown",
   "metadata": {},
   "source": [
    "## Concept\n",
    "1. Make visited\n",
    "2. Make util rec function\n",
    "3. MAIN VVIII make Safe function(is it sfae to place the king or rat there) and it will be Base case for util "
   ]
  },
  {
   "cell_type": "markdown",
   "metadata": {},
   "source": [
    "## Rat in a maze\n",
    "\n",
    "\n",
    "Consider a rat placed at (0, 0) in a square matrix of order N * N. It has to reach the destination at (N - 1, N - 1). Find all possible paths that the rat can take to reach from source to destination. The directions in which the rat can move are 'U'(up), 'D'(down), 'L' (left), 'R' (right). Value 0 at a cell in the matrix represents that it is blocked and rat cannot move to it while value 1 at a cell in the matrix represents that rat can be travel through it.\n",
    "Note: In a path, no cell can be visited more than one time.\n",
    "\n",
    "Example 1:\n",
    "\n",
    "Input:\n",
    "N = 4\n",
    "m[][] = {{1, 0, 0, 0},\n",
    "         {1, 1, 0, 1}, \n",
    "         {1, 1, 0, 0},\n",
    "         {0, 1, 1, 1}}\n",
    "Output:\n",
    "DDRDRR DRDDRR\n",
    "Explanation:\n",
    "The rat can reach the destination at \n",
    "(3, 3) from (0, 0) by two paths - DRDDRR \n",
    "and DDRDRR, when printed in sorted order \n",
    "we get DDRDRR DRDDRR.\n",
    "Example 2:\n",
    "Input:\n",
    "N = 2\n",
    "m[][] = {{1, 0},\n",
    "         {1, 0}}\n",
    "Output:\n",
    "-1\n",
    "Explanation:\n",
    "No path exists and destination cell is \n",
    "blocked."
   ]
  },
  {
   "cell_type": "markdown",
   "metadata": {},
   "source": []
  },
  {
   "cell_type": "code",
   "execution_count": null,
   "metadata": {},
   "outputs": [],
   "source": [
    "def printPathHelper(x,y,maze,n,solution):\n",
    "    if x==n-1 and y ==n-1:\n",
    "        solution[x][y]=1 #### when u reach end point insitalize solution matrix to 1,, as recursion is there ,, so rec will do its work here\n",
    "        print(solution)\n",
    "        return\n",
    "    if x<0 or y<0 or x>=n or y>=n or maze[x][y]==0 or solution[x][y]==1: ### this point is already included\n",
    "        return\n",
    "    solution[x][y]=1\n",
    "    printPathHelper(x+1,y,maze,n,solution)\n",
    "    printPathHelper(x,y+1,maze,n,solution)\n",
    "    printPathHelper(x-1,y,maze,n,solution)\n",
    "    printPathHelper(x,y-1,maze,n,solution)\n",
    "    solution[x][y]=0\n",
    "    return\n",
    "\n",
    "def printPath(maze):\n",
    "    n=len(maze)\n",
    "    solution=[[0 for j in range(n)]for i in range (n)]\n",
    "    printPathHelper(0,0,maze,n,solution)\n",
    "\n",
    "\n",
    "n=int(input())\n",
    "maze=[]\n",
    "for i in range (n):\n",
    "    row=[int(ele)for ele in input().split()]\n",
    "    maze.append(row)\n",
    "    \n",
    "printPath(maze)"
   ]
  },
  {
   "cell_type": "code",
   "execution_count": null,
   "metadata": {},
   "outputs": [],
   "source": [
    "def isSafe(row: int, col: int,\n",
    "           m: List[List[int]], n: int,\n",
    "           visited: List[List[bool]]) -> bool:\n",
    " \n",
    "    if (row == -1 or row == n or\n",
    "        col == -1 or col == n or\n",
    "        visited[row][col] or m[row][col] == 0):\n",
    "        return False\n",
    " \n",
    "    return True\n",
    " \n",
    "# Function to print all the possible\n",
    "# paths from (0, 0) to (n-1, n-1).\n",
    "def printPathUtil(row: int, col: int,\n",
    "                  m: List[List[int]],\n",
    "                  n: int, path: str,\n",
    "                  possiblePaths: List[str],\n",
    "                  visited: List[List[bool]]) -> None:\n",
    " \n",
    "    # This will check the initial point\n",
    "    # (i.e. (0, 0)) to start the paths.\n",
    "    if (row == -1 or row == n or\n",
    "        col == -1 or col == n or\n",
    "        visited[row][col] or m[row][col] == 0):\n",
    "        return\n",
    " \n",
    "    # If reach the last cell (n-1, n-1)\n",
    "    # then store the path and return\n",
    "    if (row == n - 1 and col == n - 1):\n",
    "        possiblePaths.append(path)\n",
    "        return\n",
    " \n",
    "    # Mark the cell as visited\n",
    "    visited[row][col] = True\n",
    " \n",
    "    # Try for all the 4 directions (down, left,\n",
    "    # right, up) in the given order to get the\n",
    "    # paths in lexicographical order\n",
    " \n",
    "    # Check if downward move is valid\n",
    "    if (isSafe(row + 1, col, m, n, visited)):\n",
    "        path += 'D'\n",
    "        printPathUtil(row + 1, col, m, n,\n",
    "                      path, possiblePaths, visited)\n",
    "        path = path[:-1]\n",
    " \n",
    "    # Check if the left move is valid\n",
    "    if (isSafe(row, col - 1, m, n, visited)):\n",
    "        path += 'L'\n",
    "        printPathUtil(row, col - 1, m, n,\n",
    "                      path, possiblePaths, visited)\n",
    "        path = path[:-1]\n",
    " \n",
    "    # Check if the right move is valid\n",
    "    if (isSafe(row, col + 1, m, n, visited)):\n",
    "        path += 'R'\n",
    "        printPathUtil(row, col + 1, m, n,\n",
    "                      path, possiblePaths, visited)\n",
    "        path = path[:-1]\n",
    " \n",
    "    # Check if the upper move is valid\n",
    "    if (isSafe(row - 1, col, m, n, visited)):\n",
    "        path += 'U'\n",
    "        printPathUtil(row - 1, col, m, n,\n",
    "                      path, possiblePaths, visited)\n",
    "        path = path[:-1]\n",
    " \n",
    "    # Mark the cell as unvisited for\n",
    "    # other possible paths\n",
    "    visited[row][col] = False\n",
    " \n",
    "# Function to store and print\n",
    "# all the valid paths\n",
    "def printPath(m: List[List[int]], n: int) -> None:\n",
    " \n",
    "    # vector to store all the possible paths\n",
    "    possiblePaths = []\n",
    "    path = \"\"\n",
    "    visited = [[False for _ in range(MAX)]\n",
    "                      for _ in range(n)]\n",
    "                       \n",
    "    # Call the utility function to\n",
    "    # find the valid paths\n",
    "    printPathUtil(0, 0, m, n, path,\n",
    "                  possiblePaths, visited)\n",
    " \n",
    "    # Print all possible paths\n",
    "    for i in range(len(possiblePaths)):\n",
    "        print(possiblePaths[i], end = \" \")"
   ]
  },
  {
   "cell_type": "code",
   "execution_count": null,
   "metadata": {},
   "outputs": [],
   "source": []
  },
  {
   "cell_type": "code",
   "execution_count": null,
   "metadata": {},
   "outputs": [],
   "source": []
  },
  {
   "cell_type": "code",
   "execution_count": null,
   "metadata": {},
   "outputs": [],
   "source": []
  },
  {
   "cell_type": "code",
   "execution_count": null,
   "metadata": {},
   "outputs": [],
   "source": []
  },
  {
   "cell_type": "code",
   "execution_count": null,
   "metadata": {},
   "outputs": [],
   "source": []
  },
  {
   "cell_type": "code",
   "execution_count": null,
   "metadata": {},
   "outputs": [],
   "source": []
  },
  {
   "cell_type": "code",
   "execution_count": null,
   "metadata": {},
   "outputs": [],
   "source": []
  },
  {
   "cell_type": "code",
   "execution_count": null,
   "metadata": {},
   "outputs": [],
   "source": []
  },
  {
   "cell_type": "code",
   "execution_count": null,
   "metadata": {},
   "outputs": [],
   "source": []
  },
  {
   "cell_type": "code",
   "execution_count": null,
   "metadata": {},
   "outputs": [],
   "source": []
  },
  {
   "cell_type": "code",
   "execution_count": null,
   "metadata": {},
   "outputs": [],
   "source": []
  },
  {
   "cell_type": "code",
   "execution_count": null,
   "metadata": {},
   "outputs": [],
   "source": []
  },
  {
   "cell_type": "code",
   "execution_count": null,
   "metadata": {},
   "outputs": [],
   "source": []
  },
  {
   "cell_type": "code",
   "execution_count": null,
   "metadata": {},
   "outputs": [],
   "source": []
  },
  {
   "cell_type": "code",
   "execution_count": null,
   "metadata": {},
   "outputs": [],
   "source": []
  },
  {
   "cell_type": "code",
   "execution_count": null,
   "metadata": {},
   "outputs": [],
   "source": []
  },
  {
   "cell_type": "code",
   "execution_count": null,
   "metadata": {},
   "outputs": [],
   "source": []
  },
  {
   "cell_type": "code",
   "execution_count": null,
   "metadata": {},
   "outputs": [],
   "source": []
  },
  {
   "cell_type": "code",
   "execution_count": null,
   "metadata": {},
   "outputs": [],
   "source": []
  },
  {
   "cell_type": "code",
   "execution_count": null,
   "metadata": {},
   "outputs": [],
   "source": []
  },
  {
   "cell_type": "code",
   "execution_count": null,
   "metadata": {},
   "outputs": [],
   "source": []
  },
  {
   "cell_type": "code",
   "execution_count": null,
   "metadata": {},
   "outputs": [],
   "source": []
  },
  {
   "cell_type": "code",
   "execution_count": null,
   "metadata": {},
   "outputs": [],
   "source": []
  },
  {
   "cell_type": "code",
   "execution_count": null,
   "metadata": {},
   "outputs": [],
   "source": []
  },
  {
   "cell_type": "code",
   "execution_count": null,
   "metadata": {},
   "outputs": [],
   "source": []
  },
  {
   "cell_type": "code",
   "execution_count": null,
   "metadata": {},
   "outputs": [],
   "source": []
  },
  {
   "cell_type": "code",
   "execution_count": null,
   "metadata": {},
   "outputs": [],
   "source": []
  },
  {
   "cell_type": "code",
   "execution_count": null,
   "metadata": {},
   "outputs": [],
   "source": []
  },
  {
   "cell_type": "code",
   "execution_count": null,
   "metadata": {},
   "outputs": [],
   "source": []
  },
  {
   "cell_type": "code",
   "execution_count": null,
   "metadata": {},
   "outputs": [],
   "source": []
  }
 ],
 "metadata": {
  "kernelspec": {
   "display_name": "Python 3",
   "language": "python",
   "name": "python3"
  },
  "language_info": {
   "codemirror_mode": {
    "name": "ipython",
    "version": 3
   },
   "file_extension": ".py",
   "mimetype": "text/x-python",
   "name": "python",
   "nbconvert_exporter": "python",
   "pygments_lexer": "ipython3",
   "version": "3.8.5"
  }
 },
 "nbformat": 4,
 "nbformat_minor": 4
}
