{
 "cells": [
  {
   "cell_type": "markdown",
   "metadata": {},
   "source": [
    "### look up table"
   ]
  },
  {
   "cell_type": "code",
   "execution_count": 11,
   "metadata": {},
   "outputs": [],
   "source": [
    "# Python implementation of the approach\n",
    "BitsSetTable256 = [0] * 256\n",
    " \n",
    "# Function to initialise the lookup table\n",
    "def initialize():\n",
    "     \n",
    "    # To initially generate the\n",
    "    # table algorithmically\n",
    "    BitsSetTable256[0] = 0\n",
    "    for i in range(256):\n",
    "        BitsSetTable256[i] = (i & 1) + BitsSetTable256[i // 2]"
   ]
  },
  {
   "cell_type": "markdown",
   "metadata": {},
   "source": [
    "### Number of 1 Bits \n",
    "Easy Accuracy: 64.8% Submissions: 16776 Points: 2\n",
    "Given a positive integer N, print count of set bits in it. \n",
    "\n",
    "Example 1:\n",
    "\n",
    "Input:\n",
    "N = 6\n",
    "Output:\n",
    "2\n",
    "Explanation:\n",
    "Binary representation is '110' \n",
    "So the count of the set bit is 2.\n",
    "Example 2:\n",
    "\n",
    "Input:\n",
    "8\n",
    "Output:\n",
    "1\n",
    "Explanation:\n",
    "Binary representation is '1000' \n",
    "So the count of the set bit is 1."
   ]
  },
  {
   "cell_type": "code",
   "execution_count": null,
   "metadata": {},
   "outputs": [],
   "source": [
    "def  countSetBits(n):\n",
    "    count = 0\n",
    "    while (n):\n",
    "        count += n & 1\n",
    "        n >>= 1\n",
    "    return count"
   ]
  },
  {
   "cell_type": "code",
   "execution_count": null,
   "metadata": {},
   "outputs": [],
   "source": [
    "def countSetBits( n):\n",
    "     \n",
    "    # base case\n",
    "    if (n == 0):\n",
    "        return 0\n",
    " \n",
    "    else:\n",
    " \n",
    "        # if last bit set add 1 else\n",
    "        # add 0\n",
    "        return (n & 1) + countSetBits(n >> 1)"
   ]
  },
  {
   "cell_type": "markdown",
   "metadata": {},
   "source": [
    "## Brian Kernighan’s Algorithm: \n",
    "\n",
    "1  Initialize count: = 0\n",
    "   2  If integer n is not zero\n",
    "      (a) Do bitwise & with (n-1) and assign the value back to n\n",
    "          n: = n&(n-1)\n",
    "      (b) Increment count by 1\n",
    "      (c) go to step 2\n",
    "   3  Else return count"
   ]
  },
  {
   "cell_type": "code",
   "execution_count": null,
   "metadata": {},
   "outputs": [],
   "source": [
    "def countSetBits(n):\n",
    " \n",
    "    count = 0\n",
    "    while (n):\n",
    "        n &= (n-1)\n",
    "        count+= 1\n",
    "     \n",
    "    return count\n",
    " "
   ]
  },
  {
   "cell_type": "code",
   "execution_count": null,
   "metadata": {},
   "outputs": [],
   "source": [
    "print(bin(4).count('1'));\n",
    "print(bin(15).count('1'));"
   ]
  },
  {
   "cell_type": "markdown",
   "metadata": {},
   "source": [
    "### Find the two non-repeating elements in an array of repeating elements/ Unique Numbers 2\n",
    "\n",
    "Asked by SG \n",
    "Given an array in which all numbers except two are repeated once. (i.e. we have 2n+2 numbers and n numbers are occurring twice and remaining two have occurred once). Find those two numbers in the most efficient way.  "
   ]
  },
  {
   "cell_type": "markdown",
   "metadata": {},
   "source": [
    "Method 2(Use XOR) \n",
    "Let x and y be the non-repeating elements we are looking for and arr[] be the input array. First, calculate the XOR of all the array elements. \n",
    "\n",
    "     xor = arr[0]^arr[1]^arr[2].....arr[n-1]\n",
    "All the bits that are set in xor will be set in one non-repeating element (x or y) and not in others. So if we take any set bit of xor and divide the elements of the array in two sets – one set of elements with same bit set and another set with same bit not set. By doing so, we will get x in one set and y in another set. Now if we do XOR of all the elements in the first set, we will get the first non-repeating element, and by doing same in other sets we will get the second non-repeating element. \n",
    "\n",
    "Let us see an example.\n",
    "   arr[] = {2, 4, 7, 9, 2, 4}\n",
    "1) Get the XOR of all the elements.\n",
    "     xor = 2^4^7^9^2^4 = 14 (1110)\n",
    "2) Get a number which has only one set bit of the xor.   \n",
    "   Since we can easily get the rightmost set bit, let us use it.\n",
    "     set_bit_no = xor & ~(xor-1) = (1110) & ~(1101) = 0010\n",
    "   Now set_bit_no will have only set as rightmost set bit of xor.\n",
    "3) Now divide the elements in two sets and do xor of         \n",
    "   elements in each set and we get the non-repeating \n",
    "   elements 7 and 9. Please see the implementation for this step.\n",
    "Approach : \n",
    "Step 1: Xor all the elements of the array into a variable sum thus all the elements present twice in an array will get removed as for example, 4 = “100” and if 4 xor 4 => “100” xor “100” thus answer will be “000”. \n",
    "Step 2: Thus in the sum the final answer will be 3 xor 5 as both 2 and 4 are xor with itself giving 0, therefore sum = “011” xor “101” i.e sum = “110” = 6. \n",
    "Step 3: Now we will take 2’s Complement of sum i.e (-sum) = “010”. \n",
    "Step 4: Now bitwise And the 2’s of sum with the sum i.e “110” & “010” gives the answer “010” (Aim for bitwise & is that we want to get a number that contains only the rightmost set bit of the sum). \n",
    "Step 5: bitwise & all the elements of the array with this obtained sum, 2 = “010” & “010” = 2, 3 = “011” & “010” = “010” , 4 = “100” & “010” = “000”, 5 = “101” & “010” = “000”. \n",
    "Step 6: As we can see that the bitwise & of 2,3 > 0 thus they will be xor with sum1 and bitwise & of 4,5 is resulting into 0 thus they will be xor with sum2. \n",
    "Step 7: As 2 is present two times so getting xor with sum1 two times only the result 3 is being stored in it and As 4 is also present two times thus getting xor with sum2 will cancel it’s value and thus only 5 will remain there.\n",
    "\n"
   ]
  },
  {
   "cell_type": "code",
   "execution_count": null,
   "metadata": {},
   "outputs": [],
   "source": [
    "def UniqueNumbers2(arr, n):\n",
    "   \n",
    "  sums = 0\n",
    "   \n",
    "  for i in range(0, n):\n",
    "     \n",
    "    # Xor  all the elements of the array\n",
    "    # all the elements occuring twice will\n",
    "    # cancel out each other remaining\n",
    "    # two unnique numbers will be xored\n",
    "    sums = (sums ^ arr[i])\n",
    "     \n",
    "  # Bitwise & the sum with it's 2's Complement\n",
    "  # Bitwise & will give us the sum containing\n",
    "  # only the rightmost set bit\n",
    "  sums = (sums & -sums)\n",
    " \n",
    "  # sum1 and sum2 will contains 2 unique\n",
    "  # elements elements initialized with 0 box\n",
    "  # number xored with 0 is number itself\n",
    "  sum1 = 0\n",
    "  sum2 = 0\n",
    " \n",
    "  # Traversing the array again\n",
    "  for i in range(0, len(arr)):\n",
    "     \n",
    "    # Bitwise & the arr[i] with the sum\n",
    "    # Two possibilities either result == 0\n",
    "    # or result > 0\n",
    "    if (arr[i] & sums) > 0:\n",
    "       \n",
    "      # If result > 0 then arr[i] xored\n",
    "      # with the sum1\n",
    "      sum1 = (sum1 ^ arr[i])\n",
    "       \n",
    "    else:\n",
    "       \n",
    "      # If result == 0 then arr[i]\n",
    "      # xored with sum2\n",
    "      sum2 = (sum2 ^ arr[i])\n",
    " \n",
    "  # Print the the two unique numbers\n",
    "  print(\"The non-repeating elements are \",\n",
    "         sum1 ,\" and \", sum2)"
   ]
  },
  {
   "cell_type": "markdown",
   "metadata": {},
   "source": [
    "### Count number of bits to be flipped to convert A to B\n",
    "\n",
    "Given two numbers ‘a’ and b’. Write a program to count number of bits needed to be flipped to convert ‘a’ to ‘b’. \n",
    "Example : \n",
    " \n",
    "\n",
    "Input : a = 10, b = 20\n",
    "Output : 4\n",
    "Binary representation of a is 00001010\n",
    "Binary representation of b is 00010100\n",
    "We need to flip highlighted four bits in a\n",
    "to make it b.\n",
    "\n",
    "Input : a = 7, b = 10\n",
    "Output : 3\n",
    "Binary representation of a is 00000111\n",
    "Binary representation of b is 00001010\n",
    "We need to flip highlighted three bits in a\n",
    "to make it b.\n",
    " \n",
    "\n",
    "Recommended: Please solve it on “PRACTICE” first, before moving on to the solution.\n",
    " \n",
    "\n",
    "  1. Calculate XOR of A and B.      \n",
    "        a_xor_b = A ^ B\n",
    "  2. Count the set bits in the above \n",
    "     calculated XOR result.\n",
    "        countSetBits(a_xor_b)\n",
    "XOR of two number will have set bits only at those places where A differs from B. "
   ]
  },
  {
   "cell_type": "code",
   "execution_count": null,
   "metadata": {},
   "outputs": [],
   "source": [
    "def countSetBits( n ):\n",
    "    count = 0\n",
    "    while n:\n",
    "        count += 1\n",
    "        n &= (n-1)\n",
    "    return count\n",
    "     \n",
    "# Function that return count of\n",
    "# flipped number\n",
    "def FlippedCount(a , b):\n",
    " \n",
    "    # Return count of set bits in\n",
    "    # a XOR b\n",
    "    return countSetBits(a^b)"
   ]
  },
  {
   "cell_type": "markdown",
   "metadata": {},
   "source": [
    "### Count total set bits in all numbers from 1 to n\n",
    "\n",
    "\n",
    "Given a positive integer n, count the total number of set bits in binary representation of all numbers from 1 to n. \n",
    "\n",
    "Examples: \n",
    "\n",
    "Input: n = 3\n",
    "Output:  4\n",
    "\n",
    "Input: n = 6\n",
    "Output: 9\n",
    "\n",
    "Input: n = 7\n",
    "Output: 12\n",
    "\n",
    "Input: n = 8\n",
    "Output: 13\n",
    "Recommended: Please solve it on “PRACTICE” first, before moving on to the solution.\n",
    "Source: Amazon Interview Question "
   ]
  },
  {
   "cell_type": "code",
   "execution_count": null,
   "metadata": {},
   "outputs": [],
   "source": [
    "\n",
    "def countSetBits(n):\n",
    "     \n",
    "    # initialize the result\n",
    "    bitCount = 0\n",
    " \n",
    "    for i in range(1, n + 1):\n",
    "        bitCount += countSetBitsUtil(i)\n",
    " \n",
    "    return bitCount\n",
    " \n",
    " \n",
    "# A utility function to count set bits\n",
    "# in a number x\n",
    "def countSetBitsUtil(x):\n",
    " \n",
    "    if (x <= 0):\n",
    "        return 0\n",
    "    return (0 if int(x % 2) == 0 else 1) +  countSetBitsUtil(int(x / 2))\n",
    " "
   ]
  },
  {
   "cell_type": "markdown",
   "metadata": {},
   "source": [
    "Method 2 (Simple and efficient than Method 1) \n",
    "If we observe bits from rightmost side at distance i than bits get inverted after 2^i position in vertical sequence. \n",
    "for example n = 5; \n",
    "0 = 0000 \n",
    "1 = 0001 \n",
    "2 = 0010 \n",
    "3 = 0011 \n",
    "4 = 0100 \n",
    "5 = 0101\n",
    "Observe the right most bit (i = 0) the bits get flipped after (2^0 = 1) \n",
    "Observe the 3rd rightmost bit (i = 2) the bits get flipped after (2^2 = 4) \n",
    "So, We can count bits in vertical fashion such that at i’th right most position bits will be get flipped after 2^i iteration;"
   ]
  },
  {
   "cell_type": "code",
   "execution_count": null,
   "metadata": {},
   "outputs": [],
   "source": [
    "def countSetBits(n) :\n",
    "    i = 0\n",
    " \n",
    "    # ans store sum of set bits from 0 to n \n",
    "    ans = 0\n",
    " \n",
    "    # while n greater than equal to 2^i\n",
    "    while ((1 << i) <= n) :\n",
    " \n",
    "        # This k will get flipped after \n",
    "        # 2^i iterations\n",
    "        k = 0\n",
    " \n",
    "        # change is iterator from 2^i to 1\n",
    "        change = 1 << i\n",
    " \n",
    "        # This will loop from 0 to n for\n",
    "        # every bit position\n",
    "        for j in range(0, n+1) :\n",
    "            ans += k\n",
    " \n",
    "            if change == 1 :\n",
    "                 \n",
    "                #  When change = 1 flip the bit\n",
    "                k = not k\n",
    " \n",
    "                # again set change to 2^i\n",
    "                change = 1 << i\n",
    " \n",
    "            else :\n",
    "                change -= 1\n",
    " \n",
    "        # increment the position\n",
    "        i += 1\n",
    " \n",
    "    return ans\n",
    " \n",
    " "
   ]
  },
  {
   "cell_type": "markdown",
   "metadata": {},
   "source": [
    "A simple solution , using the fact that for the ith least significant bit, answer will be  \n",
    "\n",
    "(N/2^i)*2^(i-1)+ X\n",
    "where \n",
    "\n",
    "X = N%(2^i)-(2^(i-1)-1)\n",
    "iff  \n",
    "\n",
    "N%(2^i)>=(2^(i-1)-1)"
   ]
  },
  {
   "cell_type": "code",
   "execution_count": null,
   "metadata": {},
   "outputs": [],
   "source": [
    "def getSetBitsFromOneToN(N):\n",
    "    two = 2\n",
    "    ans = 0\n",
    "    n = N\n",
    "    while(n != 0)\n",
    "    {\n",
    "        ans += int(N / two) * (two >> 1)\n",
    "        if((N & (two - 1)) > (two >> 1) - 1):\n",
    "            ans += (N&(two - 1)) - (two >> 1) + 1\n",
    "        two <<= 1;\n",
    "        n >>= 1;\n",
    "    }\n",
    "    return ans"
   ]
  },
  {
   "cell_type": "markdown",
   "metadata": {},
   "source": [
    "### Program to find whether a no is power of two\n",
    "\n",
    "Given a positive integer, write a function to find if it is a power of two or not.\n",
    "Examples : \n",
    "\n",
    "Input : n = 4\n",
    "Output : Yes\n",
    "22 = 4\n",
    "\n",
    "Input : n = 7\n",
    "Output : No\n",
    "\n",
    "Input : n = 32\n",
    "Output : Yes\n",
    "25 = 32"
   ]
  },
  {
   "cell_type": "code",
   "execution_count": null,
   "metadata": {},
   "outputs": [],
   "source": [
    "def isPowerofTwo(self,n):\n",
    "    ##Your code here\n",
    "    b=bin(n).replace(\"0b\",\"\")\n",
    "    if b[0]==\"1\" and b.count(\"1\")==1:\n",
    "        return True\n",
    "    else:\n",
    "        return False"
   ]
  },
  {
   "cell_type": "code",
   "execution_count": null,
   "metadata": {},
   "outputs": [],
   "source": [
    "import math\n",
    " \n",
    "# Function to check\n",
    "# Log base 2\n",
    "def Log2(x):\n",
    "    if x == 0:\n",
    "        return false;\n",
    " \n",
    "    return (math.log10(x) /\n",
    "            math.log10(2));\n",
    " \n",
    "# Function to check\n",
    "# if x is power of 2\n",
    "def isPowerOfTwo(n):\n",
    "    return (math.ceil(Log2(n)) ==\n",
    "            math.floor(Log2(n)));\n",
    " \n",
    "# Driver Code\n",
    "if(isPowerOfTwo(31)):\n",
    "    print(\"Yes\");\n",
    "else:\n",
    "    print(\"No\");"
   ]
  },
  {
   "cell_type": "markdown",
   "metadata": {},
   "source": [
    "If we subtract a power of 2 numbers by 1 then all unset bits after the only set bit become set; and the set bit becomes unset.\n",
    "For example for 4 ( 100) and 16(10000), we get the following after subtracting 1 \n",
    "3 –> 011 \n",
    "15 –> 01111\n",
    "\n",
    "So, if a number n is a power of 2 then bitwise & of n and n-1 will be zero. We can say n is a power of 2 or not based on the value of n&(n-1). The expression n&(n-1) will not work when n is 0. To handle this case also, our expression will become n& (!n&(n-1)) "
   ]
  },
  {
   "cell_type": "code",
   "execution_count": null,
   "metadata": {},
   "outputs": [],
   "source": [
    "def isPowerOfTwo (x):\n",
    " \n",
    "    # First x in the below expression\n",
    "    # is for the case when x is 0\n",
    "    return (x and (not(x & (x - 1))) )\n",
    " "
   ]
  },
  {
   "cell_type": "markdown",
   "metadata": {},
   "source": [
    "Find position of the only set bit\n",
    "Difficulty Level : Easy\n",
    "Last Updated : 27 May, 2021\n",
    "Given a number having only one ‘1’ and all other ’0’s in its binary representation, find position of the only set bit."
   ]
  },
  {
   "cell_type": "code",
   "execution_count": null,
   "metadata": {},
   "outputs": [],
   "source": [
    "def findPosition(self, N):\n",
    "    # code here \n",
    "    b=bin(N).replace(\"0b\",\"\")\n",
    "    c=b.count(\"1\")\n",
    "    if c!=1:\n",
    "        return -1\n",
    "    else:\n",
    "        ind=b.index(\"1\")\n",
    "    return len(b)-ind"
   ]
  },
  {
   "cell_type": "markdown",
   "metadata": {},
   "source": [
    "The idea is to one by one right shift the set bit of given number ‘n’ until ‘n’ becomes 0. Count how many times we shifted to make ‘n’ zero. The final count is the position of the set bit. "
   ]
  },
  {
   "cell_type": "code",
   "execution_count": null,
   "metadata": {},
   "outputs": [],
   "source": [
    "def isPowerOfTwo(n) :\n",
    " \n",
    "    return (n and ( not (n & (n-1))))\n",
    " \n",
    "# Returns position of the only set bit in 'n'\n",
    "def findPosition(n) :\n",
    " \n",
    "    if not isPowerOfTwo(n) :\n",
    "        return -1\n",
    " \n",
    "    count = 0\n",
    " \n",
    "    # One by one move the only set bit to\n",
    "    # right till it reaches end\n",
    "    while (n) :\n",
    "         \n",
    "        n = n >> 1\n",
    " \n",
    "        # increment count of shifts\n",
    "        count += 1\n",
    " \n",
    "    return count"
   ]
  },
  {
   "cell_type": "markdown",
   "metadata": {},
   "source": [
    "Copy set bits in a range\n",
    "Difficulty Level : Medium\n",
    "Last Updated : 29 May, 2018\n",
    "Given two numbers x and y, and a range [l, r] where 1 <= l, r <= 32. The task is consider set bits of y in range [l, r] and set these bits in x also. Examples :\n",
    "\n",
    "Input  : x = 10, y = 13, l = 2, r = 3\n",
    "Output : x = 14\n",
    "Binary representation of 10 is 1010 and \n",
    "that of y is 1101. There is one set bit\n",
    "in y at 3’rd position (in given range). \n",
    "After we copy this bit to x, x becomes 1110\n",
    "which is binary representation of 14.\n",
    "\n",
    "Input  : x = 8, y = 7, l = 1, r = 2\n",
    "Output : x = 11"
   ]
  },
  {
   "cell_type": "code",
   "execution_count": null,
   "metadata": {},
   "outputs": [],
   "source": [
    "using namespace std;\n",
    "  \n",
    "// Copy set bits in range [l, r] from y to x.\n",
    "// Note that x is passed by reference and modified\n",
    "// by this function.\n",
    "void copySetBits(unsigned &x, unsigned y,\n",
    "                 unsigned l, unsigned r)\n",
    "{\n",
    "   // l and r must be between 1 to 32\n",
    "   // (assuming ints are stored using\n",
    "   //  32 bits)\n",
    "   if (l < 1 || r > 32)\n",
    "      return ;\n",
    "  \n",
    "   // Travers in given range\n",
    "   for (int i=l; i<=r; i++)\n",
    "   {\n",
    "       // Find a mask (A number whose\n",
    "       // only set bit is at i'th position)\n",
    "       int mask = 1 << (i-1);\n",
    "  \n",
    "       // If i'th bit is set in y, set i'th\n",
    "       // bit in x also.\n",
    "       if (y & mask)\n",
    "          x = x | mask;\n",
    "   }\n",
    "}\n",
    "  \n",
    "// Driver code\n",
    "int main()\n",
    "{\n",
    "   unsigned x = 10, y = 13, l = 2, r = 3;\n",
    "   copySetBits(x, y, l, r);\n",
    "   cout << \"Modified x is \" << x;\n",
    "   return 0; }\n",
    "                       \n",
    "                       "
   ]
  },
  {
   "cell_type": "code",
   "execution_count": null,
   "metadata": {},
   "outputs": [],
   "source": []
  },
  {
   "cell_type": "markdown",
   "metadata": {},
   "source": [
    "Divide two integers without using multiplication, division and mod operator\n",
    "Difficulty Level : Medium\n",
    "Last Updated : 05 Mar, 2021\n",
    "Given a two integers say a and b. Find the quotient after dividing a by b without using multiplication, division and mod operator.\n",
    "\n",
    "Example: \n",
    "\n",
    "Input : a = 10, b = 3\n",
    "Output : 3\n",
    "\n",
    "Input : a = 43, b = -8\n",
    "Output :  -5 "
   ]
  },
  {
   "cell_type": "markdown",
   "metadata": {},
   "source": [
    "pproach : Keep subtracting the dividend from the divisor until dividend becomes less than divisor. The dividend becomes the remainder, and the number of times subtraction is done becomes the quotient. Below is the implementation of above approach : \n"
   ]
  },
  {
   "cell_type": "code",
   "execution_count": null,
   "metadata": {},
   "outputs": [],
   "source": [
    "\n",
    "\n",
    "# Python 3 implementation to Divide two\n",
    "# integers without using multiplication,\n",
    "# division and mod operator\n",
    " \n",
    "# Function to divide a by b and\n",
    "# return floor value it\n",
    "def divide(dividend, divisor):\n",
    " \n",
    "    # Calculate sign of divisor i.e.,\n",
    "    # sign will be negative only iff\n",
    "    # either one of them is negative\n",
    "    # otherwise it will be positive\n",
    "    sign = -1 if ((dividend < 0) ^  (divisor < 0)) else 1\n",
    "     \n",
    "    # Update both divisor and\n",
    "    # dividend positive\n",
    "    dividend = abs(dividend)\n",
    "    divisor = abs(divisor)\n",
    "     \n",
    "    # Initialize the quotient\n",
    "    quotient = 0\n",
    "    while (dividend >= divisor):\n",
    "        dividend -= divisor\n",
    "        quotient += 1\n",
    "     \n",
    "     \n",
    "    return sign * quotient"
   ]
  },
  {
   "cell_type": "markdown",
   "metadata": {},
   "source": [
    "dividend = quotient * divisor + remainder\n",
    "\n",
    "As every number can be represented in base 2(0 or 1), represent the quotient in binary form by using shift operator as given below : \n",
    "\n",
    "Determine the most significant bit in the quotient. This can easily be calculated by iterating on the bit position i from 31 to 1.\n",
    "Find the first bit for which divisor << i               is less than dividend and keep updating the ith bit position for which it is true.\n",
    "Add the result in temp variable for checking the next position such that (temp + (divisor << i) ) is less than dividend.\n",
    "Return the final answer of quotient after updating with corresponding sign."
   ]
  },
  {
   "cell_type": "code",
   "execution_count": null,
   "metadata": {},
   "outputs": [],
   "source": [
    "def divide(dividend, divisor):\n",
    "     \n",
    "    # Calculate sign of divisor\n",
    "    # i.e., sign will be negative\n",
    "    # either one of them is negative\n",
    "    # only iff otherwise it will be\n",
    "    # positive\n",
    "     \n",
    "    sign = (-1 if((dividend < 0) ^\n",
    "                  (divisor < 0)) else 1);\n",
    "     \n",
    "    # remove sign of operands\n",
    "    dividend = abs(dividend);\n",
    "    divisor = abs(divisor);\n",
    "     \n",
    "    # Initialize\n",
    "    # the quotient\n",
    "    quotient = 0;\n",
    "    temp = 0;\n",
    "     \n",
    "    # test down from the highest\n",
    "    # bit and accumulate the\n",
    "    # tentative value for valid bit\n",
    "    for i in range(31, -1, -1):\n",
    "        if (temp + (divisor << i) <= dividend):\n",
    "            temp += divisor << i;\n",
    "            quotient |= 1 << i;\n",
    "     \n",
    "    return sign * quotient;\n",
    " "
   ]
  },
  {
   "cell_type": "markdown",
   "metadata": {},
   "source": [
    "Calculate square of a number without using *, / and pow()\n",
    "Difficulty Level : Medium\n",
    "Last Updated : 23 Feb, 2021\n",
    "Given an integer n, calculate the square of a number without using *, / and pow(). \n",
    "\n",
    "Examples : \n",
    "\n",
    "Input: n = 5\n",
    "Output: 25\n",
    "\n",
    "Input: 7\n",
    "Output: 49\n",
    "\n",
    "Input: n = 12\n",
    "Output: 144"
   ]
  },
  {
   "cell_type": "code",
   "execution_count": null,
   "metadata": {},
   "outputs": [],
   "source": [
    "def square(n):\n",
    " \n",
    "    # handle negative input\n",
    "    if (n < 0):\n",
    "        n = -n\n",
    " \n",
    "    # Initialize result\n",
    "    res = n\n",
    " \n",
    "    # Add n to res n-1 times\n",
    "    for i in range(1, n):\n",
    "        res += n\n",
    " \n",
    "    return res"
   ]
  },
  {
   "cell_type": "markdown",
   "metadata": {},
   "source": [
    "Approach 2:\n",
    "\n",
    "We can do it in O(Logn) time using bitwise operators. The idea is based on the following fact.\n",
    "\n",
    "  square(n) = 0 if n == 0\n",
    "  if n is even \n",
    "     square(n) = 4*square(n/2) \n",
    "  if n is odd\n",
    "     square(n) = 4*square(floor(n/2)) + 4*floor(n/2) + 1 \n",
    "\n",
    "Examples\n",
    "  square(6) = 4*square(3)\n",
    "  square(3) = 4*(square(1)) + 4*1 + 1 = 9\n",
    "  square(7) = 4*square(3) + 4*3 + 1 = 4*9 + 4*3 + 1 = 49"
   ]
  },
  {
   "cell_type": "code",
   "execution_count": null,
   "metadata": {},
   "outputs": [],
   "source": [
    "def square(n):\n",
    " \n",
    "    # Base case\n",
    "    if (n == 0):\n",
    "        return 0\n",
    " \n",
    "    # Handle negative number\n",
    "    if (n < 0):\n",
    "        n = -n\n",
    " \n",
    "    # Get floor(n/2) using\n",
    "    # right shift\n",
    "    x = n >> 1\n",
    " \n",
    "    # If n is odd\n",
    "    if (n & 1):\n",
    "        return ((square(x) << 2)\n",
    "                + (x << 2) + 1)\n",
    " \n",
    "    # If n is even\n",
    "    else:\n",
    "        return (square(x) << 2)\n",
    " "
   ]
  },
  {
   "cell_type": "markdown",
   "metadata": {},
   "source": [
    "Power Set\n",
    "Difficulty Level : Medium\n",
    "Last Updated : 29 May, 2021\n",
    "Power Set Power set P(S) of a set S is the set of all subsets of S. For example S = {a, b, c} then P(s) = {{}, {a}, {b}, {c}, {a,b}, {a, c}, {b, c}, {a, b, c}}.\n",
    "If S has n elements in it then P(s) will have 2^n elements"
   ]
  },
  {
   "cell_type": "code",
   "execution_count": null,
   "metadata": {},
   "outputs": [],
   "source": [
    "### print all subsequences of str\n",
    "\n",
    "from itertools import combinations\n",
    "def print_powerset(string):\n",
    "    for i in range(0,len(string)+1):\n",
    "        for element in combinations(string,i):\n",
    "            print(''.join(element))"
   ]
  },
  {
   "cell_type": "code",
   "execution_count": null,
   "metadata": {},
   "outputs": [],
   "source": [
    "def AllPossibleStrings(self, STR):\n",
    "    # Code here\n",
    "    combs = []\n",
    "    out=[]\n",
    "    for l in range(1, len(STR)+1):\n",
    "        combs.append(list(itertools.combinations(STR, l)))\n",
    "    for c in combs:\n",
    "        for t in c:\n",
    "            out.append(''.join(t))\n",
    "    out.sort()\n",
    "    return out"
   ]
  },
  {
   "cell_type": "markdown",
   "metadata": {},
   "source": [
    "Input: Set[], set_size\n",
    "1. Get the size of power set\n",
    "    powet_set_size = pow(2, set_size)\n",
    "2  Loop for counter from 0 to pow_set_size\n",
    "     (a) Loop for i = 0 to set_size\n",
    "          (i) If ith bit in counter is set\n",
    "               Print ith element from set for this subset\n",
    "     (b) Print separator for subsets i.e., newline\n",
    "     \n",
    "     \n",
    "Set  = [a,b,c]\n",
    "power_set_size = pow(2, 3) = 8\n",
    "Run for binary counter = 000 to 111\n",
    "\n",
    "Value of Counter            Subset\n",
    "    000                    -> Empty set\n",
    "    001                    -> a\n",
    "    010                    -> b\n",
    "    011                    -> ab\n",
    "    100                    -> c\n",
    "    101                    -> ac\n",
    "    110                    -> bc\n",
    "    111                    -> abc"
   ]
  },
  {
   "cell_type": "code",
   "execution_count": null,
   "metadata": {},
   "outputs": [],
   "source": [
    "import math;\n",
    " \n",
    "def printPowerSet(set,set_size):\n",
    "     \n",
    "    # set_size of power set of a set\n",
    "    # with set_size n is (2**n -1)\n",
    "    pow_set_size = (int) (math.pow(2, set_size));\n",
    "    counter = 0;\n",
    "    j = 0;\n",
    "     \n",
    "    # Run from counter 000..0 to 111..1\n",
    "    for counter in range(0, pow_set_size):\n",
    "        for j in range(0, set_size):\n",
    "             \n",
    "            # Check if jth bit in the\n",
    "            # counter is set If set then\n",
    "            # print jth element from set\n",
    "            if((counter & (1 << j)) > 0):\n",
    "                print(set[j], end = \"\");\n",
    "        print(\"\");\n",
    " "
   ]
  },
  {
   "cell_type": "code",
   "execution_count": null,
   "metadata": {},
   "outputs": [],
   "source": []
  },
  {
   "cell_type": "code",
   "execution_count": null,
   "metadata": {},
   "outputs": [],
   "source": []
  },
  {
   "cell_type": "code",
   "execution_count": null,
   "metadata": {},
   "outputs": [],
   "source": []
  },
  {
   "cell_type": "code",
   "execution_count": null,
   "metadata": {},
   "outputs": [],
   "source": []
  },
  {
   "cell_type": "code",
   "execution_count": null,
   "metadata": {},
   "outputs": [],
   "source": []
  },
  {
   "cell_type": "code",
   "execution_count": null,
   "metadata": {},
   "outputs": [],
   "source": []
  },
  {
   "cell_type": "code",
   "execution_count": null,
   "metadata": {},
   "outputs": [],
   "source": []
  },
  {
   "cell_type": "code",
   "execution_count": null,
   "metadata": {},
   "outputs": [],
   "source": []
  },
  {
   "cell_type": "code",
   "execution_count": null,
   "metadata": {},
   "outputs": [],
   "source": []
  },
  {
   "cell_type": "code",
   "execution_count": null,
   "metadata": {},
   "outputs": [],
   "source": []
  },
  {
   "cell_type": "code",
   "execution_count": null,
   "metadata": {},
   "outputs": [],
   "source": []
  },
  {
   "cell_type": "code",
   "execution_count": null,
   "metadata": {},
   "outputs": [],
   "source": []
  },
  {
   "cell_type": "code",
   "execution_count": null,
   "metadata": {},
   "outputs": [],
   "source": []
  },
  {
   "cell_type": "code",
   "execution_count": null,
   "metadata": {},
   "outputs": [],
   "source": []
  },
  {
   "cell_type": "code",
   "execution_count": null,
   "metadata": {},
   "outputs": [],
   "source": []
  },
  {
   "cell_type": "code",
   "execution_count": null,
   "metadata": {},
   "outputs": [],
   "source": []
  },
  {
   "cell_type": "code",
   "execution_count": null,
   "metadata": {},
   "outputs": [],
   "source": []
  },
  {
   "cell_type": "code",
   "execution_count": null,
   "metadata": {},
   "outputs": [],
   "source": []
  },
  {
   "cell_type": "code",
   "execution_count": null,
   "metadata": {},
   "outputs": [],
   "source": []
  },
  {
   "cell_type": "code",
   "execution_count": null,
   "metadata": {},
   "outputs": [],
   "source": []
  },
  {
   "cell_type": "code",
   "execution_count": null,
   "metadata": {},
   "outputs": [],
   "source": []
  },
  {
   "cell_type": "code",
   "execution_count": null,
   "metadata": {},
   "outputs": [],
   "source": []
  },
  {
   "cell_type": "code",
   "execution_count": null,
   "metadata": {},
   "outputs": [],
   "source": []
  },
  {
   "cell_type": "code",
   "execution_count": null,
   "metadata": {},
   "outputs": [],
   "source": []
  }
 ],
 "metadata": {
  "kernelspec": {
   "display_name": "Python 3",
   "language": "python",
   "name": "python3"
  },
  "language_info": {
   "codemirror_mode": {
    "name": "ipython",
    "version": 3
   },
   "file_extension": ".py",
   "mimetype": "text/x-python",
   "name": "python",
   "nbconvert_exporter": "python",
   "pygments_lexer": "ipython3",
   "version": "3.8.5"
  }
 },
 "nbformat": 4,
 "nbformat_minor": 4
}
