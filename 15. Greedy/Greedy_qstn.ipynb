{
 "cells": [
  {
   "cell_type": "markdown",
   "metadata": {},
   "source": [
    "### When to use??\n",
    "1. Greedy-choice property\n",
    "2. optimal substructure- optimal soln to problem contains an optimal soln to subproblem"
   ]
  },
  {
   "cell_type": "markdown",
   "metadata": {},
   "source": [
    "### How??\n",
    "Select most max or min values from given values like we have 10,5,1 coins and we need to amke 29. We choose 2- 10 coins , 1 5 coins and 4 1 coins\n",
    "\n",
    "We choose highest value to reduce no fo coins\n",
    "\n",
    "\n",
    "In some cases greedy fails too\n",
    "\n",
    "So we follow optimal substrcutre or see type of qstn"
   ]
  },
  {
   "cell_type": "markdown",
   "metadata": {},
   "source": [
    "### Concept\n",
    "\n",
    "We select most otimized solution for each pick.\n",
    "To reach global optimized solution"
   ]
  },
  {
   "cell_type": "markdown",
   "metadata": {},
   "source": [
    "### N meetings in one room \n",
    "\n",
    "There is one meeting room in a firm. There are N meetings in the form of (start[i], end[i]) where start[i] is start time of meeting i and end[i] is finish time of meeting i.\n",
    "What is the maximum number of meetings that can be accommodated in the meeting room when only one meeting can be held in the meeting room at a particular time?\n",
    "\n",
    "Note: Start time of one chosen meeting can't be equal to the end time of the other chosen meeting.\n",
    "\n",
    "\n",
    "Example 1:\n",
    "\n",
    "Input:\n",
    "N = 6\n",
    "start[] = {1,3,0,5,8,5}\n",
    "end[] =  {2,4,6,7,9,9}\n",
    "Output: \n",
    "4\n",
    "Explanation:\n",
    "Maximum four meetings can be held with\n",
    "given start and end timings.\n",
    "The meetings are - (1, 2),(3, 4), (5,7) and (8,9)\n",
    "Example 2:\n",
    "\n",
    "Input:\n",
    "N = 3\n",
    "start[] = {10, 12, 20}\n",
    "end[] = {20, 25, 30}\n",
    "Output: \n",
    "1\n",
    "Explanation:\n",
    "Only one meetings can be held\n",
    "with given start and end timings."
   ]
  },
  {
   "cell_type": "code",
   "execution_count": null,
   "metadata": {},
   "outputs": [],
   "source": [
    "def maximumMeetings(self,n,start,end):\n",
    "    # code herel\n",
    "    li=[]\n",
    "    for i in range(0,n):\n",
    "        a=[start[i],end[i]]\n",
    "        li.append(a)\n",
    "    li.sort(key=lambda x:x[1])\n",
    "    # print(li)\n",
    "    i=-1\n",
    "    c=0\n",
    "    for j in range(n):\n",
    "        if li[j][0]>i:\n",
    "            i=li[j][1]\n",
    "            c+=1\n",
    "    return c"
   ]
  },
  {
   "cell_type": "markdown",
   "metadata": {},
   "source": [
    "### Job Sequencing Problem \n",
    "\n",
    "Given a set of N jobs where each jobi has a deadline and profit associated with it. Each job takes 1 unit of time to complete and only one job can be scheduled at a time. We earn the profit if and only if the job is completed by its deadline. The task is to find the number of jobs done and the maximum profit.\n",
    "\n",
    "Note: Jobs will be given in the form (Jobid, Deadline, Profit) associated with that Job.\n",
    "\n",
    "\n",
    "Example 1:\n",
    "\n",
    "Input:\n",
    "N = 4\n",
    "Jobs = {(1,4,20),(2,1,10),(3,1,40),(4,1,30)}\n",
    "Output:\n",
    "2 60\n",
    "Explanation:\n",
    "Job1 and Job3 can be done with\n",
    "maximum profit of 60 (20+40).\n",
    "Example 2:\n",
    "\n",
    "Input:\n",
    "N = 5\n",
    "Jobs = {(1,2,100),(2,1,19),(3,2,27),\n",
    "        (4,1,25),(5,1,15)}\n",
    "Output:\n",
    "2 127\n",
    "Explanation:\n",
    "2 jobs can be done with\n",
    "maximum profit of 127 (100+27)."
   ]
  },
  {
   "cell_type": "code",
   "execution_count": null,
   "metadata": {},
   "outputs": [],
   "source": [
    "def printJobScheduling(arr, t):\n",
    "    \n",
    "    n = len(arr)\n",
    " \n",
    "    # Sort all jobs according to\n",
    "    # decreasing order of profit\n",
    "    for i in range(n):\n",
    "        for j in range(n - 1 - i):\n",
    "            if arr[j][2] < arr[j + 1][2]:\n",
    "                arr[j], arr[j + 1] = arr[j + 1], arr[j]\n",
    " \n",
    "    # To keep track of free time slots\n",
    "    result = [False] * t\n",
    " \n",
    "    # To store result (Sequence of jobs)\n",
    "    job = ['-1'] * t\n",
    " \n",
    "    # Iterate through all given jobs\n",
    "    for i in range(len(arr)):\n",
    " \n",
    "        # Find a free slot for this job\n",
    "        # (Note that we start from the\n",
    "        # last possible slot)\n",
    "        \n",
    "        \n",
    "        ####VVVVVVVVVVIIIIIIIIIIIIIIIIIIIIIIII######################\n",
    "        ########### we fill the job at last of deadline #############\n",
    "        ########thats why min(t-1,arr[i][1]-1)############## \n",
    "        ########VVVIII##########\n",
    "        \n",
    "        for j in range(min(t - 1, arr[i][1] - 1), -1, -1):\n",
    " \n",
    "            # Free slot found\n",
    "            if result[j] is False:\n",
    "                result[j] = True\n",
    "                job[j] = arr[i][0]\n",
    "                break\n",
    "    \n",
    "    \n",
    "    print(job)"
   ]
  },
  {
   "cell_type": "markdown",
   "metadata": {},
   "source": [
    "### Huffman Encoding \n",
    "Given a string S of distinct character of size N and their corresponding frequency f[ ] i.e. character S[i] has f[i] frequency. Your task is to build the Huffman tree print all the huffman codes in preorder traversal of the tree.\n",
    "Note: If two elements have same frequency, then the element which occur at first will be taken on the left of Binary Tree and other one to the right.\n",
    "\n",
    "Example 1:\n",
    "\n",
    "S = \"abcdef\"\n",
    "f[] = {5, 9, 12, 13, 16, 45}\n",
    "Output: \n",
    "0 100 101 1100 1101 111\n",
    "Explanation:\n",
    "HuffmanCodes will be:\n",
    "f : 0\n",
    "c : 100\n",
    "d : 101\n",
    "a : 1100\n",
    "b : 1101\n",
    "e : 111\n",
    "Hence printing them in the PreOrder of Binary \n",
    "Tree."
   ]
  },
  {
   "cell_type": "markdown",
   "metadata": {},
   "source": [
    "Huffman coding is a lossless data compression algorithm. The idea is to assign variable-length codes to input characters, lengths of the assigned codes are based on the frequencies of corresponding characters. <br><b> <i>The most frequent character gets the smallest code and the least frequent character gets the largest code. </b></i> <br>\n",
    "The variable-length codes assigned to input characters are Prefix Codes, means the codes (bit sequences) are assigned in such a way that the code assigned to one character is not the prefix of code assigned to any other character. This is how Huffman Coding makes sure that there is no ambiguity when decoding the generated bitstream. "
   ]
  },
  {
   "cell_type": "code",
   "execution_count": null,
   "metadata": {},
   "outputs": [],
   "source": [
    "class node:\n",
    "    def __init__(self, freq, symbol, left=None, right=None):\n",
    "\n",
    "        self.freq = freq\n",
    "\n",
    "        self.symbol = symbol\n",
    "\n",
    "        self.left = left\n",
    "\n",
    "        self.right = right\n",
    "\n",
    "        self.huff = ''\n",
    " \n",
    "\n",
    " \n",
    " \n",
    "def printNodes(node, val=''):\n",
    "    newVal = val + str(node.huff)\n",
    "\n",
    "    if(node.left):\n",
    "        printNodes(node.left, newVal)\n",
    "    if(node.right):\n",
    "        printNodes(node.right, newVal)\n",
    "    if(not node.left and not node.right):\n",
    "        print(f\"{node.symbol} -> {newVal}\")\n",
    "\n",
    "chars = ['a', 'b', 'c', 'd', 'e', 'f']\n",
    "\n",
    "freq = [ 5, 9, 12, 13, 16, 45]\n",
    "\n",
    "nodes = []\n",
    "\n",
    "for x in range(len(chars)):\n",
    "    nodes.append(node(freq[x], chars[x]))\n",
    " \n",
    "while len(nodes) > 1:\n",
    "    # sort all the nodes in ascending order\n",
    "    # based on theri frequency\n",
    "    nodes = sorted(nodes, key=lambda x: x.freq)\n",
    " \n",
    "    # pick 2 smallest nodes\n",
    "    left = nodes[0]\n",
    "    right = nodes[1]\n",
    " \n",
    "    # assign directional value to these nodes\n",
    "    left.huff = 0\n",
    "    right.huff = 1\n",
    " \n",
    "    # combine the 2 smallest nodes to create\n",
    "    # new node as their parent\n",
    "    newNode = node(left.freq+right.freq, left.symbol+right.symbol, left, right)\n",
    " \n",
    "    # remove the 2 nodes and add their\n",
    "    # parent as new node among others\n",
    "    nodes.remove(left)\n",
    "    nodes.remove(right)\n",
    "    nodes.append(newNode)\n",
    " \n",
    "# Huffman Tree is ready!\n",
    "printNodes(nodes[0])"
   ]
  },
  {
   "cell_type": "code",
   "execution_count": null,
   "metadata": {},
   "outputs": [],
   "source": [
    "from collections import deque\n",
    "class node:\n",
    "    def __init__(self, freq, symbol, left=None, right=None):\n",
    "        # frequency of symbol\n",
    "        self.freq = freq\n",
    " \n",
    "        # symbol name (charecter)\n",
    "        self.symbol = symbol\n",
    " \n",
    "        # node left of current node\n",
    "        self.left = left\n",
    " \n",
    "        # node right of current node\n",
    "        self.right = right\n",
    " \n",
    "        # tree direction (0/1)\n",
    "        self.huff = ''\n",
    "        \n",
    "        \n",
    "def huff(chars,freq,n):\n",
    "    nodes = []\n",
    "\n",
    "    for x in range(len(chars)):\n",
    "        nodes.append(node(freq[x], chars[x]))\n",
    "     \n",
    "    while len(nodes) > 1:\n",
    "\n",
    "        nodes = sorted(nodes, key=lambda x: x.freq)\n",
    "     \n",
    "        # pick 2 smallest nodes\n",
    "        left = nodes[0]\n",
    "        right = nodes[1]\n",
    "  \n",
    "        left.huff = 0\n",
    "        right.huff = 1\n",
    "\n",
    "        newNode = node(left.freq+right.freq, left.symbol+right.symbol, left, right)\n",
    "\n",
    "        nodes.remove(left)\n",
    "        nodes.remove(right)\n",
    "        nodes.append(newNode)\n",
    "\n",
    "    return nodes[0]\n",
    "    \n",
    "    \n",
    "def preorderIterative(node,val,arr):\n",
    "    newVal = val + str(node.huff)\n",
    " \n",
    "\n",
    "    if(node.left):\n",
    "        preorderIterative(node.left, newVal,arr)\n",
    "    if(node.right):\n",
    "        preorderIterative(node.right, newVal,arr)\n",
    "\n",
    "    if(not node.left and not node.right):\n",
    "        arr.append(newVal)\n",
    "\n",
    "class Solution:\n",
    "    def huffmanCodes(self,S,f,N):\n",
    "\n",
    "        root=huff(S,f,N)\n",
    "        arr=[]\n",
    "        preorderIterative(root,'',arr)\n",
    "        \n",
    "        return arr\n",
    "        "
   ]
  },
  {
   "cell_type": "markdown",
   "metadata": {},
   "source": [
    "### Water Connection Problem \n",
    "\n",
    "Every house in the colony has at most one pipe going into it and at most one pipe going out of it. Tanks and taps are to be installed in a manner such that every house with one outgoing pipe but no incoming pipe gets a tank installed on its roof and every house with only an incoming pipe and no outgoing pipe gets a tap.\n",
    "\n",
    "Given two integers n and p denoting the number of houses and the number of pipes. The connections of pipe among the houses contain three input values: ai, bi, di denoting the pipe of diameter di from house ai to house bi. Find the efficient way for the construction of the network of pipes.\n",
    "\n",
    "The output will contain the number of pairs of tanks and taps t installed in first line and the next t lines contain three integers: house number of tank, house number of tap and the minimum diameter of pipe between them.\n",
    "\n",
    "\n",
    "Example 1:\n",
    "\n",
    "Input:\n",
    "n = 9, p = 6\n",
    "a[] = {7,5,4,2,9,3}\n",
    "b[] = {4,9,6,8,7,1}\n",
    "d[] = {98,72,10,22,17,66} \n",
    "Output: \n",
    "3\n",
    "2 8 22\n",
    "3 1 66\n",
    "5 6 10\n",
    "Explanation:\n",
    "Connected components are 3->1, 5->9->7->4->6 and 2->8.\n",
    "Therefore, our answer is 3 followed by 2 8 22, 3 1 66, 5 "
   ]
  },
  {
   "cell_type": "code",
   "execution_count": null,
   "metadata": {},
   "outputs": [],
   "source": [
    "n = 0\n",
    "p = 0\n",
    "\n",
    "rd = [0]*1100\n",
    "\n",
    "wt = [0]*1100\n",
    "\n",
    "cd = [0]*1100\n",
    "\n",
    "a = []\n",
    "b = []\n",
    "c = []\n",
    " \n",
    "ans = 0\n",
    " \n",
    "def dfs(w):\n",
    "    global ans\n",
    "    if (cd[w] == 0):\n",
    "        return w\n",
    "    if (wt[w] < ans):\n",
    "        ans = wt[w]\n",
    "    return dfs(cd[w])\n",
    " \n",
    "# Function performing calculations.\n",
    "def solve(arr):\n",
    "    global ans\n",
    "    i = 0\n",
    "    while (i < p):\n",
    "        q = arr[i][0]\n",
    "        h = arr[i][1]\n",
    "        t = arr[i][2]\n",
    "         \n",
    "        cd[q] = h\n",
    "        wt[q] = t\n",
    "        rd[h] = q\n",
    "        i += 1\n",
    "    a = []\n",
    "    b = []\n",
    "    c = []\n",
    "\n",
    "    for j in range(1, n + 1):\n",
    "        if (rd[j] == 0 and cd[j]):\n",
    "             \n",
    "            ans = 1000000000\n",
    "            w = dfs(j)\n",
    "   \n",
    "            a.append(j)\n",
    "            b.append(w)\n",
    "            c.append(ans)\n",
    "    print(len(a))\n",
    "    for j in range(len(a)):\n",
    "        print(a[j], b[j], c[j])"
   ]
  },
  {
   "cell_type": "markdown",
   "metadata": {},
   "source": [
    "### Fractional Knapsack \n",
    "\n",
    "Given weights and values of N items, we need to put these items in a knapsack of capacity W to get the maximum total value in the knapsack.\n",
    "Note: Unlike 0/1 knapsack, you are allowed to break the item. \n",
    "\n",
    " \n",
    "\n",
    "Example 1:\n",
    "\n",
    "Input:\n",
    "N = 3, W = 50\n",
    "values[] = {60,100,120}\n",
    "weight[] = {10,20,30}\n",
    "Output:\n",
    "240.00\n",
    "Explanation:Total maximum value of item\n",
    "we can have is 240.00 from the given\n",
    "capacity of sack. \n",
    "Example 2:\n",
    "\n",
    "Input:\n",
    "N = 2, W = 50\n",
    "values[] = {60,100}\n",
    "weight[] = {10,20}\n",
    "Output:\n",
    "160.00\n",
    "Explanation:\n",
    "Total maximum value of item\n",
    "we can have is 160.00 from the given\n",
    "capacity of sack.\n",
    " "
   ]
  },
  {
   "cell_type": "code",
   "execution_count": null,
   "metadata": {},
   "outputs": [],
   "source": []
  },
  {
   "cell_type": "code",
   "execution_count": null,
   "metadata": {},
   "outputs": [],
   "source": []
  },
  {
   "cell_type": "code",
   "execution_count": null,
   "metadata": {},
   "outputs": [],
   "source": []
  },
  {
   "cell_type": "code",
   "execution_count": null,
   "metadata": {},
   "outputs": [],
   "source": []
  },
  {
   "cell_type": "code",
   "execution_count": null,
   "metadata": {},
   "outputs": [],
   "source": []
  },
  {
   "cell_type": "code",
   "execution_count": null,
   "metadata": {},
   "outputs": [],
   "source": []
  },
  {
   "cell_type": "code",
   "execution_count": null,
   "metadata": {},
   "outputs": [],
   "source": []
  },
  {
   "cell_type": "code",
   "execution_count": null,
   "metadata": {},
   "outputs": [],
   "source": []
  },
  {
   "cell_type": "code",
   "execution_count": null,
   "metadata": {},
   "outputs": [],
   "source": []
  },
  {
   "cell_type": "code",
   "execution_count": null,
   "metadata": {},
   "outputs": [],
   "source": []
  },
  {
   "cell_type": "code",
   "execution_count": null,
   "metadata": {},
   "outputs": [],
   "source": []
  },
  {
   "cell_type": "code",
   "execution_count": null,
   "metadata": {},
   "outputs": [],
   "source": []
  },
  {
   "cell_type": "code",
   "execution_count": null,
   "metadata": {},
   "outputs": [],
   "source": []
  },
  {
   "cell_type": "code",
   "execution_count": null,
   "metadata": {},
   "outputs": [],
   "source": []
  },
  {
   "cell_type": "code",
   "execution_count": null,
   "metadata": {},
   "outputs": [],
   "source": []
  },
  {
   "cell_type": "code",
   "execution_count": null,
   "metadata": {},
   "outputs": [],
   "source": []
  },
  {
   "cell_type": "code",
   "execution_count": null,
   "metadata": {},
   "outputs": [],
   "source": []
  },
  {
   "cell_type": "code",
   "execution_count": null,
   "metadata": {},
   "outputs": [],
   "source": []
  },
  {
   "cell_type": "code",
   "execution_count": null,
   "metadata": {},
   "outputs": [],
   "source": []
  },
  {
   "cell_type": "code",
   "execution_count": null,
   "metadata": {},
   "outputs": [],
   "source": []
  },
  {
   "cell_type": "code",
   "execution_count": null,
   "metadata": {},
   "outputs": [],
   "source": []
  },
  {
   "cell_type": "code",
   "execution_count": null,
   "metadata": {},
   "outputs": [],
   "source": []
  },
  {
   "cell_type": "code",
   "execution_count": null,
   "metadata": {},
   "outputs": [],
   "source": []
  },
  {
   "cell_type": "code",
   "execution_count": null,
   "metadata": {},
   "outputs": [],
   "source": []
  },
  {
   "cell_type": "code",
   "execution_count": null,
   "metadata": {},
   "outputs": [],
   "source": []
  },
  {
   "cell_type": "code",
   "execution_count": null,
   "metadata": {},
   "outputs": [],
   "source": []
  },
  {
   "cell_type": "code",
   "execution_count": null,
   "metadata": {},
   "outputs": [],
   "source": []
  },
  {
   "cell_type": "code",
   "execution_count": null,
   "metadata": {},
   "outputs": [],
   "source": []
  },
  {
   "cell_type": "code",
   "execution_count": null,
   "metadata": {},
   "outputs": [],
   "source": []
  },
  {
   "cell_type": "code",
   "execution_count": null,
   "metadata": {},
   "outputs": [],
   "source": []
  },
  {
   "cell_type": "code",
   "execution_count": null,
   "metadata": {},
   "outputs": [],
   "source": []
  },
  {
   "cell_type": "code",
   "execution_count": null,
   "metadata": {},
   "outputs": [],
   "source": []
  },
  {
   "cell_type": "code",
   "execution_count": null,
   "metadata": {},
   "outputs": [],
   "source": []
  },
  {
   "cell_type": "code",
   "execution_count": null,
   "metadata": {},
   "outputs": [],
   "source": []
  },
  {
   "cell_type": "code",
   "execution_count": null,
   "metadata": {},
   "outputs": [],
   "source": []
  },
  {
   "cell_type": "code",
   "execution_count": null,
   "metadata": {},
   "outputs": [],
   "source": []
  },
  {
   "cell_type": "code",
   "execution_count": null,
   "metadata": {},
   "outputs": [],
   "source": []
  },
  {
   "cell_type": "code",
   "execution_count": null,
   "metadata": {},
   "outputs": [],
   "source": []
  },
  {
   "cell_type": "code",
   "execution_count": null,
   "metadata": {},
   "outputs": [],
   "source": []
  },
  {
   "cell_type": "code",
   "execution_count": null,
   "metadata": {},
   "outputs": [],
   "source": []
  },
  {
   "cell_type": "code",
   "execution_count": null,
   "metadata": {},
   "outputs": [],
   "source": []
  },
  {
   "cell_type": "code",
   "execution_count": null,
   "metadata": {},
   "outputs": [],
   "source": []
  },
  {
   "cell_type": "code",
   "execution_count": null,
   "metadata": {},
   "outputs": [],
   "source": []
  },
  {
   "cell_type": "code",
   "execution_count": null,
   "metadata": {},
   "outputs": [],
   "source": []
  },
  {
   "cell_type": "code",
   "execution_count": null,
   "metadata": {},
   "outputs": [],
   "source": []
  },
  {
   "cell_type": "code",
   "execution_count": null,
   "metadata": {},
   "outputs": [],
   "source": []
  },
  {
   "cell_type": "code",
   "execution_count": null,
   "metadata": {},
   "outputs": [],
   "source": []
  },
  {
   "cell_type": "code",
   "execution_count": null,
   "metadata": {},
   "outputs": [],
   "source": []
  },
  {
   "cell_type": "code",
   "execution_count": null,
   "metadata": {},
   "outputs": [],
   "source": []
  },
  {
   "cell_type": "code",
   "execution_count": null,
   "metadata": {},
   "outputs": [],
   "source": []
  },
  {
   "cell_type": "code",
   "execution_count": null,
   "metadata": {},
   "outputs": [],
   "source": []
  },
  {
   "cell_type": "code",
   "execution_count": null,
   "metadata": {},
   "outputs": [],
   "source": []
  },
  {
   "cell_type": "code",
   "execution_count": null,
   "metadata": {},
   "outputs": [],
   "source": []
  },
  {
   "cell_type": "code",
   "execution_count": null,
   "metadata": {},
   "outputs": [],
   "source": []
  },
  {
   "cell_type": "code",
   "execution_count": null,
   "metadata": {},
   "outputs": [],
   "source": []
  },
  {
   "cell_type": "code",
   "execution_count": null,
   "metadata": {},
   "outputs": [],
   "source": []
  },
  {
   "cell_type": "code",
   "execution_count": null,
   "metadata": {},
   "outputs": [],
   "source": []
  },
  {
   "cell_type": "code",
   "execution_count": null,
   "metadata": {},
   "outputs": [],
   "source": []
  },
  {
   "cell_type": "code",
   "execution_count": null,
   "metadata": {},
   "outputs": [],
   "source": []
  },
  {
   "cell_type": "code",
   "execution_count": null,
   "metadata": {},
   "outputs": [],
   "source": []
  },
  {
   "cell_type": "code",
   "execution_count": null,
   "metadata": {},
   "outputs": [],
   "source": []
  },
  {
   "cell_type": "code",
   "execution_count": null,
   "metadata": {},
   "outputs": [],
   "source": []
  },
  {
   "cell_type": "code",
   "execution_count": null,
   "metadata": {},
   "outputs": [],
   "source": []
  },
  {
   "cell_type": "code",
   "execution_count": null,
   "metadata": {},
   "outputs": [],
   "source": []
  },
  {
   "cell_type": "code",
   "execution_count": null,
   "metadata": {},
   "outputs": [],
   "source": []
  },
  {
   "cell_type": "code",
   "execution_count": null,
   "metadata": {},
   "outputs": [],
   "source": []
  },
  {
   "cell_type": "code",
   "execution_count": null,
   "metadata": {},
   "outputs": [],
   "source": []
  },
  {
   "cell_type": "code",
   "execution_count": null,
   "metadata": {},
   "outputs": [],
   "source": []
  },
  {
   "cell_type": "code",
   "execution_count": null,
   "metadata": {},
   "outputs": [],
   "source": []
  },
  {
   "cell_type": "code",
   "execution_count": null,
   "metadata": {},
   "outputs": [],
   "source": []
  },
  {
   "cell_type": "code",
   "execution_count": null,
   "metadata": {},
   "outputs": [],
   "source": []
  },
  {
   "cell_type": "code",
   "execution_count": null,
   "metadata": {},
   "outputs": [],
   "source": []
  },
  {
   "cell_type": "code",
   "execution_count": null,
   "metadata": {},
   "outputs": [],
   "source": []
  },
  {
   "cell_type": "code",
   "execution_count": null,
   "metadata": {},
   "outputs": [],
   "source": []
  },
  {
   "cell_type": "code",
   "execution_count": null,
   "metadata": {},
   "outputs": [],
   "source": []
  },
  {
   "cell_type": "code",
   "execution_count": null,
   "metadata": {},
   "outputs": [],
   "source": []
  },
  {
   "cell_type": "code",
   "execution_count": null,
   "metadata": {},
   "outputs": [],
   "source": []
  },
  {
   "cell_type": "code",
   "execution_count": null,
   "metadata": {},
   "outputs": [],
   "source": []
  },
  {
   "cell_type": "code",
   "execution_count": null,
   "metadata": {},
   "outputs": [],
   "source": []
  },
  {
   "cell_type": "code",
   "execution_count": null,
   "metadata": {},
   "outputs": [],
   "source": []
  },
  {
   "cell_type": "code",
   "execution_count": null,
   "metadata": {},
   "outputs": [],
   "source": []
  },
  {
   "cell_type": "code",
   "execution_count": null,
   "metadata": {},
   "outputs": [],
   "source": []
  },
  {
   "cell_type": "code",
   "execution_count": null,
   "metadata": {},
   "outputs": [],
   "source": []
  },
  {
   "cell_type": "code",
   "execution_count": null,
   "metadata": {},
   "outputs": [],
   "source": []
  },
  {
   "cell_type": "code",
   "execution_count": null,
   "metadata": {},
   "outputs": [],
   "source": []
  },
  {
   "cell_type": "code",
   "execution_count": null,
   "metadata": {},
   "outputs": [],
   "source": []
  },
  {
   "cell_type": "code",
   "execution_count": null,
   "metadata": {},
   "outputs": [],
   "source": []
  },
  {
   "cell_type": "code",
   "execution_count": null,
   "metadata": {},
   "outputs": [],
   "source": []
  },
  {
   "cell_type": "code",
   "execution_count": null,
   "metadata": {},
   "outputs": [],
   "source": []
  },
  {
   "cell_type": "code",
   "execution_count": null,
   "metadata": {},
   "outputs": [],
   "source": []
  },
  {
   "cell_type": "code",
   "execution_count": null,
   "metadata": {},
   "outputs": [],
   "source": []
  },
  {
   "cell_type": "code",
   "execution_count": null,
   "metadata": {},
   "outputs": [],
   "source": []
  },
  {
   "cell_type": "code",
   "execution_count": null,
   "metadata": {},
   "outputs": [],
   "source": []
  },
  {
   "cell_type": "code",
   "execution_count": null,
   "metadata": {},
   "outputs": [],
   "source": []
  }
 ],
 "metadata": {
  "kernelspec": {
   "display_name": "Python 3",
   "language": "python",
   "name": "python3"
  },
  "language_info": {
   "codemirror_mode": {
    "name": "ipython",
    "version": 3
   },
   "file_extension": ".py",
   "mimetype": "text/x-python",
   "name": "python",
   "nbconvert_exporter": "python",
   "pygments_lexer": "ipython3",
   "version": "3.8.5"
  }
 },
 "nbformat": 4,
 "nbformat_minor": 4
}
