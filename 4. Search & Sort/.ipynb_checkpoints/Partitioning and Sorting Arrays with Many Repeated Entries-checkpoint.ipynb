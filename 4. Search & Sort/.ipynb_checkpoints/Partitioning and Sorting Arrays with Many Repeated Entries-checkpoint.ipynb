{
 "cells": [
  {
   "cell_type": "markdown",
   "metadata": {},
   "source": [
    "PROBLEM STATEMENT\n",
    "You’re given an array with many repeated values. Your task is to sort this array efficiently.\n",
    "Input Format :\n",
    "The first line of the input contains an integer T denoting the number of test cases.\n",
    "\n",
    "The first line of each test case contains an integer N, the size of the array.\n",
    "\n",
    "The second line of each test case contains N space-separated integers, the elements present in the array.\n",
    "Output Format :\n",
    "For every test case, the only line of output should contain N space-separated integers in sorted order.\n",
    "Note :\n",
    "You do not need to print anything, it has already been taken care of. Just implement the given function. \n",
    "Constraints :\n",
    "1 <= T <= 10\n",
    "1 <=  N <= 10^5\n",
    "10^-9<= arr[i] <= 10^9\n",
    "\n",
    "Time limit: 1 sec"
   ]
  },
  {
   "cell_type": "markdown",
   "metadata": {},
   "source": [
    "APPROACH 1\n",
    "In the QuickSort Algorithm, we do the partitioning of the array into smaller arrays. We partition our array into two smaller arrays such that elements of one sub-array are smaller than the pivot element and the elements of the other sub-array are greater than the pivot element.\n",
    "\n",
    " \n",
    "\n",
    "Algorithm:\n",
    "\n",
    "Create a helper function quickSortHelper() to partition the array, which will have three parameters, given our array, an integer low, and an integer high.\n",
    "Select any value of the array and name it as “pivot”. Let’s assume the last element of the array(arr[high]) as our pivot.\n",
    "Make an integer variable named ‘small’ which will have an index of the smallest element i.e low-1.\n",
    "Then run a loop from low to (high - 1) and for elements check if their value is greater than or less than the pivot. If their value is less, then increment ‘small’ and then swap that element with ‘small’.\n",
    "After exiting this loop and swapping arr[small+1] with arr[high], return the partitioning index i.e small+1.\n",
    "In the function quickSort, we’ll also have three arguments i.e our array, an integer low, and an integer high.\n",
    "If low < high, then in order to sort the smaller elements and the greater elements we make an integer variable partitonIndex  = quickSortHelper(arr, low, high).\n",
    "Then one by one, sort the elements before partition by calling quickSortHelper(arr, low, partitonIndex -1), and after partition by calling quickSortHelper(arr, partitionIndex + 1, high)."
   ]
  },
  {
   "cell_type": "code",
   "execution_count": null,
   "metadata": {},
   "outputs": [],
   "source": []
  },
  {
   "cell_type": "markdown",
   "metadata": {},
   "source": [
    "APPROACH 2\n",
    "The idea is to apply the divide and conquer approach to sort the array. As the name says this algorithm is inspired by the Dutch Flag which is made up of three colors: Red, White, and Blue. With respect to a particular element(‘pivot’), we can put the array elements groups into different groups. The red group will contain all the elements which are lesser than the pivot, the blue group will have elements that are greater than the pivot and finally, and the white group will have elements that are equal to the pivot element.\n",
    "\n",
    " \n",
    "\n",
    "The algorithm is as follows:\n",
    "\n",
    "Select any value of the array, let’s say this value is “pivot”.\n",
    "We will rearrange the elements of the given array into 3 partitions, and the leftmost partition will consist of all elements less than “pivot”, the middle partition will contain all elements equal to “pivot”, the right partition will contain all elements greater than “pivot”.\n",
    "The steps to partition the given array by using the last element of the array as the  “pivot” are as follows:\n",
    "Fix the last element of the given array as “pivot”.\n",
    "Initialize variables “start” and “mid” with the starting index of the array. Also, initialize a variable “end” with the last index of the array.\n",
    "While “mid” is less than or equal to “end” do the following steps:\n",
    "If the value at index “mid” is less than “pivot” then swap the values at indices start and mid. Also, increment the value of mid and start by 1.\n",
    "If the value at index “mid” is greater than “pivot” then swap the values at indices “end” and “mid”. Also, decrement the value of “end” by 1.\n",
    "If the value at index “mid” is equal to “pivot” then increment the value of “mid” by 1.\n",
    "After partitioning the array, sort the leftmost and the rightmost partitions by recursively calling the function. The middle partition is already sorted since all values in the middle partition are equal.\n"
   ]
  },
  {
   "cell_type": "code",
   "execution_count": null,
   "metadata": {},
   "outputs": [],
   "source": []
  },
  {
   "cell_type": "markdown",
   "metadata": {},
   "source": [
    "APPROACH 3\n",
    "Similar to the QuickSort algorithm start by making a pivot element. Let’s call the elements that are not visited the ‘notVisited’ elements and as soon as we’re done traversing the array we can visualize our array as a composition of 5 regions.\n",
    "\n",
    " \n",
    "\n",
    "On each of the ends, we will have regions that have values equal to that of the pivot element.\n",
    "In the center will lie our ‘notVisited’ region which will keep on decreasing as we keep visiting the array elements.\n",
    "To the right of this ‘notVisited’ region will lie the greater region which has elements greater than the pivot element.\n",
    "To the left of this ‘notVisited’ region will lie the lesser region which has elements smaller than the pivot element.\n",
    "When we have visited all the elements and we are left with only 4 regions(2 equal regions, the lesser region, and the greater region), we move both the equal regions to the center.\n",
    "To achieve this, swap the elements in the first equal region(on the left side) with the elements of the lesser region.\n",
    "Similarly, swap the elements in the second equal region(on the right side) with the elements of the greater region.\n",
    "Now we have 3 partitions, we can apply our sorting algorithm to sort the lesser region and the greater region.\n",
    " \n",
    "\n",
    "Algorithm:\n",
    "\n",
    "Select any value of the array, let’s call this value as “pivot”.\n",
    "Then we initialize two integer variables named ‘low’, and ’high’, where ‘low’  points to the first index and ‘high’ points to the last index of the array.\n",
    "We also need to keep a count of the equal elements lying on the leftmost and rightmost side of the array. Hence make two integer variables ‘leftCount’ and ‘rightCount’ and initialize both of them equal to 0.\n",
    "Create a helper function quickSortHelper() to partition the array, which will have three parameters, our given array, an integer low, and an integer high.\n",
    "While the value of ‘low’ is lesser than the pivot element, keep moving in the right direction and incrementing ‘left’ by 1.\n",
    "While the value of ‘high’ is greater than the pivot element, keep moving in the left direction and decreasing ‘high’ by 1.\n",
    "At the point where low becomes equal to high and arr[low]=pivot, swap arr[leftCount] with arr[low], and increment both leftCount and low by 1.\n",
    "After the above operation check if ‘low’ is greater than or equal to ‘high’, if this condition is true, exit the loop, else swap ‘low’ and ‘high’ and move forward.\n",
    "If arr[low] = pivot, swap arrr[leftCount] wiht arr[low] and similiarly if arr[high] = pivot, swap arrr[rightCount] wiht arr[high]. After checking both these conditions simply increment ‘low’ by 1 and decrease ‘high’ by 1.\n",
    "Also, move the elements equal to the pivot element to the ends of the array and at the same time increment ‘leftCount’ or ‘rightCount’ accordingly.\n",
    "Then move the elements from the left and right ends of the array to the center of the array.\n",
    "In the end, we will recursively call the function to sort the lesser and greater region.\n"
   ]
  },
  {
   "cell_type": "code",
   "execution_count": null,
   "metadata": {},
   "outputs": [],
   "source": []
  },
  {
   "cell_type": "code",
   "execution_count": null,
   "metadata": {},
   "outputs": [],
   "source": []
  },
  {
   "cell_type": "code",
   "execution_count": null,
   "metadata": {},
   "outputs": [],
   "source": []
  },
  {
   "cell_type": "code",
   "execution_count": null,
   "metadata": {},
   "outputs": [],
   "source": []
  },
  {
   "cell_type": "code",
   "execution_count": null,
   "metadata": {},
   "outputs": [],
   "source": []
  },
  {
   "cell_type": "code",
   "execution_count": null,
   "metadata": {},
   "outputs": [],
   "source": []
  },
  {
   "cell_type": "code",
   "execution_count": null,
   "metadata": {},
   "outputs": [],
   "source": []
  },
  {
   "cell_type": "code",
   "execution_count": null,
   "metadata": {},
   "outputs": [],
   "source": []
  },
  {
   "cell_type": "code",
   "execution_count": null,
   "metadata": {},
   "outputs": [],
   "source": []
  },
  {
   "cell_type": "code",
   "execution_count": null,
   "metadata": {},
   "outputs": [],
   "source": []
  },
  {
   "cell_type": "code",
   "execution_count": null,
   "metadata": {},
   "outputs": [],
   "source": []
  },
  {
   "cell_type": "code",
   "execution_count": null,
   "metadata": {},
   "outputs": [],
   "source": []
  },
  {
   "cell_type": "code",
   "execution_count": null,
   "metadata": {},
   "outputs": [],
   "source": []
  },
  {
   "cell_type": "code",
   "execution_count": null,
   "metadata": {},
   "outputs": [],
   "source": []
  },
  {
   "cell_type": "code",
   "execution_count": null,
   "metadata": {},
   "outputs": [],
   "source": []
  },
  {
   "cell_type": "code",
   "execution_count": null,
   "metadata": {},
   "outputs": [],
   "source": []
  },
  {
   "cell_type": "code",
   "execution_count": null,
   "metadata": {},
   "outputs": [],
   "source": []
  },
  {
   "cell_type": "code",
   "execution_count": null,
   "metadata": {},
   "outputs": [],
   "source": []
  },
  {
   "cell_type": "code",
   "execution_count": null,
   "metadata": {},
   "outputs": [],
   "source": []
  },
  {
   "cell_type": "code",
   "execution_count": null,
   "metadata": {},
   "outputs": [],
   "source": []
  },
  {
   "cell_type": "code",
   "execution_count": null,
   "metadata": {},
   "outputs": [],
   "source": []
  },
  {
   "cell_type": "code",
   "execution_count": null,
   "metadata": {},
   "outputs": [],
   "source": []
  },
  {
   "cell_type": "code",
   "execution_count": null,
   "metadata": {},
   "outputs": [],
   "source": []
  },
  {
   "cell_type": "code",
   "execution_count": null,
   "metadata": {},
   "outputs": [],
   "source": []
  },
  {
   "cell_type": "code",
   "execution_count": null,
   "metadata": {},
   "outputs": [],
   "source": []
  },
  {
   "cell_type": "code",
   "execution_count": null,
   "metadata": {},
   "outputs": [],
   "source": []
  },
  {
   "cell_type": "code",
   "execution_count": null,
   "metadata": {},
   "outputs": [],
   "source": []
  },
  {
   "cell_type": "code",
   "execution_count": null,
   "metadata": {},
   "outputs": [],
   "source": []
  },
  {
   "cell_type": "code",
   "execution_count": null,
   "metadata": {},
   "outputs": [],
   "source": []
  },
  {
   "cell_type": "code",
   "execution_count": null,
   "metadata": {},
   "outputs": [],
   "source": []
  },
  {
   "cell_type": "code",
   "execution_count": null,
   "metadata": {},
   "outputs": [],
   "source": []
  },
  {
   "cell_type": "code",
   "execution_count": null,
   "metadata": {},
   "outputs": [],
   "source": []
  },
  {
   "cell_type": "code",
   "execution_count": null,
   "metadata": {},
   "outputs": [],
   "source": []
  },
  {
   "cell_type": "code",
   "execution_count": null,
   "metadata": {},
   "outputs": [],
   "source": []
  },
  {
   "cell_type": "code",
   "execution_count": null,
   "metadata": {},
   "outputs": [],
   "source": []
  },
  {
   "cell_type": "code",
   "execution_count": null,
   "metadata": {},
   "outputs": [],
   "source": []
  },
  {
   "cell_type": "code",
   "execution_count": null,
   "metadata": {},
   "outputs": [],
   "source": []
  },
  {
   "cell_type": "code",
   "execution_count": null,
   "metadata": {},
   "outputs": [],
   "source": []
  }
 ],
 "metadata": {
  "kernelspec": {
   "display_name": "Python 3",
   "language": "python",
   "name": "python3"
  },
  "language_info": {
   "codemirror_mode": {
    "name": "ipython",
    "version": 3
   },
   "file_extension": ".py",
   "mimetype": "text/x-python",
   "name": "python",
   "nbconvert_exporter": "python",
   "pygments_lexer": "ipython3",
   "version": "3.8.5"
  }
 },
 "nbformat": 4,
 "nbformat_minor": 4
}
