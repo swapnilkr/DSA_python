{
 "cells": [
  {
   "cell_type": "markdown",
   "metadata": {},
   "source": [
    "# Find Missing And Repeating \n",
    "Given an unsorted array Arr of size N of positive integers. One number 'A' from set {1, 2, …N} is missing and one number 'B' occurs twice in array. Find these two numbers.\n",
    "\n",
    "Example 1:\n",
    "\n",
    "Input:\n",
    "N = 2\n",
    "Arr[] = {2, 2}\n",
    "Output: 2 1\n",
    "Explanation: Repeating number is 2 and \n",
    "smallest positive missing number is 1.\n",
    "Example 2:\n",
    "\n",
    "Input:\n",
    "N = 3\n",
    "Arr[] = {1, 3, 3}\n",
    "Output: 3 2\n",
    "Explanation: Repeating number is 3 and \n",
    "smallest positive missing number is 2."
   ]
  },
  {
   "cell_type": "code",
   "execution_count": null,
   "metadata": {},
   "outputs": [],
   "source": [
    "def findTwoElement( self,arr, n): \n",
    "    # code here\n",
    "    s=set(arr)\n",
    "    s_sum=sum(s)\n",
    "    a_sum=sum(arr)\n",
    "    n_sum=(n*(n+1))//2\n",
    "    # print(s_sum,a_sum,n_sum)\n",
    "    repeat=a_sum-s_sum\n",
    "    miss=n_sum-s_sum\n",
    "    return repeat,miss"
   ]
  },
  {
   "cell_type": "code",
   "execution_count": null,
   "metadata": {},
   "outputs": [],
   "source": [
    "def main():\n",
    "      \n",
    "    arr = [ 4, 3, 6, 2, 1, 1 ]\n",
    "      \n",
    "    numberMap = {}\n",
    "      \n",
    "    max = len(arr)\n",
    "    for i in arr:\n",
    "        if not i in numberMap:\n",
    "            numberMap[i] = True\n",
    "              \n",
    "        else:\n",
    "            print(\"Repeating =\", i)\n",
    "      \n",
    "    for i in range(1, max + 1):\n",
    "        if not i in numberMap:\n",
    "            print(\"Missing =\", i)\n",
    "main()"
   ]
  },
  {
   "cell_type": "code",
   "execution_count": null,
   "metadata": {},
   "outputs": [],
   "source": [
    "def repeatedNumber(A):\n",
    "      \n",
    "    length = len(A)\n",
    "    Sum_N = (length * (length + 1)) // 2\n",
    "    Sum_NSq = ((length * (length + 1) * \n",
    "                     (2 * length + 1)) // 6)\n",
    "      \n",
    "    missingNumber, repeating = 0, 0\n",
    "      \n",
    "    for i in range(len(A)):\n",
    "        Sum_N -= A[i]\n",
    "        Sum_NSq -= A[i] * A[i]\n",
    "          \n",
    "    missingNumber = (Sum_N + Sum_NSq // \n",
    "                             Sum_N) // 2\n",
    "    repeating = missingNumber - Sum_N\n",
    "      \n",
    "    ans = []\n",
    "    ans.append(repeating)\n",
    "    ans.append(missingNumber)\n",
    "      \n",
    "    return ans"
   ]
  },
  {
   "cell_type": "markdown",
   "metadata": {},
   "source": [
    "### First and last occurrences of x \n",
    "Given a sorted array arr containing n elements with possibly duplicate elements, the task is to find indexes of first and last occurrences of an element x in the given array.\n",
    "\n",
    "Example 1:\n",
    "\n",
    "Input:\n",
    "n=9, x=5\n",
    "arr[] = { 1, 3, 5, 5, 5, 5, 67, 123, 125 }\n",
    "Output:  2 5\n",
    "Explanation: First occurrence of 5 is at index 2 and last\n",
    "             occurrence of 5 is at index 5. \n",
    " \n",
    "\n",
    "Example 2:\n",
    "\n",
    "Input:\n",
    "n=9, x=7\n",
    "arr[] = { 1, 3, 5, 5, 5, 5, 7, 123, 125 }\n",
    "Output:  6 6 \n"
   ]
  },
  {
   "cell_type": "code",
   "execution_count": null,
   "metadata": {},
   "outputs": [],
   "source": [
    "def find(arr,n,x):\n",
    "    # code here\n",
    "    if x not in arr:\n",
    "        return -1,-1\n",
    "    first=arr.index(x)\n",
    "    arr=arr[::-1]\n",
    "    last=arr.index(x)\n",
    "    last=n-last-1\n",
    "    return first,last"
   ]
  },
  {
   "cell_type": "markdown",
   "metadata": {},
   "source": [
    "An Efficient solution to this problem is to use a binary search. \n",
    "1. For the first occurrence of a number \n",
    "\n",
    "\n",
    "\n",
    "\n",
    "  a) If (high >= low)\n",
    "  b) Calculate  mid = low + (high - low)/2;\n",
    "  c) If ((mid == 0 || x > arr[mid-1]) && arr[mid] == x)\n",
    "         return mid;\n",
    "  d) Else if (x > arr[mid])\n",
    "        return first(arr, (mid + 1), high, x, n);\n",
    "  e) Else\n",
    "        return first(arr, low, (mid -1), x, n);\n",
    "  f) Otherwise return -1;\n",
    "2. For the last occurrence of a number \n",
    "\n",
    "  a) if (high >= low)\n",
    "  b) calculate mid = low + (high - low)/2;\n",
    "  c)if( ( mid == n-1 || x < arr[mid+1]) && arr[mid] == x )\n",
    "         return mid;\n",
    "  d) else if(x < arr[mid])\n",
    "        return last(arr, low, (mid -1), x, n);\n",
    "  e) else\n",
    "       return last(arr, (mid + 1), high, x, n);      \n",
    "  f) otherwise return -1;\n",
    "\n"
   ]
  },
  {
   "cell_type": "code",
   "execution_count": null,
   "metadata": {},
   "outputs": [],
   "source": [
    "\n",
    "def first(arr, low, high, x, n) :\n",
    "    if(high >= low) :\n",
    "        mid = low + (high - low) // 2\n",
    "        if( ( mid == 0 or x > arr[mid - 1]) and arr[mid] == x) :\n",
    "            return mid\n",
    "        elif(x > arr[mid]) :\n",
    "            return first(arr, (mid + 1), high, x, n)\n",
    "        else :\n",
    "            return first(arr, low, (mid - 1), x, n)\n",
    "     \n",
    "    return -1\n",
    " \n",
    "def last(arr, low, high, x, n) :\n",
    "    if (high >= low) :\n",
    "        mid = low + (high - low) // 2\n",
    "        if (( mid == n - 1 or x < arr[mid + 1]) and arr[mid] == x) :\n",
    "            return mid\n",
    "        elif (x < arr[mid]) :\n",
    "            return last(arr, low, (mid - 1), x, n)\n",
    "        else :\n",
    "            return last(arr, (mid + 1), high, x, n)\n",
    "             \n",
    "    return -1\n",
    "     "
   ]
  },
  {
   "cell_type": "markdown",
   "metadata": {},
   "source": [
    "### by recursion"
   ]
  },
  {
   "cell_type": "code",
   "execution_count": 2,
   "metadata": {},
   "outputs": [],
   "source": [
    "def first(a,x):\n",
    "    l=len(a)\n",
    "    if l==0:\n",
    "        return -1\n",
    "    if a[0]==x:\n",
    "        return 0\n",
    "    smaller=a[1:]\n",
    "    smallerout=first(smaller,x)\n",
    "    if smallerout==-1:\n",
    "        return -1\n",
    "    else:\n",
    "        return smallerout+1\n",
    "def last(a,x):\n",
    "    l=len(a)\n",
    "    if l==0:\n",
    "        return -1\n",
    "    smallerlist=a[1:]\n",
    "    smallerout=last(smallerlist,x)\n",
    "    if smallerout!=-1:\n",
    "        return smallerout+1\n",
    "    else:\n",
    "        if a[0]==x:\n",
    "            return 0\n",
    "        else:\n",
    "            return -1\n",
    " \n"
   ]
  },
  {
   "cell_type": "markdown",
   "metadata": {},
   "source": [
    "### Value equal to index value \n",
    "Given an array Arr of N positive integers. Your task is to find the elements whose value is equal to that of its index value."
   ]
  },
  {
   "cell_type": "code",
   "execution_count": null,
   "metadata": {},
   "outputs": [],
   "source": [
    "def valueEqualToIndex(self,arr, n):\n",
    "    # code here\n",
    "    li=[]\n",
    "    for i in range(1,n+1):\n",
    "        if arr[i-1]==i:\n",
    "            li.append(i)\n",
    "    return li"
   ]
  },
  {
   "cell_type": "markdown",
   "metadata": {},
   "source": [
    "Method 2 (Binary Search) \n",
    "First check whether middle element is Fixed Point or not. If it is, then return it; otherwise check whether index of middle element is greater than value at the index. If index is greater, then Fixed Point(s) lies on the right side of the middle point (obviously only if there is a Fixed Point). Else the Fixed Point(s) lies on left side. \n",
    " "
   ]
  },
  {
   "cell_type": "code",
   "execution_count": null,
   "metadata": {},
   "outputs": [],
   "source": [
    "def binarySearch(arr, low, high):\n",
    "    if high >= low:\n",
    "        mid = (low + high)//2\n",
    "     \n",
    "    if mid is arr[mid]:\n",
    "        return mid\n",
    "     \n",
    "    if mid > arr[mid]:\n",
    "        return binarySearch(arr, (mid + 1), high)\n",
    "    else:\n",
    "        return binarySearch(arr, low, (mid -1))\n",
    "     \n",
    "    # Return -1 if there is no Fixed Point\n",
    "    return -1"
   ]
  },
  {
   "cell_type": "markdown",
   "metadata": {},
   "source": [
    "### Search in Rotated Sorted Array\n",
    "\n",
    "There is an integer array nums sorted in ascending order (with distinct values).\n",
    "\n",
    "Prior to being passed to your function, nums is rotated at an unknown pivot index k (0 <= k < nums.length) such that the resulting array is [nums[k], nums[k+1], ..., nums[n-1], nums[0], nums[1], ..., nums[k-1]] (0-indexed). For example, [0,1,2,4,5,6,7] might be rotated at pivot index 3 and become [4,5,6,7,0,1,2].\n",
    "\n",
    "Given the array nums after the rotation and an integer target, return the index of target if it is in nums, or -1 if it is not in nums.\n",
    "\n",
    "You must write an algorithm with O(log n) runtime complexity.\n",
    "\n",
    " \n",
    "\n",
    "Example 1:\n",
    "\n",
    "Input: nums = [4,5,6,7,0,1,2], target = 0\n",
    "Output: 4\n",
    "Example 2:\n",
    "\n",
    "Input: nums = [4,5,6,7,0,1,2], target = 3\n",
    "Output: -1\n",
    "Example 3:\n",
    "\n",
    "Input: nums = [1], target = 0\n",
    "Output: -1"
   ]
  },
  {
   "cell_type": "code",
   "execution_count": null,
   "metadata": {},
   "outputs": [],
   "source": [
    "def search(self, nums: List[int], target: int) -> int:\n",
    "    if target not in nums:\n",
    "        return -1\n",
    "    return nums.index(target)"
   ]
  },
  {
   "cell_type": "code",
   "execution_count": null,
   "metadata": {},
   "outputs": [],
   "source": [
    "def search(self, nums, target):\n",
    "        if not nums:\n",
    "            return -1\n",
    "\n",
    "        low, high = 0, len(nums) - 1\n",
    "\n",
    "        while low <= high:\n",
    "            mid = (low + high) / 2\n",
    "            if target == nums[mid]:\n",
    "                return mid\n",
    "\n",
    "            if nums[low] <= nums[mid]:\n",
    "                if nums[low] <= target <= nums[mid]:\n",
    "                    high = mid - 1\n",
    "                else:\n",
    "                    low = mid + 1\n",
    "            else:\n",
    "                if nums[mid] <= target <= nums[high]:\n",
    "                    low = mid + 1\n",
    "                else:\n",
    "                    high = mid - 1\n",
    "\n",
    "        return -1"
   ]
  },
  {
   "cell_type": "markdown",
   "metadata": {},
   "source": [
    "### Count Squares \n",
    "Consider a sample space S consisting of all perfect squares starting from 1, 4, 9 and so on. You are given a number N, you have to output the number of integers less than N in the sample space S.\n",
    "\n",
    " \n",
    "\n",
    "Example 1:\n",
    "\n",
    "Input :\n",
    "N = 9\n",
    "Output:\n",
    "2\n",
    "Explanation:\n",
    "1 and 4 are the only Perfect Squares\n",
    "less than 9. So, the Output is 2.\n",
    "Example 2:\n",
    "\n",
    "Input :\n",
    "N = 3\n",
    "Output:\n",
    "1\n",
    "Explanation:\n",
    "1 is the only Perfect Square\n",
    "less than 3. So, the Output is 1.\n",
    " "
   ]
  },
  {
   "cell_type": "code",
   "execution_count": null,
   "metadata": {},
   "outputs": [],
   "source": [
    "def countSquares(self, n):\n",
    "    # code here \n",
    "    if n==0 or n==1:\n",
    "        return 0\n",
    "\n",
    "    l=0\n",
    "    high=n-1\n",
    "    ans=0\n",
    "    while l<=high:\n",
    "        mid=(l+high)//2\n",
    "        if mid*mid==n:\n",
    "            ans=mid\n",
    "            return mid-1\n",
    "        elif mid*mid<n:\n",
    "            l=mid+1\n",
    "            ans=mid\n",
    "        else:\n",
    "            high=mid-1\n",
    "    return ans"
   ]
  },
  {
   "cell_type": "markdown",
   "metadata": {},
   "source": [
    "### Maximum and minimum of an array using minimum number of comparisons\n",
    "\n",
    "Write a C function to return minimum and maximum in an array. Your program should make the minimum number of comparisons. \n",
    "\n",
    "Recommended: Please try your approach on {IDE} first, before moving on to the solution.\n",
    "First of all, how do we return multiple values from a C function? We can do it either using structures or pointers. \n",
    "We have created a structure named pair (which contains min and max) to return multiple values. "
   ]
  },
  {
   "cell_type": "markdown",
   "metadata": {},
   "source": [
    "Tournament Method) \n",
    "Divide the array into two parts and compare the maximums and minimums of the two parts to get the maximum and the minimum of the whole array.\n",
    "\n",
    "Pair MaxMin(array, array_size)\n",
    "   if array_size = 1\n",
    "      return element as both max and min\n",
    "   else if arry_size = 2\n",
    "      one comparison to determine max and min\n",
    "      return that pair\n",
    "   else    /* array_size  > 2 */\n",
    "      recur for max and min of left half\n",
    "      recur for max and min of right half\n",
    "      one comparison determines true max of the two candidates\n",
    "      one comparison determines true min of the two candidates\n",
    "      return the pair of max and min"
   ]
  },
  {
   "cell_type": "code",
   "execution_count": null,
   "metadata": {},
   "outputs": [],
   "source": [
    "def getMinMax(low, high, arr):\n",
    "    arr_max = arr[low]\n",
    "    arr_min = arr[low]\n",
    "     \n",
    "    # If there is only one element\n",
    "    if low == high:\n",
    "        arr_max = arr[low]\n",
    "        arr_min = arr[low]\n",
    "        return (arr_max, arr_min)\n",
    "         \n",
    "    # If there is only two element\n",
    "    elif high == low + 1:\n",
    "        if arr[low] > arr[high]:\n",
    "            arr_max = arr[low]\n",
    "            arr_min = arr[high]\n",
    "        else:\n",
    "            arr_max = arr[high]\n",
    "            arr_min = arr[low]\n",
    "        return (arr_max, arr_min)\n",
    "    else:\n",
    "         \n",
    "        # If there are more than 2 elements\n",
    "        mid = int((low + high) / 2)\n",
    "        arr_max1, arr_min1 = getMinMax(low, mid, arr)\n",
    "        arr_max2, arr_min2 = getMinMax(mid + 1, high, arr)\n",
    " \n",
    "    return (max(arr_max1, arr_max2), min(arr_min1, arr_min2))\n",
    " \n",
    "# Driver code\n",
    "arr = [1000, 11, 445, 1, 330, 3000]\n",
    "high = len(arr) - 1\n",
    "low = 0\n",
    "arr_max, arr_min = getMinMax(low, high, arr)\n",
    "print('Minimum element is ', arr_min)\n",
    "print('nMaximum element is ', arr_max)"
   ]
  },
  {
   "cell_type": "markdown",
   "metadata": {},
   "source": [
    "# Optimum location of point to minimize total distance VVVII\n",
    "\n",
    "Given a set of points as and a line as ax+by+c = 0. We need to find a point on given line for which sum of distances from given set of points is minimum. \n",
    "\n",
    "Example: \n",
    "\n",
    "\n",
    "\n",
    "In above figure optimum location of point of x - y - 3 = 0 line \n",
    "is (2, -1), whose total distance with other points is 20.77, \n",
    "which is minimum obtainable total distance.\n",
    "Recommended: Please try your approach on {IDE} first, before moving on to the solution.\n"
   ]
  },
  {
   "cell_type": "markdown",
   "metadata": {},
   "source": [
    "If we take one point on given line at infinite distance then total distance cost will be infinite, now when we move this point on line towards given points the total distance cost starts decreasing and after some time, it again starts increasing which reached to infinite on the other infinite end of line so distance cost curve looks like a U-curve and we have to find the bottom value of this U-curve. \n",
    "\n",
    "As U-curve is not monotonically increasing or decreasing we can’t use binary search for finding bottom most point, here we will use ternary search for finding bottom most point, ternary search skips one third of search space at each iteration, you can read more about ternary search here. \n",
    "\n",
    "\n",
    "\n",
    "\n",
    "So solution proceeds as follows, we start with low and high initialized as some smallest and largest values respectively, then we start iteration, in each iteration we calculate two mids, mid1 and mid2, which represent 1/3rd and 2/3rd position in search space, we calculate total distance of all points with mid1 and mid2 and update low or high by comparing these distance cost, this iteration continues until low and high become approximately equal."
   ]
  },
  {
   "cell_type": "code",
   "execution_count": null,
   "metadata": {},
   "outputs": [],
   "source": [
    "import math\n",
    " \n",
    "class Optimum_distance:\n",
    "     \n",
    "    # Class defining a point\n",
    "    class Point:\n",
    "         \n",
    "        def __init__(self, x, y):\n",
    "             \n",
    "            self.x = x\n",
    "            self.y = y \n",
    "         \n",
    "    # Class defining a line of ax + by + c = 0 form\n",
    "    class Line:\n",
    "         \n",
    "        def __init__(self, a, b, c):\n",
    "             \n",
    "            self.a = a\n",
    "            self.b = b\n",
    "            self.c = c\n",
    "         \n",
    "    # Method to get distance of point\n",
    "    # (x, y) from point p\n",
    "    def dist(self, x, y, p):\n",
    "         \n",
    "        return math.sqrt((x - p.x) ** 2 +\n",
    "                         (y - p.y) ** 2)\n",
    "       \n",
    "    # Utility method to compute total distance\n",
    "    # all points when choose point on given\n",
    "    # line has x-coordinate value as X\n",
    "    def compute(self, p, n, l, x):\n",
    "         \n",
    "        res = 0\n",
    "         \n",
    "        y = -1 * (l.a*x + l.c) / l.b\n",
    "         \n",
    "        # Calculating Y of choosen point\n",
    "        # by line equation\n",
    "        for i in range(n):\n",
    "            res += self.dist(x, y, p[i])\n",
    "             \n",
    "        return res\n",
    "     \n",
    "    # Utility method to find minimum total distance\n",
    "    def find_Optimum_cost_untill(self, p, n, l):\n",
    "         \n",
    "        low = -1e6\n",
    "        high = 1e6\n",
    "         \n",
    "        eps = 1e-6 + 1\n",
    "         \n",
    "         \n",
    "        # Loop untill difference between low\n",
    "        # and high become less than EPS\n",
    "        while((high - low) > eps):\n",
    "           \n",
    "              # mid1 and mid2 are representative x\n",
    "            # co-ordiantes of search space\n",
    "            mid1 = low + (high - low) / 3\n",
    "            mid2 = high - (high - low) / 3\n",
    "             \n",
    "            dist1 = self.compute(p, n, l, mid1)\n",
    "            dist2 = self.compute(p, n, l, mid2)\n",
    "             \n",
    "            # If mid2 point gives more total\n",
    "            # distance, skip third part\n",
    "            if (dist1 < dist2):\n",
    "                high = mid2\n",
    "                 \n",
    "            # If mid1 point gives more total\n",
    "            # distance, skip first part\n",
    "            else:\n",
    "                low = mid1\n",
    "                 \n",
    "        # Compute optimum distance cost by\n",
    "        # sending average of low and high as X\n",
    "        return self.compute(p, n, l, (low + high) / 2)\n",
    "     \n",
    "    # Method to find optimum cost\n",
    "    def find_Optimum_cost(self, p, l):\n",
    "         \n",
    "        n = len(p)\n",
    "        p_arr = [None] * n\n",
    "         \n",
    "        # Converting 2D array input to point array\n",
    "        for i in range(n):\n",
    "            p_obj = self.Point(p[i][0], p[i][1])\n",
    "            p_arr[i] =  p_obj\n",
    "             \n",
    "        return self.find_Optimum_cost_untill(p_arr, n, l)\n",
    "       \n",
    " # Driver Code\n",
    "if __name__ == \"__main__\":\n",
    "     \n",
    "    obj = Optimum_distance()\n",
    "    l = obj.Line(1, -1, -3)\n",
    "     \n",
    "    p = [ [ -3, -2 ], [ -1, 0 ],\n",
    "          [ -1, 2 ], [ 1, 2 ],\n",
    "          [ 3, 4 ] ]\n",
    "     \n",
    "    print(obj.find_Optimum_cost(p, l))\n",
    "     "
   ]
  },
  {
   "cell_type": "markdown",
   "metadata": {},
   "source": [
    "###  Majority Element \n",
    "Given an array A of N elements. Find the majority element in the array. A majority element in an array A of size N is an element that appears more than N/2 times in the array.\n",
    " \n",
    "\n",
    "Example 1:\n",
    "\n",
    "Input:\n",
    "N = 3 \n",
    "A[] = {1,2,3} \n",
    "Output:\n",
    "-1\n",
    "Explanation:\n",
    "Since, each element in \n",
    "{1,2,3} appears only once so there \n",
    "is no majority element.\n",
    "Example 2:\n",
    "\n",
    "Input:\n",
    "N = 5 \n",
    "A[] = {3,1,3,3,2} \n",
    "Output:\n",
    "3\n",
    "Explanation:\n",
    "Since, 3 is present more\n",
    "than N/2 times, so it is \n",
    "the majority element."
   ]
  },
  {
   "cell_type": "code",
   "execution_count": null,
   "metadata": {},
   "outputs": [],
   "source": [
    "def majorityElement(self, a, N):\n",
    "    #Your code here\n",
    "    d={}\n",
    "    ans=-1\n",
    "    for i in a:\n",
    "        d[i]=d.get(i,0)+1\n",
    "    for i in d:\n",
    "        if d[i]>N/2:\n",
    "            ans=i\n",
    "            break\n",
    "    return ans"
   ]
  },
  {
   "cell_type": "markdown",
   "metadata": {},
   "source": [
    "Using Moore’s Voting Algorithm):   \n",
    "\n",
    "Approach: This is a two-step process. \n",
    "The first step gives the element that maybe the majority element in the array. If there is a majority element in an array, then this step will definitely return majority element, otherwise, it will return candidate for majority element.\n",
    "Check if the element obtained from the above step is majority element. This step is necessary as there might be no majority element.\n",
    " \n",
    "Algorithm: \n",
    "Loop through each element and maintains a count of majority element, and a majority index, maj_index\n",
    "If the next element is same then increment the count if the next element is not same then decrement the count.\n",
    "if the count reaches 0 then changes the maj_index to the current element and set the count again to 1.\n",
    "Now again traverse through the array and find the count of majority element found.\n",
    "If the count is greater than half the size of the array, print the element\n",
    "Else print that there is no majority element"
   ]
  },
  {
   "cell_type": "code",
   "execution_count": null,
   "metadata": {},
   "outputs": [],
   "source": [
    "def findCandidate(A):\n",
    "    maj_index = 0\n",
    "    count = 1\n",
    "    for i in range(len(A)):\n",
    "        if A[maj_index] == A[i]:\n",
    "            count += 1\n",
    "        else:\n",
    "            count -= 1\n",
    "        if count == 0:\n",
    "            maj_index = i\n",
    "            count = 1\n",
    "    return A[maj_index]\n",
    " \n",
    "# Function to check if the candidate occurs more than n/2 times\n",
    " \n",
    " \n",
    "def isMajority(A, cand):\n",
    "    count = 0\n",
    "    for i in range(len(A)):\n",
    "        if A[i] == cand:\n",
    "            count += 1\n",
    "    if count > len(A)/2:\n",
    "        return True\n",
    "    else:\n",
    "        return False"
   ]
  },
  {
   "cell_type": "markdown",
   "metadata": {},
   "source": [
    "### Searching in an array where adjacent differ by at most k\n",
    "\n",
    "\n",
    "A step array is an array of integers where each element has a difference of at most k with its neighbor. Given a key x, we need to find the index value of x if multiple-element exist to return the first occurrence of the key.\n",
    "Examples: \n",
    " \n",
    "\n",
    "Input : arr[] = {4, 5, 6, 7, 6}\n",
    "           k = 1\n",
    "           x = 6\n",
    "Output : 2\n",
    "The first index of 6 is 2.\n",
    "\n",
    "Input : arr[] = {20, 40, 50, 70, 70, 60}  \n",
    "          k = 20\n",
    "          x = 60\n",
    "Output : 5\n",
    "The index of 60 is 5"
   ]
  },
  {
   "cell_type": "markdown",
   "metadata": {},
   "source": [
    "The idea is to start comparing from the leftmost element and find the difference between the current array element and x. Let this difference be ‘diff’. From the given property of the array, we always know that x must be at least ‘diff/k’ away, so instead of searching one by one, we jump ‘diff/k’. "
   ]
  },
  {
   "cell_type": "code",
   "execution_count": null,
   "metadata": {},
   "outputs": [],
   "source": [
    "def search(arr, n, x, k):\n",
    " \n",
    "    # Traverse the given array starting from\n",
    "    # leftmost element\n",
    "    i = 0\n",
    "    while (i < n):\n",
    "     \n",
    "        # If x is found at index i\n",
    "        if (arr[i] == x):\n",
    "            return i\n",
    " \n",
    "        # Jump the difference between current\n",
    "        # array element and x divided by k\n",
    "        # We use max here to make sure that i\n",
    "        # moves at-least one step ahead.\n",
    "        i = i + max(1, int(abs(arr[i] - x) / k))\n",
    "     \n",
    " \n",
    "    print(\"number is not present!\")\n",
    "    return -1"
   ]
  },
  {
   "cell_type": "code",
   "execution_count": null,
   "metadata": {},
   "outputs": [],
   "source": []
  },
  {
   "cell_type": "code",
   "execution_count": null,
   "metadata": {},
   "outputs": [],
   "source": []
  },
  {
   "cell_type": "code",
   "execution_count": null,
   "metadata": {},
   "outputs": [],
   "source": []
  },
  {
   "cell_type": "code",
   "execution_count": null,
   "metadata": {},
   "outputs": [],
   "source": []
  },
  {
   "cell_type": "code",
   "execution_count": null,
   "metadata": {},
   "outputs": [],
   "source": []
  },
  {
   "cell_type": "code",
   "execution_count": null,
   "metadata": {},
   "outputs": [],
   "source": []
  },
  {
   "cell_type": "code",
   "execution_count": null,
   "metadata": {},
   "outputs": [],
   "source": []
  },
  {
   "cell_type": "code",
   "execution_count": null,
   "metadata": {},
   "outputs": [],
   "source": []
  },
  {
   "cell_type": "code",
   "execution_count": null,
   "metadata": {},
   "outputs": [],
   "source": []
  },
  {
   "cell_type": "code",
   "execution_count": null,
   "metadata": {},
   "outputs": [],
   "source": []
  },
  {
   "cell_type": "code",
   "execution_count": null,
   "metadata": {},
   "outputs": [],
   "source": []
  },
  {
   "cell_type": "code",
   "execution_count": null,
   "metadata": {},
   "outputs": [],
   "source": []
  },
  {
   "cell_type": "code",
   "execution_count": null,
   "metadata": {},
   "outputs": [],
   "source": []
  },
  {
   "cell_type": "code",
   "execution_count": null,
   "metadata": {},
   "outputs": [],
   "source": []
  },
  {
   "cell_type": "code",
   "execution_count": null,
   "metadata": {},
   "outputs": [],
   "source": []
  },
  {
   "cell_type": "code",
   "execution_count": null,
   "metadata": {},
   "outputs": [],
   "source": []
  },
  {
   "cell_type": "code",
   "execution_count": null,
   "metadata": {},
   "outputs": [],
   "source": []
  },
  {
   "cell_type": "code",
   "execution_count": null,
   "metadata": {},
   "outputs": [],
   "source": []
  },
  {
   "cell_type": "code",
   "execution_count": null,
   "metadata": {},
   "outputs": [],
   "source": []
  },
  {
   "cell_type": "code",
   "execution_count": null,
   "metadata": {},
   "outputs": [],
   "source": []
  },
  {
   "cell_type": "code",
   "execution_count": null,
   "metadata": {},
   "outputs": [],
   "source": []
  },
  {
   "cell_type": "code",
   "execution_count": null,
   "metadata": {},
   "outputs": [],
   "source": []
  },
  {
   "cell_type": "code",
   "execution_count": null,
   "metadata": {},
   "outputs": [],
   "source": []
  },
  {
   "cell_type": "code",
   "execution_count": null,
   "metadata": {},
   "outputs": [],
   "source": []
  },
  {
   "cell_type": "code",
   "execution_count": null,
   "metadata": {},
   "outputs": [],
   "source": []
  },
  {
   "cell_type": "code",
   "execution_count": null,
   "metadata": {},
   "outputs": [],
   "source": []
  },
  {
   "cell_type": "code",
   "execution_count": null,
   "metadata": {},
   "outputs": [],
   "source": []
  },
  {
   "cell_type": "code",
   "execution_count": null,
   "metadata": {},
   "outputs": [],
   "source": []
  },
  {
   "cell_type": "code",
   "execution_count": null,
   "metadata": {},
   "outputs": [],
   "source": []
  },
  {
   "cell_type": "code",
   "execution_count": null,
   "metadata": {},
   "outputs": [],
   "source": []
  },
  {
   "cell_type": "code",
   "execution_count": null,
   "metadata": {},
   "outputs": [],
   "source": []
  },
  {
   "cell_type": "code",
   "execution_count": null,
   "metadata": {},
   "outputs": [],
   "source": []
  },
  {
   "cell_type": "code",
   "execution_count": null,
   "metadata": {},
   "outputs": [],
   "source": []
  },
  {
   "cell_type": "code",
   "execution_count": null,
   "metadata": {},
   "outputs": [],
   "source": []
  },
  {
   "cell_type": "code",
   "execution_count": null,
   "metadata": {},
   "outputs": [],
   "source": []
  },
  {
   "cell_type": "code",
   "execution_count": null,
   "metadata": {},
   "outputs": [],
   "source": []
  },
  {
   "cell_type": "code",
   "execution_count": null,
   "metadata": {},
   "outputs": [],
   "source": []
  },
  {
   "cell_type": "code",
   "execution_count": null,
   "metadata": {},
   "outputs": [],
   "source": []
  },
  {
   "cell_type": "code",
   "execution_count": null,
   "metadata": {},
   "outputs": [],
   "source": []
  },
  {
   "cell_type": "code",
   "execution_count": null,
   "metadata": {},
   "outputs": [],
   "source": []
  },
  {
   "cell_type": "code",
   "execution_count": null,
   "metadata": {},
   "outputs": [],
   "source": []
  },
  {
   "cell_type": "code",
   "execution_count": null,
   "metadata": {},
   "outputs": [],
   "source": []
  },
  {
   "cell_type": "code",
   "execution_count": null,
   "metadata": {},
   "outputs": [],
   "source": []
  },
  {
   "cell_type": "code",
   "execution_count": null,
   "metadata": {},
   "outputs": [],
   "source": []
  },
  {
   "cell_type": "code",
   "execution_count": null,
   "metadata": {},
   "outputs": [],
   "source": []
  },
  {
   "cell_type": "code",
   "execution_count": null,
   "metadata": {},
   "outputs": [],
   "source": []
  },
  {
   "cell_type": "code",
   "execution_count": null,
   "metadata": {},
   "outputs": [],
   "source": []
  },
  {
   "cell_type": "code",
   "execution_count": null,
   "metadata": {},
   "outputs": [],
   "source": []
  },
  {
   "cell_type": "code",
   "execution_count": null,
   "metadata": {},
   "outputs": [],
   "source": []
  },
  {
   "cell_type": "code",
   "execution_count": null,
   "metadata": {},
   "outputs": [],
   "source": []
  },
  {
   "cell_type": "code",
   "execution_count": null,
   "metadata": {},
   "outputs": [],
   "source": []
  },
  {
   "cell_type": "code",
   "execution_count": null,
   "metadata": {},
   "outputs": [],
   "source": []
  },
  {
   "cell_type": "code",
   "execution_count": null,
   "metadata": {},
   "outputs": [],
   "source": []
  },
  {
   "cell_type": "code",
   "execution_count": null,
   "metadata": {},
   "outputs": [],
   "source": []
  },
  {
   "cell_type": "code",
   "execution_count": null,
   "metadata": {},
   "outputs": [],
   "source": []
  },
  {
   "cell_type": "code",
   "execution_count": null,
   "metadata": {},
   "outputs": [],
   "source": []
  },
  {
   "cell_type": "code",
   "execution_count": null,
   "metadata": {},
   "outputs": [],
   "source": []
  },
  {
   "cell_type": "code",
   "execution_count": null,
   "metadata": {},
   "outputs": [],
   "source": []
  },
  {
   "cell_type": "code",
   "execution_count": null,
   "metadata": {},
   "outputs": [],
   "source": []
  },
  {
   "cell_type": "code",
   "execution_count": null,
   "metadata": {},
   "outputs": [],
   "source": []
  },
  {
   "cell_type": "code",
   "execution_count": null,
   "metadata": {},
   "outputs": [],
   "source": []
  },
  {
   "cell_type": "code",
   "execution_count": null,
   "metadata": {},
   "outputs": [],
   "source": []
  },
  {
   "cell_type": "code",
   "execution_count": null,
   "metadata": {},
   "outputs": [],
   "source": []
  },
  {
   "cell_type": "code",
   "execution_count": null,
   "metadata": {},
   "outputs": [],
   "source": []
  },
  {
   "cell_type": "code",
   "execution_count": null,
   "metadata": {},
   "outputs": [],
   "source": []
  },
  {
   "cell_type": "code",
   "execution_count": null,
   "metadata": {},
   "outputs": [],
   "source": []
  },
  {
   "cell_type": "code",
   "execution_count": null,
   "metadata": {},
   "outputs": [],
   "source": []
  },
  {
   "cell_type": "code",
   "execution_count": null,
   "metadata": {},
   "outputs": [],
   "source": []
  },
  {
   "cell_type": "code",
   "execution_count": null,
   "metadata": {},
   "outputs": [],
   "source": []
  },
  {
   "cell_type": "code",
   "execution_count": null,
   "metadata": {},
   "outputs": [],
   "source": []
  },
  {
   "cell_type": "code",
   "execution_count": null,
   "metadata": {},
   "outputs": [],
   "source": []
  },
  {
   "cell_type": "code",
   "execution_count": null,
   "metadata": {},
   "outputs": [],
   "source": []
  },
  {
   "cell_type": "code",
   "execution_count": null,
   "metadata": {},
   "outputs": [],
   "source": []
  },
  {
   "cell_type": "code",
   "execution_count": null,
   "metadata": {},
   "outputs": [],
   "source": []
  },
  {
   "cell_type": "code",
   "execution_count": null,
   "metadata": {},
   "outputs": [],
   "source": []
  },
  {
   "cell_type": "code",
   "execution_count": null,
   "metadata": {},
   "outputs": [],
   "source": []
  },
  {
   "cell_type": "code",
   "execution_count": null,
   "metadata": {},
   "outputs": [],
   "source": []
  },
  {
   "cell_type": "code",
   "execution_count": null,
   "metadata": {},
   "outputs": [],
   "source": []
  },
  {
   "cell_type": "code",
   "execution_count": null,
   "metadata": {},
   "outputs": [],
   "source": []
  },
  {
   "cell_type": "code",
   "execution_count": null,
   "metadata": {},
   "outputs": [],
   "source": []
  },
  {
   "cell_type": "code",
   "execution_count": null,
   "metadata": {},
   "outputs": [],
   "source": []
  },
  {
   "cell_type": "code",
   "execution_count": null,
   "metadata": {},
   "outputs": [],
   "source": []
  },
  {
   "cell_type": "code",
   "execution_count": null,
   "metadata": {},
   "outputs": [],
   "source": []
  },
  {
   "cell_type": "code",
   "execution_count": null,
   "metadata": {},
   "outputs": [],
   "source": []
  },
  {
   "cell_type": "code",
   "execution_count": null,
   "metadata": {},
   "outputs": [],
   "source": []
  },
  {
   "cell_type": "code",
   "execution_count": null,
   "metadata": {},
   "outputs": [],
   "source": []
  }
 ],
 "metadata": {
  "kernelspec": {
   "display_name": "Python 3",
   "language": "python",
   "name": "python3"
  },
  "language_info": {
   "codemirror_mode": {
    "name": "ipython",
    "version": 3
   },
   "file_extension": ".py",
   "mimetype": "text/x-python",
   "name": "python",
   "nbconvert_exporter": "python",
   "pygments_lexer": "ipython3",
   "version": "3.8.5"
  }
 },
 "nbformat": 4,
 "nbformat_minor": 4
}
