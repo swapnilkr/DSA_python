{
 "cells": [
  {
   "cell_type": "markdown",
   "metadata": {},
   "source": [
    "Algorithm\t           Time Complexity\t \n",
    "                  Best\t        Average\t     Worst\t \n",
    "Selection Sort\t  Ω(n^2)\t    θ(n^2)\t     O(n^2)\t \n",
    "Bubble Sort\t      Ω(n)\t        θ(n^2)\t     O(n^2)\t \n",
    "Insertion Sort\t  Ω(n)\t        θ(n^2)\t     O(n^2)\t \n",
    "Heap Sort\t      Ω(n log(n))\tθ(n log(n))\t O(n log(n))\t \n",
    "Quick Sort\t      Ω(n log(n))\tθ(n log(n))\t O(n^2)\t \n",
    "Merge Sort\t      Ω(n log(n))\tθ(n log(n))\t O(n log(n))\t \n",
    "Bucket Sort\t      Ω(n+k)\t    θ(n+k)\t     O(n^2)\t \n",
    "Radix Sort\t      Ω(nk)\t        θ(nk)\t     O(nk)"
   ]
  },
  {
   "cell_type": "markdown",
   "metadata": {},
   "source": [
    "### binary search"
   ]
  },
  {
   "cell_type": "code",
   "execution_count": null,
   "metadata": {},
   "outputs": [],
   "source": [
    "n=int(input())\n",
    "li=[int (x) for x in input().split()]\n",
    "key=int(input())\n",
    "low=0\n",
    "li.sort()\n",
    "high=n-1\n",
    "flag=False\n",
    "while low<=high:\n",
    "    mid=(low+high)//2\n",
    "    if(key==li[mid]):\n",
    "        flag=True\n",
    "        break\n",
    "    elif (key<li[mid]):\n",
    "        high=mid-1\n",
    "    elif(key>li[mid]):\n",
    "        low=mid+1\n",
    "if flag==True:\n",
    "    print(mid)\n",
    "else:\n",
    "    print(-1)"
   ]
  },
  {
   "cell_type": "markdown",
   "metadata": {},
   "source": [
    "### Selection sort"
   ]
  },
  {
   "cell_type": "code",
   "execution_count": null,
   "metadata": {},
   "outputs": [],
   "source": [
    "def selectionsort(li):\n",
    "    length=len(li)\n",
    "    for i in range (length-1):\n",
    "        minIndex=i\n",
    "        for j in range(i+1,length):\n",
    "            if(li[j]<li[minIndex]):\n",
    "                minIndex=j\n",
    "        li[i],li[minIndex]=li[minIndex],li[i]\n",
    "\n",
    "\n",
    "n=int(input())\n",
    "li=[int(x) for x in input().split()]\n",
    "selectionsort(li)\n",
    "print(li)"
   ]
  },
  {
   "cell_type": "markdown",
   "metadata": {},
   "source": [
    "### bubble sort"
   ]
  },
  {
   "cell_type": "markdown",
   "metadata": {},
   "source": [
    "Bubble Sort is the simplest sorting algorithm that works by repeatedly swapping the adjacent elements if they are in wrong order."
   ]
  },
  {
   "cell_type": "code",
   "execution_count": null,
   "metadata": {},
   "outputs": [],
   "source": [
    "def bubblesort(li):\n",
    "    length=len(li)\n",
    "    for i in range (length-1):\n",
    "        for j in range (length-1-i):\n",
    "            if li[j]>li[j+1]:\n",
    "                li[j],li[j+1]=li[j+1],li[j]\n",
    "            \n",
    "n=int(input())\n",
    "li=[int(x) for x in input().split()]\n",
    "bubblesort(li)\n",
    "print(li)"
   ]
  },
  {
   "cell_type": "markdown",
   "metadata": {},
   "source": [
    "### insertion sort"
   ]
  },
  {
   "cell_type": "code",
   "execution_count": null,
   "metadata": {},
   "outputs": [],
   "source": [
    "def insertionsort(li):\n",
    "    length=len(li)\n",
    "    for i in range (1,length):\n",
    "        j=i-1\n",
    "        temp=li[i]\n",
    "        while j>=0 and li[j]>temp:\n",
    "            li[j+1]=li[j]\n",
    "            j=j-1\n",
    "        li[j+1]=temp\n",
    "            \n",
    "n=int(input())\n",
    "li=[int(x) for x in input().split()]\n",
    "insertionsort(li)\n",
    "print(li)"
   ]
  },
  {
   "cell_type": "markdown",
   "metadata": {},
   "source": [
    "### merge sorted array"
   ]
  },
  {
   "cell_type": "code",
   "execution_count": null,
   "metadata": {},
   "outputs": [],
   "source": [
    "def mergesort(li1,li2):\n",
    "    i=0\n",
    "    j=0\n",
    "    len1=len(li1)\n",
    "    len2=len(li2)\n",
    "    li3=[]\n",
    "    while (i<len1) and (j<len2):\n",
    "        if li1[i]<li2[j]:\n",
    "            li3.append(li1[i])\n",
    "            i=i+1\n",
    "        else:\n",
    "            li3.append(li2[j])\n",
    "            j=j+1\n",
    "    while i<len1:\n",
    "        li3.append(li1[i])\n",
    "        i=i+1\n",
    "    while j<len2:\n",
    "        li3.append(li2[j])\n",
    "        j=j+1\n",
    "    return li3\n",
    "            \n",
    "        \n",
    "            \n",
    "n1=int(input())\n",
    "li1=[int(x) for x in input().split()]\n",
    "n2=int(input())\n",
    "li2=[int(x) for x in input().split()]\n",
    "li3=[]\n",
    "li3=mergesort(li1,li2)\n",
    "for ele in li3:\n",
    "    print(ele,end=\" \")"
   ]
  },
  {
   "cell_type": "markdown",
   "metadata": {},
   "source": [
    "### quick sort"
   ]
  },
  {
   "cell_type": "code",
   "execution_count": null,
   "metadata": {},
   "outputs": [],
   "source": [
    "def partition(a,si,ei):\n",
    "    pivot=a[si]\n",
    "    c=0\n",
    "    ###find no of ele smaller than pivot\n",
    "    for i in range(si,ei+1):\n",
    "        if a[i]<pivot:\n",
    "            c+=1\n",
    "    a[si+c],a[si]=a[si],a[si+c] ### pivot swapped\n",
    "    pivotindex=si+c\n",
    "    i=si\n",
    "    j=ei\n",
    "    while i <j:\n",
    "        if (a[i]<pivot):\n",
    "            i=i+1\n",
    "        elif a[j]>=pivot:\n",
    "            j=j-1\n",
    "        else:\n",
    "            a[i],a[j]=a[j],a[i]\n",
    "            i+=1\n",
    "            j-=1\n",
    "    return pivotindex\n",
    "\n",
    "def quicksort(a,si,ei):\n",
    "    if si>=ei:\n",
    "        return\n",
    "    pivotindex=partition(a,si,ei)\n",
    "    quicksort(a,si,pivotindex-1)\n",
    "    quicksort(a,pivotindex+1,ei)\n",
    "    "
   ]
  },
  {
   "cell_type": "markdown",
   "metadata": {},
   "source": [
    "### merge sort recursion"
   ]
  },
  {
   "cell_type": "code",
   "execution_count": null,
   "metadata": {},
   "outputs": [],
   "source": [
    "def mergeSort(arr, start, end):\n",
    "    # Please add your code here\n",
    "    if len(arr) ==0 or len(arr)==1:\n",
    "        return arr\n",
    "    if arr[0]>arr[1]:\n",
    "        arr[0],arr[1]=arr[1],arr[0]\n",
    "        return mergeSort(arr[1:],start+1,end)\n",
    "    else:\n",
    "        return mergeSort(arr[1:],start+1,end)\n",
    "    pass\n",
    "\n",
    "# Main\n",
    "n=int(input())\n",
    "arr=list(int(i) for i in input().strip().split(' '))\n",
    "mid=(0+n)//2\n",
    "si=arr[:mid]\n",
    "s2=arr[mid:]\n",
    "mergeSort(si, 0, mid)\n",
    "mergeSort(s2,0,mid)\n",
    "print(*arr)\n"
   ]
  },
  {
   "cell_type": "markdown",
   "metadata": {},
   "source": [
    "### mergesort 2"
   ]
  },
  {
   "cell_type": "code",
   "execution_count": null,
   "metadata": {},
   "outputs": [],
   "source": [
    "def merge(a1,a2,a):\n",
    "    i=0\n",
    "    k=0\n",
    "    j=0\n",
    "    while i<len(a1) and j <len(a2):\n",
    "        if(a1[i]<a2[j]):\n",
    "            a[k]=a1[i]\n",
    "            k=k+1\n",
    "            i=i+1\n",
    "        else:\n",
    "            a[k]=a2[j]\n",
    "            k=k+1\n",
    "            j=j+1\n",
    "    while i<len(a1):\n",
    "        a[k]=a1[i]\n",
    "        k=k+1\n",
    "        i=i+1\n",
    "    while j<len(a2):\n",
    "        a[k]=a2[j]\n",
    "        k=k+1\n",
    "        j=j+1\n",
    "\n",
    "        \n",
    "def mergesort(a):\n",
    "    if len(a)==0 or len(a)==1:\n",
    "        return \n",
    "    mid=len(a)//2\n",
    "    a1=a[0:mid]\n",
    "    a2=a[mid:]\n",
    "    mergesort(a1)\n",
    "    mergesort(a2)\n",
    "    merge(a1,a2,a)\n"
   ]
  },
  {
   "cell_type": "markdown",
   "metadata": {},
   "source": [
    "### binary search recursion"
   ]
  },
  {
   "cell_type": "code",
   "execution_count": null,
   "metadata": {},
   "outputs": [],
   "source": [
    "def binarysearch(a,x,si,ei):\n",
    "    if si>ei:\n",
    "        return -1\n",
    "    mid=(si+ei)//2\n",
    "    if (a[mid]==x):\n",
    "        return mid\n",
    "    elif a[mid]>x:\n",
    "        return binarysearch(a,x,si,mid-1)\n",
    "    else:\n",
    "        return binarysearch(a,x,mid+1,ei)"
   ]
  },
  {
   "cell_type": "markdown",
   "metadata": {},
   "source": []
  },
  {
   "cell_type": "markdown",
   "metadata": {},
   "source": [
    "## ternary search\n"
   ]
  },
  {
   "cell_type": "markdown",
   "metadata": {},
   "source": [
    "Ternary search is a divide and conquer algorithm that can be used to find an element in an array. It is similar to binary search where we divide the array into two parts but in this algorithm, we divide the given array into three parts and determine which has the key (searched element). We can divide the array into three parts by taking mid1 and mid2 which can be calculated as shown below. Initially, l and r will be equal to 0 and n-1 respectively, where n is the length of the array. \n",
    "\n",
    "mid1 = l + (r-l)/3 \n",
    "mid2 = r – (r-l)/3 \n",
    "\n",
    "Note: Array needs to be sorted to perform ternary search on it.\n",
    "\n",
    "Steps to perform Ternary Search: \n",
    "\n",
    "First, we compare the key with the element at mid1. If found equal, we return mid1.\n",
    "If not, then we compare the key with the element at mid2. If found equal, we return mid2.\n",
    "If not, then we check whether the key is less than the element at mid1. If yes, then recur to the first part.\n",
    "If not, then we check whether the key is greater than the element at mid2. If yes, then recur to the third part.\n",
    "If not, then we recur to the second (middle) part."
   ]
  },
  {
   "cell_type": "code",
   "execution_count": null,
   "metadata": {},
   "outputs": [],
   "source": [
    "import math as mt\n",
    " \n",
    "# Function to perform Ternary Search\n",
    "def ternarySearch(l, r, key, ar):\n",
    " \n",
    "    if (r >= l):\n",
    " \n",
    "        # Find the mid1 and mid2\n",
    "        mid1 = l + (r - l) //3\n",
    "        mid2 = r - (r - l) //3\n",
    " \n",
    "        # Check if key is present at any mid\n",
    "        if (ar[mid1] == key):\n",
    "            return mid1\n",
    "         \n",
    "        if (ar[mid2] == key):\n",
    "            return mid2\n",
    "         \n",
    "        # Since key is not present at mid,\n",
    "        # check in which region it is present\n",
    "        # then repeat the Search operation\n",
    "        # in that region\n",
    "        if (key < ar[mid1]):\n",
    " \n",
    "            # The key lies in between l and mid1\n",
    "            return ternarySearch(l, mid1 - 1, key, ar)\n",
    "         \n",
    "        elif (key > ar[mid2]):\n",
    " \n",
    "            # The key lies in between mid2 and r\n",
    "            return ternarySearch(mid2 + 1, r, key, ar)\n",
    "         \n",
    "        else:\n",
    " \n",
    "            # The key lies in between mid1 and mid2\n",
    "            return ternarySearch(mid1 + 1,\n",
    "                                 mid2 - 1, key, ar)\n",
    "         \n",
    "    # Key not found\n",
    "    return -1"
   ]
  },
  {
   "cell_type": "markdown",
   "metadata": {},
   "source": []
  },
  {
   "cell_type": "code",
   "execution_count": null,
   "metadata": {},
   "outputs": [],
   "source": [
    "def ternarySearch(l, r, key, ar):\n",
    "    while r >= l:\n",
    "         \n",
    "        # Find mid1 and mid2\n",
    "        mid1 = l + (r-l) // 3\n",
    "        mid2 = r - (r-l) // 3\n",
    " \n",
    "        # Check if key is at any mid\n",
    "        if key == ar[mid1]:\n",
    "            return mid1\n",
    "        if key == mid2:\n",
    "            return mid2\n",
    " \n",
    "        # Since key is not present at mid,\n",
    "        # Check in which region it is present\n",
    "        # Then repeat the search operation in that region\n",
    "        if key < ar[mid1]:\n",
    "            # key lies between l and mid1\n",
    "            r = mid1 - 1\n",
    "        elif key > ar[mid2]:\n",
    "            # key lies between mid2 and r\n",
    "            l = mid2 + 1\n",
    "        else:\n",
    "            # key lies between mid1 and mid2\n",
    "            l = mid1 + 1\n",
    "            r = mid2 - 1\n",
    " \n",
    "    # key not found\n",
    "    return -1"
   ]
  },
  {
   "cell_type": "markdown",
   "metadata": {},
   "source": []
  },
  {
   "cell_type": "code",
   "execution_count": null,
   "metadata": {},
   "outputs": [],
   "source": []
  },
  {
   "cell_type": "markdown",
   "metadata": {},
   "source": []
  },
  {
   "cell_type": "code",
   "execution_count": null,
   "metadata": {},
   "outputs": [],
   "source": []
  },
  {
   "cell_type": "markdown",
   "metadata": {},
   "source": []
  },
  {
   "cell_type": "code",
   "execution_count": null,
   "metadata": {},
   "outputs": [],
   "source": []
  },
  {
   "cell_type": "code",
   "execution_count": null,
   "metadata": {},
   "outputs": [],
   "source": []
  },
  {
   "cell_type": "code",
   "execution_count": null,
   "metadata": {},
   "outputs": [],
   "source": []
  },
  {
   "cell_type": "code",
   "execution_count": null,
   "metadata": {},
   "outputs": [],
   "source": []
  },
  {
   "cell_type": "code",
   "execution_count": null,
   "metadata": {},
   "outputs": [],
   "source": []
  },
  {
   "cell_type": "code",
   "execution_count": null,
   "metadata": {},
   "outputs": [],
   "source": []
  },
  {
   "cell_type": "code",
   "execution_count": null,
   "metadata": {},
   "outputs": [],
   "source": []
  },
  {
   "cell_type": "code",
   "execution_count": null,
   "metadata": {},
   "outputs": [],
   "source": []
  },
  {
   "cell_type": "code",
   "execution_count": null,
   "metadata": {},
   "outputs": [],
   "source": []
  },
  {
   "cell_type": "code",
   "execution_count": null,
   "metadata": {},
   "outputs": [],
   "source": []
  },
  {
   "cell_type": "code",
   "execution_count": null,
   "metadata": {},
   "outputs": [],
   "source": []
  },
  {
   "cell_type": "code",
   "execution_count": null,
   "metadata": {},
   "outputs": [],
   "source": []
  },
  {
   "cell_type": "code",
   "execution_count": null,
   "metadata": {},
   "outputs": [],
   "source": []
  },
  {
   "cell_type": "code",
   "execution_count": null,
   "metadata": {},
   "outputs": [],
   "source": []
  },
  {
   "cell_type": "code",
   "execution_count": null,
   "metadata": {},
   "outputs": [],
   "source": []
  },
  {
   "cell_type": "code",
   "execution_count": null,
   "metadata": {},
   "outputs": [],
   "source": []
  },
  {
   "cell_type": "code",
   "execution_count": null,
   "metadata": {},
   "outputs": [],
   "source": []
  },
  {
   "cell_type": "code",
   "execution_count": null,
   "metadata": {},
   "outputs": [],
   "source": []
  }
 ],
 "metadata": {
  "kernelspec": {
   "display_name": "Python 3",
   "language": "python",
   "name": "python3"
  },
  "language_info": {
   "codemirror_mode": {
    "name": "ipython",
    "version": 3
   },
   "file_extension": ".py",
   "mimetype": "text/x-python",
   "name": "python",
   "nbconvert_exporter": "python",
   "pygments_lexer": "ipython3",
   "version": "3.8.5"
  }
 },
 "nbformat": 4,
 "nbformat_minor": 4
}
