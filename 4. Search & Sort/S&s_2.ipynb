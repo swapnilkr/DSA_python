{
 "cells": [
  {
   "cell_type": "markdown",
   "metadata": {},
   "source": [
    "# Aggressive cows\n",
    "\n",
    "Farmer John has built a new long barn, with N (2 <= N <= 100,000) stalls. The stalls are located along a straight line at positions x1,...,xN (0 <= xi <= 1,000,000,000).\n",
    "\n",
    "His C (2 <= C <= N) cows don't like this barn layout and become aggressive towards each other once put into a stall. To prevent the cows from hurting each other, FJ wants to assign the cows to the stalls, such that the minimum distance between any two of them is as large as possible. What is the largest minimum distance?\n",
    "Input\n",
    "t – the number of test cases, then t test cases follows.\n",
    "* Line 1: Two space-separated integers: N and C\n",
    "* Lines 2..N+1: Line i+1 contains an integer stall location, xi\n",
    "Output\n",
    "For each test case output one integer: the largest minimum distance.\n",
    "Example\n",
    "Input:\n",
    "\n",
    "1\n",
    "5 3\n",
    "1\n",
    "2\n",
    "8\n",
    "4\n",
    "9\n",
    "Output:\n",
    "\n",
    "3\n",
    "Output details:"
   ]
  },
  {
   "cell_type": "code",
   "execution_count": 22,
   "metadata": {},
   "outputs": [
    {
     "name": "stdout",
     "output_type": "stream",
     "text": [
      "1\n",
      "5 3\n",
      "1 \n",
      "2\n",
      "8\n",
      "4\n",
      "9\n",
      "3\n"
     ]
    }
   ],
   "source": [
    "# your code goes here\n",
    "def bs(li,n,c):\n",
    "    \n",
    "    low=0\n",
    "    high=li[-1]\n",
    "    best=0\n",
    "    while low<=high:\n",
    "        mid=(low+high+1 )//2\n",
    "        cow_p=1 #first cow always placed\n",
    "        left=0\n",
    "        i=0\n",
    "        while i < n and cow_p<c:\n",
    "            if li[i]-li[left]>=mid:\n",
    "                left=i\n",
    "                cow_p+=1\n",
    "            i+=1\n",
    "\n",
    "        if cow_p>=c:\n",
    "            best=mid\n",
    "            low=mid+1\n",
    "        else:\n",
    "            high=mid-1\n",
    "    return best\n",
    "\n",
    "\n",
    "\n",
    "t=int(input())\n",
    "while t>0:\n",
    "    n,c=[int(ele) for ele in input().split()]\n",
    "    li=[]\n",
    "    for i in range(n):\n",
    "        li.append(int(input()))\n",
    "    li.sort()\n",
    "    print(bs(li,n,c))\n",
    "    t-=1\n"
   ]
  },
  {
   "cell_type": "markdown",
   "metadata": {},
   "source": [
    "### Minimum Swaps to Sort \n",
    "Given an array of n distinct elements. Find the minimum number of swaps required to sort the array in strictly increasing order.\n",
    "\n",
    "\n",
    "Example 1:\n",
    "\n",
    "Input:\n",
    "nums = {2, 8, 5, 4}\n",
    "Output:\n",
    "1\n",
    "Explaination:\n",
    "swap 8 with 4.\n",
    "Example 2:\n",
    "\n",
    "Input:\n",
    "nums = {10, 19, 6, 3, 5}\n",
    "Output:\n",
    "2\n",
    "Explaination:\n",
    "swap 10 with 3 and swap 19 with 5."
   ]
  },
  {
   "cell_type": "markdown",
   "metadata": {},
   "source": [
    "1. If i is not in its correct position according to the sorted array, then\n",
    "\n",
    "2. We will fill this position with the correct element from the hashmap we built earlier. We know the correct element which should come here is temp[i], so we look up the index of this element from the hashmap. \n",
    "\n",
    "3. After swapping the required elements, we update the content of the hashmap accordingly, as temp[i] to the ith position, and arr[i] to where temp[i] was earlier."
   ]
  },
  {
   "cell_type": "code",
   "execution_count": null,
   "metadata": {},
   "outputs": [],
   "source": [
    "def minSwap(arr, n):\n",
    "     \n",
    "    ans = 0\n",
    "    temp = arr.copy()\n",
    " \n",
    "    # Dictionary which stores the\n",
    "      # indexes of the input array\n",
    "    h = {}\n",
    " \n",
    "    temp.sort()\n",
    " \n",
    "    for i in range(n):\n",
    "         \n",
    "        #h.[arr[i]\n",
    "        h[arr[i]] = i\n",
    "         \n",
    "    init = 0\n",
    "     \n",
    "    for i in range(n):\n",
    " \n",
    "        # This is checking whether\n",
    "        # the current element is\n",
    "        # at the right place or not\n",
    "        if (arr[i] != temp[i]):\n",
    "            ans += 1\n",
    "            init = arr[i]\n",
    " \n",
    "            # If not, swap this element\n",
    "              # with the index of the\n",
    "              # element which should come here\n",
    "            arr[i], arr[h[temp[i]]] = arr[h[temp[i]]], arr[i]\n",
    " \n",
    "            # Update the indexes in\n",
    "              # the hashmap accordingly\n",
    "            h[init] = h[temp[i]]\n",
    "            h[temp[i]] = i\n",
    "             \n",
    "    return ans"
   ]
  },
  {
   "cell_type": "markdown",
   "metadata": {},
   "source": [
    "### Find pivot element in a sorted and rotated array"
   ]
  },
  {
   "cell_type": "code",
   "execution_count": 12,
   "metadata": {},
   "outputs": [],
   "source": [
    "def find(arr,l,h):\n",
    "    while l<=h:\n",
    "        mid=(l+h)//2\n",
    "        if arr[mid]>arr[mid+1]:\n",
    "            return arr[mid]\n",
    "        elif arr[l]<=arr[mid]:\n",
    "            l=mid+1\n",
    "        else:\n",
    "            h=mid-1"
   ]
  },
  {
   "cell_type": "markdown",
   "metadata": {},
   "source": [
    "# whenever two array sorted given use merge sort\n",
    "\n",
    "### K-th element of two sorted Arrays \n",
    "Medium Accuracy: 50.09% Submissions: 15842 Points: 4\n",
    "Given two sorted arrays arr1 and arr2 of size M and N respectively and an element K. The task is to find the element that would be at the k’th position of the final sorted array.\n",
    " \n",
    "\n",
    "Example 1:\n",
    "\n",
    "Input:\n",
    "arr1[] = {2, 3, 6, 7, 9}\n",
    "arr2[] = {1, 4, 8, 10}\n",
    "k = 5\n",
    "Output:\n",
    "6\n",
    "Explanation:\n",
    "The final sorted array would be -\n",
    "1, 2, 3, 4, 6, 7, 8, 9, 10\n",
    "The 5th element of this array is 6.\n",
    "Example 2:\n",
    "Input:\n",
    "arr1[] = {100, 112, 256, 349, 770}\n",
    "arr2[] = {72, 86, 113, 119, 265, 445, 892}\n",
    "k = 7\n",
    "Output:\n",
    "256\n",
    "Explanation:\n",
    "Final sorted array is - 72, 86, 100, 112,\n",
    "113, 119, 256, 265, 349, 445, 770, 892\n",
    "7th element of this array is 256."
   ]
  },
  {
   "cell_type": "code",
   "execution_count": null,
   "metadata": {},
   "outputs": [],
   "source": [
    "def kthElement(self,  arr1, arr2, n, m, k):\n",
    "    arr3=[]\n",
    "    for i in arr1:\n",
    "        arr3.append(i)\n",
    "    for i in arr2:\n",
    "        arr3.append(i)\n",
    "    arr3.sort()\n",
    "    return arr3[k-1]"
   ]
  },
  {
   "cell_type": "code",
   "execution_count": null,
   "metadata": {},
   "outputs": [],
   "source": [
    "def kth(arr1, arr2, m, n, k):\n",
    " \n",
    "    sorted1 = [0] * (m + n)\n",
    "    i = 0\n",
    "    j = 0\n",
    "    d = 0\n",
    "    while (i < m and j < n):\n",
    " \n",
    "        if (arr1[i] < arr2[j]):\n",
    "            sorted1[d] = arr1[i]\n",
    "            i += 1\n",
    "        else:\n",
    "            sorted1[d] = arr2[j]\n",
    "            j += 1\n",
    "        d += 1\n",
    " \n",
    "    while (i < m):\n",
    "        sorted1[d] = arr1[i]\n",
    "        d += 1\n",
    "        i += 1\n",
    "    while (j < n):\n",
    "        sorted1[d] = arr2[j]\n",
    "        d += 1\n",
    "        j += 1\n",
    "    return sorted1[k - 1]"
   ]
  },
  {
   "cell_type": "code",
   "execution_count": null,
   "metadata": {},
   "outputs": [],
   "source": [
    "def find(A, B, m, n, k_req):   \n",
    "    i, j, k = 0, 0, 0\n",
    " \n",
    "    # Keep taking smaller of the current\n",
    "    # elements of two sorted arrays and\n",
    "    # keep incrementing k\n",
    "    while i < len(A) and j < len(B):\n",
    "        if A[i] < B[j]:\n",
    "            k += 1\n",
    "            if k == k_req:\n",
    "                return A[i]\n",
    "            i += 1\n",
    "        else:\n",
    "            k += 1\n",
    "            if k == k_req:\n",
    "                return B[j]       \n",
    "            j += 1\n",
    " \n",
    "    # If array B[] is completely traversed\n",
    "    while i < len(A):\n",
    "        k += 1\n",
    "        if k == k_req:\n",
    "                return A[i]\n",
    "        i += 1\n",
    " \n",
    " \n",
    "    # If array A[] is completely traversed\n",
    "    while j < len(B):\n",
    "        k += 1\n",
    "        if k == k_req:\n",
    "                return B[j]\n",
    "        j += 1"
   ]
  },
  {
   "cell_type": "code",
   "execution_count": null,
   "metadata": {},
   "outputs": [],
   "source": []
  },
  {
   "cell_type": "code",
   "execution_count": null,
   "metadata": {},
   "outputs": [],
   "source": []
  },
  {
   "cell_type": "code",
   "execution_count": null,
   "metadata": {},
   "outputs": [],
   "source": []
  },
  {
   "cell_type": "code",
   "execution_count": null,
   "metadata": {},
   "outputs": [],
   "source": []
  },
  {
   "cell_type": "code",
   "execution_count": null,
   "metadata": {},
   "outputs": [],
   "source": []
  },
  {
   "cell_type": "code",
   "execution_count": null,
   "metadata": {},
   "outputs": [],
   "source": []
  },
  {
   "cell_type": "code",
   "execution_count": null,
   "metadata": {},
   "outputs": [],
   "source": []
  },
  {
   "cell_type": "code",
   "execution_count": null,
   "metadata": {},
   "outputs": [],
   "source": []
  },
  {
   "cell_type": "code",
   "execution_count": null,
   "metadata": {},
   "outputs": [],
   "source": []
  },
  {
   "cell_type": "code",
   "execution_count": null,
   "metadata": {},
   "outputs": [],
   "source": []
  },
  {
   "cell_type": "code",
   "execution_count": null,
   "metadata": {},
   "outputs": [],
   "source": []
  },
  {
   "cell_type": "code",
   "execution_count": null,
   "metadata": {},
   "outputs": [],
   "source": []
  },
  {
   "cell_type": "code",
   "execution_count": null,
   "metadata": {},
   "outputs": [],
   "source": []
  },
  {
   "cell_type": "code",
   "execution_count": null,
   "metadata": {},
   "outputs": [],
   "source": []
  },
  {
   "cell_type": "code",
   "execution_count": null,
   "metadata": {},
   "outputs": [],
   "source": []
  },
  {
   "cell_type": "code",
   "execution_count": null,
   "metadata": {},
   "outputs": [],
   "source": []
  },
  {
   "cell_type": "code",
   "execution_count": null,
   "metadata": {},
   "outputs": [],
   "source": []
  },
  {
   "cell_type": "code",
   "execution_count": null,
   "metadata": {},
   "outputs": [],
   "source": []
  },
  {
   "cell_type": "code",
   "execution_count": null,
   "metadata": {},
   "outputs": [],
   "source": []
  },
  {
   "cell_type": "code",
   "execution_count": null,
   "metadata": {},
   "outputs": [],
   "source": []
  },
  {
   "cell_type": "code",
   "execution_count": null,
   "metadata": {},
   "outputs": [],
   "source": []
  },
  {
   "cell_type": "code",
   "execution_count": null,
   "metadata": {},
   "outputs": [],
   "source": []
  },
  {
   "cell_type": "code",
   "execution_count": null,
   "metadata": {},
   "outputs": [],
   "source": []
  },
  {
   "cell_type": "code",
   "execution_count": null,
   "metadata": {},
   "outputs": [],
   "source": []
  },
  {
   "cell_type": "code",
   "execution_count": null,
   "metadata": {},
   "outputs": [],
   "source": []
  },
  {
   "cell_type": "code",
   "execution_count": null,
   "metadata": {},
   "outputs": [],
   "source": []
  },
  {
   "cell_type": "code",
   "execution_count": null,
   "metadata": {},
   "outputs": [],
   "source": []
  },
  {
   "cell_type": "code",
   "execution_count": null,
   "metadata": {},
   "outputs": [],
   "source": []
  },
  {
   "cell_type": "code",
   "execution_count": null,
   "metadata": {},
   "outputs": [],
   "source": []
  },
  {
   "cell_type": "code",
   "execution_count": null,
   "metadata": {},
   "outputs": [],
   "source": []
  },
  {
   "cell_type": "code",
   "execution_count": null,
   "metadata": {},
   "outputs": [],
   "source": []
  },
  {
   "cell_type": "code",
   "execution_count": null,
   "metadata": {},
   "outputs": [],
   "source": []
  },
  {
   "cell_type": "code",
   "execution_count": null,
   "metadata": {},
   "outputs": [],
   "source": []
  },
  {
   "cell_type": "code",
   "execution_count": null,
   "metadata": {},
   "outputs": [],
   "source": []
  },
  {
   "cell_type": "code",
   "execution_count": null,
   "metadata": {},
   "outputs": [],
   "source": []
  },
  {
   "cell_type": "code",
   "execution_count": null,
   "metadata": {},
   "outputs": [],
   "source": []
  },
  {
   "cell_type": "code",
   "execution_count": null,
   "metadata": {},
   "outputs": [],
   "source": []
  },
  {
   "cell_type": "code",
   "execution_count": null,
   "metadata": {},
   "outputs": [],
   "source": []
  },
  {
   "cell_type": "code",
   "execution_count": null,
   "metadata": {},
   "outputs": [],
   "source": []
  }
 ],
 "metadata": {
  "kernelspec": {
   "display_name": "Python 3",
   "language": "python",
   "name": "python3"
  },
  "language_info": {
   "codemirror_mode": {
    "name": "ipython",
    "version": 3
   },
   "file_extension": ".py",
   "mimetype": "text/x-python",
   "name": "python",
   "nbconvert_exporter": "python",
   "pygments_lexer": "ipython3",
   "version": "3.8.5"
  }
 },
 "nbformat": 4,
 "nbformat_minor": 4
}
