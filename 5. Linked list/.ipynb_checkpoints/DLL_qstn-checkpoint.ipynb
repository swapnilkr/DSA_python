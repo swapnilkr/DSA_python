{
 "cells": [
  {
   "cell_type": "markdown",
   "metadata": {},
   "source": [
    "## Reverse a Doubly Linked List \n",
    "\n",
    "Given a doubly linked list of n elements. The task is to reverse the doubly linked list.\n",
    "\n",
    "Example 1:\n",
    "\n",
    "Input:\n",
    "LinkedList: 3 <--> 4 <--> 5\n",
    "Output: 5 4 3\n",
    "Example 2:\n",
    "\n",
    "Input:\n",
    "LinkedList: 75 <--> 122 <--> 59 <--> 196\n",
    "Output: 196 59 122 75"
   ]
  },
  {
   "cell_type": "markdown",
   "metadata": {},
   "source": [
    "a simple method for reversing a Doubly Linked List. All we need to do is swap prev and next pointers for all nodes, change prev of the head (or start) and change the head pointer in the end."
   ]
  },
  {
   "cell_type": "code",
   "execution_count": null,
   "metadata": {},
   "outputs": [],
   "source": [
    "def reverse(head):\n",
    "        temp = None\n",
    "        current = head\n",
    " \n",
    "        # Swap next and prev for all nodes of\n",
    "        # doubly linked list\n",
    "        while current is not None:\n",
    "            temp = current.prev\n",
    "            current.prev = current.next\n",
    "            current.next = temp\n",
    "            current = current.prev\n",
    " \n",
    "        # Before changing head, check for the cases like\n",
    "        # empty list and list with only one node\n",
    "        if temp is not None:\n",
    "            self.head = temp.prev\n",
    " "
   ]
  },
  {
   "cell_type": "markdown",
   "metadata": {},
   "source": [
    "### Find pairs with given sum in doubly linked list\n",
    "Difficulty Level : Easy\n",
    "Last Updated : 11 May, 2021\n",
    "Given a sorted doubly linked list of positive distinct elements, the task is to find pairs in a doubly-linked list whose sum is equal to given value x, without using any extra space? \n",
    "\n",
    "Example:  \n",
    "\n",
    "Input : head : 1 <-> 2 <-> 4 <-> 5 <-> 6 <-> 8 <-> 9\n",
    "        x = 7\n",
    "Output: (6, 1), (5,2)\n",
    "The expected time complexity is O(n) and auxiliary space is O(1).\n",
    "\n",
    "Recommended: Please try your approach on {IDE} first, before moving on to the solution.\n",
    "A simple approach for this problem is to one by one pick each node and find a second element whose sum is equal to x in the remaining list by traversing in the forward direction. The time complexity for this problem will be O(n^2), n is the total number of nodes in the doubly linked list.\n",
    "\n",
    "An efficient solution for this problem is the same as this article. Here is the algorithm :  "
   ]
  },
  {
   "cell_type": "markdown",
   "metadata": {},
   "source": [
    "Initialize two pointer variables to find the candidate elements in the sorted doubly linked list. Initialize first with the start of the doubly linked list i.e; first=head and initialize second with the last node of the doubly linked list i.e; second=last_node.\n",
    "We initialize first and second pointers as first and last nodes. Here we don’t have random access, so to find the second pointer, we traverse the list to initialize the second.\n",
    "If current sum of first and second is less than x, then we move first in forward direction. If current sum of first and second element is greater than x, then we move second in backward direction.\n",
    "Loop termination conditions are also different from arrays. The loop terminates when two pointers cross each other (second->next = first), or they become the same (first == second). \n",
    "The case when no pairs are present will be handled by the condition “first==second”"
   ]
  },
  {
   "cell_type": "code",
   "execution_count": null,
   "metadata": {},
   "outputs": [],
   "source": [
    "def pairSum(head, x):\n",
    "     \n",
    "    # Set two pointers, first to the\n",
    "    # beginning of DLL and second to\n",
    "    # the end of DLL.\n",
    "    first = head\n",
    "    second = head\n",
    "     \n",
    "    while (second.next != None):\n",
    "        second = second.next\n",
    " \n",
    "    # To track if we find a pair or not\n",
    "    found = False\n",
    " \n",
    "    # The loop terminates when they\n",
    "    # cross each other (second.next ==\n",
    "    # first), or they become same\n",
    "    # (first == second)\n",
    "    while (first != second and second.next != first):\n",
    "             \n",
    "        # Pair found\n",
    "        if ((first.data + second.data) == x):\n",
    "            found = True\n",
    "            print(\"(\", first.data, \",\",\n",
    "                       second.data, \")\")\n",
    "             \n",
    "            # Move first in forward direction\n",
    "            first = first.next\n",
    "             \n",
    "            # Move second in backward direction\n",
    "            second = second.prev\n",
    "        else:\n",
    "            if ((first.data + second.data) < x):\n",
    "                first = first.next\n",
    "            else:\n",
    "                second = second.prev\n",
    " \n",
    "    # If pair is not present\n",
    "    if (found == False):\n",
    "        print(\"No pair found\")"
   ]
  },
  {
   "cell_type": "markdown",
   "metadata": {},
   "source": [
    "### Count triplets in a sorted doubly linked list whose sum is equal to a given value x"
   ]
  },
  {
   "cell_type": "code",
   "execution_count": null,
   "metadata": {},
   "outputs": [],
   "source": [
    "def countTriplets(head, x):\n",
    " \n",
    "    ptr2=head\n",
    "    count = 0;\n",
    "  \n",
    "    # unordered_map 'um' implemented as hash table\n",
    "    um = dict()\n",
    "     \n",
    "    ptr = head\n",
    "    # insert the <node data, node pointer> tuple in 'um'\n",
    "    while ptr!=None:\n",
    "        um[ptr.data] = ptr;\n",
    "        ptr = ptr.next\n",
    "  \n",
    "    # generate all possible pairs\n",
    "    ptr1=head\n",
    "     \n",
    "    while ptr1!=None:\n",
    "         \n",
    "        ptr2 = ptr1.next\n",
    "         \n",
    "        while ptr2!=None:\n",
    "  \n",
    "            # p_sum - sum of elements in the current pair\n",
    "            p_sum = ptr1.data + ptr2.data;\n",
    "  \n",
    "            # if 'x-p_sum' is present in 'um' and either of the two nodes\n",
    "            # are not equal to the 'um[x-p_sum]' node\n",
    "            if ((x-p_sum) in um) and um[x - p_sum] != ptr1 and um[x - p_sum] != ptr2:\n",
    "  \n",
    "                # increment count\n",
    "                count+=1\n",
    "            ptr2 = ptr2.next\n",
    "        ptr1 = ptr1.next\n",
    "         \n",
    "  \n",
    "    # required count of triplets\n",
    "    # division by 3 as each triplet is counted 3 times\n",
    "    return (count // 3);\n",
    " "
   ]
  },
  {
   "cell_type": "markdown",
   "metadata": {},
   "source": [
    "## Rotate Doubly linked list by N nodes\n",
    "Difficulty Level : Easy\n",
    "Last Updated : 23 May, 2021\n",
    "Given a doubly linked list, rotate the linked list counter-clockwise by N nodes. Here N is a given positive integer and is smaller than the count of nodes in linked list. \n",
    "\n",
    "Input : a  b  c  d  e   N = 2\n",
    "Output : c  d  e  a  b \n",
    "\n",
    "Input : a  b  c  d  e  f  g  h   N = 4\n",
    "Output : e  f  g  h  a  b  c  d "
   ]
  },
  {
   "cell_type": "markdown",
   "metadata": {},
   "source": [
    "To rotate the Doubly linked list, we need to change next of Nth node to NULL, next of last node to previous head node, and prev of head node to last node and finally change head to (N+1)th node and prev of new head node to NULL (Prev of Head node in doubly linked list is NULL) \n",
    "So we need to get hold of three nodes: Nth node, (N+1)th node and last node. Traverse the list from beginning and stop at Nth node. Store pointer to Nth node. We can get (N+1)th node using NthNode->next. Keep traversing till end and store pointer to last node also. Finally, change pointers as stated above and at Last Print Rotated List using \n",
    "PrintList Function. "
   ]
  },
  {
   "cell_type": "markdown",
   "metadata": {},
   "source": [
    "1.  nth node+1 joins to head\n",
    "2. head prev joined to nth node+1\n",
    "3. head=nth node\n",
    "4. head prev=none\n",
    "5. nth node.next=None"
   ]
  },
  {
   "cell_type": "code",
   "execution_count": null,
   "metadata": {},
   "outputs": [],
   "source": [
    "def rotate(start, N):\n",
    "    if N == 0 :\n",
    "        return\n",
    " \n",
    "    # Let us understand the below code\n",
    "    # for example N = 2 and\n",
    "    # list = a <-> b <-> c <-> d <-> e.\n",
    "    current = start\n",
    " \n",
    "    # current will either point to Nth\n",
    "    # or None after this loop. Current\n",
    "    # will point to node 'b' in the\n",
    "    # above example\n",
    "    count = 1\n",
    "    while count < N and current != None :\n",
    "        current = current.next\n",
    "        count += 1\n",
    " \n",
    "    # If current is None, N is greater\n",
    "    # than or equal to count of nodes\n",
    "    # in linked list. Don't change the\n",
    "    # list in this case\n",
    "    if current == None :\n",
    "        return\n",
    " \n",
    "    # current points to Nth node. Store\n",
    "    # it in a variable. NthNode points to\n",
    "    # node 'b' in the above example\n",
    "    NthNode = current\n",
    " \n",
    "    # current will point to last node\n",
    "    # after this loop current will point\n",
    "    # to node 'e' in the above example\n",
    "    while current.next != None :\n",
    "        current = current.next\n",
    " \n",
    "    # Change next of last node to previous\n",
    "    # head. Next of 'e' is now changed to\n",
    "    # node 'a'\n",
    "    current.next = start\n",
    " \n",
    "    # Change prev of Head node to current\n",
    "    # Prev of 'a' is now changed to node 'e'\n",
    "    start.prev = current\n",
    " \n",
    "    # Change head to (N+1)th node\n",
    "    # head is now changed to node 'c'\n",
    "    start = NthNode.next\n",
    " \n",
    "    # Change prev of New Head node to None\n",
    "    # Because Prev of Head Node in Doubly\n",
    "    # linked list is None\n",
    "    start.prev = None\n",
    " \n",
    "    # change next of Nth node to None\n",
    "    # next of 'b' is now None\n",
    "    NthNode.next = None\n",
    " \n",
    "    return start"
   ]
  },
  {
   "cell_type": "code",
   "execution_count": null,
   "metadata": {},
   "outputs": [],
   "source": []
  },
  {
   "cell_type": "code",
   "execution_count": null,
   "metadata": {},
   "outputs": [],
   "source": []
  },
  {
   "cell_type": "code",
   "execution_count": null,
   "metadata": {},
   "outputs": [],
   "source": []
  },
  {
   "cell_type": "code",
   "execution_count": null,
   "metadata": {},
   "outputs": [],
   "source": []
  },
  {
   "cell_type": "code",
   "execution_count": null,
   "metadata": {},
   "outputs": [],
   "source": []
  },
  {
   "cell_type": "code",
   "execution_count": null,
   "metadata": {},
   "outputs": [],
   "source": []
  },
  {
   "cell_type": "code",
   "execution_count": null,
   "metadata": {},
   "outputs": [],
   "source": []
  },
  {
   "cell_type": "code",
   "execution_count": null,
   "metadata": {},
   "outputs": [],
   "source": []
  },
  {
   "cell_type": "code",
   "execution_count": null,
   "metadata": {},
   "outputs": [],
   "source": []
  },
  {
   "cell_type": "code",
   "execution_count": null,
   "metadata": {},
   "outputs": [],
   "source": []
  },
  {
   "cell_type": "code",
   "execution_count": null,
   "metadata": {},
   "outputs": [],
   "source": []
  },
  {
   "cell_type": "code",
   "execution_count": null,
   "metadata": {},
   "outputs": [],
   "source": []
  },
  {
   "cell_type": "code",
   "execution_count": null,
   "metadata": {},
   "outputs": [],
   "source": []
  },
  {
   "cell_type": "code",
   "execution_count": null,
   "metadata": {},
   "outputs": [],
   "source": []
  },
  {
   "cell_type": "code",
   "execution_count": null,
   "metadata": {},
   "outputs": [],
   "source": []
  },
  {
   "cell_type": "code",
   "execution_count": null,
   "metadata": {},
   "outputs": [],
   "source": []
  },
  {
   "cell_type": "code",
   "execution_count": null,
   "metadata": {},
   "outputs": [],
   "source": []
  },
  {
   "cell_type": "code",
   "execution_count": null,
   "metadata": {},
   "outputs": [],
   "source": []
  },
  {
   "cell_type": "code",
   "execution_count": null,
   "metadata": {},
   "outputs": [],
   "source": []
  },
  {
   "cell_type": "code",
   "execution_count": null,
   "metadata": {},
   "outputs": [],
   "source": []
  },
  {
   "cell_type": "code",
   "execution_count": null,
   "metadata": {},
   "outputs": [],
   "source": []
  },
  {
   "cell_type": "code",
   "execution_count": null,
   "metadata": {},
   "outputs": [],
   "source": []
  },
  {
   "cell_type": "code",
   "execution_count": null,
   "metadata": {},
   "outputs": [],
   "source": []
  },
  {
   "cell_type": "code",
   "execution_count": null,
   "metadata": {},
   "outputs": [],
   "source": []
  },
  {
   "cell_type": "code",
   "execution_count": null,
   "metadata": {},
   "outputs": [],
   "source": []
  },
  {
   "cell_type": "code",
   "execution_count": null,
   "metadata": {},
   "outputs": [],
   "source": []
  },
  {
   "cell_type": "code",
   "execution_count": null,
   "metadata": {},
   "outputs": [],
   "source": []
  },
  {
   "cell_type": "code",
   "execution_count": null,
   "metadata": {},
   "outputs": [],
   "source": []
  },
  {
   "cell_type": "code",
   "execution_count": null,
   "metadata": {},
   "outputs": [],
   "source": []
  },
  {
   "cell_type": "code",
   "execution_count": null,
   "metadata": {},
   "outputs": [],
   "source": []
  },
  {
   "cell_type": "code",
   "execution_count": null,
   "metadata": {},
   "outputs": [],
   "source": []
  },
  {
   "cell_type": "code",
   "execution_count": null,
   "metadata": {},
   "outputs": [],
   "source": []
  },
  {
   "cell_type": "code",
   "execution_count": null,
   "metadata": {},
   "outputs": [],
   "source": []
  },
  {
   "cell_type": "code",
   "execution_count": null,
   "metadata": {},
   "outputs": [],
   "source": []
  },
  {
   "cell_type": "code",
   "execution_count": null,
   "metadata": {},
   "outputs": [],
   "source": []
  },
  {
   "cell_type": "code",
   "execution_count": null,
   "metadata": {},
   "outputs": [],
   "source": []
  },
  {
   "cell_type": "code",
   "execution_count": null,
   "metadata": {},
   "outputs": [],
   "source": []
  },
  {
   "cell_type": "code",
   "execution_count": null,
   "metadata": {},
   "outputs": [],
   "source": []
  },
  {
   "cell_type": "code",
   "execution_count": null,
   "metadata": {},
   "outputs": [],
   "source": []
  },
  {
   "cell_type": "code",
   "execution_count": null,
   "metadata": {},
   "outputs": [],
   "source": []
  },
  {
   "cell_type": "code",
   "execution_count": null,
   "metadata": {},
   "outputs": [],
   "source": []
  },
  {
   "cell_type": "code",
   "execution_count": null,
   "metadata": {},
   "outputs": [],
   "source": []
  },
  {
   "cell_type": "code",
   "execution_count": null,
   "metadata": {},
   "outputs": [],
   "source": []
  },
  {
   "cell_type": "code",
   "execution_count": null,
   "metadata": {},
   "outputs": [],
   "source": []
  },
  {
   "cell_type": "code",
   "execution_count": null,
   "metadata": {},
   "outputs": [],
   "source": []
  },
  {
   "cell_type": "code",
   "execution_count": null,
   "metadata": {},
   "outputs": [],
   "source": []
  },
  {
   "cell_type": "code",
   "execution_count": null,
   "metadata": {},
   "outputs": [],
   "source": []
  },
  {
   "cell_type": "code",
   "execution_count": null,
   "metadata": {},
   "outputs": [],
   "source": []
  },
  {
   "cell_type": "code",
   "execution_count": null,
   "metadata": {},
   "outputs": [],
   "source": []
  },
  {
   "cell_type": "code",
   "execution_count": null,
   "metadata": {},
   "outputs": [],
   "source": []
  },
  {
   "cell_type": "code",
   "execution_count": null,
   "metadata": {},
   "outputs": [],
   "source": []
  },
  {
   "cell_type": "code",
   "execution_count": null,
   "metadata": {},
   "outputs": [],
   "source": []
  },
  {
   "cell_type": "code",
   "execution_count": null,
   "metadata": {},
   "outputs": [],
   "source": []
  },
  {
   "cell_type": "code",
   "execution_count": null,
   "metadata": {},
   "outputs": [],
   "source": []
  },
  {
   "cell_type": "code",
   "execution_count": null,
   "metadata": {},
   "outputs": [],
   "source": []
  },
  {
   "cell_type": "code",
   "execution_count": null,
   "metadata": {},
   "outputs": [],
   "source": []
  },
  {
   "cell_type": "code",
   "execution_count": null,
   "metadata": {},
   "outputs": [],
   "source": []
  },
  {
   "cell_type": "code",
   "execution_count": null,
   "metadata": {},
   "outputs": [],
   "source": []
  },
  {
   "cell_type": "code",
   "execution_count": null,
   "metadata": {},
   "outputs": [],
   "source": []
  },
  {
   "cell_type": "code",
   "execution_count": null,
   "metadata": {},
   "outputs": [],
   "source": []
  },
  {
   "cell_type": "code",
   "execution_count": null,
   "metadata": {},
   "outputs": [],
   "source": []
  },
  {
   "cell_type": "code",
   "execution_count": null,
   "metadata": {},
   "outputs": [],
   "source": []
  },
  {
   "cell_type": "code",
   "execution_count": null,
   "metadata": {},
   "outputs": [],
   "source": []
  },
  {
   "cell_type": "code",
   "execution_count": null,
   "metadata": {},
   "outputs": [],
   "source": []
  },
  {
   "cell_type": "code",
   "execution_count": null,
   "metadata": {},
   "outputs": [],
   "source": []
  }
 ],
 "metadata": {
  "kernelspec": {
   "display_name": "Python 3",
   "language": "python",
   "name": "python3"
  },
  "language_info": {
   "codemirror_mode": {
    "name": "ipython",
    "version": 3
   },
   "file_extension": ".py",
   "mimetype": "text/x-python",
   "name": "python",
   "nbconvert_exporter": "python",
   "pygments_lexer": "ipython3",
   "version": "3.8.5"
  }
 },
 "nbformat": 4,
 "nbformat_minor": 4
}
