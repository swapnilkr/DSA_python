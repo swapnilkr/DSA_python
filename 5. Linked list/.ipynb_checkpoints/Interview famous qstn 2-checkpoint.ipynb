{
 "cells": [
  {
   "cell_type": "markdown",
   "metadata": {},
   "source": [
    "## Why Quick Sort preferred for Arrays and Merge Sort for Linked Lists?"
   ]
  },
  {
   "cell_type": "code",
   "execution_count": null,
   "metadata": {},
   "outputs": [],
   "source": [
    "Why is Quick Sort preferred for arrays?\n",
    "\n",
    "Below are recursive and iterative implementations of Quick Sort and Merge Sort for arrays.\n",
    "\n",
    "\n",
    "Quick Sort in its general form is an in-place sort (i.e. it doesn’t require any extra storage) whereas merge sort requires O(N) extra storage, N denoting the array size which may be quite expensive. Allocating and de-allocating the extra space used for merge sort increases the running time of the algorithm.\n",
    "Comparing average complexity we find that both type of sorts have O(NlogN) average complexity but the constants differ. For arrays, merge sort loses due to the use of extra O(N) storage space.\n",
    "Most practical implementations of Quick Sort use randomized version. The randomized version has expected time complexity of O(nLogn). The worst case is possible in randomized version also, but worst case doesn’t occur for a particular pattern (like sorted array) and randomized Quick Sort works well in practice.\n",
    "Quick Sort is also a cache friendly sorting algorithm as it has good locality of reference when used for arrays.\n",
    "Quick Sort is also tail recursive, therefore tail call optimizations is done.\n",
    "Why is Merge Sort preferred for Linked Lists?\n",
    "\n",
    "Below are implementations of Quicksort and Mergesort for singly and doubly linked lists.\n",
    "\n",
    "\n",
    "In case of linked lists the case is different mainly due to difference in memory allocation of arrays and linked lists. Unlike arrays, linked list nodes may not be adjacent in memory.\n",
    "Unlike array, in linked list, we can insert items in the middle in O(1) extra space and O(1) time if we are given reference/pointer to the previous node. Therefore merge operation of merge sort can be implemented without extra space for linked lists.\n",
    "In arrays, we can do random access as elements are continuous in memory. Let us say we have an integer (4-byte) array A and let the address of A[0] be x then to access A[i], we can directly access the memory at (x + i*4). Unlike arrays, we can not do random access in linked list.\n",
    "Quick Sort requires a lot of this kind of access. In linked list to access i’th index, we have to travel each and every node from the head to i’th node as we don’t have continuous block of memory. Therefore, the overhead increases for quick sort. Merge sort accesses data sequentially and the need of random access is low."
   ]
  },
  {
   "cell_type": "markdown",
   "metadata": {},
   "source": [
    "## Can we reverse a linked list in less than O(n)?"
   ]
  },
  {
   "cell_type": "markdown",
   "metadata": {},
   "source": [
    "It doesn’t look possible to reverse a simple singly linked list in O(n). A simple singly linked list can only be reversed in O(n) time using recursive and iterative methods. \n",
    "\n",
    "A memory-efficient doubly linked list with head and tail pointers can also be reversed in O(1) time by swapping head and tail pointers. \n",
    "\n",
    "A doubly linked list with head and tail pointers can also be reversed in O(1) time by swapping head and tail pointers, but we would have to traverse the list in forward direction using prev pointer and reverse direction using next pointer which may not be considered valid. "
   ]
  },
  {
   "cell_type": "markdown",
   "metadata": {},
   "source": [
    "## Mid point int qstn"
   ]
  },
  {
   "cell_type": "code",
   "execution_count": null,
   "metadata": {},
   "outputs": [],
   "source": [
    "def midPoint(head):\n",
    "    fast=head\n",
    "    slow=head\n",
    "    while fast is not None and fast.next!=None :\n",
    "        slow=slow.next\n",
    "        fast=fast.next.next\n",
    "    return slow"
   ]
  },
  {
   "cell_type": "markdown",
   "metadata": {},
   "source": [
    "# Always for recursion imagine n-1 term work is done just think what to do with nth term . thats it"
   ]
  },
  {
   "cell_type": "markdown",
   "metadata": {},
   "source": [
    "# Reverse all types vvi"
   ]
  },
  {
   "cell_type": "markdown",
   "metadata": {},
   "source": [
    "# 1. T(n)=O(n**2)"
   ]
  },
  {
   "cell_type": "code",
   "execution_count": null,
   "metadata": {},
   "outputs": [],
   "source": [
    "class Node:\n",
    "    def __init__(self, data):\n",
    "        self.data = data\n",
    "        self.next = None\n",
    "\n",
    "        \n",
    "# fn for rev\n",
    "def reverseRecursive(head):\n",
    "    if head is None or head.next is None:\n",
    "        return head\n",
    "    \n",
    "    smallHead=reverseRecursive(head.next)\n",
    "    curr=smallHead\n",
    "    while curr.next is not None:\n",
    "        curr=curr.next  \n",
    "    curr.next=head\n",
    "    head.next=None\n",
    "    return smallHead\n",
    "    pass\n",
    "\n",
    "def ll(arr):\n",
    "    if len(arr)==0:\n",
    "        return None\n",
    "    head = Node(arr[0])\n",
    "    last = head\n",
    "    for data in arr[1:]:\n",
    "        last.next = Node(data)\n",
    "        last = last.next\n",
    "    return head\n",
    "\n",
    "def printll(head):\n",
    "    while head:\n",
    "        print(head.data, end=' ')\n",
    "        head = head.next\n",
    "    print()\n",
    "\n",
    "# Main\n",
    "from sys import setrecursionlimit\n",
    "setrecursionlimit(11000)\n",
    "# Read the link list elements including -1\n",
    "arr=list(int(i) for i in input().strip().split(' '))\n",
    "# Create a Linked list after removing -1 from list\n",
    "l = ll(arr[:-1])\n",
    "l = reverseRecursive(l)\n",
    "printll(l)\n"
   ]
  },
  {
   "cell_type": "markdown",
   "metadata": {},
   "source": [
    "# 2. with Small head and tail"
   ]
  },
  {
   "cell_type": "code",
   "execution_count": null,
   "metadata": {},
   "outputs": [],
   "source": [
    "class Node:\n",
    "    def __init__(self, data):\n",
    "        self.data = data\n",
    "        self.next = None\n",
    "\n",
    "def reverseRecursive(head):\n",
    "    if head is None or head.next is None:\n",
    "        return head,head\n",
    "    \n",
    "    smallHead,smallTail=reverseRecursive(head.next)\n",
    "    \n",
    "    smallTail.next=head\n",
    "    head.next=None\n",
    "    return smallHead,head\n",
    "    pass\n",
    "\n",
    "def ll(arr):\n",
    "    if len(arr)==0:\n",
    "        return None\n",
    "    head = Node(arr[0])\n",
    "    last = head\n",
    "    for data in arr[1:]:\n",
    "        last.next = Node(data)\n",
    "        last = last.next\n",
    "    return head\n",
    "\n",
    "def printll(head):\n",
    "    while head:\n",
    "        print(head.data, end=' ')\n",
    "        head = head.next\n",
    "    print()\n",
    "\n",
    "# Main\n",
    "from sys import setrecursionlimit\n",
    "setrecursionlimit(11000)\n",
    "# Read the link list elements including -1\n",
    "arr=list(int(i) for i in input().strip().split(' '))\n",
    "# Create a Linked list after removing -1 from list\n",
    "l = ll(arr[:-1])\n",
    "l,tail = reverseRecursive(l)\n",
    "printll(l)\n"
   ]
  },
  {
   "cell_type": "markdown",
   "metadata": {},
   "source": [
    "# 3. Best method interview"
   ]
  },
  {
   "cell_type": "code",
   "execution_count": null,
   "metadata": {},
   "outputs": [],
   "source": [
    "class Node:\n",
    "    def __init__(self, data):\n",
    "        self.data = data\n",
    "        self.next = None\n",
    "\n",
    "def reverseRecursive(head):\n",
    "    if head is None or head.next is None:\n",
    "        return head\n",
    "    \n",
    "    smallHead=reverseRecursive(head.next)\n",
    "    tail=head.next\n",
    "    tail.next=head\n",
    "    head.next=None\n",
    "    return smallHead\n",
    "    pass\n",
    "\n",
    "def ll(arr):\n",
    "    if len(arr)==0:\n",
    "        return None\n",
    "    head = Node(arr[0])\n",
    "    last = head\n",
    "    for data in arr[1:]:\n",
    "        last.next = Node(data)\n",
    "        last = last.next\n",
    "    return head\n",
    "\n",
    "def printll(head):\n",
    "    while head:\n",
    "        print(head.data, end=' ')\n",
    "        head = head.next\n",
    "    print()\n",
    "\n",
    "# Main\n",
    "from sys import setrecursionlimit\n",
    "setrecursionlimit(11000)\n",
    "# Read the link list elements including -1\n",
    "arr=list(int(i) for i in input().strip().split(' '))\n",
    "# Create a Linked list after removing -1 from list\n",
    "l = ll(arr[:-1])\n",
    "l = reverseRecursive(l)\n",
    "printll(l)\n"
   ]
  },
  {
   "cell_type": "markdown",
   "metadata": {},
   "source": [
    "# 4. Iterative"
   ]
  },
  {
   "cell_type": "code",
   "execution_count": null,
   "metadata": {},
   "outputs": [],
   "source": [
    "def reverse(head):\n",
    "    curr=head\n",
    "    prev=None\n",
    "    while curr is not None:\n",
    "        adv=curr.next\n",
    "        curr.next=prev\n",
    "        prev=curr\n",
    "        curr=adv\n",
    "    head=prev\n",
    "    return head\n",
    "    \n",
    "    pass"
   ]
  },
  {
   "cell_type": "markdown",
   "metadata": {},
   "source": [
    "### Merge two sorted LL"
   ]
  },
  {
   "cell_type": "code",
   "execution_count": null,
   "metadata": {},
   "outputs": [],
   "source": [
    "class Node:\n",
    "    def __init__(self, data):\n",
    "        self.data = data\n",
    "        self.next = None\n",
    "\n",
    "def merge(head1,head2):\n",
    "    if (head1.data<head2.data):\n",
    "        finalhead=head1\n",
    "        finaltail=head1\n",
    "        head1=head1.next\n",
    "    else:\n",
    "        finalhead=head2\n",
    "        finaltail=head2\n",
    "        head2=head2.next\n",
    "    while head1 !=None and head2!=None:\n",
    "        if head1.data<head2.data:\n",
    "            finaltail.next=head1\n",
    "            finaltail=finaltail.next\n",
    "            head1=head1.next\n",
    "        \n",
    "        else:\n",
    "            finaltail.next=head2\n",
    "            finaltail=finaltail.next\n",
    "            head2=head2.next\n",
    "    while head1 is not None:\n",
    "        finaltail.next=head1\n",
    "        finaltail=finaltail.next\n",
    "        head1=head1.next\n",
    "    while head2 is not None:\n",
    "        finaltail.next=head2\n",
    "        finaltail=finaltail.next\n",
    "        head2=head2.next\n",
    "    return finalhead\n",
    "            \n",
    "        \n",
    "def ll(arr):\n",
    "    if len(arr)==0:\n",
    "        return None\n",
    "    head = Node(arr[0])\n",
    "    last = head\n",
    "    for data in arr[1:]:\n",
    "        last.next = Node(data)\n",
    "        last = last.next\n",
    "    return head\n",
    "\n",
    "def printll(head):\n",
    "    while head:\n",
    "        print(head.data, end=' ')\n",
    "        head = head.next\n",
    "    print()\n",
    "\n",
    "# Main\n",
    "# Read the link list elements including -1\n",
    "arr1=list(int(i) for i in input().strip().split(' '))\n",
    "arr2=list(int(i) for i in input().strip().split(' '))\n",
    "# Create a Linked list after removing -1 from list\n",
    "l1 = ll(arr1[:-1])\n",
    "l2 = ll(arr2[:-1])\n",
    "l = merge(l1, l2)\n",
    "printll(l)\n"
   ]
  },
  {
   "cell_type": "code",
   "execution_count": null,
   "metadata": {},
   "outputs": [],
   "source": [
    "def merge(head1,head2):\n",
    "\n",
    "    fh = Node(3)\n",
    "    ft = fh       \n",
    "    while head1 is not None and head2 is not None:\n",
    "        if head1.data < head2.data:\n",
    "            ft.next = head1\n",
    "            ft = ft.next\n",
    "            head1 = head1.next\n",
    "        else:\n",
    "            ft.next = head2\n",
    "            ft = ft.next\n",
    "            head2 = head2.next\n",
    "            \n",
    "    while head1 is not None:\n",
    "        ft.next = head1\n",
    "        ft = ft.next\n",
    "        head1 = head1.next\n",
    "    \n",
    "    while head2 is not None:\n",
    "        ft.next = head2\n",
    "        ft = ft.next    \n",
    "        head2 = head2.next\n",
    "    \n",
    "    return fh.next\n",
    "\n",
    "\n",
    "def mergeSort(head):\n",
    "    if head.next is None:\n",
    "        return head\n",
    "    mid=midpoint(head)\n",
    "    h1=head\n",
    "    temp=head\n",
    "    while temp is not mid:\n",
    "        temp=temp.next\n",
    "    h2=temp.next\n",
    "    temp.next=None\n",
    "    h1=mergeSort(h1)\n",
    "    h2=mergeSort(h2)\n",
    "    return merge(h1,h2)\n",
    "    pass\n"
   ]
  },
  {
   "cell_type": "markdown",
   "metadata": {},
   "source": [
    "### find a node in ll"
   ]
  },
  {
   "cell_type": "code",
   "execution_count": null,
   "metadata": {},
   "outputs": [],
   "source": [
    "def linearSearchRecursive(head, n):\n",
    "    if head is None:\n",
    "        return -1\n",
    "    if head.data==n:\n",
    "        return 0\n",
    "    val=linearSearchRecursive(head.next,n)\n",
    "    if val==-1:\n",
    "        return -1\n",
    "    else:\n",
    "        return val+1"
   ]
  },
  {
   "cell_type": "markdown",
   "metadata": {},
   "source": [
    "### even after odd"
   ]
  },
  {
   "cell_type": "code",
   "execution_count": null,
   "metadata": {},
   "outputs": [],
   "source": [
    "def arrange_LinkedList(head):\n",
    "    if head is None:\n",
    "        return None\n",
    "    head1=None\n",
    "    head2=None\n",
    "    curr =head\n",
    "    while curr is not None:\n",
    "        if curr.data &1:\n",
    "            if head1 is None:\n",
    "                head1=curr\n",
    "                tail1=curr\n",
    "            else:\n",
    "                tail1.next=curr\n",
    "                tail1=tail1.next\n",
    "        else:\n",
    "            if head2 is None:\n",
    "                head2=curr\n",
    "                tail2=curr\n",
    "            else:\n",
    "                tail2.next=curr\n",
    "                tail2=tail2.next\n",
    "        curr=curr.next\n",
    "    if head1 is None or head2 is None:\n",
    "        return head\n",
    "    tail2.next=None\n",
    "    tail1.next=head1\n",
    "    return head1"
   ]
  },
  {
   "cell_type": "markdown",
   "metadata": {},
   "source": []
  },
  {
   "cell_type": "code",
   "execution_count": null,
   "metadata": {},
   "outputs": [],
   "source": []
  },
  {
   "cell_type": "code",
   "execution_count": null,
   "metadata": {},
   "outputs": [],
   "source": []
  },
  {
   "cell_type": "code",
   "execution_count": null,
   "metadata": {},
   "outputs": [],
   "source": []
  },
  {
   "cell_type": "code",
   "execution_count": null,
   "metadata": {},
   "outputs": [],
   "source": []
  },
  {
   "cell_type": "code",
   "execution_count": null,
   "metadata": {},
   "outputs": [],
   "source": []
  },
  {
   "cell_type": "code",
   "execution_count": null,
   "metadata": {},
   "outputs": [],
   "source": []
  },
  {
   "cell_type": "code",
   "execution_count": null,
   "metadata": {},
   "outputs": [],
   "source": []
  },
  {
   "cell_type": "code",
   "execution_count": null,
   "metadata": {},
   "outputs": [],
   "source": []
  },
  {
   "cell_type": "code",
   "execution_count": null,
   "metadata": {},
   "outputs": [],
   "source": []
  },
  {
   "cell_type": "code",
   "execution_count": null,
   "metadata": {},
   "outputs": [],
   "source": []
  },
  {
   "cell_type": "code",
   "execution_count": null,
   "metadata": {},
   "outputs": [],
   "source": []
  },
  {
   "cell_type": "code",
   "execution_count": null,
   "metadata": {},
   "outputs": [],
   "source": []
  },
  {
   "cell_type": "code",
   "execution_count": null,
   "metadata": {},
   "outputs": [],
   "source": []
  },
  {
   "cell_type": "code",
   "execution_count": null,
   "metadata": {},
   "outputs": [],
   "source": []
  },
  {
   "cell_type": "code",
   "execution_count": null,
   "metadata": {},
   "outputs": [],
   "source": []
  },
  {
   "cell_type": "code",
   "execution_count": null,
   "metadata": {},
   "outputs": [],
   "source": []
  },
  {
   "cell_type": "code",
   "execution_count": null,
   "metadata": {},
   "outputs": [],
   "source": []
  },
  {
   "cell_type": "code",
   "execution_count": null,
   "metadata": {},
   "outputs": [],
   "source": []
  },
  {
   "cell_type": "code",
   "execution_count": null,
   "metadata": {},
   "outputs": [],
   "source": []
  },
  {
   "cell_type": "code",
   "execution_count": null,
   "metadata": {},
   "outputs": [],
   "source": []
  },
  {
   "cell_type": "code",
   "execution_count": null,
   "metadata": {},
   "outputs": [],
   "source": []
  },
  {
   "cell_type": "code",
   "execution_count": null,
   "metadata": {},
   "outputs": [],
   "source": []
  },
  {
   "cell_type": "code",
   "execution_count": null,
   "metadata": {},
   "outputs": [],
   "source": []
  },
  {
   "cell_type": "code",
   "execution_count": null,
   "metadata": {},
   "outputs": [],
   "source": []
  },
  {
   "cell_type": "code",
   "execution_count": null,
   "metadata": {},
   "outputs": [],
   "source": []
  },
  {
   "cell_type": "code",
   "execution_count": null,
   "metadata": {},
   "outputs": [],
   "source": []
  },
  {
   "cell_type": "code",
   "execution_count": null,
   "metadata": {},
   "outputs": [],
   "source": []
  },
  {
   "cell_type": "code",
   "execution_count": null,
   "metadata": {},
   "outputs": [],
   "source": []
  },
  {
   "cell_type": "code",
   "execution_count": null,
   "metadata": {},
   "outputs": [],
   "source": []
  },
  {
   "cell_type": "code",
   "execution_count": null,
   "metadata": {},
   "outputs": [],
   "source": []
  },
  {
   "cell_type": "code",
   "execution_count": null,
   "metadata": {},
   "outputs": [],
   "source": []
  },
  {
   "cell_type": "code",
   "execution_count": null,
   "metadata": {},
   "outputs": [],
   "source": []
  },
  {
   "cell_type": "code",
   "execution_count": null,
   "metadata": {},
   "outputs": [],
   "source": []
  },
  {
   "cell_type": "code",
   "execution_count": null,
   "metadata": {},
   "outputs": [],
   "source": []
  },
  {
   "cell_type": "code",
   "execution_count": null,
   "metadata": {},
   "outputs": [],
   "source": []
  },
  {
   "cell_type": "code",
   "execution_count": null,
   "metadata": {},
   "outputs": [],
   "source": []
  },
  {
   "cell_type": "code",
   "execution_count": null,
   "metadata": {},
   "outputs": [],
   "source": []
  },
  {
   "cell_type": "code",
   "execution_count": null,
   "metadata": {},
   "outputs": [],
   "source": []
  },
  {
   "cell_type": "code",
   "execution_count": null,
   "metadata": {},
   "outputs": [],
   "source": []
  },
  {
   "cell_type": "code",
   "execution_count": null,
   "metadata": {},
   "outputs": [],
   "source": []
  }
 ],
 "metadata": {
  "kernelspec": {
   "display_name": "Python 3",
   "language": "python",
   "name": "python3"
  },
  "language_info": {
   "codemirror_mode": {
    "name": "ipython",
    "version": 3
   },
   "file_extension": ".py",
   "mimetype": "text/x-python",
   "name": "python",
   "nbconvert_exporter": "python",
   "pygments_lexer": "ipython3",
   "version": "3.8.5"
  }
 },
 "nbformat": 4,
 "nbformat_minor": 4
}
