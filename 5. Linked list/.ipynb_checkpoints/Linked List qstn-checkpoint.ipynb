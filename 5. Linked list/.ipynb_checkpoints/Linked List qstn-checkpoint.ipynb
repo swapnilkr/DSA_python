{
 "cells": [
  {
   "cell_type": "markdown",
   "metadata": {},
   "source": [
    "### even after odd"
   ]
  },
  {
   "cell_type": "code",
   "execution_count": null,
   "metadata": {},
   "outputs": [],
   "source": [
    "def arrange_LinkedList(head):\n",
    "    if head is None:\n",
    "        return None\n",
    "    head1=None\n",
    "    head2=None\n",
    "    curr =head\n",
    "    while curr is not None:\n",
    "        if curr.data &1:\n",
    "            if head1 is None:\n",
    "                head1=curr\n",
    "                tail1=curr\n",
    "            else:\n",
    "                tail1.next=curr\n",
    "                tail1=tail1.next\n",
    "        else:\n",
    "            if head2 is None:\n",
    "                head2=curr\n",
    "                tail2=curr\n",
    "            else:\n",
    "                tail2.next=curr\n",
    "                tail2=tail2.next\n",
    "        curr=curr.next\n",
    "    if head1 is None or head2 is None:\n",
    "        return head\n",
    "    tail2.next=None\n",
    "    tail1.next=head1\n",
    "    return head1"
   ]
  },
  {
   "cell_type": "markdown",
   "metadata": {},
   "source": [
    "### skip del n"
   ]
  },
  {
   "cell_type": "code",
   "execution_count": null,
   "metadata": {},
   "outputs": [],
   "source": [
    "def skipMdeleteN(head, M, N):\n",
    "    if head is None:\n",
    "        return head\n",
    "    if M == 0:\n",
    "        return None\n",
    "    c=0\n",
    "    curr=head\n",
    "    prev=None\n",
    "    while curr is not None:\n",
    "        if c==M:\n",
    "            break\n",
    "        c=c+1\n",
    "        prev=curr\n",
    "        curr=curr.next\n",
    "    c=0\n",
    "    while curr is not None:\n",
    "        if c==N:\n",
    "            break\n",
    "        c=c+1\n",
    "        curr=curr.next\n",
    "    prev.next=skipMdeleteN(curr,M,N)\n",
    "    return head"
   ]
  },
  {
   "cell_type": "markdown",
   "metadata": {},
   "source": [
    "### Swap two node"
   ]
  },
  {
   "cell_type": "code",
   "execution_count": null,
   "metadata": {},
   "outputs": [],
   "source": [
    "def swap_nodes(head, i, j):\n",
    "    curr1 =head\n",
    "    c=0\n",
    "    while c<i:\n",
    "        prev1=curr1\n",
    "        curr1=curr1.next\n",
    "        c=c+1\n",
    "    adv1=curr1.next\n",
    "    c=0\n",
    "    curr2=head\n",
    "    while c<j:\n",
    "        prev2=curr2\n",
    "        curr2=curr2.next\n",
    "        c=c+1\n",
    "    adv2=curr2.next\n",
    "    prev1.next=curr2\n",
    "    curr2.next=adv1\n",
    "    prev2.next=curr1\n",
    "    curr1.next=adv2\n",
    "    \n",
    "    return head"
   ]
  },
  {
   "cell_type": "markdown",
   "metadata": {},
   "source": [
    "# vvvvvvvvvvvvvviiiiiiiiiiiii\n",
    "# every k nodes rev"
   ]
  },
  {
   "cell_type": "code",
   "execution_count": null,
   "metadata": {},
   "outputs": [],
   "source": [
    "def reverse(head):\n",
    "    if head is None or head.next is None:\n",
    "        return head, head\n",
    "    smallHead, smallTail = reverse(head.next)  \n",
    "    smallTail.next = head\n",
    "    head.next = None\n",
    "    return smallHead, head\n",
    "    pass\n",
    "def kReverse(head,n) :\n",
    "    if head is None or head.next is None or n <= 0:\n",
    "        return head\n",
    " \n",
    "    curr = head\n",
    "    tail = head\n",
    "\n",
    "    cnt = 1\n",
    "    while tail.next is not None:\n",
    "        if cnt == n:\n",
    "            break\n",
    "        cnt += 1\n",
    "        #print(tail.data)\n",
    "        tail = tail.next\n",
    " \n",
    "    nextHead = tail.next\n",
    "    tail.next = None\n",
    "    newHead, newTail = reverse(curr)\n",
    "    newTail.next = kReverse(nextHead, n)\n",
    "    return newHead"
   ]
  },
  {
   "cell_type": "markdown",
   "metadata": {},
   "source": [
    "### reverse K nodes"
   ]
  },
  {
   "cell_type": "code",
   "execution_count": null,
   "metadata": {},
   "outputs": [],
   "source": [
    "import sys\n",
    " \n",
    "sys.setrecursionlimit(10**6)\n",
    "def rev(head):\n",
    "    if head is None or head.next is None:\n",
    "        return head, head\n",
    "    smallHead, smallTail = rev(head.next)  \n",
    "    smallTail.next = head\n",
    "    head.next = None\n",
    "    return smallHead, head\n",
    "    pass\n",
    "    \n",
    "\n",
    "\n",
    "class Solution:\n",
    "    def reverse(self,head, k):\n",
    "        # Code here\n",
    "        if head is None or head.next is None or k<=0:\n",
    "            return head\n",
    "        curr=head\n",
    "        tail=head\n",
    "        cnt=1\n",
    "        while tail.next is not None:\n",
    "            if cnt==k:\n",
    "                break\n",
    "            tail=tail.next\n",
    "            cnt+=1\n",
    "        newHead=tail.next\n",
    "        # for k reverse only\n",
    "        tail.next=None ### vvviiiiiiiiiiiiiiiii\n",
    "        smallHead,smallTail=rev(curr)\n",
    "        smallTail.next=self.reverse(newHead,k)\n",
    "        return smallHead"
   ]
  },
  {
   "cell_type": "markdown",
   "metadata": {},
   "source": [
    "# Detect Loop in linked list \n",
    "\n",
    "Given a linked list of N nodes. The task is to check if the linked list has a loop. Linked list can contain self loop.\n",
    "\n",
    "Example 1:\n",
    "\n",
    "Input:\n",
    "N = 3\n",
    "value[] = {1,3,4}\n",
    "x = 2\n",
    "Output: True\n",
    "Explanation: In above test case N = 3.\n",
    "The linked list with nodes N = 3 is\n",
    "given. Then value of x=2 is given which\n",
    "means last node is connected with xth\n",
    "node of linked list. Therefore, there\n",
    "exists a loop.\n",
    "Example 2:\n",
    "\n",
    "Input:\n",
    "N = 4\n",
    "value[] = {1,8,3,4}\n",
    "x = 0\n",
    "Output: False\n",
    "Explanation: For N = 4 ,x = 0 means\n",
    "then lastNode->next = NULL, then\n",
    "the Linked list does not contains\n",
    "any loop."
   ]
  },
  {
   "cell_type": "markdown",
   "metadata": {},
   "source": [
    "# Floyd’s Cycle-Finding Algorithm turtoise method"
   ]
  },
  {
   "cell_type": "code",
   "execution_count": null,
   "metadata": {},
   "outputs": [],
   "source": [
    "def detectLoop(self, head):\n",
    "    #code here\n",
    "    fast=head\n",
    "    slow=head\n",
    "    while fast.next!=None and fast.next.next!=None:\n",
    "        # print(slow.data,fast.data)\n",
    "        slow=slow.next\n",
    "        fast=fast.next.next\n",
    "        # print(slow.data,fast.data)\n",
    "        if slow==fast:\n",
    "            return True\n",
    "\n",
    "    return False"
   ]
  },
  {
   "cell_type": "markdown",
   "metadata": {},
   "source": [
    "### hashmap"
   ]
  },
  {
   "cell_type": "code",
   "execution_count": null,
   "metadata": {},
   "outputs": [],
   "source": [
    "def detectLoop(self):\n",
    "        s = set()\n",
    "        temp = self.head\n",
    "        while (temp):\n",
    " \n",
    "            # If we have already has\n",
    "            # this node in hashmap it\n",
    "            # means their is a cycle\n",
    "            # (Because you we encountering\n",
    "            # the node second time).\n",
    "            if (temp in s):\n",
    "                return True\n",
    " \n",
    "            # If we are seeing the node for\n",
    "            # the first time, insert it in hash\n",
    "            s.add(temp)\n",
    " \n",
    "            temp = temp.next\n",
    " \n",
    "        return False"
   ]
  },
  {
   "cell_type": "markdown",
   "metadata": {},
   "source": [
    "### Delete loop"
   ]
  },
  {
   "cell_type": "code",
   "execution_count": null,
   "metadata": {},
   "outputs": [],
   "source": [
    "def removeLoop(self, head):\n",
    "    # code here\n",
    "    # remove the loop without losing any nodes\n",
    "    s=set()\n",
    "    tail=head\n",
    "    while tail:\n",
    "\n",
    "        if tail in s:\n",
    "            prev.next=None\n",
    "            break\n",
    "        s.add(tail)\n",
    "        prev=tail\n",
    "        tail=tail.next\n",
    "    return head"
   ]
  },
  {
   "cell_type": "code",
   "execution_count": null,
   "metadata": {},
   "outputs": [],
   "source": [
    "class LinkedList:\n",
    " \n",
    "    # Function to initialize head\n",
    "    def __init__(self):\n",
    "        self.head = None\n",
    " \n",
    "    def detectAndRemoveLoop(self):\n",
    "        slow_p = fast_p = self.head\n",
    "         \n",
    "        while(slow_p and fast_p and fast_p.next):\n",
    "            slow_p = slow_p.next\n",
    "            fast_p = fast_p.next.next\n",
    " \n",
    "            # If slow_p and fast_p meet at some point then\n",
    "            # there is a loop\n",
    "            if slow_p == fast_p:\n",
    "                self.removeLoop(slow_p)\n",
    "         \n",
    "                # Return 1 to indicate that loop is found\n",
    "                return 1\n",
    "         \n",
    "        # Return 0 to indicate that there is no loop\n",
    "        return 0\n",
    " \n",
    "    # Function to remove loop\n",
    "    # loop_node --> pointer to one of the loop nodes\n",
    "    # head --> Pointer to the start node of the linked list\n",
    "    def removeLoop(self, loop_node):\n",
    "        ptr1 = loop_node\n",
    "        ptr2 = loop_node\n",
    "         \n",
    "        # Count the number of nodes in loop\n",
    "        k = 1\n",
    "        while(ptr1.next != ptr2):\n",
    "            ptr1 = ptr1.next\n",
    "            k += 1\n",
    " \n",
    "        # Fix one pointer to head\n",
    "        ptr1 = self.head\n",
    "         \n",
    "        # And the other pointer to k nodes after head\n",
    "        ptr2 = self.head\n",
    "        for i in range(k):\n",
    "            ptr2 = ptr2.next\n",
    " \n",
    "        # Move both pointers at the same place\n",
    "        # they will meet at loop starting node\n",
    "        while(ptr2 != ptr1):\n",
    "            ptr1 = ptr1.next\n",
    "            ptr2 = ptr2.next\n",
    " \n",
    "        # Get pointer to the last node\n",
    "        while(ptr2.next != ptr1):\n",
    "            ptr2 = ptr2.next\n",
    " \n",
    "        # Set the next node of the loop ending node\n",
    "        # to fix the loop\n",
    "        ptr2.next = None"
   ]
  },
  {
   "cell_type": "code",
   "execution_count": null,
   "metadata": {},
   "outputs": [],
   "source": []
  },
  {
   "cell_type": "code",
   "execution_count": null,
   "metadata": {},
   "outputs": [],
   "source": []
  },
  {
   "cell_type": "code",
   "execution_count": null,
   "metadata": {},
   "outputs": [],
   "source": []
  },
  {
   "cell_type": "code",
   "execution_count": null,
   "metadata": {},
   "outputs": [],
   "source": []
  },
  {
   "cell_type": "code",
   "execution_count": null,
   "metadata": {},
   "outputs": [],
   "source": []
  },
  {
   "cell_type": "code",
   "execution_count": null,
   "metadata": {},
   "outputs": [],
   "source": []
  },
  {
   "cell_type": "code",
   "execution_count": null,
   "metadata": {},
   "outputs": [],
   "source": []
  },
  {
   "cell_type": "code",
   "execution_count": null,
   "metadata": {},
   "outputs": [],
   "source": []
  },
  {
   "cell_type": "code",
   "execution_count": null,
   "metadata": {},
   "outputs": [],
   "source": []
  },
  {
   "cell_type": "code",
   "execution_count": null,
   "metadata": {},
   "outputs": [],
   "source": []
  },
  {
   "cell_type": "code",
   "execution_count": null,
   "metadata": {},
   "outputs": [],
   "source": []
  },
  {
   "cell_type": "code",
   "execution_count": null,
   "metadata": {},
   "outputs": [],
   "source": []
  },
  {
   "cell_type": "code",
   "execution_count": null,
   "metadata": {},
   "outputs": [],
   "source": []
  },
  {
   "cell_type": "code",
   "execution_count": null,
   "metadata": {},
   "outputs": [],
   "source": []
  },
  {
   "cell_type": "code",
   "execution_count": null,
   "metadata": {},
   "outputs": [],
   "source": []
  },
  {
   "cell_type": "code",
   "execution_count": null,
   "metadata": {},
   "outputs": [],
   "source": []
  },
  {
   "cell_type": "code",
   "execution_count": null,
   "metadata": {},
   "outputs": [],
   "source": []
  },
  {
   "cell_type": "code",
   "execution_count": null,
   "metadata": {},
   "outputs": [],
   "source": []
  },
  {
   "cell_type": "code",
   "execution_count": null,
   "metadata": {},
   "outputs": [],
   "source": []
  },
  {
   "cell_type": "code",
   "execution_count": null,
   "metadata": {},
   "outputs": [],
   "source": []
  },
  {
   "cell_type": "code",
   "execution_count": null,
   "metadata": {},
   "outputs": [],
   "source": []
  },
  {
   "cell_type": "code",
   "execution_count": null,
   "metadata": {},
   "outputs": [],
   "source": []
  },
  {
   "cell_type": "code",
   "execution_count": null,
   "metadata": {},
   "outputs": [],
   "source": []
  },
  {
   "cell_type": "code",
   "execution_count": null,
   "metadata": {},
   "outputs": [],
   "source": []
  },
  {
   "cell_type": "code",
   "execution_count": null,
   "metadata": {},
   "outputs": [],
   "source": []
  },
  {
   "cell_type": "code",
   "execution_count": null,
   "metadata": {},
   "outputs": [],
   "source": []
  },
  {
   "cell_type": "code",
   "execution_count": null,
   "metadata": {},
   "outputs": [],
   "source": []
  },
  {
   "cell_type": "code",
   "execution_count": null,
   "metadata": {},
   "outputs": [],
   "source": []
  },
  {
   "cell_type": "code",
   "execution_count": null,
   "metadata": {},
   "outputs": [],
   "source": []
  },
  {
   "cell_type": "code",
   "execution_count": null,
   "metadata": {},
   "outputs": [],
   "source": []
  },
  {
   "cell_type": "code",
   "execution_count": null,
   "metadata": {},
   "outputs": [],
   "source": []
  },
  {
   "cell_type": "code",
   "execution_count": null,
   "metadata": {},
   "outputs": [],
   "source": []
  },
  {
   "cell_type": "code",
   "execution_count": null,
   "metadata": {},
   "outputs": [],
   "source": []
  },
  {
   "cell_type": "code",
   "execution_count": null,
   "metadata": {},
   "outputs": [],
   "source": []
  },
  {
   "cell_type": "code",
   "execution_count": null,
   "metadata": {},
   "outputs": [],
   "source": []
  },
  {
   "cell_type": "code",
   "execution_count": null,
   "metadata": {},
   "outputs": [],
   "source": []
  },
  {
   "cell_type": "code",
   "execution_count": null,
   "metadata": {},
   "outputs": [],
   "source": []
  }
 ],
 "metadata": {
  "kernelspec": {
   "display_name": "Python 3",
   "language": "python",
   "name": "python3"
  },
  "language_info": {
   "codemirror_mode": {
    "name": "ipython",
    "version": 3
   },
   "file_extension": ".py",
   "mimetype": "text/x-python",
   "name": "python",
   "nbconvert_exporter": "python",
   "pygments_lexer": "ipython3",
   "version": "3.8.5"
  }
 },
 "nbformat": 4,
 "nbformat_minor": 4
}
