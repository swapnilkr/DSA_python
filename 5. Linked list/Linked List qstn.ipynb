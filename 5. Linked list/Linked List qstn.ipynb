{
 "cells": [
  {
   "cell_type": "markdown",
   "metadata": {},
   "source": [
    "### even after odd"
   ]
  },
  {
   "cell_type": "code",
   "execution_count": null,
   "metadata": {},
   "outputs": [],
   "source": [
    "def arrange_LinkedList(head):\n",
    "    if head is None:\n",
    "        return None\n",
    "    head1=None\n",
    "    head2=None\n",
    "    curr =head\n",
    "    while curr is not None:\n",
    "        if curr.data &1:\n",
    "            if head1 is None:\n",
    "                head1=curr\n",
    "                tail1=curr\n",
    "            else:\n",
    "                tail1.next=curr\n",
    "                tail1=tail1.next\n",
    "        else:\n",
    "            if head2 is None:\n",
    "                head2=curr\n",
    "                tail2=curr\n",
    "            else:\n",
    "                tail2.next=curr\n",
    "                tail2=tail2.next\n",
    "        curr=curr.next\n",
    "    if head1 is None or head2 is None:\n",
    "        return head\n",
    "    tail2.next=None\n",
    "    tail1.next=head1\n",
    "    return head1"
   ]
  },
  {
   "cell_type": "markdown",
   "metadata": {},
   "source": [
    "### skip del n"
   ]
  },
  {
   "cell_type": "code",
   "execution_count": null,
   "metadata": {},
   "outputs": [],
   "source": [
    "def skipMdeleteN(head, M, N):\n",
    "    if head is None:\n",
    "        return head\n",
    "    if M == 0:\n",
    "        return None\n",
    "    c=0\n",
    "    curr=head\n",
    "    prev=None\n",
    "    while curr is not None:\n",
    "        if c==M:\n",
    "            break\n",
    "        c=c+1\n",
    "        prev=curr\n",
    "        curr=curr.next\n",
    "    c=0\n",
    "    while curr is not None:\n",
    "        if c==N:\n",
    "            break\n",
    "        c=c+1\n",
    "        curr=curr.next\n",
    "    prev.next=skipMdeleteN(curr,M,N)\n",
    "    return head"
   ]
  },
  {
   "cell_type": "markdown",
   "metadata": {},
   "source": [
    "### Swap two node"
   ]
  },
  {
   "cell_type": "code",
   "execution_count": null,
   "metadata": {},
   "outputs": [],
   "source": [
    "def swap_nodes(head, i, j):\n",
    "    curr1 =head\n",
    "    c=0\n",
    "    while c<i:\n",
    "        prev1=curr1\n",
    "        curr1=curr1.next\n",
    "        c=c+1\n",
    "    adv1=curr1.next\n",
    "    c=0\n",
    "    curr2=head\n",
    "    while c<j:\n",
    "        prev2=curr2\n",
    "        curr2=curr2.next\n",
    "        c=c+1\n",
    "    adv2=curr2.next\n",
    "    prev1.next=curr2\n",
    "    curr2.next=adv1\n",
    "    prev2.next=curr1\n",
    "    curr1.next=adv2\n",
    "    \n",
    "    return head"
   ]
  },
  {
   "cell_type": "markdown",
   "metadata": {},
   "source": [
    "# vvvvvvvvvvvvvviiiiiiiiiiiii\n",
    "# every k nodes rev"
   ]
  },
  {
   "cell_type": "code",
   "execution_count": null,
   "metadata": {},
   "outputs": [],
   "source": [
    "def reverse(head):\n",
    "    if head is None or head.next is None:\n",
    "        return head, head\n",
    "    smallHead, smallTail = reverse(head.next)  \n",
    "    smallTail.next = head\n",
    "    head.next = None\n",
    "    return smallHead, head\n",
    "    pass\n",
    "def kReverse(head,n) :\n",
    "    if head is None or head.next is None or n <= 0:\n",
    "        return head\n",
    " \n",
    "    curr = head\n",
    "    tail = head\n",
    "\n",
    "    cnt = 1\n",
    "    while tail.next is not None:\n",
    "        if cnt == n:\n",
    "            break\n",
    "        cnt += 1\n",
    "        #print(tail.data)\n",
    "        tail = tail.next\n",
    " \n",
    "    nextHead = tail.next\n",
    "    tail.next = None\n",
    "    newHead, newTail = reverse(curr)\n",
    "    newTail.next = kReverse(nextHead, n)\n",
    "    return newHead"
   ]
  },
  {
   "cell_type": "markdown",
   "metadata": {},
   "source": [
    "### reverse K nodes"
   ]
  },
  {
   "cell_type": "code",
   "execution_count": null,
   "metadata": {},
   "outputs": [],
   "source": [
    "import sys\n",
    " \n",
    "sys.setrecursionlimit(10**6)\n",
    "def rev(head):\n",
    "    if head is None or head.next is None:\n",
    "        return head, head\n",
    "    smallHead, smallTail = rev(head.next)  \n",
    "    smallTail.next = head\n",
    "    head.next = None\n",
    "    return smallHead, head\n",
    "    pass\n",
    "    \n",
    "\n",
    "\n",
    "class Solution:\n",
    "    def reverse(self,head, k):\n",
    "        # Code here\n",
    "        if head is None or head.next is None or k<=0:\n",
    "            return head\n",
    "        curr=head\n",
    "        tail=head\n",
    "        cnt=1\n",
    "        while tail.next is not None:\n",
    "            if cnt==k:\n",
    "                break\n",
    "            tail=tail.next\n",
    "            cnt+=1\n",
    "        newHead=tail.next\n",
    "        # for k reverse only\n",
    "        tail.next=None ### vvviiiiiiiiiiiiiiiii\n",
    "        smallHead,smallTail=rev(curr)\n",
    "        smallTail.next=self.reverse(newHead,k)\n",
    "        return smallHead"
   ]
  },
  {
   "cell_type": "markdown",
   "metadata": {},
   "source": [
    "# Detect Loop in linked list \n",
    "\n",
    "Given a linked list of N nodes. The task is to check if the linked list has a loop. Linked list can contain self loop.\n",
    "\n",
    "Example 1:\n",
    "\n",
    "Input:\n",
    "N = 3\n",
    "value[] = {1,3,4}\n",
    "x = 2\n",
    "Output: True\n",
    "Explanation: In above test case N = 3.\n",
    "The linked list with nodes N = 3 is\n",
    "given. Then value of x=2 is given which\n",
    "means last node is connected with xth\n",
    "node of linked list. Therefore, there\n",
    "exists a loop.\n",
    "Example 2:\n",
    "\n",
    "Input:\n",
    "N = 4\n",
    "value[] = {1,8,3,4}\n",
    "x = 0\n",
    "Output: False\n",
    "Explanation: For N = 4 ,x = 0 means\n",
    "then lastNode->next = NULL, then\n",
    "the Linked list does not contains\n",
    "any loop."
   ]
  },
  {
   "cell_type": "markdown",
   "metadata": {},
   "source": [
    "# Floyd’s Cycle-Finding Algorithm turtoise method"
   ]
  },
  {
   "cell_type": "code",
   "execution_count": null,
   "metadata": {},
   "outputs": [],
   "source": [
    "def detectLoop(self, head):\n",
    "    #code here\n",
    "    fast=head\n",
    "    slow=head\n",
    "    while fast.next!=None and fast.next.next!=None:\n",
    "        # print(slow.data,fast.data)\n",
    "        slow=slow.next\n",
    "        fast=fast.next.next\n",
    "        # print(slow.data,fast.data)\n",
    "        if slow==fast:\n",
    "            return True\n",
    "\n",
    "    return False"
   ]
  },
  {
   "cell_type": "markdown",
   "metadata": {},
   "source": [
    "### hashmap"
   ]
  },
  {
   "cell_type": "code",
   "execution_count": null,
   "metadata": {},
   "outputs": [],
   "source": [
    "def detectLoop(self):\n",
    "        s = set()\n",
    "        temp = self.head\n",
    "        while (temp):\n",
    " \n",
    "            # If we have already has\n",
    "            # this node in hashmap it\n",
    "            # means their is a cycle\n",
    "            # (Because you we encountering\n",
    "            # the node second time).\n",
    "            if (temp in s):\n",
    "                return True\n",
    " \n",
    "            # If we are seeing the node for\n",
    "            # the first time, insert it in hash\n",
    "            s.add(temp)\n",
    " \n",
    "            temp = temp.next\n",
    " \n",
    "        return False"
   ]
  },
  {
   "cell_type": "markdown",
   "metadata": {},
   "source": [
    "### Delete loop"
   ]
  },
  {
   "cell_type": "code",
   "execution_count": null,
   "metadata": {},
   "outputs": [],
   "source": [
    "def removeLoop(self, head):\n",
    "    # code here\n",
    "    # remove the loop without losing any nodes\n",
    "    s=set()\n",
    "    tail=head\n",
    "    while tail:\n",
    "\n",
    "        if tail in s:\n",
    "            prev.next=None\n",
    "            break\n",
    "        s.add(tail)\n",
    "        prev=tail\n",
    "        tail=tail.next\n",
    "    return head"
   ]
  },
  {
   "cell_type": "code",
   "execution_count": null,
   "metadata": {},
   "outputs": [],
   "source": [
    "class LinkedList:\n",
    " \n",
    "    # Function to initialize head\n",
    "    def __init__(self):\n",
    "        self.head = None\n",
    " \n",
    "    def detectAndRemoveLoop(self):\n",
    "        slow_p = fast_p = self.head\n",
    "         \n",
    "        while(slow_p and fast_p and fast_p.next):\n",
    "            slow_p = slow_p.next\n",
    "            fast_p = fast_p.next.next\n",
    " \n",
    "            # If slow_p and fast_p meet at some point then\n",
    "            # there is a loop\n",
    "            if slow_p == fast_p:\n",
    "                self.removeLoop(slow_p)\n",
    "         \n",
    "                # Return 1 to indicate that loop is found\n",
    "                return 1\n",
    "         \n",
    "        # Return 0 to indicate that there is no loop\n",
    "        return 0\n",
    " \n",
    "    # Function to remove loop\n",
    "    # loop_node --> pointer to one of the loop nodes\n",
    "    # head --> Pointer to the start node of the linked list\n",
    "    def removeLoop(self, loop_node):\n",
    "        ptr1 = loop_node\n",
    "        ptr2 = loop_node\n",
    "         \n",
    "        # Count the number of nodes in loop\n",
    "        k = 1\n",
    "        while(ptr1.next != ptr2):\n",
    "            ptr1 = ptr1.next\n",
    "            k += 1\n",
    " \n",
    "        # Fix one pointer to head\n",
    "        ptr1 = self.head\n",
    "         \n",
    "        # And the other pointer to k nodes after head\n",
    "        ptr2 = self.head\n",
    "        for i in range(k):\n",
    "            ptr2 = ptr2.next\n",
    " \n",
    "        # Move both pointers at the same place\n",
    "        # they will meet at loop starting node\n",
    "        while(ptr2 != ptr1):\n",
    "            ptr1 = ptr1.next\n",
    "            ptr2 = ptr2.next\n",
    " \n",
    "        # Get pointer to the last node\n",
    "        while(ptr2.next != ptr1):\n",
    "            ptr2 = ptr2.next\n",
    " \n",
    "        # Set the next node of the loop ending node\n",
    "        # to fix the loop\n",
    "        ptr2.next = None"
   ]
  },
  {
   "cell_type": "markdown",
   "metadata": {},
   "source": [
    "# Find first node of loop in a linked list"
   ]
  },
  {
   "cell_type": "markdown",
   "metadata": {},
   "source": [
    "We can conclude below from the above diagram \n",
    "\n",
    "Distance traveled by fast pointer = 2 * (Distance traveled \n",
    "                                         by slow pointer)\n",
    "\n",
    "(m + n*x + k) = 2*(m + n*y + k)\n",
    "\n",
    "Note that before meeting the point shown above, fast\n",
    "was moving at twice speed.\n",
    "\n",
    "x -->  Number of complete cyclic rounds made by \n",
    "       fast pointer before they meet first time\n",
    "\n",
    "y -->  Number of complete cyclic rounds made by \n",
    "       slow pointer before they meet first time\n",
    "From the above equation, we can conclude below \n",
    "\n",
    "    m + k = (x-2y)*n\n",
    "\n",
    "Which means m+k is a multiple of n.\n",
    "So if we start moving both pointers again at the same speed such that one pointer (say slow) begins from the head node of the linked list and other pointers (say fast) begins from the meeting point. When the slow pointer reaches the beginning of the loop (has made m steps), the fast pointer would have made also moved m steps as they are now moving the same pace. Since m+k is a multiple of n and fast starts from k, they would meet at the beginning. Can they meet before also? No, because the slow pointer enters the cycle first time after m steps."
   ]
  },
  {
   "cell_type": "code",
   "execution_count": null,
   "metadata": {},
   "outputs": [],
   "source": [
    "def detectAndRemoveLoop(head):\n",
    "     \n",
    "    # If list is empty or has only one node\n",
    "    # without loop\n",
    "    if (head == None or head.next == None):\n",
    "        return None\n",
    "  \n",
    "    slow = head\n",
    "    fast = head\n",
    "  \n",
    "    # Move slow and fast 1 and 2 steps\n",
    "    # ahead respectively.\n",
    "    slow = slow.next\n",
    "    fast = fast.next.next\n",
    "  \n",
    "    # Search for loop using slow and\n",
    "    # fast pointers\n",
    "    while (fast and fast.next):\n",
    "        if (slow == fast):\n",
    "            break\n",
    "         \n",
    "        slow = slow.next\n",
    "        fast = fast.next.next\n",
    "  \n",
    "    # If loop does not exist\n",
    "    if (slow != fast):\n",
    "        return None\n",
    "  \n",
    "    # If loop exists. Start slow from\n",
    "    # head and fast from meeting point.\n",
    "    slow = head\n",
    "     \n",
    "    while (slow != fast):\n",
    "        slow = slow.next\n",
    "        fast = fast.next\n",
    "  \n",
    "    return slow\n",
    " "
   ]
  },
  {
   "cell_type": "markdown",
   "metadata": {},
   "source": [
    "### Remove duplicate element from sorted Linked List \n",
    "Easy Accuracy: 46.37% Submissions: 95547 Points: 2\n",
    "Given a singly linked list consisting of N nodes. The task is to remove duplicates (nodes with duplicate values) from the given list (if exists).\n",
    "Note: Try not to use extra space. Expected time complexity is O(N). The nodes are arranged in a sorted way.\n",
    "\n",
    "Example 1:\n",
    "\n",
    "Input:\n",
    "LinkedList: 2->2->4->5\n",
    "Output: 2 4 5\n",
    "Explanation: In the given linked list \n",
    "2 ->2 -> 4-> 5, only 2 occurs more \n",
    "than 1 time.\n",
    "Example 2:\n",
    "\n",
    "Input:\n",
    "LinkedList: 2->2->2->2->2\n",
    "Output: 2\n",
    "Explanation: In the given linked list \n",
    "2 ->2 ->2 ->2 ->2, 2 is the only element\n",
    "and is repeated 5 times.\n",
    "Your Task:\n",
    "The task is to complete the function removeDuplicates() which should remove the duplicates from linked list and return the head of the linkedlist."
   ]
  },
  {
   "cell_type": "code",
   "execution_count": null,
   "metadata": {},
   "outputs": [],
   "source": [
    "def removeDuplicates(head):\n",
    "    #code here\n",
    "    if head==None:\n",
    "        return None\n",
    "    if head.next==None:\n",
    "        return head\n",
    "    curr= head\n",
    "    adv=head.next\n",
    "    while adv is not None:\n",
    "        if curr.data==adv.data:\n",
    "            adv=adv.next\n",
    "            curr.next=adv\n",
    "        else:\n",
    "            curr=curr.next\n",
    "            adv=adv.next\n",
    "    return head"
   ]
  },
  {
   "cell_type": "markdown",
   "metadata": {},
   "source": [
    "## Remove duplicates from an unsorted linked list \n",
    "Easy Accuracy: 49.19% Submissions: 69231 Points: 2\n",
    "Given an unsorted linked list of N nodes. The task is to remove duplicate elements from this unsorted Linked List. When a value appears in multiple nodes, the node which appeared first should be kept, all others duplicates are to be removed.\n",
    "\n",
    "Example 1:\n",
    "\n",
    "Input:\n",
    "N = 4\n",
    "value[] = {5,2,2,4}\n",
    "Output: 5 2 4\n",
    "Explanation:Given linked list elements are\n",
    "5->2->2->4, in which 2 is repeated only.\n",
    "So, we will delete the extra repeated\n",
    "elements 2 from the linked list and the\n",
    "resultant linked list will contain 5->2->4\n",
    "Example 2:\n",
    "\n",
    "Input:\n",
    "N = 5\n",
    "value[] = {2,2,2,2,2}\n",
    "Output: 2\n",
    "Explanation:Given linked list elements are\n",
    "2->2->2->2->2, in which 2 is repeated. So,\n",
    "we will delete the extra repeated elements\n",
    "2 from the linked list and the resultant\n",
    "linked list will contain only 2."
   ]
  },
  {
   "cell_type": "code",
   "execution_count": null,
   "metadata": {},
   "outputs": [],
   "source": [
    "def removeDuplicates(self, head):\n",
    "    # code here\n",
    "    # return head after editing list\n",
    "    if head==None:\n",
    "        return None\n",
    "    if head.next==None:\n",
    "        return head\n",
    "    curr= head\n",
    "    adv=head\n",
    "    s=set()\n",
    "    while adv is not None:\n",
    "        if adv.data in s:\n",
    "            adv=adv.next\n",
    "            curr.next=adv\n",
    "        else:\n",
    "            s.add(adv.data)\n",
    "            curr=adv\n",
    "            adv=adv.next"
   ]
  },
  {
   "cell_type": "markdown",
   "metadata": {},
   "source": [
    "#### Move last element to front of a given Linked List"
   ]
  },
  {
   "cell_type": "code",
   "execution_count": null,
   "metadata": {},
   "outputs": [],
   "source": [
    "def moveToFront(self):\n",
    "        tmp = self.head\n",
    "        sec_last = None # To maintain the track of\n",
    "                        # the second last node\n",
    "  \n",
    "    # To check whether we have not received \n",
    "    # the empty list or list with a single node\n",
    "        if not tmp or not tmp.next: \n",
    "            return\n",
    "  \n",
    "        # Iterate till the end to get\n",
    "        # the last and second last node \n",
    "        while tmp and tmp.next :\n",
    "            sec_last = tmp\n",
    "            tmp = tmp.next\n",
    "  \n",
    "        # point the next of the second\n",
    "        # last node to None\n",
    "        sec_last.next = None\n",
    "  \n",
    "        # Make the last node as the first Node\n",
    "        tmp.next = self.head\n",
    "        self.head = tmp"
   ]
  },
  {
   "cell_type": "markdown",
   "metadata": {},
   "source": []
  },
  {
   "cell_type": "markdown",
   "metadata": {},
   "source": [
    "# Add 1 to a number represented as linked list \n",
    "A number N is represented in Linked List such that each digit corresponds to a node in linked list. You need to add 1 to it.\n",
    "\n",
    "Example 1:\n",
    "\n",
    "Input:\n",
    "LinkedList: 4->5->6\n",
    "Output: 457 \n",
    "Example 2:\n",
    "\n",
    "Input:\n",
    "LinkedList: 1->2->3\n",
    "Output: 124 \n",
    "Your Task:\n",
    "Your task is to complete the function addOne() which takes the head of the linked list as the only argument and returns the head of the modified linked list. The driver code prints the number.\n",
    "Note: The head represents the left-most digit of the number.\n",
    "\n",
    "Expected Time Complexity: O(N).\n",
    "Expected Auxiliary Space: O(1)."
   ]
  },
  {
   "cell_type": "markdown",
   "metadata": {},
   "source": [
    "Below are the steps : \n",
    "\n",
    "Reverse given linked list. For example, 1-> 9-> 9 -> 9 is converted to 9-> 9 -> 9 ->1.\n",
    "Start traversing linked list from leftmost node and add 1 to it. If there is a carry, move to the next node. Keep moving to the next node while there is a carry.\n",
    "Reverse modified linked list and return head."
   ]
  },
  {
   "cell_type": "code",
   "execution_count": null,
   "metadata": {},
   "outputs": [],
   "source": [
    "def reverseRecursive(head):\n",
    "    if head is None or head.next is None:\n",
    "        return head\n",
    "    \n",
    "    smallHead=reverseRecursive(head.next)\n",
    "    tail=head.next\n",
    "    tail.next=head\n",
    "    head.next=None\n",
    "    return smallHead\n",
    "\n",
    "class Solution:\n",
    "    def addOne(self,head):\n",
    "        head=reverseRecursive(head)\n",
    "        curr=head\n",
    "        k=head\n",
    "        carry=0\n",
    "        prev=None\n",
    "        head.data+=1\n",
    "        while head!=None and (head.data> 9 or carry>0):\n",
    "            prev=head\n",
    "            head.data+=carry\n",
    "            carry=head.data//10\n",
    "            head.data=head.data%10\n",
    "            head=head.next\n",
    "        if carry>0:\n",
    "            prev.next=Node(carry)\n",
    "        return reverseRecursive(curr)"
   ]
  },
  {
   "cell_type": "code",
   "execution_count": null,
   "metadata": {},
   "outputs": [],
   "source": []
  },
  {
   "cell_type": "code",
   "execution_count": null,
   "metadata": {},
   "outputs": [],
   "source": []
  },
  {
   "cell_type": "code",
   "execution_count": null,
   "metadata": {},
   "outputs": [],
   "source": []
  },
  {
   "cell_type": "code",
   "execution_count": null,
   "metadata": {},
   "outputs": [],
   "source": []
  },
  {
   "cell_type": "code",
   "execution_count": null,
   "metadata": {},
   "outputs": [],
   "source": []
  },
  {
   "cell_type": "code",
   "execution_count": null,
   "metadata": {},
   "outputs": [],
   "source": []
  },
  {
   "cell_type": "code",
   "execution_count": null,
   "metadata": {},
   "outputs": [],
   "source": []
  },
  {
   "cell_type": "code",
   "execution_count": null,
   "metadata": {},
   "outputs": [],
   "source": []
  },
  {
   "cell_type": "code",
   "execution_count": null,
   "metadata": {},
   "outputs": [],
   "source": []
  },
  {
   "cell_type": "code",
   "execution_count": null,
   "metadata": {},
   "outputs": [],
   "source": []
  },
  {
   "cell_type": "code",
   "execution_count": null,
   "metadata": {},
   "outputs": [],
   "source": []
  },
  {
   "cell_type": "code",
   "execution_count": null,
   "metadata": {},
   "outputs": [],
   "source": []
  },
  {
   "cell_type": "code",
   "execution_count": null,
   "metadata": {},
   "outputs": [],
   "source": []
  },
  {
   "cell_type": "code",
   "execution_count": null,
   "metadata": {},
   "outputs": [],
   "source": []
  },
  {
   "cell_type": "code",
   "execution_count": null,
   "metadata": {},
   "outputs": [],
   "source": []
  },
  {
   "cell_type": "code",
   "execution_count": null,
   "metadata": {},
   "outputs": [],
   "source": []
  },
  {
   "cell_type": "code",
   "execution_count": null,
   "metadata": {},
   "outputs": [],
   "source": []
  },
  {
   "cell_type": "code",
   "execution_count": null,
   "metadata": {},
   "outputs": [],
   "source": []
  },
  {
   "cell_type": "code",
   "execution_count": null,
   "metadata": {},
   "outputs": [],
   "source": []
  },
  {
   "cell_type": "code",
   "execution_count": null,
   "metadata": {},
   "outputs": [],
   "source": []
  },
  {
   "cell_type": "code",
   "execution_count": null,
   "metadata": {},
   "outputs": [],
   "source": []
  },
  {
   "cell_type": "code",
   "execution_count": null,
   "metadata": {},
   "outputs": [],
   "source": []
  },
  {
   "cell_type": "code",
   "execution_count": null,
   "metadata": {},
   "outputs": [],
   "source": []
  },
  {
   "cell_type": "code",
   "execution_count": null,
   "metadata": {},
   "outputs": [],
   "source": []
  },
  {
   "cell_type": "code",
   "execution_count": null,
   "metadata": {},
   "outputs": [],
   "source": []
  },
  {
   "cell_type": "code",
   "execution_count": null,
   "metadata": {},
   "outputs": [],
   "source": []
  }
 ],
 "metadata": {
  "kernelspec": {
   "display_name": "Python 3",
   "language": "python",
   "name": "python3"
  },
  "language_info": {
   "codemirror_mode": {
    "name": "ipython",
    "version": 3
   },
   "file_extension": ".py",
   "mimetype": "text/x-python",
   "name": "python",
   "nbconvert_exporter": "python",
   "pygments_lexer": "ipython3",
   "version": "3.8.5"
  }
 },
 "nbformat": 4,
 "nbformat_minor": 4
}
