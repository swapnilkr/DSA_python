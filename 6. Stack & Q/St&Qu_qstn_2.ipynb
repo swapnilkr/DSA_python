{
 "cells": [
  {
   "cell_type": "markdown",
   "metadata": {},
   "source": [
    "### Stack Permutations (Check if an array is stack permutation of other)\n",
    "\n",
    "A stack permutation is a permutation of objects in the given input queue which is done by transferring elements from input queue to the output queue with the help of a stack and the built-in push and pop functions.\n",
    "\n",
    "The well defined rules are:\n",
    "\n",
    "Only dequeue from the input queue.\n",
    "Use inbuilt push, pop functions in the single stack.\n",
    "Stack and input queue must be empty at the end.\n",
    "Only enqueue to the output queue.\n",
    "There are a huge number of permutations possible using a stack for a single input queue.\n",
    "Given two arrays, both of unique elements. One represents the input queue and the other represents the output queue. Our task is to check if the given output is possible through stack permutation.\n",
    "\n",
    "\n",
    "Input : First array: 1, 2, 3  \n",
    "        Second array: 2, 1, 3\n",
    "Output : Yes\n",
    "Procedure:\n",
    "push 1 from input to stack\n",
    "push 2 from input to stack\n",
    "pop 2 from stack to output\n",
    "pop 1 from stack to output\n",
    "push 3 from input to stack\n",
    "pop 3 from stack to output\n",
    "\n",
    "\n",
    "Input : First array: 1, 2, 3  \n",
    "        Second array: 3, 1, 2\n",
    "Output : Not Possible  "
   ]
  },
  {
   "cell_type": "markdown",
   "metadata": {},
   "source": [
    "Continuously pop elements from the input queue and check if it is equal to the top of output queue or not, if it is not equal to the top of output queue then we will push the element to stack.\n",
    "Once we find an element in input queue such the top of input queue is equal to top of output queue, we will pop a single element from both input and output queues, and compare the top of stack and top of output queue now. If top of both stack and output queue are equal then pop element from both stack and output queue. If not equal, go to step 1.\n",
    "Repeat above two steps until the input queue becomes empty. At the end if both of the input queue and stack are empty then the input queue is permutable otherwise not."
   ]
  },
  {
   "cell_type": "code",
   "execution_count": null,
   "metadata": {},
   "outputs": [],
   "source": [
    "from queue import Queue \n",
    "  \n",
    "# function to check if Input queue \n",
    "# is permutable to output queue \n",
    "def checkStackPermutation(ip, op, n):\n",
    "      \n",
    "    # Input queue \n",
    "    Input = Queue()\n",
    "    for i in range(n):\n",
    "        Input.put(ip[i]) \n",
    "  \n",
    "    # output queue \n",
    "    output = Queue()\n",
    "    for i in range(n):\n",
    "        output.put(op[i]) \n",
    "  \n",
    "    # stack to be used for permutation \n",
    "    tempStack = [] \n",
    "    while (not Input.empty()):\n",
    "        ele = Input.queue[0] \n",
    "        Input.get()\n",
    "        if (ele == output.queue[0]):\n",
    "            output.get() \n",
    "            while (len(tempStack) != 0):\n",
    "                if (tempStack[-1] == output.queue[0]):\n",
    "                    tempStack.pop() \n",
    "                    output.get()\n",
    "                else:\n",
    "                    break\n",
    "        else:\n",
    "            tempStack.append(ele)\n",
    "  \n",
    "    # If after processing, both Input \n",
    "    # queue and stack are empty then  \n",
    "    # the Input queue is permutable\n",
    "    # otherwise not. \n",
    "    return (Input.empty() and \n",
    "        len(tempStack) == 0)\n",
    "  \n",
    "# Driver Code\n",
    "if __name__ == '__main__':\n",
    "  \n",
    "    # Input Queue \n",
    "    Input = [1, 2, 3] \n",
    "  \n",
    "    # Output Queue \n",
    "    output = [2, 1, 3] \n",
    "  \n",
    "    n = 3\n",
    "  \n",
    "    if (checkStackPermutation(Input, \n",
    "                              output, n)): \n",
    "        print(\"Yes\") \n",
    "    else:\n",
    "        print(\"Not Possible\")"
   ]
  },
  {
   "cell_type": "markdown",
   "metadata": {},
   "source": [
    "# LRU Cache \n",
    "\n",
    "\n",
    "Design a data structure that works like a LRU Cache. Here cap denotes the capacity of the cache and Q denotes the number of queries. Query can be of two types:\n",
    "\n",
    "SET x y : sets the value of the key x with value y\n",
    "GET x : gets the key of x if present else returns -1.\n",
    "\n",
    "The LRUCache class has two methods get() and set() which are defined as follows.\n",
    "\n",
    "get(key)   : returns the value of the key if it already exists in the cache otherwise returns -1.\n",
    "set(key, value) : if the key is already present, update its value. If not present, add the key-value pair to the cache. If the cache reaches its capacity it should invalidate the least recently used item before inserting the new item.\n",
    "In the constructor of the class the capacity of the cache should be intitialized.\n",
    " \n",
    "\n"
   ]
  },
  {
   "cell_type": "markdown",
   "metadata": {},
   "source": [
    "Example 1:\n",
    "\n",
    "Input:\n",
    "cap = 2\n",
    "Q = 2\n",
    "Queries = SET 1 2 GET 1\n",
    "Output: 2\n",
    "Explanation: \n",
    "Cache Size = 2\n",
    "\n",
    "SET 1 2 GET 1\n",
    "SET 1 2 : 1 -> 2\n",
    "\n",
    "GET 1 : Print the value corresponding\n",
    "to Key 1, ie 2.\n",
    "\n",
    "Example 2:\n",
    "\n",
    "Input:\n",
    "cap = 2\n",
    "Q = 8\n",
    "Queries = SET 1 2 SET 2 3 SET 1 5\n",
    "SET 4 5 SET 6 7 GET 4 SET 1 2 GET 3\n",
    "Output: 5 -1\n",
    "Explanation: \n",
    "Cache Size = 2\n",
    "SET 1 2 : 1 -> 2\n",
    "\n",
    "SET 2 3 : 1 -> 2, 2 -> 3 (the most recently \n",
    "used one is kept at the rightmost position) \n",
    "\n",
    "SET 1 5 : 2 -> 3, 1 -> 5\n",
    "\n",
    "SET 4 5 : 1 -> 5, 4 -> 5 (Cache size is 2, hence \n",
    "we delete the least recently used key-value pair)\n",
    "\n",
    "SET 6 7 : 4 -> 5, 6 -> 7 \n",
    "\n",
    "GET 4 : Prints 5 (The cache now looks like\n",
    "6 -> 7, 4->5)\n",
    "\n",
    "SET 1 2 : 4 -> 5, 1 -> 2 \n",
    "(Cache size is 2, hence we delete the least \n",
    "recently used key-value pair)\n",
    "\n",
    "GET 3 : No key value pair having \n",
    "key = 3. Hence, -1 is printed."
   ]
  },
  {
   "cell_type": "code",
   "execution_count": null,
   "metadata": {},
   "outputs": [],
   "source": [
    "class LRUCache:\n",
    "\n",
    "    def __init__(self, capacity: int):\n",
    "        self.cache = {}\n",
    "        self.capacity = capacity\n",
    "        \n",
    "\n",
    "    def get(self, key: int) -> int:\n",
    "        if key in self.cache:\n",
    "            self.put(key, self.cache[key])                 # Call to put to handle LRU placement\n",
    "        return self.cache.get(key, -1)                     # Return a default of '-1' if key does not exist\n",
    "        \n",
    "\n",
    "    def put(self, key: int, value: int) -> None:           # Method adds key-value to cache and pops the LRU item\n",
    "        self.cache.pop(key, None)                          # Remove key-value if it exists\n",
    "        self.cache[key] = value                            # Insert key-value at top of key stack\n",
    "        if len(self.cache) > self.capacity:\n",
    "            del self.cache[next(iter(self.cache))]         # Delete LRU (bottom of key stack)"
   ]
  },
  {
   "cell_type": "markdown",
   "metadata": {},
   "source": [
    "## Reversing the first K elements of a Queue\n",
    "\n",
    "\n",
    "Given an integer k and a queue of integers, we need to reverse the order of the first k elements of the queue, leaving the other elements in the same relative order.\n",
    "Only following standard operations are allowed on queue. \n",
    "\n",
    "enqueue(x) : Add an item x to rear of queue\n",
    "dequeue() : Remove an item from front of queue\n",
    "size() : Returns number of elements in queue.\n",
    "front() : Finds front item.\n",
    "Examples: \n",
    "\n",
    "Input : Q = [10, 20, 30, 40, 50, 60, \n",
    "            70, 80, 90, 100]\n",
    "        k = 5\n",
    "Output : Q = [50, 40, 30, 20, 10, 60, \n",
    "             70, 80, 90, 100]\n",
    "\n",
    "Input : Q = [10, 20, 30, 40, 50, 60, \n",
    "            70, 80, 90, 100]\n",
    "        k = 4\n",
    "Output : Q = [40, 30, 20, 10, 50, 60, \n",
    "             70, 80, 90, 100]"
   ]
  },
  {
   "cell_type": "markdown",
   "metadata": {},
   "source": [
    "The idea is to use an auxiliary stack. \n",
    "\n",
    "Create an empty stack.\n",
    "One by one dequeue first K items from given queue and push the dequeued items to stack.\n",
    "Enqueue the contents of stack at the back of the queue\n",
    "Dequeue (size-k) elements from the front and enque them one by one to the same queue. "
   ]
  },
  {
   "cell_type": "code",
   "execution_count": null,
   "metadata": {},
   "outputs": [],
   "source": [
    "from queue import Queue\n",
    " \n",
    "# Function to reverse the first K\n",
    "# elements of the Queue\n",
    "def reverseQueueFirstKElements(k, Queue):\n",
    "    if (Queue.empty() == True or\n",
    "             k > Queue.qsize()):\n",
    "        return\n",
    "    if (k <= 0):\n",
    "        return\n",
    " \n",
    "    Stack = []\n",
    " \n",
    "    # put the first K elements\n",
    "    # into a Stack\n",
    "    for i in range(k):\n",
    "        Stack.append(Queue.queue[0])\n",
    "        Queue.get()\n",
    " \n",
    "    # Enqueue the contents of stack\n",
    "    # at the back of the queue\n",
    "    while (len(Stack) != 0 ):\n",
    "        Queue.put(Stack[-1])\n",
    "        Stack.pop()\n",
    " \n",
    "    # Remove the remaining elements and\n",
    "    # enqueue them at the end of the Queue\n",
    "    for i in range(Queue.qsize() - k):\n",
    "        Queue.put(Queue.queue[0])\n",
    "        Queue.get()"
   ]
  },
  {
   "cell_type": "markdown",
   "metadata": {},
   "source": [
    "### Interleave the first half of the queue with second half GGGOOODDD using stack\n",
    "###### The given queue will always be of even length.\n",
    "\n",
    "\n",
    "Given a queue of integers of even length, rearrange the elements by interleaving the first half of the queue with the second half of the queue.\n",
    "\n",
    "Only a stack can be used as an auxiliary space.\n",
    "\n",
    "Examples:\n",
    "\n",
    "Input :  1 2 3 4\n",
    "Output : 1 3 2 4\n",
    "\n",
    "Input : 11 12 13 14 15 16 17 18 19 20\n",
    "Output : 11 16 12 17 13 18 14 19 15 20"
   ]
  },
  {
   "cell_type": "markdown",
   "metadata": {},
   "source": [
    "1.Push the first half elements of queue to stack.\n",
    "2.Enqueue back the stack elements.\n",
    "3.Dequeue the first half elements of the queue and enqueue them back.\n",
    "4.Again push the first half elements into the stack.\n",
    "5.Interleave the elements of queue and stack.\n"
   ]
  },
  {
   "cell_type": "markdown",
   "metadata": {},
   "source": [
    "#### so basically we just got first half of queue in stack such that first ele of queue is at top and then we just pop from stack+dequeue and enqueue from queue"
   ]
  },
  {
   "cell_type": "code",
   "execution_count": null,
   "metadata": {},
   "outputs": [],
   "source": [
    "from queue import Queue \n",
    "  \n",
    "# Function to interleave the queue \n",
    "def interLeaveQueue(q):\n",
    "      \n",
    "    # To check the even number of elements \n",
    "    if (q.qsize() % 2 != 0): \n",
    "        print(\"Input even number of integers.\")\n",
    "  \n",
    "    # Initialize an empty stack of int type \n",
    "    s = []\n",
    "    halfSize = int(q.qsize() / 2) \n",
    "  \n",
    "    # put first half elements into \n",
    "    # the stack queue:16 17 18 19 20, \n",
    "    # stack: 15(T) 14 13 12 11\n",
    "    for i in range(halfSize):\n",
    "        s.append(q.queue[0]) \n",
    "        q.get()\n",
    "  \n",
    "    # enqueue back the stack elements \n",
    "    # queue: 16 17 18 19 20 15 14 13 12 11 \n",
    "    while len(s) != 0: \n",
    "        q.put(s[-1]) \n",
    "        s.pop()\n",
    "  \n",
    "    # dequeue the first half elements of \n",
    "    # queue and enqueue them back \n",
    "    # queue: 15 14 13 12 11 16 17 18 19 20\n",
    "    for i in range(halfSize):\n",
    "        q.put(q.queue[0]) \n",
    "        q.get()\n",
    "  \n",
    "    # Again put the first half elements into \n",
    "    # the stack queue: 16 17 18 19 20,\n",
    "    # stack: 11(T) 12 13 14 15 \n",
    "    for i in range(halfSize):\n",
    "        s.append(q.queue[0]) \n",
    "        q.get()\n",
    "  \n",
    "    # interleave the elements of queue and stack \n",
    "    # queue: 11 16 12 17 13 18 14 19 15 20 \n",
    "    while len(s) != 0: \n",
    "        q.put(s[-1]) \n",
    "        s.pop() \n",
    "        q.put(q.queue[0]) \n",
    "        q.get()"
   ]
  },
  {
   "cell_type": "markdown",
   "metadata": {},
   "source": [
    "### Circular tour \n",
    "\n",
    "\n",
    "Suppose there is a circle. There are N petrol pumps on that circle. You will be given two sets of data.\n",
    "1. The amount of petrol that every petrol pump has.\n",
    "2. Distance from that petrol pump to the next petrol pump.\n",
    "Find a starting point where the truck can start to get through the complete circle without exhausting its petrol in between.\n",
    "Note :  Assume for 1 litre petrol, the truck can go 1 unit of distance.\n",
    "\n",
    "Example 1:\n",
    "\n",
    "Input:\n",
    "N = 4\n",
    "Petrol = 4 6 7 4\n",
    "Distance = 6 5 3 5\n",
    "Output: 1\n",
    "Explanation: There are 4 petrol pumps with\n",
    "amount of petrol and distance to next\n",
    "petrol pump value pairs as {4, 6}, {6, 5},\n",
    "{7, 3} and {4, 5}. The first point from\n",
    "where truck can make a circular tour is\n",
    "2nd petrol pump. Output in this case is 1\n",
    "(index of 2nd petrol pump)."
   ]
  },
  {
   "cell_type": "code",
   "execution_count": null,
   "metadata": {},
   "outputs": [],
   "source": []
  },
  {
   "cell_type": "code",
   "execution_count": null,
   "metadata": {},
   "outputs": [],
   "source": []
  },
  {
   "cell_type": "code",
   "execution_count": null,
   "metadata": {},
   "outputs": [],
   "source": []
  },
  {
   "cell_type": "code",
   "execution_count": null,
   "metadata": {},
   "outputs": [],
   "source": []
  },
  {
   "cell_type": "code",
   "execution_count": null,
   "metadata": {},
   "outputs": [],
   "source": []
  },
  {
   "cell_type": "code",
   "execution_count": null,
   "metadata": {},
   "outputs": [],
   "source": []
  },
  {
   "cell_type": "code",
   "execution_count": null,
   "metadata": {},
   "outputs": [],
   "source": []
  },
  {
   "cell_type": "code",
   "execution_count": null,
   "metadata": {},
   "outputs": [],
   "source": []
  },
  {
   "cell_type": "code",
   "execution_count": null,
   "metadata": {},
   "outputs": [],
   "source": []
  },
  {
   "cell_type": "code",
   "execution_count": null,
   "metadata": {},
   "outputs": [],
   "source": []
  },
  {
   "cell_type": "code",
   "execution_count": null,
   "metadata": {},
   "outputs": [],
   "source": []
  },
  {
   "cell_type": "code",
   "execution_count": null,
   "metadata": {},
   "outputs": [],
   "source": []
  },
  {
   "cell_type": "code",
   "execution_count": null,
   "metadata": {},
   "outputs": [],
   "source": []
  },
  {
   "cell_type": "code",
   "execution_count": null,
   "metadata": {},
   "outputs": [],
   "source": []
  },
  {
   "cell_type": "code",
   "execution_count": null,
   "metadata": {},
   "outputs": [],
   "source": []
  },
  {
   "cell_type": "code",
   "execution_count": null,
   "metadata": {},
   "outputs": [],
   "source": []
  },
  {
   "cell_type": "code",
   "execution_count": null,
   "metadata": {},
   "outputs": [],
   "source": []
  },
  {
   "cell_type": "code",
   "execution_count": null,
   "metadata": {},
   "outputs": [],
   "source": []
  },
  {
   "cell_type": "code",
   "execution_count": null,
   "metadata": {},
   "outputs": [],
   "source": []
  },
  {
   "cell_type": "code",
   "execution_count": null,
   "metadata": {},
   "outputs": [],
   "source": []
  },
  {
   "cell_type": "code",
   "execution_count": null,
   "metadata": {},
   "outputs": [],
   "source": []
  },
  {
   "cell_type": "code",
   "execution_count": null,
   "metadata": {},
   "outputs": [],
   "source": []
  },
  {
   "cell_type": "code",
   "execution_count": null,
   "metadata": {},
   "outputs": [],
   "source": []
  },
  {
   "cell_type": "code",
   "execution_count": null,
   "metadata": {},
   "outputs": [],
   "source": []
  },
  {
   "cell_type": "code",
   "execution_count": null,
   "metadata": {},
   "outputs": [],
   "source": []
  },
  {
   "cell_type": "code",
   "execution_count": null,
   "metadata": {},
   "outputs": [],
   "source": []
  },
  {
   "cell_type": "code",
   "execution_count": null,
   "metadata": {},
   "outputs": [],
   "source": []
  },
  {
   "cell_type": "code",
   "execution_count": null,
   "metadata": {},
   "outputs": [],
   "source": []
  },
  {
   "cell_type": "code",
   "execution_count": null,
   "metadata": {},
   "outputs": [],
   "source": []
  },
  {
   "cell_type": "code",
   "execution_count": null,
   "metadata": {},
   "outputs": [],
   "source": []
  },
  {
   "cell_type": "code",
   "execution_count": null,
   "metadata": {},
   "outputs": [],
   "source": []
  },
  {
   "cell_type": "code",
   "execution_count": null,
   "metadata": {},
   "outputs": [],
   "source": []
  },
  {
   "cell_type": "code",
   "execution_count": null,
   "metadata": {},
   "outputs": [],
   "source": []
  },
  {
   "cell_type": "code",
   "execution_count": null,
   "metadata": {},
   "outputs": [],
   "source": []
  },
  {
   "cell_type": "code",
   "execution_count": null,
   "metadata": {},
   "outputs": [],
   "source": []
  },
  {
   "cell_type": "code",
   "execution_count": null,
   "metadata": {},
   "outputs": [],
   "source": []
  },
  {
   "cell_type": "code",
   "execution_count": null,
   "metadata": {},
   "outputs": [],
   "source": []
  },
  {
   "cell_type": "code",
   "execution_count": null,
   "metadata": {},
   "outputs": [],
   "source": []
  },
  {
   "cell_type": "code",
   "execution_count": null,
   "metadata": {},
   "outputs": [],
   "source": []
  },
  {
   "cell_type": "code",
   "execution_count": null,
   "metadata": {},
   "outputs": [],
   "source": []
  },
  {
   "cell_type": "code",
   "execution_count": null,
   "metadata": {},
   "outputs": [],
   "source": []
  },
  {
   "cell_type": "code",
   "execution_count": null,
   "metadata": {},
   "outputs": [],
   "source": []
  },
  {
   "cell_type": "code",
   "execution_count": null,
   "metadata": {},
   "outputs": [],
   "source": []
  },
  {
   "cell_type": "code",
   "execution_count": null,
   "metadata": {},
   "outputs": [],
   "source": []
  },
  {
   "cell_type": "code",
   "execution_count": null,
   "metadata": {},
   "outputs": [],
   "source": []
  },
  {
   "cell_type": "code",
   "execution_count": null,
   "metadata": {},
   "outputs": [],
   "source": []
  },
  {
   "cell_type": "code",
   "execution_count": null,
   "metadata": {},
   "outputs": [],
   "source": []
  },
  {
   "cell_type": "code",
   "execution_count": null,
   "metadata": {},
   "outputs": [],
   "source": []
  },
  {
   "cell_type": "code",
   "execution_count": null,
   "metadata": {},
   "outputs": [],
   "source": []
  },
  {
   "cell_type": "code",
   "execution_count": null,
   "metadata": {},
   "outputs": [],
   "source": []
  },
  {
   "cell_type": "code",
   "execution_count": null,
   "metadata": {},
   "outputs": [],
   "source": []
  },
  {
   "cell_type": "code",
   "execution_count": null,
   "metadata": {},
   "outputs": [],
   "source": []
  },
  {
   "cell_type": "code",
   "execution_count": null,
   "metadata": {},
   "outputs": [],
   "source": []
  },
  {
   "cell_type": "code",
   "execution_count": null,
   "metadata": {},
   "outputs": [],
   "source": []
  },
  {
   "cell_type": "code",
   "execution_count": null,
   "metadata": {},
   "outputs": [],
   "source": []
  },
  {
   "cell_type": "code",
   "execution_count": null,
   "metadata": {},
   "outputs": [],
   "source": []
  },
  {
   "cell_type": "code",
   "execution_count": null,
   "metadata": {},
   "outputs": [],
   "source": []
  },
  {
   "cell_type": "code",
   "execution_count": null,
   "metadata": {},
   "outputs": [],
   "source": []
  },
  {
   "cell_type": "code",
   "execution_count": null,
   "metadata": {},
   "outputs": [],
   "source": []
  },
  {
   "cell_type": "code",
   "execution_count": null,
   "metadata": {},
   "outputs": [],
   "source": []
  },
  {
   "cell_type": "code",
   "execution_count": null,
   "metadata": {},
   "outputs": [],
   "source": []
  },
  {
   "cell_type": "code",
   "execution_count": null,
   "metadata": {},
   "outputs": [],
   "source": []
  },
  {
   "cell_type": "code",
   "execution_count": null,
   "metadata": {},
   "outputs": [],
   "source": []
  },
  {
   "cell_type": "code",
   "execution_count": null,
   "metadata": {},
   "outputs": [],
   "source": []
  },
  {
   "cell_type": "code",
   "execution_count": null,
   "metadata": {},
   "outputs": [],
   "source": []
  },
  {
   "cell_type": "code",
   "execution_count": null,
   "metadata": {},
   "outputs": [],
   "source": []
  },
  {
   "cell_type": "code",
   "execution_count": null,
   "metadata": {},
   "outputs": [],
   "source": []
  },
  {
   "cell_type": "code",
   "execution_count": null,
   "metadata": {},
   "outputs": [],
   "source": []
  },
  {
   "cell_type": "code",
   "execution_count": null,
   "metadata": {},
   "outputs": [],
   "source": []
  },
  {
   "cell_type": "code",
   "execution_count": null,
   "metadata": {},
   "outputs": [],
   "source": []
  },
  {
   "cell_type": "code",
   "execution_count": null,
   "metadata": {},
   "outputs": [],
   "source": []
  },
  {
   "cell_type": "code",
   "execution_count": null,
   "metadata": {},
   "outputs": [],
   "source": []
  },
  {
   "cell_type": "code",
   "execution_count": null,
   "metadata": {},
   "outputs": [],
   "source": []
  },
  {
   "cell_type": "code",
   "execution_count": null,
   "metadata": {},
   "outputs": [],
   "source": []
  },
  {
   "cell_type": "code",
   "execution_count": null,
   "metadata": {},
   "outputs": [],
   "source": []
  },
  {
   "cell_type": "code",
   "execution_count": null,
   "metadata": {},
   "outputs": [],
   "source": []
  },
  {
   "cell_type": "code",
   "execution_count": null,
   "metadata": {},
   "outputs": [],
   "source": []
  },
  {
   "cell_type": "code",
   "execution_count": null,
   "metadata": {},
   "outputs": [],
   "source": []
  },
  {
   "cell_type": "code",
   "execution_count": null,
   "metadata": {},
   "outputs": [],
   "source": []
  },
  {
   "cell_type": "code",
   "execution_count": null,
   "metadata": {},
   "outputs": [],
   "source": []
  },
  {
   "cell_type": "code",
   "execution_count": null,
   "metadata": {},
   "outputs": [],
   "source": []
  },
  {
   "cell_type": "code",
   "execution_count": null,
   "metadata": {},
   "outputs": [],
   "source": []
  },
  {
   "cell_type": "code",
   "execution_count": null,
   "metadata": {},
   "outputs": [],
   "source": []
  },
  {
   "cell_type": "code",
   "execution_count": null,
   "metadata": {},
   "outputs": [],
   "source": []
  },
  {
   "cell_type": "code",
   "execution_count": null,
   "metadata": {},
   "outputs": [],
   "source": []
  },
  {
   "cell_type": "code",
   "execution_count": null,
   "metadata": {},
   "outputs": [],
   "source": []
  },
  {
   "cell_type": "code",
   "execution_count": null,
   "metadata": {},
   "outputs": [],
   "source": []
  },
  {
   "cell_type": "code",
   "execution_count": null,
   "metadata": {},
   "outputs": [],
   "source": []
  },
  {
   "cell_type": "code",
   "execution_count": null,
   "metadata": {},
   "outputs": [],
   "source": []
  },
  {
   "cell_type": "code",
   "execution_count": null,
   "metadata": {},
   "outputs": [],
   "source": []
  },
  {
   "cell_type": "code",
   "execution_count": null,
   "metadata": {},
   "outputs": [],
   "source": []
  },
  {
   "cell_type": "code",
   "execution_count": null,
   "metadata": {},
   "outputs": [],
   "source": []
  },
  {
   "cell_type": "code",
   "execution_count": null,
   "metadata": {},
   "outputs": [],
   "source": []
  },
  {
   "cell_type": "code",
   "execution_count": null,
   "metadata": {},
   "outputs": [],
   "source": []
  },
  {
   "cell_type": "code",
   "execution_count": null,
   "metadata": {},
   "outputs": [],
   "source": []
  },
  {
   "cell_type": "code",
   "execution_count": null,
   "metadata": {},
   "outputs": [],
   "source": []
  },
  {
   "cell_type": "code",
   "execution_count": null,
   "metadata": {},
   "outputs": [],
   "source": []
  },
  {
   "cell_type": "code",
   "execution_count": null,
   "metadata": {},
   "outputs": [],
   "source": []
  },
  {
   "cell_type": "code",
   "execution_count": null,
   "metadata": {},
   "outputs": [],
   "source": []
  },
  {
   "cell_type": "code",
   "execution_count": null,
   "metadata": {},
   "outputs": [],
   "source": []
  },
  {
   "cell_type": "code",
   "execution_count": null,
   "metadata": {},
   "outputs": [],
   "source": []
  },
  {
   "cell_type": "code",
   "execution_count": null,
   "metadata": {},
   "outputs": [],
   "source": []
  },
  {
   "cell_type": "code",
   "execution_count": null,
   "metadata": {},
   "outputs": [],
   "source": []
  },
  {
   "cell_type": "code",
   "execution_count": null,
   "metadata": {},
   "outputs": [],
   "source": []
  },
  {
   "cell_type": "code",
   "execution_count": null,
   "metadata": {},
   "outputs": [],
   "source": []
  },
  {
   "cell_type": "code",
   "execution_count": null,
   "metadata": {},
   "outputs": [],
   "source": []
  },
  {
   "cell_type": "code",
   "execution_count": null,
   "metadata": {},
   "outputs": [],
   "source": []
  },
  {
   "cell_type": "code",
   "execution_count": null,
   "metadata": {},
   "outputs": [],
   "source": []
  },
  {
   "cell_type": "code",
   "execution_count": null,
   "metadata": {},
   "outputs": [],
   "source": []
  },
  {
   "cell_type": "code",
   "execution_count": null,
   "metadata": {},
   "outputs": [],
   "source": []
  }
 ],
 "metadata": {
  "kernelspec": {
   "display_name": "Python 3",
   "language": "python",
   "name": "python3"
  },
  "language_info": {
   "codemirror_mode": {
    "name": "ipython",
    "version": 3
   },
   "file_extension": ".py",
   "mimetype": "text/x-python",
   "name": "python",
   "nbconvert_exporter": "python",
   "pygments_lexer": "ipython3",
   "version": "3.8.5"
  }
 },
 "nbformat": 4,
 "nbformat_minor": 4
}
