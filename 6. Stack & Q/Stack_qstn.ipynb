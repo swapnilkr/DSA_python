{
 "cells": [
  {
   "cell_type": "markdown",
   "metadata": {},
   "source": [
    "# BALANCED PARANTHESIS "
   ]
  },
  {
   "cell_type": "code",
   "execution_count": null,
   "metadata": {},
   "outputs": [],
   "source": [
    "\n",
    "def checkBalanced(expr):\n",
    "    stk=[]\n",
    "    for char in expr:\n",
    "        if char in '({[':\n",
    "            stk.append(char)\n",
    "        elif char is ')':\n",
    "            if (not stk or stk[-1]!='('):\n",
    "                return False\n",
    "            stk.pop()\n",
    "        elif char is '}':\n",
    "            if (not stk or stk[-1]!='{'):\n",
    "                return False\n",
    "            stk.pop()\n",
    "            \n",
    "        elif char is ']':\n",
    "            if (not stk or stk[-1]!='['):\n",
    "                return False\n",
    "            stk.pop()\n",
    "    if (not stk):\n",
    "        return True\n",
    "    else:\n",
    "        return False\n",
    "    \n",
    "\n",
    "exp=input()\n",
    "if checkBalanced(exp):\n",
    "    print('true')\n",
    "else:\n",
    "    print('false')\n",
    "\n"
   ]
  },
  {
   "cell_type": "markdown",
   "metadata": {},
   "source": [
    "# REVERSE STACK USING OTHER STACK"
   ]
  },
  {
   "cell_type": "code",
   "execution_count": null,
   "metadata": {},
   "outputs": [],
   "source": [
    "\n",
    "\n",
    "\n",
    "def reverseStack(s1,s2):\n",
    "    if (len(s1)<=1):\n",
    "        return s1\n",
    "    while (len(s1)!=1):\n",
    "           ele=s1.pop()\n",
    "           s2.append(ele)\n",
    "    lastele=s1.pop()\n",
    "    while (len(s2)!=0):\n",
    "           ele=s2.pop()\n",
    "           s1.append(ele)\n",
    "    reverseStack(s1,s2)\n",
    "    s1.append(lastele)\n",
    "\n",
    "from sys import setrecursionlimit\n",
    "setrecursionlimit(11000)\n",
    "n = int(input())\n",
    "s1 = [int(ele) for ele in input().split()]\n",
    "s2 = []\n",
    "reverseStack(s1,s2)\n",
    "while(len(s1) !=0):\n",
    "    print(s1.pop(),end= ' ')\n",
    "\n",
    "\n",
    "\n",
    "\n"
   ]
  },
  {
   "cell_type": "markdown",
   "metadata": {},
   "source": [
    "# check redundant brackets"
   ]
  },
  {
   "cell_type": "code",
   "execution_count": null,
   "metadata": {},
   "outputs": [],
   "source": [
    "def checkRedundant(string):\n",
    "    stk=[]\n",
    "    c=0\n",
    "    for char in string:\n",
    "        if char is not ')':\n",
    "            stk.append(char)\n",
    "        elif char is ')':\n",
    "            for i in range (len(stk)):\n",
    "                if stk[-1] is '(' and c==0:\n",
    "                    return True\n",
    "                elif stk[-1] is not '(':\n",
    "                    stk.pop()\n",
    "                    c=c+1\n",
    "                if stk[-1] is '(' and c!=0:\n",
    "                    stk.pop()\n",
    "                    c=0\n",
    "    return False\n",
    "\n",
    "string = input()\n",
    "ans = checkRedundant(string)\n",
    "if ans is True:\n",
    "    print('true')\n",
    "else:\n",
    "    print('false')\n"
   ]
  },
  {
   "cell_type": "markdown",
   "metadata": {},
   "source": [
    "# Famous stock span qstn"
   ]
  },
  {
   "cell_type": "code",
   "execution_count": null,
   "metadata": {},
   "outputs": [],
   "source": [
    "def stockSpan(price,n):\n",
    "    s=[]\n",
    "    output=[]\n",
    "    s.append(0)\n",
    "    output.append(1)\n",
    "    for i in range(1,len(price)):\n",
    "        while (len(s)!=0 and price[s[-1]]<price[i]):\n",
    "            s.pop()\n",
    "        if (len(s)==0):\n",
    "            output.append(i+1)\n",
    "        else:\n",
    "            output.append(i-s[-1])\n",
    "        s.append(i)\n",
    "    return output\n",
    "n=int(input())\n",
    "price=[int(ele) for ele in input().split()]\n",
    "spans=stockSpan(price,n)\n",
    "for ele in spans:\n",
    "    print(ele,end=' ')"
   ]
  },
  {
   "cell_type": "markdown",
   "metadata": {},
   "source": [
    "## Min brack rev"
   ]
  },
  {
   "cell_type": "code",
   "execution_count": null,
   "metadata": {},
   "outputs": [],
   "source": [
    "\n",
    "def countBracketReversals(string):\n",
    "    if(len(string) == 0):\n",
    "        return 0\n",
    "    if(len(string)%2 != 0):\n",
    "        return -1\n",
    "    s = []\n",
    "    for char in string:\n",
    "        if char == '{':\n",
    "            s.append(char)\n",
    "        else:\n",
    "            if(len(s) > 0 and s[-1] == '{'):\n",
    "                s.pop()\n",
    "            else:\n",
    "                s.append(char)\n",
    "    count = 0\n",
    "    while(len(s) != 0):\n",
    "        c1 = s.pop()\n",
    "        c2 = s.pop()\n",
    "        if c1!=c2:\n",
    "            count+=2\n",
    "        else:\n",
    "            count+=1\n",
    "    return count\n",
    "string = input()\n",
    "ans = countBracketReversals(string)\n",
    "print(ans)"
   ]
  },
  {
   "cell_type": "markdown",
   "metadata": {},
   "source": [
    "## The Stock Span Problem interview qstn\n",
    "Difficulty Level : Medium\n",
    "Last Updated : 10 May, 2021\n",
    "The stock span problem is a financial problem where we have a series of n daily price quotes for a stock and we need to calculate span of stock’s price for all n days. \n",
    "The span Si of the stock’s price on a given day i is defined as the maximum number of consecutive days just before the given day, for which the price of the stock on the current day is less than or equal to its price on the given day. \n",
    "For example, if an array of 7 days prices is given as {100, 80, 60, 70, 60, 75, 85}, then the span values for corresponding 7 days are {1, 1, 1, 2, 1, 4, 6} "
   ]
  },
  {
   "cell_type": "code",
   "execution_count": null,
   "metadata": {},
   "outputs": [],
   "source": [
    "def stockSpan(price,n):\n",
    "    s=[]\n",
    "    output=[]\n",
    "    s.append(0)\n",
    "    output.append(1)\n",
    "    for i in range(1,len(price)):\n",
    "        while (len(s)!=0 and price[s[-1]]<price[i]):\n",
    "            s.pop()\n",
    "        if (len(s)==0):\n",
    "            output.append(i+1)\n",
    "        else:\n",
    "            output.append(i-s[-1])\n",
    "        s.append(i)\n",
    "    return output\n",
    "n=int(input())\n",
    "price=[int(ele) for ele in input().split()]\n",
    "spans=stockSpan(price,n)\n",
    "for ele in spans:\n",
    "    print(ele,end=' ')"
   ]
  },
  {
   "cell_type": "markdown",
   "metadata": {},
   "source": [
    "## Reverse a string using Stack \n",
    "You are given a string S, the task is to reverse the string using stack.\n",
    "\n",
    " \n",
    "\n",
    "Example 1:\n",
    "\n",
    "\n",
    "Input: S=\"GeeksforGeeks\"\n",
    "Output: skeeGrofskeeG"
   ]
  },
  {
   "cell_type": "code",
   "execution_count": null,
   "metadata": {},
   "outputs": [],
   "source": [
    "def reverse(S):\n",
    "    \n",
    "    #Add code here\n",
    "    stk=[]\n",
    "    for i in S:\n",
    "        stk.append(i)\n",
    "    s=\"\"\n",
    "    while stk:\n",
    "        s=s+stk.pop()\n",
    "    return s"
   ]
  },
  {
   "cell_type": "markdown",
   "metadata": {},
   "source": [
    "### Next Greater Element \n",
    "\n",
    "\n",
    "Given an array arr[ ] of size N having distinct elements, the task is to find the next greater element for each element of the array in order of their appearance in the array.\n",
    "Next greater element of an element in the array is the nearest element on the right which is greater than the current element.\n",
    "If there does not exist next greater of current element, then next greater element for current element is -1. For example, next greater of the last element is always -1.\n",
    "\n",
    "Example 1:\n",
    "\n",
    "Input: \n",
    "N = 4, arr[] = [1 3 2 4]\n",
    "Output:\n",
    "3 4 4 -1\n",
    "Explanation:\n",
    "In the array, the next larger element \n",
    "to 1 is 3 , 3 is 4 , 2 is 4 and for 4 ? \n",
    "since it doesn't exist, it is -1.\n",
    "Example 2:\n",
    "\n",
    "Input: \n",
    "N = 5, arr[] [6 8 0 1 3]\n",
    "Output:\n",
    "8 -1 1 3 -1\n",
    "Explanation:\n",
    "In the array, the next larger element to \n",
    "6 is 8, for 8 there is no larger elements \n",
    "hence it is -1, for 0 it is 1 , for 1 it \n",
    "is 3 and then for 3 there is no larger \n",
    "element on right and hence -1."
   ]
  },
  {
   "cell_type": "code",
   "execution_count": null,
   "metadata": {},
   "outputs": [],
   "source": [
    "def nextLargerElement(self,arr,n):\n",
    "    #code here\n",
    "    a=[]\n",
    "    for i in range(0,n):\n",
    "        val=-1\n",
    "        for j in range(i+1,n):\n",
    "            if arr[j]>arr[i]:\n",
    "                val=arr[j]\n",
    "                break\n",
    "        a.append(val)\n",
    "    return a"
   ]
  },
  {
   "cell_type": "markdown",
   "metadata": {},
   "source": [
    "1. This is same as above method but the elements are pushed and popped only once into the stack. The array is changed in place. The array elements are pushed into the stack until it finds a greatest element in the right of array. In other words the elements are popped from stack when top of the stack value is smaller in the current array element.\n",
    "\n",
    "2. Once all the elements are processed in the array but stack is not empty. The left out elements in the stack doesn’t encounter any greatest element . So pop the element from stack and change it’s index value as -1 in the array."
   ]
  },
  {
   "cell_type": "code",
   "execution_count": null,
   "metadata": {},
   "outputs": [],
   "source": [
    "class Solution:\n",
    "    def nextLargerElement(arr,n):\n",
    "        #code here\n",
    "        s=[]\n",
    "        for i in range(len(arr)):\n",
    "            while s and s[-1].get(\"value\") < arr[i]:\n",
    "                d = s.pop()\n",
    "                arr[d.get(\"ind\")] = arr[i]\n",
    "            s.append({\"value\": arr[i], \"ind\": i})\n",
    "        while s:\n",
    "            d = s.pop()\n",
    "            arr[d.get(\"ind\")] = -1\n",
    "        return arr\n",
    "         \n",
    "if __name__ == \"__main__\":\n",
    "    print(Solution().nextLargerElement([6,8,0,1,3],5))"
   ]
  },
  {
   "cell_type": "markdown",
   "metadata": {},
   "source": [
    "## The Celebrity Problem  GGOOOD qstn\n",
    "A celebrity is a person who is known to all but does not know anyone at a party. If you go to a party of N people, find if there is a celebrity in the party or not.\n",
    "A square NxN matrix M[][] is used to represent people at the party such that if an element of row i and column j  is set to 1 it means ith person knows jth person. Here M[i][i] will always be 0.\n",
    "Note: Follow 0 based indexing.\n",
    " \n",
    "\n",
    "Example 1:\n",
    "\n",
    "Input:\n",
    "N = 3\n",
    "M[][] = {{0 1 0},\n",
    "         {0 0 0}, \n",
    "         {0 1 0}}\n",
    "Output: 1\n",
    "Explanation: 0th and 2nd person both\n",
    "know 1. Therefore, 1 is the celebrity. \n",
    "\n",
    "Example 2:\n",
    "\n",
    "Input:\n",
    "N = 2\n",
    "M[][] = {{0 1},\n",
    "         {1 0}}\n",
    "Output: -1\n",
    "Explanation: The two people at the party both\n",
    "know each other. None of them is a celebrity."
   ]
  },
  {
   "cell_type": "markdown",
   "metadata": {},
   "source": [
    "Approach: There are some observations based on elimination technique (Refer Polya’s How to Solve It book). \n",
    "\n",
    "If A knows B, then A can’t be a celebrity. Discard A, and B may be celebrity.\n",
    "If A doesn’t know B, then B can’t be a celebrity. Discard B, and A may be celebrity.\n",
    "Repeat above two steps till there is only one person.\n",
    "Ensure the remained person is a celebrity. (What is the need of this step?)\n"
   ]
  },
  {
   "cell_type": "markdown",
   "metadata": {},
   "source": [
    "# Algorithm: \n",
    "\n",
    "Create a stack and push all the id’s in the stack.\n",
    "Run a loop while there are more than 1 element in the stack.\n",
    "Pop top two element from the stack (represent them as A and B)\n",
    "If A knows B, then A can’t be a celebrity and push B in stack. Else if A doesn’t know B, then B can’t be a celebrity push A in stack.\n",
    "Assign the remaining element in the stack as the celebrity.\n",
    "Run a loop from 0 to n-1 and find the count of persons who knows the celebrity and the number of people whom the celebrity knows. if the count of persons who knows the celebrity is n-1 and the count of people whom the celebrity knows is 0 then return the id of celebrity else return -1."
   ]
  },
  {
   "cell_type": "code",
   "execution_count": null,
   "metadata": {},
   "outputs": [],
   "source": [
    "N = 8\n",
    "  \n",
    "# Person with 2 is celebrity\n",
    "MATRIX = [ [ 0, 0, 1, 0 ],\n",
    "           [ 0, 0, 1, 0 ],\n",
    "           [ 0, 0, 0, 0 ],\n",
    "           [ 0, 0, 1, 0 ] ]\n",
    "  \n",
    "def knows(a, b):\n",
    "      \n",
    "    return MATRIX[a][b]\n",
    "  \n",
    "# Returns -1 if celebrity\n",
    "# is not present. If present,\n",
    "# returns id (value from 0 to n-1).\n",
    "def findCelebrity(n):\n",
    "      \n",
    "    # Handle trivial \n",
    "    # case of size = 2\n",
    "    s = [] \n",
    "  \n",
    "    # Push everybody to stack\n",
    "    for i in range(n):\n",
    "        s.append(i)\n",
    "  \n",
    "    # Extract top 2\n",
    "    A = s.pop()\n",
    "    B = s.pop()\n",
    "  \n",
    "    # Find a potential celebrity\n",
    "    while (len(s) > 1):\n",
    "        if (knows(A, B)):\n",
    "            A = s.pop()\n",
    "        else:\n",
    "            B = s.pop()\n",
    "              \n",
    "    # If there are only two people \n",
    "    # and there is no\n",
    "    # potential candicate\n",
    "    if(len(s) == 0):\n",
    "        return -1\n",
    "          \n",
    "    # Potential candidate?\n",
    "    C = s.pop();\n",
    "  \n",
    "    # Last candidate was not \n",
    "    # examined, it leads one \n",
    "    # excess comparison (optimize)\n",
    "    if (knows(C, B)):\n",
    "        C = B\n",
    "          \n",
    "    if (knows(C, A)):\n",
    "        C = A\n",
    "  \n",
    "    # Check if C is actually\n",
    "    # a celebrity or not\n",
    "    for i in range(n):\n",
    "      \n",
    "        # If any person doesn't \n",
    "        # know 'a' or 'a' doesn't \n",
    "        # know any person, return -1\n",
    "        if ((i != C) and \n",
    "           (knows(C, i) or \n",
    "           not(knows(i, C)))):\n",
    "            return -1\n",
    "  \n",
    "    return C\n",
    "      \n",
    "# Driver code\n",
    "if __name__ == '__main__':\n",
    "      \n",
    "    n = 4\n",
    "    id_ = findCelebrity(n)\n",
    "      \n",
    "    if id_ == -1:\n",
    "        print(\"No celebrity\") \n",
    "    else:\n",
    "      print(\"Celebrity ID \", id_)"
   ]
  },
  {
   "cell_type": "markdown",
   "metadata": {},
   "source": [
    "### interview qstn\n",
    "\n",
    "\n",
    "1. pop\n",
    "2. recursion\n",
    "3. append"
   ]
  },
  {
   "cell_type": "markdown",
   "metadata": {},
   "source": [
    "### Program to insert an element at the Bottom of a Stack"
   ]
  },
  {
   "cell_type": "code",
   "execution_count": null,
   "metadata": {},
   "outputs": [],
   "source": [
    "def recur(S, N):\n",
    "     \n",
    "    # If stack is empty\n",
    "    if (len(S) == 0):\n",
    "        S.append(N)\n",
    "     \n",
    "    else:\n",
    "         \n",
    "        # Stores the top element\n",
    "        X = S[-1]\n",
    "         \n",
    "        # Pop the top element\n",
    "        S.pop()\n",
    "         \n",
    "        # Recurse with remaining elements\n",
    "        S = recur(S, N)\n",
    "         \n",
    "        # Push the previous\n",
    "        # top element again\n",
    "        S.append(X)\n",
    "     \n",
    "    return S"
   ]
  },
  {
   "cell_type": "markdown",
   "metadata": {},
   "source": [
    "### Reverse a stack using recursion\n"
   ]
  },
  {
   "cell_type": "code",
   "execution_count": null,
   "metadata": {},
   "outputs": [],
   "source": [
    "def insertAtBottom(stack, item):\n",
    "    if isEmpty(stack):\n",
    "        push(stack, item)\n",
    "    else:\n",
    "        temp = pop(stack)\n",
    "        insertAtBottom(stack, item)\n",
    "        push(stack, temp)\n",
    " \n",
    "# Below is the function that\n",
    "# reverses the given stack\n",
    "# using insertAtBottom()\n",
    "def reverse(stack):\n",
    "    if not isEmpty(stack):\n",
    "        temp = pop(stack)\n",
    "        reverse(stack)\n",
    "        insertAtBottom(stack, temp)"
   ]
  },
  {
   "cell_type": "markdown",
   "metadata": {},
   "source": [
    "# Sort a stack using recursion\n",
    "\n",
    "\n",
    "Given a stack, sort it using recursion. Use of any loop constructs like while, for..etc is not allowed. We can only use the following ADT functions on Stack S: \n",
    "\n",
    "is_empty(S)  : Tests whether stack is empty or not.\n",
    "push(S)         : Adds new element to the stack.\n",
    "pop(S)         : Removes top element from the stack.\n",
    "top(S)         : Returns value of the top element. Note that this\n",
    "               function does not remove element from the stack.\n",
    "Example: \n",
    "\n",
    "Input:  -3  <--- Top\n",
    "        14 \n",
    "        18 \n",
    "        -5 \n",
    "        30 \n",
    "\n",
    "Output: 30  <--- Top\n",
    "        18 \n",
    "        14 \n",
    "        -3 \n",
    "        -5 \n",
    "Recommended: Please solve it on “PRACTICE” first, before moving on to the solution.\n",
    "This problem is mainly a variant of Reverse stack using recursion.\n",
    "The idea of the solution is to hold all values in Function Call Stack until the stack becomes empty. When the stack becomes empty, insert all held items one by one in sorted order. Here sorted order is important.\n",
    "Algorithm \n",
    "We can use below algorithm to sort stack elements: \n",
    "\n",
    "sortStack(stack S)\n",
    "    if stack is not empty:\n",
    "        temp = pop(S);  \n",
    "        sortStack(S); \n",
    "        sortedInsert(S, temp);\n",
    "Below algorithm is to insert element is sorted order: \n",
    "\n",
    "sortedInsert(Stack S, element)\n",
    "    if stack is empty OR element > top element\n",
    "        push(S, elem)\n",
    "    else\n",
    "        temp = pop(S)\n",
    "        sortedInsert(S, element)\n",
    "        push(S, temp)\n",
    "Illustration: \n",
    "\n",
    "\n",
    "\n",
    "\n",
    "Let given stack be\n",
    "-3    <-- top of the stack\n",
    "14\n",
    "18\n",
    "-5\n",
    "30 \n",
    "Let us illustrate sorting of stack using above example:\n",
    "First pop all the elements from the stack and store poped element in variable ‘temp’. After poping all the elements function’s stack frame will look like:\n",
    "\n",
    "temp = -3    --> stack frame #1\n",
    "temp = 14    --> stack frame #2\n",
    "temp = 18    --> stack frame #3\n",
    "temp = -5    --> stack frame #4\n",
    "temp = 30       --> stack frame #5\n",
    "Now stack is empty and ‘insert_in_sorted_order()’ function is called and it inserts 30 (from stack frame #5) at the bottom of the stack. Now stack looks like below:\n",
    "\n",
    "30    <-- top of the stack \n",
    "Now next element i.e. -5 (from stack frame #4) is picked. Since -5 < 30, -5 is inserted at the bottom of stack. Now stack becomes: \n",
    "\n",
    "30    <-- top of the stack\n",
    "-5\n",
    "Next 18 (from stack frame #3) is picked. Since 18 < 30, 18 is inserted below 30. Now stack becomes:\n",
    "\n",
    "30    <-- top of the stack\n",
    "18    \n",
    "-5\n",
    "Next 14 (from stack frame #2) is picked. Since 14 < 30 and 14 < 18, it is inserted below 18. Now stack becomes: \n",
    "\n",
    "30    <-- top of the stack\n",
    "18\n",
    "14    \n",
    "-5\n",
    "Now -3 (from stack frame #1) is picked, as -3 < 30 and -3 < 18 and -3 < 14, it is inserted below 14. Now stack becomes:\n",
    "\n",
    "30    <-- top of the stack\n",
    "18\n",
    "14\n",
    "-3    \n",
    "-5"
   ]
  },
  {
   "cell_type": "code",
   "execution_count": null,
   "metadata": {},
   "outputs": [],
   "source": [
    "def sortedInsert(s, element):\n",
    " \n",
    "    # Base case: Either stack is empty or newly inserted\n",
    "    # item is greater than top (more than all existing)\n",
    "    if len(s) == 0 or element > s[-1]:\n",
    "        s.append(element)\n",
    "        return\n",
    "    else:\n",
    " \n",
    "        # Remove the top item and recur\n",
    "        temp = s.pop()\n",
    "        sortedInsert(s, element)\n",
    " \n",
    "        # Put back the top item removed earlier\n",
    "        s.append(temp)\n",
    " \n",
    "# Method to sort stack\n",
    " \n",
    " \n",
    "def sortStack(s):\n",
    " \n",
    "    # If stack is not empty\n",
    "    if len(s) != 0:\n",
    " \n",
    "        # Remove the top item\n",
    "        temp = s.pop()\n",
    " \n",
    "        # Sort remaining stack\n",
    "        sortStack(s)\n",
    " \n",
    "        # Push the top item back in sorted stack\n",
    "        sortedInsert(s, temp)"
   ]
  },
  {
   "cell_type": "markdown",
   "metadata": {},
   "source": [
    "## Merge Intervals\n",
    "\n",
    "\n",
    "Given an array of intervals where intervals[i] = [starti, endi], merge all overlapping intervals, and return an array of the non-overlapping intervals that cover all the intervals in the input.\n",
    "\n",
    " \n",
    "\n",
    "Example 1:\n",
    "\n",
    "Input: intervals = [[1,3],[2,6],[8,10],[15,18]]\n",
    "Output: [[1,6],[8,10],[15,18]]\n",
    "Explanation: Since intervals [1,3] and [2,6] overlaps, merge them into [1,6].\n",
    "Example 2:\n",
    "\n",
    "Input: intervals = [[1,4],[4,5]]\n",
    "Output: [[1,5]]\n",
    "Explanation: Intervals [1,4] and [4,5] are considered overlapping."
   ]
  },
  {
   "cell_type": "code",
   "execution_count": null,
   "metadata": {},
   "outputs": [],
   "source": [
    "def merge(self, a: List[List[int]]) -> List[List[int]]:\n",
    "    new=[]\n",
    "    a.sort()\n",
    "    small=a[0][0]\n",
    "    big=a[0][1]\n",
    "    flag=False\n",
    "    for i in a:\n",
    "        if i[0]<=big:\n",
    "            if i[0]<=small:\n",
    "                small=i[0]\n",
    "            if big<i[1]:\n",
    "                big=i[1]\n",
    "        else:\n",
    "            arr=[small,big]\n",
    "            new.append(arr)\n",
    "            big=i[1]\n",
    "            small=i[0]\n",
    "    arr=[small,big]\n",
    "    new.append(arr)\n",
    "    big=i[1]\n",
    "    small=i[0]\n",
    "\n",
    "    return new"
   ]
  },
  {
   "cell_type": "markdown",
   "metadata": {},
   "source": [
    "## Maximum Rectangular Area in a Histogram \n",
    "\n",
    "Find the largest rectangular area possible in a given histogram where the largest rectangle can be made of a number of contiguous bars. For simplicity, assume that all bars have the same width and the width is 1 unit.\n",
    "\n",
    "Example 1:\n",
    "\n",
    "Input:\n",
    "N = 7\n",
    "arr[] = {6,2,5,4,5,1,6}\n",
    "Output: 12\n",
    "Explanation: \n",
    "\n",
    "\n",
    "Example 2:\n",
    "\n",
    "Input:\n",
    "N = 8\n",
    "arr[] = {7 2 8 9 1 3 6 5}\n",
    "Output: 16\n",
    "Explanation: Maximum size of the histogram \n",
    "will be 8  and there will be 2 consecutive \n",
    "histogram. And hence the area of the \n",
    "histogram will be 8x2 = 16."
   ]
  },
  {
   "cell_type": "code",
   "execution_count": null,
   "metadata": {},
   "outputs": [],
   "source": []
  },
  {
   "cell_type": "code",
   "execution_count": null,
   "metadata": {},
   "outputs": [],
   "source": []
  },
  {
   "cell_type": "code",
   "execution_count": null,
   "metadata": {},
   "outputs": [],
   "source": []
  },
  {
   "cell_type": "code",
   "execution_count": null,
   "metadata": {},
   "outputs": [],
   "source": []
  },
  {
   "cell_type": "code",
   "execution_count": null,
   "metadata": {},
   "outputs": [],
   "source": []
  },
  {
   "cell_type": "code",
   "execution_count": null,
   "metadata": {},
   "outputs": [],
   "source": []
  },
  {
   "cell_type": "code",
   "execution_count": null,
   "metadata": {},
   "outputs": [],
   "source": []
  },
  {
   "cell_type": "code",
   "execution_count": null,
   "metadata": {},
   "outputs": [],
   "source": []
  },
  {
   "cell_type": "code",
   "execution_count": null,
   "metadata": {},
   "outputs": [],
   "source": []
  },
  {
   "cell_type": "code",
   "execution_count": null,
   "metadata": {},
   "outputs": [],
   "source": []
  },
  {
   "cell_type": "code",
   "execution_count": null,
   "metadata": {},
   "outputs": [],
   "source": []
  },
  {
   "cell_type": "code",
   "execution_count": null,
   "metadata": {},
   "outputs": [],
   "source": []
  },
  {
   "cell_type": "code",
   "execution_count": null,
   "metadata": {},
   "outputs": [],
   "source": []
  },
  {
   "cell_type": "code",
   "execution_count": null,
   "metadata": {},
   "outputs": [],
   "source": []
  },
  {
   "cell_type": "code",
   "execution_count": null,
   "metadata": {},
   "outputs": [],
   "source": []
  },
  {
   "cell_type": "code",
   "execution_count": null,
   "metadata": {},
   "outputs": [],
   "source": []
  },
  {
   "cell_type": "code",
   "execution_count": null,
   "metadata": {},
   "outputs": [],
   "source": []
  },
  {
   "cell_type": "code",
   "execution_count": null,
   "metadata": {},
   "outputs": [],
   "source": []
  },
  {
   "cell_type": "code",
   "execution_count": null,
   "metadata": {},
   "outputs": [],
   "source": []
  },
  {
   "cell_type": "code",
   "execution_count": null,
   "metadata": {},
   "outputs": [],
   "source": []
  },
  {
   "cell_type": "code",
   "execution_count": null,
   "metadata": {},
   "outputs": [],
   "source": []
  },
  {
   "cell_type": "code",
   "execution_count": null,
   "metadata": {},
   "outputs": [],
   "source": []
  },
  {
   "cell_type": "code",
   "execution_count": null,
   "metadata": {},
   "outputs": [],
   "source": []
  },
  {
   "cell_type": "code",
   "execution_count": null,
   "metadata": {},
   "outputs": [],
   "source": []
  },
  {
   "cell_type": "code",
   "execution_count": null,
   "metadata": {},
   "outputs": [],
   "source": []
  },
  {
   "cell_type": "code",
   "execution_count": null,
   "metadata": {},
   "outputs": [],
   "source": []
  },
  {
   "cell_type": "code",
   "execution_count": null,
   "metadata": {},
   "outputs": [],
   "source": []
  },
  {
   "cell_type": "code",
   "execution_count": null,
   "metadata": {},
   "outputs": [],
   "source": []
  },
  {
   "cell_type": "code",
   "execution_count": null,
   "metadata": {},
   "outputs": [],
   "source": []
  },
  {
   "cell_type": "code",
   "execution_count": null,
   "metadata": {},
   "outputs": [],
   "source": []
  },
  {
   "cell_type": "code",
   "execution_count": null,
   "metadata": {},
   "outputs": [],
   "source": []
  },
  {
   "cell_type": "code",
   "execution_count": null,
   "metadata": {},
   "outputs": [],
   "source": []
  },
  {
   "cell_type": "code",
   "execution_count": null,
   "metadata": {},
   "outputs": [],
   "source": []
  },
  {
   "cell_type": "code",
   "execution_count": null,
   "metadata": {},
   "outputs": [],
   "source": []
  },
  {
   "cell_type": "code",
   "execution_count": null,
   "metadata": {},
   "outputs": [],
   "source": []
  },
  {
   "cell_type": "code",
   "execution_count": null,
   "metadata": {},
   "outputs": [],
   "source": []
  },
  {
   "cell_type": "code",
   "execution_count": null,
   "metadata": {},
   "outputs": [],
   "source": []
  },
  {
   "cell_type": "code",
   "execution_count": null,
   "metadata": {},
   "outputs": [],
   "source": []
  },
  {
   "cell_type": "code",
   "execution_count": null,
   "metadata": {},
   "outputs": [],
   "source": []
  },
  {
   "cell_type": "code",
   "execution_count": null,
   "metadata": {},
   "outputs": [],
   "source": []
  },
  {
   "cell_type": "code",
   "execution_count": null,
   "metadata": {},
   "outputs": [],
   "source": []
  },
  {
   "cell_type": "code",
   "execution_count": null,
   "metadata": {},
   "outputs": [],
   "source": []
  },
  {
   "cell_type": "code",
   "execution_count": null,
   "metadata": {},
   "outputs": [],
   "source": []
  },
  {
   "cell_type": "code",
   "execution_count": null,
   "metadata": {},
   "outputs": [],
   "source": []
  },
  {
   "cell_type": "code",
   "execution_count": null,
   "metadata": {},
   "outputs": [],
   "source": []
  },
  {
   "cell_type": "code",
   "execution_count": null,
   "metadata": {},
   "outputs": [],
   "source": []
  },
  {
   "cell_type": "code",
   "execution_count": null,
   "metadata": {},
   "outputs": [],
   "source": []
  },
  {
   "cell_type": "code",
   "execution_count": null,
   "metadata": {},
   "outputs": [],
   "source": []
  },
  {
   "cell_type": "code",
   "execution_count": null,
   "metadata": {},
   "outputs": [],
   "source": []
  },
  {
   "cell_type": "code",
   "execution_count": null,
   "metadata": {},
   "outputs": [],
   "source": []
  }
 ],
 "metadata": {
  "kernelspec": {
   "display_name": "Python 3",
   "language": "python",
   "name": "python3"
  },
  "language_info": {
   "codemirror_mode": {
    "name": "ipython",
    "version": 3
   },
   "file_extension": ".py",
   "mimetype": "text/x-python",
   "name": "python",
   "nbconvert_exporter": "python",
   "pygments_lexer": "ipython3",
   "version": "3.8.5"
  }
 },
 "nbformat": 4,
 "nbformat_minor": 4
}
