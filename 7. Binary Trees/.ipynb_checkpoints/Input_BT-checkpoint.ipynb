{
 "cells": [
  {
   "cell_type": "markdown",
   "metadata": {},
   "source": [
    "## in ll we assume that work is done n-1 item and think for head\n",
    "## in binary tree we image keft ree and right tree work is done just call rec , think for root.data"
   ]
  },
  {
   "cell_type": "markdown",
   "metadata": {},
   "source": [
    "##### TREE HAVING EITHER 0,1OR 2 NODES . IS BINARY TREES"
   ]
  },
  {
   "cell_type": "markdown",
   "metadata": {},
   "source": [
    "##### Bt- is just a node with few more trees in it and it has beautiful recursive str"
   ]
  },
  {
   "cell_type": "markdown",
   "metadata": {},
   "source": [
    "###### leaf-nodes without children ;;;;ancestores- the nodes which comes in between when u go from child bodes to root nodes"
   ]
  },
  {
   "cell_type": "markdown",
   "metadata": {},
   "source": [
    "### Create BT"
   ]
  },
  {
   "cell_type": "markdown",
   "metadata": {},
   "source": [
    "##### NODE STORES - DATA, ADD OF CHILD 1 && CHILD 2\n",
    "#### NODE IS A LEAF ,then child 1,2 ==NONE¶"
   ]
  },
  {
   "cell_type": "code",
   "execution_count": 1,
   "metadata": {},
   "outputs": [],
   "source": [
    "class BinaryTreeNode:\n",
    "    def __init__(self,data):\n",
    "        self.data=data\n",
    "        self.left=None\n",
    "        self.right=None\n",
    "        \n",
    "btn1=BinaryTreeNode(1)\n",
    "btn2=BinaryTreeNode(4)\n",
    "btn3=BinaryTreeNode(5)\n",
    "\n",
    "btn1.left=btn2\n",
    "btn1.right=btn3"
   ]
  },
  {
   "cell_type": "markdown",
   "metadata": {},
   "source": [
    "### Print BT"
   ]
  },
  {
   "cell_type": "code",
   "execution_count": 3,
   "metadata": {},
   "outputs": [
    {
     "name": "stdout",
     "output_type": "stream",
     "text": [
      "1\n",
      "4\n",
      "5\n"
     ]
    }
   ],
   "source": [
    "def printTree(root):\n",
    "    if root==None:\n",
    "        return\n",
    "    print(root.data)\n",
    "    printTree(root.left)\n",
    "    printTree(root.right)\n",
    "    \n",
    "printTree(btn1)"
   ]
  },
  {
   "cell_type": "code",
   "execution_count": 6,
   "metadata": {},
   "outputs": [
    {
     "name": "stdout",
     "output_type": "stream",
     "text": [
      "1:L 4,R 5\n",
      "4:\n",
      "5:\n"
     ]
    }
   ],
   "source": [
    "def printTreeDetailed(root):\n",
    "    if root==None:\n",
    "        return\n",
    "    print(root.data,end=\":\")\n",
    "    if root.left!=None:\n",
    "        print(\"L\",root.left.data,end=',')\n",
    "    if root.right!=None:\n",
    "        print(\"R\",root.right.data,end=\"\")\n",
    "    print()\n",
    "    printTreeDetailed(root.left)\n",
    "    printTreeDetailed(root.right)\n",
    "printTreeDetailed(btn1)"
   ]
  },
  {
   "cell_type": "markdown",
   "metadata": {},
   "source": [
    "### Input of BT rec"
   ]
  },
  {
   "cell_type": "code",
   "execution_count": null,
   "metadata": {},
   "outputs": [],
   "source": [
    "def treeInput():\n",
    "    rootData=int(input())\n",
    "    if rootData==-1:\n",
    "        return None\n",
    "    root=BinaryTreeNode(rootData)\n",
    "    leftTree=treeInput()\n",
    "    rightTree=treeInput()\n",
    "    root.left=leftTree\n",
    "    root.right=rightTree\n",
    "    return root"
   ]
  },
  {
   "cell_type": "markdown",
   "metadata": {},
   "source": [
    "### Combine"
   ]
  },
  {
   "cell_type": "code",
   "execution_count": 1,
   "metadata": {},
   "outputs": [
    {
     "name": "stdout",
     "output_type": "stream",
     "text": [
      "1\n",
      "2\n",
      "3\n",
      "-1\n",
      "-1\n",
      "-1\n",
      "-1\n",
      "1:L 2,\n",
      "2:L 3,\n",
      "3:\n"
     ]
    }
   ],
   "source": [
    "class BinaryTreeNode:\n",
    "    def __init__(self,data):\n",
    "        self.data=data\n",
    "        self.left=None\n",
    "        self.right=None\n",
    "def printTree(root):\n",
    "    if root==None:\n",
    "        return\n",
    "    print(root.data)\n",
    "    printTree(root.left)\n",
    "    printTree(root.right)\n",
    "    \n",
    "def printTreeDetailed(root):\n",
    "    if root==None:\n",
    "        return\n",
    "    print(root.data,end=\":\")\n",
    "    if root.left!=None:\n",
    "        print(\"L\",root.left.data,end=',')\n",
    "    if root.right!=None:\n",
    "        print(\"R\",root.right.data,end=\"\")\n",
    "    print()\n",
    "    printTreeDetailed(root.left)\n",
    "    printTreeDetailed(root.right)\n",
    "\n",
    "    \n",
    "def treeInput():\n",
    "    rootData=int(input())\n",
    "    if rootData==-1:\n",
    "        return None\n",
    "    root=BinaryTreeNode(rootData)\n",
    "    leftTree=treeInput()\n",
    "    rightTree=treeInput()\n",
    "    root.left=leftTree\n",
    "    root.right=rightTree\n",
    "    return root\n",
    "r=treeInput()\n",
    "printTreeDetailed(r)"
   ]
  },
  {
   "cell_type": "markdown",
   "metadata": {},
   "source": [
    "### Tree tarversal"
   ]
  },
  {
   "cell_type": "code",
   "execution_count": 1,
   "metadata": {},
   "outputs": [
    {
     "ename": "SyntaxError",
     "evalue": "invalid syntax (<ipython-input-1-63db476b554e>, line 1)",
     "output_type": "error",
     "traceback": [
      "\u001b[1;36m  File \u001b[1;32m\"<ipython-input-1-63db476b554e>\"\u001b[1;36m, line \u001b[1;32m1\u001b[0m\n\u001b[1;33m    ROOT->LEFT->RIGHT {PRE}\u001b[0m\n\u001b[1;37m        ^\u001b[0m\n\u001b[1;31mSyntaxError\u001b[0m\u001b[1;31m:\u001b[0m invalid syntax\n"
     ]
    }
   ],
   "source": [
    "ROOT->LEFT->RIGHT {PRE}\n",
    "LEFT->RIGHT->ROOT {POST}\n",
    "LEFT->NODE->RIGHT {INORDER}\n",
    "LEVEL ORDER TRAVERSAL"
   ]
  },
  {
   "cell_type": "markdown",
   "metadata": {},
   "source": [
    "### pre"
   ]
  },
  {
   "cell_type": "code",
   "execution_count": null,
   "metadata": {},
   "outputs": [],
   "source": [
    "def preOrder(root):\n",
    "    if root==None:\n",
    "        return \n",
    "    print(root.data,end=\" \")\n",
    "    preOrder(root.left)\n",
    "    preOrder(root.right)"
   ]
  },
  {
   "cell_type": "code",
   "execution_count": null,
   "metadata": {},
   "outputs": [],
   "source": [
    "def preorderIterative(root):\n",
    " \n",
    "    # return if the tree is empty\n",
    "    if root is None:\n",
    "        return\n",
    " \n",
    "    # create an empty stack and push the root node\n",
    "    stack = deque()\n",
    "    stack.append(root)\n",
    " \n",
    "    # loop till stack is empty\n",
    "    while stack:\n",
    " \n",
    "        # pop a node from the stack and print it\n",
    "        curr = stack.pop()\n",
    " \n",
    "        print(curr.data, end=' ')\n",
    " \n",
    "        # push the right child of the popped node into the stack\n",
    "        if curr.right:\n",
    "            stack.append(curr.right)\n",
    " \n",
    "        # push the left child of the popped node into the stack\n",
    "        if curr.left:\n",
    "            stack.append(curr.left)\n",
    " \n",
    "    # the right child must be pushed first so that the left child\n",
    "    # is processed first (LIFO order)"
   ]
  },
  {
   "cell_type": "markdown",
   "metadata": {},
   "source": [
    "### post"
   ]
  },
  {
   "cell_type": "code",
   "execution_count": null,
   "metadata": {},
   "outputs": [],
   "source": [
    "def postOrder(root):\n",
    "    if root==None:\n",
    "        return\n",
    "    postOrder(root.left)\n",
    "    postOrder(root.right)\n",
    "    print(root.data,end=\" \")"
   ]
  },
  {
   "cell_type": "code",
   "execution_count": null,
   "metadata": {},
   "outputs": [],
   "source": [
    "# Iterative function to perform postorder traversal on the tree\n",
    "def postorderIterative(root):\n",
    " \n",
    "    # create an empty stack and push the root node\n",
    "    stack = deque()\n",
    "    stack.append(root)\n",
    " \n",
    "    # create another stack to store postorder traversal\n",
    "    out = deque()\n",
    " \n",
    "    # loop till stack is empty\n",
    "    while stack:\n",
    " \n",
    "        # pop a node from the stack and push the data into the output stack\n",
    "        curr = stack.pop()\n",
    "        out.append(curr.data)\n",
    " \n",
    "        # push the left and right child of the popped node into the stack\n",
    "        if curr.left:\n",
    "            stack.append(curr.left)\n",
    " \n",
    "        if curr.right:\n",
    "            stack.append(curr.right)\n",
    " \n",
    "    # print postorder traversal\n",
    "    while out:\n",
    "        print(out.pop(), end=' ')\n",
    " "
   ]
  },
  {
   "cell_type": "markdown",
   "metadata": {},
   "source": [
    "### in"
   ]
  },
  {
   "cell_type": "code",
   "execution_count": null,
   "metadata": {},
   "outputs": [],
   "source": [
    "def inOrder(root):\n",
    "    if root==None:\n",
    "        return\n",
    "    postOrder(root.left)\n",
    "    print(root.data,end=\" \")\n",
    "    postOrder(root.right)\n"
   ]
  },
  {
   "cell_type": "code",
   "execution_count": null,
   "metadata": {},
   "outputs": [],
   "source": [
    "def inorderIterative(root):\n",
    " \n",
    "    # create an empty stack\n",
    "    stack = deque()\n",
    " \n",
    "    # start from the root node (set current node to the root node)\n",
    "    curr = root\n",
    " \n",
    "    # if the current node is None and the stack is also empty, we are done\n",
    "    while stack or curr:\n",
    " \n",
    "        # if the current node exists, push it into the stack (defer it)\n",
    "        # and move to its left child\n",
    "        if curr:\n",
    "            stack.append(curr)\n",
    "            curr = curr.left\n",
    "        else:\n",
    "            # otherwise, if the current node is None, pop an element from the stack,\n",
    "            # print it, and finally set the current node to its right child\n",
    "            curr = stack.pop()\n",
    "            print(curr.data, end=' ')\n",
    " \n",
    "            curr = curr.right"
   ]
  },
  {
   "cell_type": "markdown",
   "metadata": {},
   "source": [
    "#### Level wise input"
   ]
  },
  {
   "cell_type": "code",
   "execution_count": null,
   "metadata": {},
   "outputs": [],
   "source": [
    "import queue\n",
    "def takeLevelWiseInput():\n",
    "    q=queue.Queue()\n",
    "    print(\"enter root\")\n",
    "    rootData=int(input())\n",
    "    if rootData==-1:\n",
    "        return None\n",
    "    root=BinaryTreeNode(rootData)\n",
    "    q.put(root)\n",
    "    while (not(q.empty())):\n",
    "        current_node=q.get()\n",
    "        print(\"enter left child of\",current_node.data)\n",
    "        leftChildData=int(input())\n",
    "        if leftChildData!=-1:\n",
    "            leftChild=BinaryTreeNode(leftChildData)\n",
    "            current_node.left=leftChild\n",
    "            q.put(leftChild)\n",
    "        print(\"enter right child of\",current_node.data)\n",
    "        rightChildData=int(input())\n",
    "        if rightChildData!=-1:\n",
    "            rightChild=BinaryTreeNode(rightChildData)\n",
    "            current_node.right=rightChild\n",
    "            q.put(rightChild)\n",
    "    \n",
    "    return root\n"
   ]
  },
  {
   "cell_type": "markdown",
   "metadata": {},
   "source": [
    "### print level wise"
   ]
  },
  {
   "cell_type": "code",
   "execution_count": null,
   "metadata": {},
   "outputs": [],
   "source": [
    "def printLevelWise(root):\n",
    "    if root==None:\n",
    "        return\n",
    "    q=queue.Queue()\n",
    "    q.put(root)\n",
    "    while not q.empty():\n",
    "        a=q.get()\n",
    "        print(a.data,end=\":\")\n",
    "        leftChild=a.left\n",
    "        if leftChild != None:\n",
    "            print(\"L:\", end = \"\")\n",
    "            print(leftChild.data, end = \",\")\n",
    "            q.put(leftChild)\n",
    "        else:\n",
    "            print(\"L:\", end = \"\")\n",
    "            print(-1, end = \",\")\n",
    "            \n",
    "        rightChild = a.right\n",
    "        if rightChild != None:\n",
    "            print(\"R:\", end = \"\")\n",
    "            print(rightChild.data)\n",
    "            q.put(rightChild)\n",
    "        else:\n",
    "            print(\"R:\", end = \"\")\n",
    "            print(-1)"
   ]
  },
  {
   "cell_type": "markdown",
   "metadata": {},
   "source": [
    "# DFS- pre,post,in\n",
    "# BFS- level"
   ]
  },
  {
   "cell_type": "code",
   "execution_count": null,
   "metadata": {},
   "outputs": [],
   "source": []
  },
  {
   "cell_type": "code",
   "execution_count": null,
   "metadata": {},
   "outputs": [],
   "source": []
  },
  {
   "cell_type": "code",
   "execution_count": null,
   "metadata": {},
   "outputs": [],
   "source": []
  },
  {
   "cell_type": "code",
   "execution_count": null,
   "metadata": {},
   "outputs": [],
   "source": []
  },
  {
   "cell_type": "code",
   "execution_count": null,
   "metadata": {},
   "outputs": [],
   "source": []
  },
  {
   "cell_type": "code",
   "execution_count": null,
   "metadata": {},
   "outputs": [],
   "source": []
  },
  {
   "cell_type": "code",
   "execution_count": null,
   "metadata": {},
   "outputs": [],
   "source": []
  },
  {
   "cell_type": "code",
   "execution_count": null,
   "metadata": {},
   "outputs": [],
   "source": []
  },
  {
   "cell_type": "code",
   "execution_count": null,
   "metadata": {},
   "outputs": [],
   "source": []
  },
  {
   "cell_type": "code",
   "execution_count": null,
   "metadata": {},
   "outputs": [],
   "source": []
  },
  {
   "cell_type": "code",
   "execution_count": null,
   "metadata": {},
   "outputs": [],
   "source": []
  },
  {
   "cell_type": "code",
   "execution_count": null,
   "metadata": {},
   "outputs": [],
   "source": []
  },
  {
   "cell_type": "code",
   "execution_count": null,
   "metadata": {},
   "outputs": [],
   "source": []
  },
  {
   "cell_type": "code",
   "execution_count": null,
   "metadata": {},
   "outputs": [],
   "source": []
  }
 ],
 "metadata": {
  "kernelspec": {
   "display_name": "Python 3",
   "language": "python",
   "name": "python3"
  },
  "language_info": {
   "codemirror_mode": {
    "name": "ipython",
    "version": 3
   },
   "file_extension": ".py",
   "mimetype": "text/x-python",
   "name": "python",
   "nbconvert_exporter": "python",
   "pygments_lexer": "ipython3",
   "version": "3.8.5"
  }
 },
 "nbformat": 4,
 "nbformat_minor": 4
}
