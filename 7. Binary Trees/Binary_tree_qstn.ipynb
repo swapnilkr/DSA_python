{
 "cells": [
  {
   "cell_type": "markdown",
   "metadata": {},
   "source": [
    "### Input str\n"
   ]
  },
  {
   "cell_type": "markdown",
   "metadata": {},
   "source": [
    "### like in LL we think of nth node else n-1 node is taken care by recursion\n",
    "### here also we take care of root data , else left tree and right tree is taken care by recursion"
   ]
  },
  {
   "cell_type": "markdown",
   "metadata": {},
   "source": [
    "##### Workflow\n",
    "\n",
    "### Base case\n",
    "### Recursion\n",
    "### Work for nth node (LL) and root (BT)"
   ]
  },
  {
   "cell_type": "code",
   "execution_count": null,
   "metadata": {},
   "outputs": [],
   "source": [
    "class BinaryTreeNode:\n",
    "    def __init__(self,data):\n",
    "        self.data=data\n",
    "        self.left=None\n",
    "        self.right=None\n",
    "        \n",
    "def printTree(root):\n",
    "    if root==None:\n",
    "        return\n",
    "    print(root.data)\n",
    "    printTree(root.left)\n",
    "    printTree(root.right)\n",
    "    \n",
    "def printTreeDetailed(root):\n",
    "    if root==None:\n",
    "        return\n",
    "    print(root.data,end=\":\")\n",
    "    if root.left!=None:\n",
    "        print(\"L\",root.left.data,end=',')\n",
    "    if root.right!=None:\n",
    "        print(\"R\",root.right.data,end=\"\")\n",
    "    print()\n",
    "    printTreeDetailed(root.left)\n",
    "    printTreeDetailed(root.right)\n",
    "\n",
    "def treeInput():\n",
    "    rootData=int(input())\n",
    "    if rootData==-1:\n",
    "        return None\n",
    "    root=BinaryTreeNode(rootData)\n",
    "    leftTree=treeInput()\n",
    "    rightTree=treeInput()\n",
    "    root.left=leftTree\n",
    "    root.right=rightTree\n",
    "    return root"
   ]
  },
  {
   "cell_type": "markdown",
   "metadata": {},
   "source": [
    "### no nodes"
   ]
  },
  {
   "cell_type": "code",
   "execution_count": null,
   "metadata": {},
   "outputs": [],
   "source": [
    "def numNode(root):\n",
    "    if root==None:\n",
    "        return 0\n",
    "    leftCount=numNode(root.left)\n",
    "    rightCount=numNode(root.right)\n",
    "    return 1+leftCount+rightCount"
   ]
  },
  {
   "cell_type": "markdown",
   "metadata": {},
   "source": [
    "### sum of nodes"
   ]
  },
  {
   "cell_type": "code",
   "execution_count": null,
   "metadata": {},
   "outputs": [],
   "source": [
    "def sumOfAllNodes(root):\n",
    "    if root==None:\n",
    "        return 0\n",
    "    leftsum=sumOfAllNodes(root.left)\n",
    "    rightsum=sumOfAllNodes(root.right)\n",
    "    return root.data+leftsum+rightsum"
   ]
  },
  {
   "cell_type": "code",
   "execution_count": null,
   "metadata": {},
   "outputs": [],
   "source": [
    "def sumOfAllNodes(root):\n",
    "    if root == None:\n",
    "        return 0\n",
    "    return root.data+ sumOfAllNodes(root.left)+sumOfAllNodes(root.right)"
   ]
  },
  {
   "cell_type": "markdown",
   "metadata": {},
   "source": [
    "### node with largest data"
   ]
  },
  {
   "cell_type": "code",
   "execution_count": null,
   "metadata": {},
   "outputs": [],
   "source": [
    "def largestData(root):\n",
    "    if root==None:\n",
    "        return -1 ###ideally return -inf\n",
    "    leftLargest=largestData(root.left)\n",
    "    rightLargest=largestData(root.right)\n",
    "    largest=max(leftLargest,rightLargest,root.data)\n",
    "    return largest"
   ]
  },
  {
   "cell_type": "markdown",
   "metadata": {},
   "source": [
    "### NODES GREATER THAN X imp"
   ]
  },
  {
   "cell_type": "code",
   "execution_count": null,
   "metadata": {},
   "outputs": [],
   "source": [
    "def countNodesGreaterThanX(root, x):\n",
    "    if root==None:\n",
    "        return 0\n",
    "    leftchild=countNodesGreaterThanX(root.left,x)\n",
    "    rightchild=countNodesGreaterThanX(root.right,x)\n",
    "    if root.data >x:\n",
    "        return 1+leftchild+rightchild\n",
    "    return leftchild+rightchild"
   ]
  },
  {
   "cell_type": "markdown",
   "metadata": {},
   "source": [
    "### like in LL we think of nth node else n-1 node is taken care by recursion\n",
    "### here also we take care of root data , else left tree and right tree is taken care by recursion"
   ]
  },
  {
   "cell_type": "markdown",
   "metadata": {},
   "source": [
    "### HEIGHT OF TREE"
   ]
  },
  {
   "cell_type": "code",
   "execution_count": null,
   "metadata": {},
   "outputs": [],
   "source": [
    "def height(root):\n",
    "    if root ==None:\n",
    "        return 0\n",
    "    lc=height(root.left)\n",
    "    rc=height(root.right)\n",
    "    largest=max(lc,rc)\n",
    "    return 1+largest ### 1 for root"
   ]
  },
  {
   "cell_type": "markdown",
   "metadata": {},
   "source": [
    "###  PRINT NO OF LEAF NODES imp"
   ]
  },
  {
   "cell_type": "code",
   "execution_count": null,
   "metadata": {},
   "outputs": [],
   "source": [
    "def numLeafNode(root):\n",
    "    if root==None:\n",
    "        return 0\n",
    "    if root.left==None and root.right==None:\n",
    "        return 1\n",
    "    numLeafLeft=numLeafNode(root.left)\n",
    "    numLeafRight=numLeafNode(root.right)\n",
    "    return numLeafLeft+numLeafRight"
   ]
  },
  {
   "cell_type": "markdown",
   "metadata": {},
   "source": [
    "###  PRINT NODES AT DEPTH K(2 methods)\n"
   ]
  },
  {
   "cell_type": "code",
   "execution_count": null,
   "metadata": {},
   "outputs": [],
   "source": [
    "def printDepthK(root,k):\n",
    "    if root==None:\n",
    "        return\n",
    "    if k==0:\n",
    "        print(root.data)\n",
    "        return\n",
    "    printDepthK(root.left,k-1)\n",
    "    printDepthK(root.right,k-1)"
   ]
  },
  {
   "cell_type": "code",
   "execution_count": null,
   "metadata": {},
   "outputs": [],
   "source": [
    "def printDepthKV2(root,k,d=0):\n",
    "    if root==None:\n",
    "        return\n",
    "    if k==d:\n",
    "        print(root.data)\n",
    "        return\n",
    "    printDepthKV2(root.left,k,d+1)\n",
    "    printDepthKV2(root.right,k,d+1)"
   ]
  },
  {
   "cell_type": "markdown",
   "metadata": {},
   "source": [
    "### is node present"
   ]
  },
  {
   "cell_type": "code",
   "execution_count": null,
   "metadata": {},
   "outputs": [],
   "source": [
    "def isNodePresent(root, x):\n",
    "    if root == None:\n",
    "        return \n",
    "    if root.data==x:\n",
    "        return True\n",
    "    lc=isNodePresent(root.left, x)\n",
    "    rc=isNodePresent(root.right, x)\n",
    "    if lc:\n",
    "        return True\n",
    "    if rc:\n",
    "        return True"
   ]
  },
  {
   "cell_type": "markdown",
   "metadata": {},
   "source": [
    "### nodes without sibiling  IIMMPPPP"
   ]
  },
  {
   "cell_type": "code",
   "execution_count": null,
   "metadata": {},
   "outputs": [],
   "source": [
    "def nodesWithoutSibling(root):\n",
    "    if root == None:\n",
    "        return \n",
    "    \n",
    "    elif root.left is not None and root.right is not None:\n",
    "        nodesWithoutSibling(root.left)\n",
    "        nodesWithoutSibling(root.right)\n",
    "    \n",
    "    elif root.right is not None:\n",
    "        print(root.right.data)\n",
    "        nodesWithoutSibling(root.right) ### continue rec\n",
    "        \n",
    "    elif root.left is not None:\n",
    "        print(root.left.data)\n",
    "        nodesWithoutSibling(root.left) ### continue rec"
   ]
  },
  {
   "cell_type": "markdown",
   "metadata": {},
   "source": [
    "### Remove leaf nodes"
   ]
  },
  {
   "cell_type": "code",
   "execution_count": null,
   "metadata": {},
   "outputs": [],
   "source": [
    "def removeLeaves(root):\n",
    "    if root==None:\n",
    "        return\n",
    "    if root.left==None and root.right==None:\n",
    "        return None\n",
    "    root.left=removeLeaves(root.left)\n",
    "    root.right=removeLeaves(root.right)\n",
    "    return root"
   ]
  },
  {
   "cell_type": "markdown",
   "metadata": {},
   "source": [
    "### Mirror Binary Tree IIIIMMMMMMMPPPPPPP"
   ]
  },
  {
   "cell_type": "code",
   "execution_count": null,
   "metadata": {},
   "outputs": [],
   "source": [
    "def mirrorBinaryTree(root):\n",
    "    if root == None:\n",
    "        return None\n",
    "    \n",
    "    if root.left == None and root.right == None:\n",
    "        return None\n",
    "    \n",
    "    mirrorBinaryTree(root.left)\n",
    "    mirrorBinaryTree(root.right)\n",
    "        \n",
    "    temp = root.left\n",
    "    root.left = root.right\n",
    "    root.right = temp        \n",
    "\n",
    "    return root"
   ]
  },
  {
   "cell_type": "markdown",
   "metadata": {},
   "source": [
    "### CHECK IF TREE IS BALANCED   VVVVVVVVVVVIIIIIIIIIIIIII"
   ]
  },
  {
   "cell_type": "code",
   "execution_count": null,
   "metadata": {},
   "outputs": [],
   "source": [
    "def height(root):\n",
    "    if root ==None:\n",
    "        return 0\n",
    "    lc=height(root.left)\n",
    "    rc=height(root.right)\n",
    "    largest=max(lc,rc)\n",
    "    return 1+largest ### 1 for root\n",
    "\n",
    "\n",
    "def isBal(root):\n",
    "    if root==None:\n",
    "        return True\n",
    "    lh=height(root.left)\n",
    "    rh=height(root.right)\n",
    "    if lh-rh>1 or rh-lh>1:\n",
    "        return False\n",
    "    isLeftBal=isBal(root.left)\n",
    "    isRightBal=isBal(root.right)\n",
    "    if isLeftBal and isRightBal:\n",
    "        return True\n",
    "    return False"
   ]
  },
  {
   "cell_type": "markdown",
   "metadata": {},
   "source": [
    "##### FOR BEST CASE -- O(N LOG N) same as merge sort ,,, reccc rel- T(n)==kn+2T(n/2)\n",
    "##### for worst case -- O(N**2) same as bubble sort ,, recc rel -- T(N)==KN+T(N-1)\n",
    "##### HEIGHT== LOG(N)"
   ]
  },
  {
   "cell_type": "code",
   "execution_count": null,
   "metadata": {},
   "outputs": [],
   "source": [
    "def getHeightAndCheckBal(root):\n",
    "    if root==None:\n",
    "        return 0,True\n",
    "    lh,isLeftBal=getHeightAndCheckBal(root.left)\n",
    "    rh,isRightBal=getHeightAndCheckBal(root.right)\n",
    "    h=1+max(lh,rh)\n",
    "    if lh-rh>1 or rh-lh>1:\n",
    "        return h,False\n",
    "    if isLeftBal and isRightBal:\n",
    "        return h,True\n",
    "    else:\n",
    "        return h,False"
   ]
  },
  {
   "cell_type": "markdown",
   "metadata": {},
   "source": [
    "## Diametere of BT\n",
    "\n",
    "#### Diameter of a Binary Tree is the distance between two farthest nodes\n",
    "#### If one node is on left side and one node is on right side then --> leftHeight + rightHeight is the answer\n",
    "#### Both nodes on the Left side --> Tree diameter is equal to the left sub tree diameter\n",
    "#### Both nodes on the right side --> Tree diameter is equal to the right sub tree diameter\n",
    "#### Time Complexity is O(n*h)"
   ]
  },
  {
   "cell_type": "code",
   "execution_count": null,
   "metadata": {},
   "outputs": [],
   "source": [
    "def height(root):\n",
    "    if root==None:\n",
    "        return 0\n",
    "    lc=height(root.left)\n",
    "    rc=heoght(root.right)\n",
    "    return 1+max(lc,rc)\n",
    "\n",
    "def diameter(root):\n",
    "    if root==None:\n",
    "        return 0\n",
    "    leftDiameter=diameter(root.left)\n",
    "    rightDiameter=diameter(root.right)\n",
    "    lh=height(root.left)\n",
    "    rh=height(root.right)\n",
    "    return max(lh+rh+1,leftDiameter,rightDiameter)\n",
    "    pass"
   ]
  },
  {
   "cell_type": "markdown",
   "metadata": {},
   "source": [
    "### BUILD USING INORDER AND PREORDER IINNTTTT qstn"
   ]
  },
  {
   "cell_type": "code",
   "execution_count": null,
   "metadata": {},
   "outputs": [],
   "source": [
    "def buildTreeFromPreIn(pre,inorder):\n",
    "    if len(pre)==0:\n",
    "        return None\n",
    "    rootData=pre[0]\n",
    "    root=BinaryTreeNode(rootData)\n",
    "    rootIndexInInorder=-1\n",
    "    for i in range (0,len(inorder)):\n",
    "        if inorder[i]==rootData:\n",
    "            rootIndexInInorder=i\n",
    "            break\n",
    "    if rootIndexInInorder==-1:\n",
    "        return None\n",
    "    \n",
    "    leftInorder=inorder[0:rootIndexInInorder]\n",
    "    rightInorder=inorder[rootIndexInInorder+1:]\n",
    "    \n",
    "    lenLeftSubtree=len(leftInorder)\n",
    "    \n",
    "    leftPreorder=pre[1:lenLeftSubtree+1]\n",
    "    rightPreorder=pre[lenLeftSubtree+1:]\n",
    "    \n",
    "    leftChild=buildTreeFromPreIn(leftPreorder,leftInorder)\n",
    "    rightChild=buildTreeFromPreIn(rightPreorder,rightInorder)\n",
    "    \n",
    "    root.left=leftChild\n",
    "    root.right=rightChild\n",
    "    return root"
   ]
  },
  {
   "cell_type": "markdown",
   "metadata": {},
   "source": [
    "### BUILD USING INORDER AND POSTORDER"
   ]
  },
  {
   "cell_type": "code",
   "execution_count": null,
   "metadata": {},
   "outputs": [],
   "source": [
    "def buildTreePostOrder(postorder, inorder):\n",
    "    if len(postorder) == 0:\n",
    "        return None\n",
    "    \n",
    "    rootData = postorder[len(postorder) - 1]\n",
    "    root = BinaryTreeNode(rootData)\n",
    "    rootIndex = -1\n",
    "    \n",
    "    for i in range(0, len(inorder)):\n",
    "        if inorder[i] == rootData:\n",
    "            rootIndex = i\n",
    "            break\n",
    "    if rootIndex == -1:\n",
    "        return None\n",
    "    \n",
    "    leftInorder = inorder[:rootIndex]\n",
    "    rightInorder = inorder[rootIndex + 1:]\n",
    "    \n",
    "    x = len(leftInorder)    \n",
    "    leftPostorder = postorder[:x]\n",
    "    rightPostorder = postorder[x:len(postorder) - 1]\n",
    "    \n",
    "    root.left = buildTreePostOrder(leftPostorder, leftInorder)    # Where to call recursion?\n",
    "    root.right = buildTreePostOrder(rightPostorder, rightInorder)\n",
    "    \n",
    "    return root"
   ]
  },
  {
   "cell_type": "markdown",
   "metadata": {},
   "source": [
    "### CREATE AND INSERT DUPLICATE NODE"
   ]
  },
  {
   "cell_type": "code",
   "execution_count": null,
   "metadata": {},
   "outputs": [],
   "source": [
    "def insertDuplicateNode(root):\n",
    "    if root==None:\n",
    "        return None\n",
    "    \n",
    "    lc=insertDuplicateNode(root.left)\n",
    "    rc=insertDuplicateNode(root.right)\n",
    "    rootData=root.data\n",
    "    rootDuplicate=BinaryTreeNode(rootData)\n",
    "    temp=root.left\n",
    "    root.left=rootDuplicate\n",
    "    rootDuplicate.left=temp"
   ]
  },
  {
   "cell_type": "markdown",
   "metadata": {},
   "source": [
    "### min max of btn"
   ]
  },
  {
   "cell_type": "code",
   "execution_count": null,
   "metadata": {},
   "outputs": [],
   "source": [
    "INT_MIN = -2147483648\n",
    "INT_MAX = 2147483647\n",
    "# Problem ID 1567, Find the minimum and maximum value\n",
    "def minMax(root):\n",
    "    if root==None:\n",
    "        return INT_MAX,INT_MIN\n",
    "    lmin,lmax=minMax(root.left)\n",
    "    rmin,rmax=minMax(root.right)\n",
    "    less=min(lmin,rmin,root.data)\n",
    "    more=max(lmax,rmax,root.data)\n",
    "    return less,more"
   ]
  },
  {
   "cell_type": "markdown",
   "metadata": {},
   "source": [
    "### path sum root to leaf"
   ]
  },
  {
   "cell_type": "code",
   "execution_count": null,
   "metadata": {},
   "outputs": [],
   "source": [
    "def printPathsUtil(root,k,1st):\n",
    "    if root==None:\n",
    "        return \n",
    "    if root.left==None and root.right==None: ###leaf\n",
    "        if root.data==k:\n",
    "            print(*1st,k)\n",
    "        return \n",
    "    1st.append(root.data)\n",
    "    printPathsUtil(root.left,k-root.data,1st)\n",
    "    printPathsUtil(root.right,k-root.data,1st)\n",
    "    1st.pop()"
   ]
  },
  {
   "cell_type": "code",
   "execution_count": null,
   "metadata": {},
   "outputs": [],
   "source": []
  },
  {
   "cell_type": "code",
   "execution_count": null,
   "metadata": {},
   "outputs": [],
   "source": []
  },
  {
   "cell_type": "code",
   "execution_count": null,
   "metadata": {},
   "outputs": [],
   "source": []
  },
  {
   "cell_type": "code",
   "execution_count": null,
   "metadata": {},
   "outputs": [],
   "source": []
  },
  {
   "cell_type": "code",
   "execution_count": null,
   "metadata": {},
   "outputs": [],
   "source": []
  },
  {
   "cell_type": "code",
   "execution_count": null,
   "metadata": {},
   "outputs": [],
   "source": []
  },
  {
   "cell_type": "code",
   "execution_count": null,
   "metadata": {},
   "outputs": [],
   "source": []
  },
  {
   "cell_type": "code",
   "execution_count": null,
   "metadata": {},
   "outputs": [],
   "source": []
  },
  {
   "cell_type": "code",
   "execution_count": null,
   "metadata": {},
   "outputs": [],
   "source": []
  },
  {
   "cell_type": "code",
   "execution_count": null,
   "metadata": {},
   "outputs": [],
   "source": []
  },
  {
   "cell_type": "code",
   "execution_count": null,
   "metadata": {},
   "outputs": [],
   "source": []
  },
  {
   "cell_type": "code",
   "execution_count": null,
   "metadata": {},
   "outputs": [],
   "source": []
  },
  {
   "cell_type": "code",
   "execution_count": null,
   "metadata": {},
   "outputs": [],
   "source": []
  },
  {
   "cell_type": "code",
   "execution_count": null,
   "metadata": {},
   "outputs": [],
   "source": []
  },
  {
   "cell_type": "code",
   "execution_count": null,
   "metadata": {},
   "outputs": [],
   "source": []
  },
  {
   "cell_type": "code",
   "execution_count": null,
   "metadata": {},
   "outputs": [],
   "source": []
  },
  {
   "cell_type": "code",
   "execution_count": null,
   "metadata": {},
   "outputs": [],
   "source": []
  },
  {
   "cell_type": "code",
   "execution_count": null,
   "metadata": {},
   "outputs": [],
   "source": []
  },
  {
   "cell_type": "code",
   "execution_count": null,
   "metadata": {},
   "outputs": [],
   "source": []
  },
  {
   "cell_type": "code",
   "execution_count": null,
   "metadata": {},
   "outputs": [],
   "source": []
  },
  {
   "cell_type": "code",
   "execution_count": null,
   "metadata": {},
   "outputs": [],
   "source": []
  },
  {
   "cell_type": "code",
   "execution_count": null,
   "metadata": {},
   "outputs": [],
   "source": []
  },
  {
   "cell_type": "code",
   "execution_count": null,
   "metadata": {},
   "outputs": [],
   "source": []
  }
 ],
 "metadata": {
  "kernelspec": {
   "display_name": "Python 3",
   "language": "python",
   "name": "python3"
  },
  "language_info": {
   "codemirror_mode": {
    "name": "ipython",
    "version": 3
   },
   "file_extension": ".py",
   "mimetype": "text/x-python",
   "name": "python",
   "nbconvert_exporter": "python",
   "pygments_lexer": "ipython3",
   "version": "3.8.5"
  }
 },
 "nbformat": 4,
 "nbformat_minor": 4
}
