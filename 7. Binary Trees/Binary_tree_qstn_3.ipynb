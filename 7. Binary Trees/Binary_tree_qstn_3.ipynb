{
 "cells": [
  {
   "cell_type": "markdown",
   "metadata": {},
   "source": [
    "# Boundary Traversal of binary tree  VVVVVVVVIIIIIIIIIIIIIIIIIII\n",
    "Given a Binary Tree, find its Boundary Traversal. The traversal should be in the following order: \n",
    "\n",
    "Left boundary nodes: defined as the path from the root to the left-most node ie- the leaf node you could reach when you always travel preferring the left subtree over the right subtree. \n",
    "Leaf nodes: All the leaf nodes except for the ones that are part of left or right boundary.\n",
    "Reverse right boundary nodes: defined as the path from the right-most node to the root. The right-most node is the leaf node you could reach when you always travel preferring the right subtree over the left subtree. Exclude the root from this as it was already included in the traversal of left boundary nodes.\n",
    "Note: If the root doesn't have a left subtree or right subtree, then the root itself is the left or right boundary. \n",
    "\n",
    "Example 1:\n",
    "\n",
    "Input:\n",
    "        1\n",
    "      /   \\\n",
    "     2     3    \n",
    "   \n",
    "Output: 1 2 3\n",
    "Explanation:\n",
    "\n",
    "\n",
    "Example 2:\n",
    "\n",
    "Input:\n",
    "          20\n",
    "        /   \\\n",
    "       8     22\n",
    "     /   \\    \\\n",
    "    4    12    25\n",
    "        /  \\ \n",
    "       10   14 \n",
    "\n",
    "Output: 20 8 4 10 14 25 22"
   ]
  },
  {
   "cell_type": "markdown",
   "metadata": {},
   "source": [
    "The left boundary is defined as the path from the root to the left-most node. The right boundary is defined as the path from the root to the right-most node. If the root doesn’t have left subtree or right subtree, then the root itself is left boundary or right boundary. Note this definition only applies to the input binary tree, and not apply to any subtrees.\n",
    "The left-most node is defined as a leaf node you could reach when you always firstly travel to the left subtree if it exists. If not, travel to the right subtree. Repeat until you reach a leaf node.\n",
    "The right-most node is also defined in the same way with left and right exchanged. \n",
    "For example, boundary traversal of the following tree is “20 8 4 10 14 25 22”\n",
    " \n",
    "\n",
    "\n",
    "\n",
    " \n",
    "\n",
    "Recommended: Please solve it on “PRACTICE” first, before moving on to the solution.\n",
    "We break the problem in 3 parts: \n"
   ]
  },
  {
   "cell_type": "markdown",
   "metadata": {},
   "source": [
    "1. Print the left boundary in top-down manner. \n",
    "2. Print all leaf nodes from left to right, which can again be sub-divided into two sub-parts: \n",
    "…..2.1 Print all leaf nodes of left sub-tree from left to right. \n",
    "…..2.2 Print all leaf nodes of right subtree from left to right. \n",
    "3. Print the right boundary in bottom-up manner.\n",
    "We need to take care of one thing that nodes are not printed again. e.g. The left most node is also the leaf node of the tree."
   ]
  },
  {
   "cell_type": "code",
   "execution_count": null,
   "metadata": {},
   "outputs": [],
   "source": [
    "# A simple function to print leaf nodes of a Binary Tree\n",
    "def printLeaves(root):\n",
    "    if(root):\n",
    "        printLeaves(root.left)\n",
    "         \n",
    "        # Print it if it is a leaf node\n",
    "        if root.left is None and root.right is None:\n",
    "            print(root.data),\n",
    " \n",
    "        printLeaves(root.right)\n",
    " \n",
    "# A function to print all left boundary nodes, except a\n",
    "# leaf node. Print the nodes in TOP DOWN manner\n",
    "def printBoundaryLeft(root):\n",
    "     \n",
    "    if(root):\n",
    "        if (root.left): \n",
    "             \n",
    "            # to ensure top down order, print the node\n",
    "            # before calling itself for left subtree\n",
    "            print(root.data)\n",
    "            printBoundaryLeft(root.left)\n",
    "         \n",
    "        elif(root.right):\n",
    "            print (root.data)\n",
    "            printBoundaryLeft(root.right)\n",
    "         \n",
    "        # do nothing if it is a leaf node, this way we\n",
    "        # avoid duplicates in output\n",
    " \n",
    " \n",
    "# A function to print all right boundary nodes, except\n",
    "# a leaf node. Print the nodes in BOTTOM UP manner\n",
    "def printBoundaryRight(root):\n",
    "     \n",
    "    if(root):\n",
    "        if (root.right):\n",
    "            # to ensure bottom up order, first call for\n",
    "            # right subtree, then print this node\n",
    "            printBoundaryRight(root.right)\n",
    "            print(root.data)\n",
    "         \n",
    "        elif(root.left):\n",
    "            printBoundaryRight(root.left)\n",
    "            print(root.data)\n",
    " \n",
    "        # do nothing if it is a leaf node, this way we\n",
    "        # avoid duplicates in output\n",
    " \n",
    " \n",
    "# A function to do boundary traversal of a given binary tree\n",
    "def printBoundary(root):\n",
    "    if (root):\n",
    "        print(root.data)\n",
    "         \n",
    "        # Print the left boundary in top-down manner\n",
    "        printBoundaryLeft(root.left)\n",
    " \n",
    "        # Print all leaf nodes\n",
    "        printLeaves(root.left)\n",
    "        printLeaves(root.right)\n",
    " \n",
    "        # Print the right boundary in bottom-up manner\n",
    "        printBoundaryRight(root.right)"
   ]
  },
  {
   "cell_type": "markdown",
   "metadata": {},
   "source": [
    "### Construct Binary Tree from String with bracket representation\n",
    "\n",
    "Construct a binary tree from a string consisting of parenthesis and integers. The whole input represents a binary tree. It contains an integer followed by zero, one or two pairs of parenthesis. The integer represents the root’s value and a pair of parenthesis contains a child binary tree with the same structure. Always start to construct the left child node of the parent first if it exists.\n",
    "\n",
    "Examples: \n",
    "\n",
    "Input : \"1(2)(3)\" \n",
    "Output : 1 2 3\n",
    "Explanation :\n",
    "           1\n",
    "          / \\\n",
    "         2   3\n",
    "Explanation: first pair of parenthesis contains \n",
    "left subtree and second one contains the right \n",
    "subtree. Preorder of above tree is \"1 2 3\".  \n",
    "\n",
    "Input : \"4(2(3)(1))(6(5))\"\n",
    "Output : 4 2 3 1 6 5\n",
    "Explanation :\n",
    "           4\n",
    "         /   \\\n",
    "        2     6\n",
    "       / \\   / \n",
    "      3   1 5   \n",
    "We know first character in string is root. Substring inside the first adjacent pair of parenthesis is for left subtree and substring inside second pair of parenthesis is for right subtree as in the below diagram. \n",
    " \n",
    "\n",
    "\n",
    "\n",
    "We need to find the substring corresponding to left subtree and substring corresponding to right subtree and then recursively call on both of the substrings. "
   ]
  },
  {
   "cell_type": "markdown",
   "metadata": {},
   "source": [
    "Algorithm:\n",
    "\n",
    "The very first element of the string is the root.\n",
    "If the next two consecutive elements are “(” and “)”, this means there is no left child otherwise we will create and add the left child to the parent node recursively.\n",
    "Once the left child is added recursively, we will look for consecutive “(” and add the right child to the parent node.\n",
    "Encountering “)” means the end of either left or right node and we will increment the start index\n",
    "The recursion ends when the start index is greater than equal to the end index"
   ]
  },
  {
   "cell_type": "code",
   "execution_count": null,
   "metadata": {},
   "outputs": [],
   "source": [
    "def preOrder(node):\n",
    "    if (node == None):\n",
    "        return\n",
    "    print(node.data, end=\" \")\n",
    "    preOrder(node.left)\n",
    "    preOrder(node.right)\n",
    " \n",
    " \n",
    "def treeFromStringHelper(si, ei, arr, root):\n",
    " \n",
    "    if si[0] >= ei:\n",
    "        return None\n",
    " \n",
    "    if arr[si[0]] == \"(\":\n",
    " \n",
    "        if arr[si[0]+1] != \")\":\n",
    "            if root.left is None:\n",
    "                if si[0] >= ei:\n",
    "                    return\n",
    "                new_root = newNode(arr[si[0]+1])\n",
    "                root.left = new_root\n",
    "                si[0] += 2\n",
    "                treeFromStringHelper(si, ei, arr, new_root)\n",
    " \n",
    "        else:\n",
    "            si[0] += 2\n",
    " \n",
    "        if root.right is None:\n",
    "            if si[0] >= ei:\n",
    "                return\n",
    " \n",
    "            if arr[si[0]] != \"(\":\n",
    "                si[0] += 1\n",
    "                return\n",
    " \n",
    "            new_root = newNode(arr[si[0]+1])\n",
    "            root.right = new_root\n",
    "            si[0] += 2\n",
    "            treeFromStringHelper(si, ei, arr, new_root)\n",
    "        else:\n",
    "            return\n",
    " \n",
    "    if arr[si[0]] == \")\":\n",
    "        if si[0] >= ei:\n",
    "            return\n",
    "        si[0] += 1\n",
    "        return\n",
    " \n",
    "    return\n",
    " \n",
    " \n",
    "def treeFromString(string):\n",
    " \n",
    "    root = newNode(string[0])\n",
    " \n",
    "    if len(string) > 1:\n",
    "        si = [1]\n",
    "        ei = len(string)-1\n",
    " \n",
    "        treeFromStringHelper(si, ei, string, root)\n",
    " \n",
    "    return root"
   ]
  },
  {
   "cell_type": "markdown",
   "metadata": {},
   "source": [
    "## Binary Tree to DLL  VVIII COncept\n",
    "\n",
    "\n",
    "Given a Binary Tree (BT), convert it to a Doubly Linked List(DLL) In-Place. The left and right pointers in nodes are to be used as previous and next pointers respectively in converted DLL. The order of nodes in DLL must be same as Inorder of the given Binary Tree. The first node of Inorder traversal (leftmost node in BT) must be the head node of the DLL.\n",
    "\n",
    "TreeToList\n",
    "\n",
    "Example 1:\n",
    "\n",
    "Input:\n",
    "      1\n",
    "    /  \\\n",
    "   3    2\n",
    "Output:\n",
    "3 1 2 \n",
    "2 1 3 \n",
    "Explanation: DLL would be 3<=>1<=>2\n",
    "Example 2:\n",
    "\n",
    "Input:\n",
    "       10\n",
    "      /   \\\n",
    "     20   30\n",
    "   /   \\\n",
    "  40   60\n",
    "Output:\n",
    "40 20 60 10 30 \n",
    "30 10 60 20 40\n",
    "Explanation:  DLL would be \n",
    "40<=>20<=>60<=>10<=>30.\n"
   ]
  },
  {
   "cell_type": "markdown",
   "metadata": {},
   "source": [
    "### both solution accepted"
   ]
  },
  {
   "cell_type": "code",
   "execution_count": null,
   "metadata": {},
   "outputs": [],
   "source": [
    "#Function to convert a binary tree to doubly linked list.\n",
    "def bToDLL(root):\n",
    "    # do Code here\n",
    "    out=inorderIterative(root)\n",
    "    return build(out)\n",
    "\n",
    "def inorderIterative(root):\n",
    "    out=[]\n",
    "    stack = deque()\n",
    "    curr = root\n",
    " \n",
    "    while stack or curr:\n",
    "\n",
    "        if curr:\n",
    "            stack.append(curr)\n",
    "            curr = curr.left\n",
    "        else:\n",
    "            curr = stack.pop()\n",
    "            out.append(curr.data)\n",
    " \n",
    "            curr = curr.right\n",
    "    return out\n",
    "\n",
    "def build(out):\n",
    "    if len(out)==0:\n",
    "        return None\n",
    "    head=None\n",
    "    tail=None\n",
    "    for curr in out:\n",
    "        newNode=Node(curr)\n",
    "        if head==None:\n",
    "            head=newNode\n",
    "        else:\n",
    "            tail.right=newNode\n",
    "            newNode.left=tail\n",
    "        tail=newNode\n",
    "    return head \n",
    "        \n",
    "# def build(out):\n",
    "#     if len(out)==0:\n",
    "#         return None\n",
    "#     head=None\n",
    "#     tail=None\n",
    "#     prev=None\n",
    "#     for curr in out:\n",
    "#         newNode=Node(curr)\n",
    "#         if head==None:\n",
    "#             head=newNode\n",
    "#             tail=newNode\n",
    "#             prev=newNode\n",
    "#         else:\n",
    "#             tail.right=newNode\n",
    "#             tail=newNode\n",
    "#             tail.left=prev\n",
    "#             prev=newNode\n",
    "                \n",
    "#     return head "
   ]
  },
  {
   "cell_type": "markdown",
   "metadata": {},
   "source": [
    " The idea is to do in order traversal of the binary tree. While doing inorder traversal, keep track of the previously visited node in a variable, say prev. For every visited node, make it next to the prev and previous of this node as prev."
   ]
  },
  {
   "cell_type": "code",
   "execution_count": null,
   "metadata": {},
   "outputs": [],
   "source": [
    "class BtoDll:\n",
    "    def __init__(self):\n",
    "        self.head = None\n",
    "        self.tail = None\n",
    " \n",
    "    def convert(self, root):\n",
    "       \n",
    "        # Base case\n",
    "        if root is None:\n",
    "            return\n",
    "           \n",
    "        # Recursively convert left subtree\n",
    "        self.convert(root.left)\n",
    "         \n",
    "        # Now convert this node\n",
    "        node = root\n",
    "        if self.head is None:\n",
    "            self.head = node\n",
    "        else:\n",
    "            self.tail.right = node\n",
    "            node.left = self.tail\n",
    "        self.tail = node\n",
    "         \n",
    "        # Finally convert right subtree\n",
    "        self.convert(root.right)\n",
    "        return self.head\n",
    " \n",
    " \n",
    "def BinaryTree2DoubleLinkedList(root):\n",
    "    '''\n",
    "    A simple recursive function to convert a given Binary tree \n",
    "    to Doubly Linked List\n",
    "    root --> Root of Binary Tree\n",
    "    '''\n",
    "    converter = BtoDll()\n",
    "    return converter.convert(root)"
   ]
  },
  {
   "cell_type": "code",
   "execution_count": null,
   "metadata": {},
   "outputs": [],
   "source": []
  },
  {
   "cell_type": "code",
   "execution_count": null,
   "metadata": {},
   "outputs": [],
   "source": []
  },
  {
   "cell_type": "code",
   "execution_count": null,
   "metadata": {},
   "outputs": [],
   "source": []
  },
  {
   "cell_type": "code",
   "execution_count": null,
   "metadata": {},
   "outputs": [],
   "source": []
  },
  {
   "cell_type": "code",
   "execution_count": null,
   "metadata": {},
   "outputs": [],
   "source": []
  },
  {
   "cell_type": "code",
   "execution_count": null,
   "metadata": {},
   "outputs": [],
   "source": []
  },
  {
   "cell_type": "code",
   "execution_count": null,
   "metadata": {},
   "outputs": [],
   "source": []
  },
  {
   "cell_type": "code",
   "execution_count": null,
   "metadata": {},
   "outputs": [],
   "source": []
  },
  {
   "cell_type": "code",
   "execution_count": null,
   "metadata": {},
   "outputs": [],
   "source": []
  },
  {
   "cell_type": "code",
   "execution_count": null,
   "metadata": {},
   "outputs": [],
   "source": []
  },
  {
   "cell_type": "code",
   "execution_count": null,
   "metadata": {},
   "outputs": [],
   "source": []
  },
  {
   "cell_type": "code",
   "execution_count": null,
   "metadata": {},
   "outputs": [],
   "source": []
  },
  {
   "cell_type": "code",
   "execution_count": null,
   "metadata": {},
   "outputs": [],
   "source": []
  },
  {
   "cell_type": "code",
   "execution_count": null,
   "metadata": {},
   "outputs": [],
   "source": []
  },
  {
   "cell_type": "code",
   "execution_count": null,
   "metadata": {},
   "outputs": [],
   "source": []
  },
  {
   "cell_type": "code",
   "execution_count": null,
   "metadata": {},
   "outputs": [],
   "source": []
  },
  {
   "cell_type": "code",
   "execution_count": null,
   "metadata": {},
   "outputs": [],
   "source": []
  },
  {
   "cell_type": "code",
   "execution_count": null,
   "metadata": {},
   "outputs": [],
   "source": []
  },
  {
   "cell_type": "code",
   "execution_count": null,
   "metadata": {},
   "outputs": [],
   "source": []
  },
  {
   "cell_type": "code",
   "execution_count": null,
   "metadata": {},
   "outputs": [],
   "source": []
  },
  {
   "cell_type": "code",
   "execution_count": null,
   "metadata": {},
   "outputs": [],
   "source": []
  },
  {
   "cell_type": "code",
   "execution_count": null,
   "metadata": {},
   "outputs": [],
   "source": []
  },
  {
   "cell_type": "code",
   "execution_count": null,
   "metadata": {},
   "outputs": [],
   "source": []
  },
  {
   "cell_type": "code",
   "execution_count": null,
   "metadata": {},
   "outputs": [],
   "source": []
  },
  {
   "cell_type": "code",
   "execution_count": null,
   "metadata": {},
   "outputs": [],
   "source": []
  },
  {
   "cell_type": "code",
   "execution_count": null,
   "metadata": {},
   "outputs": [],
   "source": []
  },
  {
   "cell_type": "code",
   "execution_count": null,
   "metadata": {},
   "outputs": [],
   "source": []
  },
  {
   "cell_type": "code",
   "execution_count": null,
   "metadata": {},
   "outputs": [],
   "source": []
  },
  {
   "cell_type": "code",
   "execution_count": null,
   "metadata": {},
   "outputs": [],
   "source": []
  },
  {
   "cell_type": "code",
   "execution_count": null,
   "metadata": {},
   "outputs": [],
   "source": []
  },
  {
   "cell_type": "code",
   "execution_count": null,
   "metadata": {},
   "outputs": [],
   "source": []
  },
  {
   "cell_type": "code",
   "execution_count": null,
   "metadata": {},
   "outputs": [],
   "source": []
  },
  {
   "cell_type": "code",
   "execution_count": null,
   "metadata": {},
   "outputs": [],
   "source": []
  },
  {
   "cell_type": "code",
   "execution_count": null,
   "metadata": {},
   "outputs": [],
   "source": []
  },
  {
   "cell_type": "code",
   "execution_count": null,
   "metadata": {},
   "outputs": [],
   "source": []
  },
  {
   "cell_type": "code",
   "execution_count": null,
   "metadata": {},
   "outputs": [],
   "source": []
  },
  {
   "cell_type": "code",
   "execution_count": null,
   "metadata": {},
   "outputs": [],
   "source": []
  },
  {
   "cell_type": "code",
   "execution_count": null,
   "metadata": {},
   "outputs": [],
   "source": []
  },
  {
   "cell_type": "code",
   "execution_count": null,
   "metadata": {},
   "outputs": [],
   "source": []
  },
  {
   "cell_type": "code",
   "execution_count": null,
   "metadata": {},
   "outputs": [],
   "source": []
  },
  {
   "cell_type": "code",
   "execution_count": null,
   "metadata": {},
   "outputs": [],
   "source": []
  },
  {
   "cell_type": "code",
   "execution_count": null,
   "metadata": {},
   "outputs": [],
   "source": []
  },
  {
   "cell_type": "code",
   "execution_count": null,
   "metadata": {},
   "outputs": [],
   "source": []
  },
  {
   "cell_type": "code",
   "execution_count": null,
   "metadata": {},
   "outputs": [],
   "source": []
  },
  {
   "cell_type": "code",
   "execution_count": null,
   "metadata": {},
   "outputs": [],
   "source": []
  },
  {
   "cell_type": "code",
   "execution_count": null,
   "metadata": {},
   "outputs": [],
   "source": []
  },
  {
   "cell_type": "code",
   "execution_count": null,
   "metadata": {},
   "outputs": [],
   "source": []
  },
  {
   "cell_type": "code",
   "execution_count": null,
   "metadata": {},
   "outputs": [],
   "source": []
  },
  {
   "cell_type": "code",
   "execution_count": null,
   "metadata": {},
   "outputs": [],
   "source": []
  },
  {
   "cell_type": "code",
   "execution_count": null,
   "metadata": {},
   "outputs": [],
   "source": []
  },
  {
   "cell_type": "code",
   "execution_count": null,
   "metadata": {},
   "outputs": [],
   "source": []
  },
  {
   "cell_type": "code",
   "execution_count": null,
   "metadata": {},
   "outputs": [],
   "source": []
  },
  {
   "cell_type": "code",
   "execution_count": null,
   "metadata": {},
   "outputs": [],
   "source": []
  },
  {
   "cell_type": "code",
   "execution_count": null,
   "metadata": {},
   "outputs": [],
   "source": []
  },
  {
   "cell_type": "code",
   "execution_count": null,
   "metadata": {},
   "outputs": [],
   "source": []
  },
  {
   "cell_type": "code",
   "execution_count": null,
   "metadata": {},
   "outputs": [],
   "source": []
  },
  {
   "cell_type": "code",
   "execution_count": null,
   "metadata": {},
   "outputs": [],
   "source": []
  },
  {
   "cell_type": "code",
   "execution_count": null,
   "metadata": {},
   "outputs": [],
   "source": []
  },
  {
   "cell_type": "code",
   "execution_count": null,
   "metadata": {},
   "outputs": [],
   "source": []
  },
  {
   "cell_type": "code",
   "execution_count": null,
   "metadata": {},
   "outputs": [],
   "source": []
  },
  {
   "cell_type": "code",
   "execution_count": null,
   "metadata": {},
   "outputs": [],
   "source": []
  },
  {
   "cell_type": "code",
   "execution_count": null,
   "metadata": {},
   "outputs": [],
   "source": []
  },
  {
   "cell_type": "code",
   "execution_count": null,
   "metadata": {},
   "outputs": [],
   "source": []
  },
  {
   "cell_type": "code",
   "execution_count": null,
   "metadata": {},
   "outputs": [],
   "source": []
  },
  {
   "cell_type": "code",
   "execution_count": null,
   "metadata": {},
   "outputs": [],
   "source": []
  },
  {
   "cell_type": "code",
   "execution_count": null,
   "metadata": {},
   "outputs": [],
   "source": []
  },
  {
   "cell_type": "code",
   "execution_count": null,
   "metadata": {},
   "outputs": [],
   "source": []
  },
  {
   "cell_type": "code",
   "execution_count": null,
   "metadata": {},
   "outputs": [],
   "source": []
  },
  {
   "cell_type": "code",
   "execution_count": null,
   "metadata": {},
   "outputs": [],
   "source": []
  }
 ],
 "metadata": {
  "kernelspec": {
   "display_name": "Python 3",
   "language": "python",
   "name": "python3"
  },
  "language_info": {
   "codemirror_mode": {
    "name": "ipython",
    "version": 3
   },
   "file_extension": ".py",
   "mimetype": "text/x-python",
   "name": "python",
   "nbconvert_exporter": "python",
   "pygments_lexer": "ipython3",
   "version": "3.8.5"
  }
 },
 "nbformat": 4,
 "nbformat_minor": 4
}
