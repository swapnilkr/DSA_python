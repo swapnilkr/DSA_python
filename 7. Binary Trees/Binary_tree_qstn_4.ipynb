{
 "cells": [
  {
   "cell_type": "markdown",
   "metadata": {},
   "source": [
    "# Google interview\n",
    "\n",
    "### Duplicate subtree in Binary Tree \n",
    "Given a binary tree, find out whether it contains a duplicate sub-tree of size two or more, or not.\n",
    "\n",
    "\n",
    "Example 1 :\n",
    "\n",
    "Input : \n",
    "               1\n",
    "             /   \\ \n",
    "           2       3\n",
    "         /   \\       \\    \n",
    "        4     5       2     \n",
    "                     /  \\    \n",
    "                    4    5\n",
    "Output : 1\n",
    "Explanation : \n",
    "    2     \n",
    "  /   \\    \n",
    " 4     5\n",
    "is the duplicate sub-tree.\n",
    "Example 2 :\n",
    "\n",
    "Input : \n",
    "               1\n",
    "             /   \\ \n",
    "           2       3\n",
    "Output: 0\n",
    "Explanation: There is no duplicate sub-tree \n",
    "in the given binary tree."
   ]
  },
  {
   "cell_type": "code",
   "execution_count": null,
   "metadata": {},
   "outputs": [],
   "source": [
    "#### same concept\n",
    "\n",
    "def areIdentical(root1, root2):\n",
    "     \n",
    "    # Base Case\n",
    "    if root1 is None and root2 is None:\n",
    "        return True\n",
    "    if root1 is None or root2 is None:\n",
    "        return False\n",
    "    return (root1.data == root2.data and\n",
    "            areIdentical(root1.left , root2.left)and\n",
    "            areIdentical(root1.right, root2.right))\n",
    "\n",
    "def isSubtree(T, S):\n",
    "\n",
    "    if S is None:\n",
    "        return True\n",
    " \n",
    "    if T is None:\n",
    "        return False\n",
    " \n",
    "    if (areIdentical(T, S)):\n",
    "        return True\n",
    "    return isSubtree(T.left, S) or isSubtree(T.right, S)"
   ]
  },
  {
   "cell_type": "code",
   "execution_count": null,
   "metadata": {},
   "outputs": [],
   "source": [
    "MARKER = '$'\n",
    "subtrees = {}\n",
    " \n",
    "# This function returns empty if tree\n",
    "# contains a duplicate subtree of size\n",
    "# 2 or more.\n",
    "def dupSubUtil(root):\n",
    "     \n",
    "    global subtrees\n",
    " \n",
    "    s = \"\"\n",
    " \n",
    "    # If current node is None, return marker\n",
    "    if (root == None):\n",
    "        return s + MARKER\n",
    " \n",
    "    # If left subtree has a duplicate subtree.\n",
    "    lStr = dupSubUtil(root.left)\n",
    "     \n",
    "    if (s in lStr):\n",
    "       return s\n",
    " \n",
    "    # Do same for right subtree\n",
    "    rStr = dupSubUtil(root.right)\n",
    "     \n",
    "    if (s in rStr):\n",
    "       return s\n",
    " \n",
    "    # Serialize current subtree\n",
    "    s = s + root.key + lStr + rStr\n",
    " \n",
    "    # If current subtree already exists in hash\n",
    "    # table. [Note that size of a serialized tree\n",
    "    # with single node is 3 as it has two marker\n",
    "    # nodes.\n",
    "    if (len(s) > 3 and s in subtrees):\n",
    "       return \"\"\n",
    " \n",
    "    subtrees[s] = 1\n",
    " \n",
    "    return s"
   ]
  },
  {
   "cell_type": "markdown",
   "metadata": {},
   "source": [
    "### Sum of the Longest Bloodline of a Tree (Sum of nodes on the longest path from root to leaf node) \n",
    "Easy Accuracy: 49.91% Submissions: 16180 Points: 2\n",
    "Given a binary tree of size N. Your task is to complete the function sumOfLongRootToLeafPath(), that find the sum of all nodes on the longest path from root to leaf node.\n",
    "If two or more paths compete for the longest path, then the path having maximum sum of nodes is being considered.\n",
    "\n",
    "Example 1:\n",
    "\n",
    "Input: \n",
    "        4        \n",
    "       / \\       \n",
    "      2   5      \n",
    "     / \\ / \\     \n",
    "    7  1 2  3    \n",
    "      /\n",
    "     6\n",
    "Output: 13\n",
    "Explanation:\n",
    "        4        \n",
    "       / \\       \n",
    "      2   5      \n",
    "     / \\ / \\     \n",
    "    7  1 2  3 \n",
    "      /\n",
    "     6\n",
    "\n",
    "The highlighted nodes (4, 2, 1, 6) above are \n",
    "part of the longest root to leaf path having\n",
    "sum = (4 + 2 + 1 + 6) = 13\n",
    "Example 2:\n",
    "\n",
    "Input: \n",
    "          1\n",
    "        /   \\\n",
    "       2     3\n",
    "      / \\   / \\\n",
    "     4   5 6   7\n",
    "Output: 11"
   ]
  },
  {
   "cell_type": "code",
   "execution_count": null,
   "metadata": {},
   "outputs": [],
   "source": []
  },
  {
   "cell_type": "code",
   "execution_count": null,
   "metadata": {},
   "outputs": [],
   "source": []
  },
  {
   "cell_type": "code",
   "execution_count": null,
   "metadata": {},
   "outputs": [],
   "source": []
  },
  {
   "cell_type": "code",
   "execution_count": null,
   "metadata": {},
   "outputs": [],
   "source": []
  },
  {
   "cell_type": "code",
   "execution_count": null,
   "metadata": {},
   "outputs": [],
   "source": []
  },
  {
   "cell_type": "code",
   "execution_count": null,
   "metadata": {},
   "outputs": [],
   "source": []
  },
  {
   "cell_type": "code",
   "execution_count": null,
   "metadata": {},
   "outputs": [],
   "source": []
  },
  {
   "cell_type": "code",
   "execution_count": null,
   "metadata": {},
   "outputs": [],
   "source": []
  },
  {
   "cell_type": "code",
   "execution_count": null,
   "metadata": {},
   "outputs": [],
   "source": []
  },
  {
   "cell_type": "code",
   "execution_count": null,
   "metadata": {},
   "outputs": [],
   "source": []
  },
  {
   "cell_type": "code",
   "execution_count": null,
   "metadata": {},
   "outputs": [],
   "source": []
  },
  {
   "cell_type": "code",
   "execution_count": null,
   "metadata": {},
   "outputs": [],
   "source": []
  },
  {
   "cell_type": "code",
   "execution_count": null,
   "metadata": {},
   "outputs": [],
   "source": []
  },
  {
   "cell_type": "code",
   "execution_count": null,
   "metadata": {},
   "outputs": [],
   "source": []
  },
  {
   "cell_type": "code",
   "execution_count": null,
   "metadata": {},
   "outputs": [],
   "source": []
  },
  {
   "cell_type": "code",
   "execution_count": null,
   "metadata": {},
   "outputs": [],
   "source": []
  },
  {
   "cell_type": "code",
   "execution_count": null,
   "metadata": {},
   "outputs": [],
   "source": []
  },
  {
   "cell_type": "code",
   "execution_count": null,
   "metadata": {},
   "outputs": [],
   "source": []
  },
  {
   "cell_type": "code",
   "execution_count": null,
   "metadata": {},
   "outputs": [],
   "source": []
  },
  {
   "cell_type": "code",
   "execution_count": null,
   "metadata": {},
   "outputs": [],
   "source": []
  },
  {
   "cell_type": "code",
   "execution_count": null,
   "metadata": {},
   "outputs": [],
   "source": []
  },
  {
   "cell_type": "code",
   "execution_count": null,
   "metadata": {},
   "outputs": [],
   "source": []
  },
  {
   "cell_type": "code",
   "execution_count": null,
   "metadata": {},
   "outputs": [],
   "source": []
  },
  {
   "cell_type": "code",
   "execution_count": null,
   "metadata": {},
   "outputs": [],
   "source": []
  },
  {
   "cell_type": "code",
   "execution_count": null,
   "metadata": {},
   "outputs": [],
   "source": []
  },
  {
   "cell_type": "code",
   "execution_count": null,
   "metadata": {},
   "outputs": [],
   "source": []
  },
  {
   "cell_type": "code",
   "execution_count": null,
   "metadata": {},
   "outputs": [],
   "source": []
  },
  {
   "cell_type": "code",
   "execution_count": null,
   "metadata": {},
   "outputs": [],
   "source": []
  },
  {
   "cell_type": "code",
   "execution_count": null,
   "metadata": {},
   "outputs": [],
   "source": []
  },
  {
   "cell_type": "code",
   "execution_count": null,
   "metadata": {},
   "outputs": [],
   "source": []
  },
  {
   "cell_type": "code",
   "execution_count": null,
   "metadata": {},
   "outputs": [],
   "source": []
  },
  {
   "cell_type": "code",
   "execution_count": null,
   "metadata": {},
   "outputs": [],
   "source": []
  },
  {
   "cell_type": "code",
   "execution_count": null,
   "metadata": {},
   "outputs": [],
   "source": []
  },
  {
   "cell_type": "code",
   "execution_count": null,
   "metadata": {},
   "outputs": [],
   "source": []
  },
  {
   "cell_type": "code",
   "execution_count": null,
   "metadata": {},
   "outputs": [],
   "source": []
  },
  {
   "cell_type": "code",
   "execution_count": null,
   "metadata": {},
   "outputs": [],
   "source": []
  },
  {
   "cell_type": "code",
   "execution_count": null,
   "metadata": {},
   "outputs": [],
   "source": []
  },
  {
   "cell_type": "code",
   "execution_count": null,
   "metadata": {},
   "outputs": [],
   "source": []
  },
  {
   "cell_type": "code",
   "execution_count": null,
   "metadata": {},
   "outputs": [],
   "source": []
  },
  {
   "cell_type": "code",
   "execution_count": null,
   "metadata": {},
   "outputs": [],
   "source": []
  },
  {
   "cell_type": "code",
   "execution_count": null,
   "metadata": {},
   "outputs": [],
   "source": []
  },
  {
   "cell_type": "code",
   "execution_count": null,
   "metadata": {},
   "outputs": [],
   "source": []
  },
  {
   "cell_type": "code",
   "execution_count": null,
   "metadata": {},
   "outputs": [],
   "source": []
  },
  {
   "cell_type": "code",
   "execution_count": null,
   "metadata": {},
   "outputs": [],
   "source": []
  },
  {
   "cell_type": "code",
   "execution_count": null,
   "metadata": {},
   "outputs": [],
   "source": []
  },
  {
   "cell_type": "code",
   "execution_count": null,
   "metadata": {},
   "outputs": [],
   "source": []
  },
  {
   "cell_type": "code",
   "execution_count": null,
   "metadata": {},
   "outputs": [],
   "source": []
  },
  {
   "cell_type": "code",
   "execution_count": null,
   "metadata": {},
   "outputs": [],
   "source": []
  },
  {
   "cell_type": "code",
   "execution_count": null,
   "metadata": {},
   "outputs": [],
   "source": []
  },
  {
   "cell_type": "code",
   "execution_count": null,
   "metadata": {},
   "outputs": [],
   "source": []
  },
  {
   "cell_type": "code",
   "execution_count": null,
   "metadata": {},
   "outputs": [],
   "source": []
  },
  {
   "cell_type": "code",
   "execution_count": null,
   "metadata": {},
   "outputs": [],
   "source": []
  },
  {
   "cell_type": "code",
   "execution_count": null,
   "metadata": {},
   "outputs": [],
   "source": []
  }
 ],
 "metadata": {
  "kernelspec": {
   "display_name": "Python 3",
   "language": "python",
   "name": "python3"
  },
  "language_info": {
   "codemirror_mode": {
    "name": "ipython",
    "version": 3
   },
   "file_extension": ".py",
   "mimetype": "text/x-python",
   "name": "python",
   "nbconvert_exporter": "python",
   "pygments_lexer": "ipython3",
   "version": "3.8.5"
  }
 },
 "nbformat": 4,
 "nbformat_minor": 4
}
