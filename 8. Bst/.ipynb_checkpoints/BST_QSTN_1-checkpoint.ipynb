{
 "cells": [
  {
   "cell_type": "markdown",
   "metadata": {},
   "source": [
    "## LCA VVIIIII "
   ]
  },
  {
   "cell_type": "markdown",
   "metadata": {},
   "source": [
    "### search a node in bst"
   ]
  },
  {
   "cell_type": "code",
   "execution_count": null,
   "metadata": {},
   "outputs": [],
   "source": [
    "def searchInBST(root, k):\n",
    "    if root is None:\n",
    "        return None\n",
    "    if root.data==k:\n",
    "        return root\n",
    "    elif root.data>k:\n",
    "        searchInBST(root.left,k)\n",
    "    else:\n",
    "        searchInBST(root.right,k)"
   ]
  },
  {
   "cell_type": "markdown",
   "metadata": {},
   "source": [
    "### PRINT ELEMENTS IN RANGE K1 & K2"
   ]
  },
  {
   "cell_type": "code",
   "execution_count": null,
   "metadata": {},
   "outputs": [],
   "source": [
    "def elementsInRangeK1K2(root, k1, k2):\n",
    "    if root==None:\n",
    "        return None\n",
    "    if root.data >k2:\n",
    "        elementsInRangeK1K2(root.left, k1, k2)\n",
    "    elif root.data<k1:\n",
    "        elementsInRangeK1K2(root.right, k1, k2)\n",
    "    else:\n",
    "        print(root.data,end=\" \")\n",
    "        elementsInRangeK1K2(root.left, k1, k2)\n",
    "        elementsInRangeK1K2(root.right, k1, k2)\n",
    "    pass"
   ]
  },
  {
   "cell_type": "markdown",
   "metadata": {},
   "source": [
    "### Sorted array into BST"
   ]
  },
  {
   "cell_type": "code",
   "execution_count": null,
   "metadata": {},
   "outputs": [],
   "source": [
    "def constructBST(list):\n",
    "    if not list:\n",
    "        return None\n",
    "    \n",
    "    mid = (len(list))//2\n",
    "    if len(list) %2==0:\n",
    "        mid=mid -1\n",
    "    root = BinaryTreeNode(list[mid])\n",
    "    root.left = constructBST(list[:mid])\n",
    "    root.right = constructBST(list[mid+1:])\n",
    "    \n",
    "    return root"
   ]
  },
  {
   "cell_type": "markdown",
   "metadata": {},
   "source": [
    "### is check BST"
   ]
  },
  {
   "cell_type": "code",
   "execution_count": null,
   "metadata": {},
   "outputs": [],
   "source": [
    "def maxTree(root):\n",
    "    if root==None:\n",
    "        return -100000\n",
    "    leftMax=maxTree(root.left)\n",
    "    rightMax=maxTree(root.right)\n",
    "    return max(leftMax,rightMax,root.data)\n",
    "\n",
    "def minTree(root):\n",
    "    if root==None:\n",
    "        return 100000\n",
    "    leftMin=minTree(root.left)\n",
    "    rightMin=minTree(root.right)\n",
    "    return min(leftMin,rightMin,root.data)\n",
    "\n",
    "\n",
    "def isBST(root):\n",
    "    if root==None:\n",
    "        return True\n",
    "    leftMax=maxTree(root.left)\n",
    "    rightMin=minTree(root.right)\n",
    "    if root.data>rightMin or root.data<=leftMax:\n",
    "        return False\n",
    "    isLeftBST=isBST(root.left)\n",
    "    isRightBST=isBST(root.right)\n",
    "\n",
    "    return isLeftBST and isRightBST"
   ]
  },
  {
   "cell_type": "markdown",
   "metadata": {},
   "source": [
    "### improved"
   ]
  },
  {
   "cell_type": "code",
   "execution_count": null,
   "metadata": {},
   "outputs": [],
   "source": [
    "def isBST(root):\n",
    "    if root == None:\n",
    "        return 100000,-100000,True\n",
    "    leftMin,leftMax,isLeftBST=isBST(root.left)\n",
    "    rightMin,rightMax,isRightBST=isBST(root.right)\n",
    "    minimum=min(leftMin,rightMin,root.data)\n",
    "    maximum=max(rightMax,leftMax,root.data)\n",
    "    isTreeBST=True\n",
    "    if root.data<=leftMax or root.data>rightMin:\n",
    "        isTreeBST=False\n",
    "    if not (isLeftBST) or not(isRightBST):\n",
    "        return False\n",
    "    return minimum,maximum,isTreeBST"
   ]
  },
  {
   "cell_type": "markdown",
   "metadata": {},
   "source": [
    "### Best"
   ]
  },
  {
   "cell_type": "code",
   "execution_count": null,
   "metadata": {},
   "outputs": [],
   "source": [
    "def isBST(root,min_range,max_range):\n",
    "    if root==None:\n",
    "        return True\n",
    "    if root.data<min_range or root.data>max_range:\n",
    "        return False\n",
    "    isLeftWithinConstraints =isBST(root.left,min_range,root.data-1)\n",
    "    isRighttWithinConstraints =isBST(root.right,root.data,max_range)\n",
    "    return isLeftWithinConstraints and isRighttWithinConstraints"
   ]
  },
  {
   "cell_type": "code",
   "execution_count": null,
   "metadata": {},
   "outputs": [],
   "source": [
    "def isBST(node):\n",
    "    return (isBSTUtil(node, INT_MIN, INT_MAX))\n",
    " \n",
    "# Retusn true if the given tree is a BST and its values\n",
    "# >= min and <= max\n",
    "def isBSTUtil(node, mini, maxi):\n",
    "     \n",
    "    # An empty tree is BST\n",
    "    if node is None:\n",
    "        return True\n",
    " \n",
    "    # False if this node violates min/max constraint\n",
    "    if node.data < mini or node.data > maxi:\n",
    "        return False\n",
    " \n",
    "    # Otherwise check the subtrees recursively\n",
    "    # tightening the min or max constraint\n",
    "    return (isBSTUtil(node.left, mini, node.data -1) and\n",
    "          isBSTUtil(node.right, node.data+1, maxi))"
   ]
  },
  {
   "cell_type": "markdown",
   "metadata": {},
   "source": [
    "#### ROOT TO NODE PATH IN BINARY TREE"
   ]
  },
  {
   "cell_type": "code",
   "execution_count": null,
   "metadata": {},
   "outputs": [],
   "source": [
    "def nodetoRootPath(root,a)::\n",
    "    if root ==None:\n",
    "        return None\n",
    "    if root.data==a:\n",
    "        l=list()\n",
    "        l.append(root.data)\n",
    "        return l\n",
    "    leftOutput=nodetoRootPath(root.left,a)\n",
    "    if leftOutput !=None:\n",
    "        leftOutput.append(root.data)\n",
    "        return leftOutput \n",
    "    rightOutput=nodetoRootPath(root.right,a)\n",
    "    if rightOutput !=None:\n",
    "        rightOutput.append(root.data)\n",
    "        return rightOutput\n",
    "    else:\n",
    "        return None\n",
    "    "
   ]
  },
  {
   "cell_type": "markdown",
   "metadata": {},
   "source": [
    "## FIND PATH IN BST"
   ]
  },
  {
   "cell_type": "code",
   "execution_count": null,
   "metadata": {},
   "outputs": [],
   "source": [
    "def findPathBST(root,data):\n",
    "    if root==None:\n",
    "        return None\n",
    "    if root.data==a:\n",
    "        l=list()\n",
    "        l.append(root.data)\n",
    "        return l\n",
    "    leftOutput=nodetoRootPath(root.left,a)\n",
    "    if leftOutput !=None:\n",
    "        leftOutput.append(root.data)\n",
    "        return leftOutput \n",
    "    rightOutput=nodetoRootPath(root.right,a)\n",
    "    if rightOutput !=None:\n",
    "        rightOutput.append(root.data)\n",
    "        return rightOutput\n",
    "    else:\n",
    "        return None"
   ]
  },
  {
   "cell_type": "markdown",
   "metadata": {},
   "source": [
    "### Delete in BST VVVVVVVVVVVIIIIIIIIIIIII"
   ]
  },
  {
   "cell_type": "code",
   "execution_count": null,
   "metadata": {},
   "outputs": [],
   "source": [
    "def delete(data):\n",
    "    deleted,newRoot=deleteHelper(root,data)\n",
    "    if deleted:\n",
    "        numNode-+1\n",
    "    root=newRoot\n",
    "    return deleted\n",
    "\n",
    "def deleteHelper(root,data):\n",
    "    if root==None:\n",
    "        return False,None\n",
    "    if root.data<data:\n",
    "        deleted,newRightRoot=deleteHelper(root.right,data)\n",
    "        root.right=newRightNode\n",
    "        return deleted,root\n",
    "    if root.data>data:\n",
    "        deleted,newLeftRoot=deleteHelper(root.left,data)\n",
    "        root.left=newLefttNode\n",
    "        return deleted,root\n",
    "    if root.left ==None and root.right==None:\n",
    "        return True , None\n",
    "    if root.left==None:\n",
    "        return True,root.right\n",
    "    if root.right==None:\n",
    "        return True,root.left\n",
    "\n",
    "    replacement=mini(root.right)\n",
    "    root.data=replacement\n",
    "    deleted,newRightNode=deleteHelper(root.right,replacement)\n",
    "    root.right=newRightNode\n",
    "    return True,root\n",
    "\n",
    "def mini(root):\n",
    "    if root ==None:\n",
    "        return 100000\n",
    "    if root.left==None:\n",
    "        return root.data\n",
    "    return mini(root.left)"
   ]
  },
  {
   "cell_type": "markdown",
   "metadata": {},
   "source": [
    "### min"
   ]
  },
  {
   "cell_type": "code",
   "execution_count": null,
   "metadata": {},
   "outputs": [],
   "source": [
    "def helper(root):\n",
    "    if root==None:\n",
    "        return float('INF')\n",
    "    left=helper(root.left)\n",
    "    if root.data<left:\n",
    "        return root.data\n",
    "    return left\n",
    "\n",
    "\n",
    "\n",
    "def minValue(root):\n",
    "    ##Your code here\n",
    "    return helper(root)"
   ]
  },
  {
   "cell_type": "markdown",
   "metadata": {},
   "source": [
    "### Check for BST \n",
    "Easy Accuracy: 21.58% Submissions: 100k+ Points: 2\n",
    "Given a binary tree. Check whether it is a BST or not.\n",
    "Note: We are considering that BSTs can not contain duplicate Nodes.\n",
    "\n",
    "Example 1:\n",
    "\n",
    "Input:\n",
    "    2\n",
    " /    \\\n",
    "1      3\n",
    "Output: 1 \n",
    "Explanation: \n",
    "The left subtree of root node contains node \n",
    "with key lesser than the root node’s key and \n",
    "the right subtree of root node contains node \n",
    "with key greater than the root node’s key.\n",
    "Hence, the tree is a BST.\n",
    "Example 2:\n",
    "\n",
    "Input:\n",
    "  2\n",
    "   \\\n",
    "    7\n",
    "     \\\n",
    "      6\n",
    "       \\\n",
    "        5\n",
    "         \\\n",
    "          9\n",
    "           \\\n",
    "            2\n",
    "             \\\n",
    "              6\n",
    "Output: 0 \n",
    "Explanation: \n",
    "Since the node with value 7 has right subtree \n",
    "nodes with keys less than 7, this is not a BST.\n",
    "Your Task:\n",
    "You don't need to read input or print anything. Your task is to complete the function isBST() which takes the root of the tree as a parameter and returns true if the given binary tree is BST, else returns false. "
   ]
  },
  {
   "cell_type": "code",
   "execution_count": null,
   "metadata": {},
   "outputs": [],
   "source": [
    "def isBST(node):\n",
    "    return (isBSTUtil(node, INT_MIN, INT_MAX))\n",
    " \n",
    "# Retusn true if the given tree is a BST and its values\n",
    "# >= min and <= max\n",
    "def isBSTUtil(node, mini, maxi):\n",
    "     \n",
    "    # An empty tree is BST\n",
    "    if node is None:\n",
    "        return True\n",
    " \n",
    "    # False if this node violates min/max constraint\n",
    "    if node.data < mini or node.data > maxi:\n",
    "        return False\n",
    " \n",
    "    # Otherwise check the subtrees recursively\n",
    "    # tightening the min or max constraint\n",
    "    return (isBSTUtil(node.left, mini, node.data -1) and\n",
    "          isBSTUtil(node.right, node.data+1, maxi))"
   ]
  },
  {
   "cell_type": "markdown",
   "metadata": {},
   "source": [
    "### Lowest Common Ancestor in a BST \n",
    "Easy Accuracy: 50.22% Submissions: 71855 Points: 2\n",
    "Given a Binary Search Tree (with all values unique) and two node values. Find the Lowest Common Ancestors of the two nodes in the BST.\n",
    "\n",
    "Example 1:\n",
    "\n",
    "Input:\n",
    "              5\n",
    "           /    \\\n",
    "         4       6\n",
    "        /         \\\n",
    "       3           7\n",
    "                    \\\n",
    "                     8\n",
    "n1 = 7, n2 = 8\n",
    "Output: 7\n",
    "Example 2:\n",
    "\n",
    "Input:\n",
    "     2\n",
    "   /   \\\n",
    "  1     3\n",
    "n1 = 1, n2 = 3\n",
    "Output: 2"
   ]
  },
  {
   "cell_type": "code",
   "execution_count": null,
   "metadata": {},
   "outputs": [],
   "source": [
    "def findPath(root,path,k):\n",
    "    if root==None:\n",
    "        return False\n",
    "    path.append(root)\n",
    "    \n",
    "    if root.data==k:\n",
    "        return True\n",
    "    \n",
    "    if ((root.left != None and findPath(root.left, path, k)) or\n",
    "            (root.right!= None and findPath(root.right, path, k))):\n",
    "        return True\n",
    "        \n",
    "    path.pop()\n",
    "    return False\n",
    "    \n",
    "    \n",
    "#Function to find the lowest common ancestor in a BST. \n",
    "def LCA(root, n1, n2):\n",
    "    #code here.\n",
    "    \n",
    "    path1=[]\n",
    "    path2=[]\n",
    "    \n",
    "    if (not findPath(root, path1, n1) or not findPath(root, path2, n2)):\n",
    "        return -1\n",
    "        \n",
    "    i=1\n",
    "    \n",
    "    while i<len(path1) and i<len(path2):\n",
    "        if path1[i]!=path2[i]:\n",
    "            break\n",
    "        i+=1\n",
    "    return path1[i-1]"
   ]
  },
  {
   "cell_type": "markdown",
   "metadata": {},
   "source": [
    "### Construct BST from given preorder traversal "
   ]
  },
  {
   "cell_type": "code",
   "execution_count": null,
   "metadata": {},
   "outputs": [],
   "source": [
    "def getPreIndex():\n",
    "    return constructTreeUtil.preIndex\n",
    " \n",
    "# Function to increment the value of static variable\n",
    "# constructTreeUtil.preIndex\n",
    " \n",
    " \n",
    "def incrementPreIndex():\n",
    "    constructTreeUtil.preIndex += 1\n",
    " \n",
    "# A recurseive function to construct Full from pre[].\n",
    "# preIndex is used to keep track of index in pre[[].\n",
    " \n",
    " \n",
    "def constructTreeUtil(pre, low, high):\n",
    " \n",
    "        # Base Case\n",
    "    if(low > high):\n",
    "        return None\n",
    " \n",
    "    # The first node in preorder traversal is root. So take\n",
    "    # the node at preIndex from pre[] and make it root,\n",
    "    # and increment preIndex\n",
    "    root = Node(pre[getPreIndex()])\n",
    "    incrementPreIndex()\n",
    " \n",
    "    # If the current subarray has onlye one element,\n",
    "    # no need to recur\n",
    "    if low == high:\n",
    "        return root\n",
    " \n",
    "    r_root = -1\n",
    " \n",
    "    # Search for the first element greater than root\n",
    "    for i in range(low, high+1):\n",
    "        if (pre[i] > root.data):\n",
    "            r_root = i\n",
    "            break\n",
    " \n",
    "    # If no elements are greater than the current root,\n",
    "    # all elements are left children\n",
    "    # so assign root appropriately\n",
    "    if r_root == -1:\n",
    "        r_root = getPreIndex() + (high - low)\n",
    " \n",
    "    # Use the index of element found in preorder to divide\n",
    "    # preorder array in two parts. Left subtree and right\n",
    "    # subtree\n",
    "    root.left = constructTreeUtil(pre, getPreIndex(), r_root-1)\n",
    " \n",
    "    root.right = constructTreeUtil(pre, r_root, high)\n",
    " \n",
    "    return root\n",
    " \n",
    "# The main function to construct BST from given preorder\n",
    "# traversal. This function mailny uses constructTreeUtil()\n",
    " \n",
    " \n",
    "def constructTree(pre):\n",
    "    size = len(pre)\n",
    "    constructTreeUtil.preIndex = 0\n",
    "    return constructTreeUtil(pre, 0, size-1)"
   ]
  },
  {
   "cell_type": "code",
   "execution_count": null,
   "metadata": {},
   "outputs": [],
   "source": []
  },
  {
   "cell_type": "code",
   "execution_count": null,
   "metadata": {},
   "outputs": [],
   "source": []
  },
  {
   "cell_type": "code",
   "execution_count": null,
   "metadata": {},
   "outputs": [],
   "source": []
  },
  {
   "cell_type": "code",
   "execution_count": null,
   "metadata": {},
   "outputs": [],
   "source": []
  },
  {
   "cell_type": "code",
   "execution_count": null,
   "metadata": {},
   "outputs": [],
   "source": []
  },
  {
   "cell_type": "code",
   "execution_count": null,
   "metadata": {},
   "outputs": [],
   "source": []
  },
  {
   "cell_type": "code",
   "execution_count": null,
   "metadata": {},
   "outputs": [],
   "source": []
  },
  {
   "cell_type": "code",
   "execution_count": null,
   "metadata": {},
   "outputs": [],
   "source": []
  },
  {
   "cell_type": "code",
   "execution_count": null,
   "metadata": {},
   "outputs": [],
   "source": []
  },
  {
   "cell_type": "code",
   "execution_count": null,
   "metadata": {},
   "outputs": [],
   "source": []
  },
  {
   "cell_type": "code",
   "execution_count": null,
   "metadata": {},
   "outputs": [],
   "source": []
  },
  {
   "cell_type": "code",
   "execution_count": null,
   "metadata": {},
   "outputs": [],
   "source": []
  },
  {
   "cell_type": "code",
   "execution_count": null,
   "metadata": {},
   "outputs": [],
   "source": []
  },
  {
   "cell_type": "code",
   "execution_count": null,
   "metadata": {},
   "outputs": [],
   "source": []
  },
  {
   "cell_type": "code",
   "execution_count": null,
   "metadata": {},
   "outputs": [],
   "source": []
  },
  {
   "cell_type": "code",
   "execution_count": null,
   "metadata": {},
   "outputs": [],
   "source": []
  },
  {
   "cell_type": "code",
   "execution_count": null,
   "metadata": {},
   "outputs": [],
   "source": []
  }
 ],
 "metadata": {
  "kernelspec": {
   "display_name": "Python 3",
   "language": "python",
   "name": "python3"
  },
  "language_info": {
   "codemirror_mode": {
    "name": "ipython",
    "version": 3
   },
   "file_extension": ".py",
   "mimetype": "text/x-python",
   "name": "python",
   "nbconvert_exporter": "python",
   "pygments_lexer": "ipython3",
   "version": "3.8.5"
  }
 },
 "nbformat": 4,
 "nbformat_minor": 4
}
