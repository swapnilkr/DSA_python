{
 "cells": [
  {
   "cell_type": "markdown",
   "metadata": {},
   "source": [
    "### search a node in bst"
   ]
  },
  {
   "cell_type": "code",
   "execution_count": null,
   "metadata": {},
   "outputs": [],
   "source": [
    "def searchInBST(root, k):\n",
    "    if root is None:\n",
    "        return None\n",
    "    if root.data==k:\n",
    "        return root\n",
    "    elif root.data>k:\n",
    "        searchInBST(root.left,k)\n",
    "    else:\n",
    "        searchInBST(root.right,k)"
   ]
  },
  {
   "cell_type": "markdown",
   "metadata": {},
   "source": [
    "### PRINT ELEMENTS IN RANGE K1 & K2"
   ]
  },
  {
   "cell_type": "code",
   "execution_count": null,
   "metadata": {},
   "outputs": [],
   "source": [
    "def elementsInRangeK1K2(root, k1, k2):\n",
    "    if root==None:\n",
    "        return None\n",
    "    if root.data >k2:\n",
    "        elementsInRangeK1K2(root.left, k1, k2)\n",
    "    elif root.data<k1:\n",
    "        elementsInRangeK1K2(root.right, k1, k2)\n",
    "    else:\n",
    "        print(root.data,end=\" \")\n",
    "        elementsInRangeK1K2(root.left, k1, k2)\n",
    "        elementsInRangeK1K2(root.right, k1, k2)\n",
    "    pass"
   ]
  },
  {
   "cell_type": "markdown",
   "metadata": {},
   "source": [
    "### Sorted array into BST"
   ]
  },
  {
   "cell_type": "code",
   "execution_count": null,
   "metadata": {},
   "outputs": [],
   "source": [
    "def constructBST(list):\n",
    "    if not list:\n",
    "        return None\n",
    "    \n",
    "    mid = (len(list))//2\n",
    "    if len(list) %2==0:\n",
    "        mid=mid -1\n",
    "    root = BinaryTreeNode(list[mid])\n",
    "    root.left = constructBST(list[:mid])\n",
    "    root.right = constructBST(list[mid+1:])\n",
    "    \n",
    "    return root"
   ]
  },
  {
   "cell_type": "markdown",
   "metadata": {},
   "source": [
    "### is check BST"
   ]
  },
  {
   "cell_type": "code",
   "execution_count": null,
   "metadata": {},
   "outputs": [],
   "source": [
    "def maxTree(root):\n",
    "    if root==None:\n",
    "        return -100000\n",
    "    leftMax=maxTree(root.left)\n",
    "    rightMax=maxTree(root.right)\n",
    "    return min(leftMax,rightMax,root.data)\n",
    "\n",
    "def minTree(root):\n",
    "    if root==None:\n",
    "        return 100000\n",
    "    leftMin=minTree(root.left)\n",
    "    rightMin=minTree(root.right)\n",
    "    return min(leftMin,rightMin,root.data)\n",
    "\n",
    "\n",
    "def isBST(root):\n",
    "    if root==None:\n",
    "        return True\n",
    "    leftMax=maxTree(root.left)\n",
    "    rightMin=minTree(root.right)\n",
    "    if root.data>rightMin or root.data<=leftMax:\n",
    "        return False\n",
    "    isLeftBST=isBST(root.left)\n",
    "    isRightBST=isBST(root.right)\n",
    "\n",
    "    return isLeftBST and isRightBST"
   ]
  },
  {
   "cell_type": "markdown",
   "metadata": {},
   "source": [
    "### improved"
   ]
  },
  {
   "cell_type": "code",
   "execution_count": null,
   "metadata": {},
   "outputs": [],
   "source": [
    "def isBST(root):\n",
    "    if root ==None:\n",
    "        return 100000,-100000,True\n",
    "    leftMin,leftMax,isLeftBST=isBST(root.left)\n",
    "    rightMin,rightMax,isRightBST=isBST(root.right)\n",
    "    minimum=min(leftMin,rightMin,root.data)\n",
    "    maximum=max(rightMax,leftMax,root.data)\n",
    "    isTreeBST=True\n",
    "    if root.data<=leftMax or root.data>rightMin:\n",
    "        isTreeBST=False\n",
    "    if not (isLeftBST) or not(isRightBST):\n",
    "        return False\n",
    "    return minimum,maximum,isTreeBST"
   ]
  },
  {
   "cell_type": "markdown",
   "metadata": {},
   "source": [
    "### Best"
   ]
  },
  {
   "cell_type": "code",
   "execution_count": null,
   "metadata": {},
   "outputs": [],
   "source": [
    "def isBST(root,min_range,max_range):\n",
    "    if root==None:\n",
    "        return True\n",
    "    if root.data<min_range or root.data>max_range:\n",
    "        return False\n",
    "    isLeftWithinConstraints =isBST(root.left,min_range,root.data-1)\n",
    "    isRighttWithinConstraints =isBST(root.right,root.data,max_range)\n",
    "    return isLeftWithinConstraints and isRighttWithinConstraints"
   ]
  },
  {
   "cell_type": "markdown",
   "metadata": {},
   "source": [
    "#### ROOT TO NODE PATH IN BINARY TREE"
   ]
  },
  {
   "cell_type": "code",
   "execution_count": null,
   "metadata": {},
   "outputs": [],
   "source": [
    "def nodetoRootPath(root,a)::\n",
    "    if root ==None:\n",
    "        return None\n",
    "    if root.data==a:\n",
    "        l=list()\n",
    "        l.append(root.data)\n",
    "        return l\n",
    "    leftOutput=nodetoRootPath(root.left,a)\n",
    "    if leftOutput !=None:\n",
    "        leftOutput.append(root.data)\n",
    "        return leftOutput \n",
    "    rightOutput=nodetoRootPath(root.right,a)\n",
    "    if rightOutput !=None:\n",
    "        rightOutput.append(root.data)\n",
    "        return rightOutput\n",
    "    else:\n",
    "        return None\n",
    "    "
   ]
  },
  {
   "cell_type": "markdown",
   "metadata": {},
   "source": [
    "## FIND PATH IN BST"
   ]
  },
  {
   "cell_type": "code",
   "execution_count": null,
   "metadata": {},
   "outputs": [],
   "source": [
    "def findPathBST(root,data):\n",
    "    if root==None:\n",
    "        return None\n",
    "    if root.data==a:\n",
    "        l=list()\n",
    "        l.append(root.data)\n",
    "        return l\n",
    "    leftOutput=nodetoRootPath(root.left,a)\n",
    "    if leftOutput !=None:\n",
    "        leftOutput.append(root.data)\n",
    "        return leftOutput \n",
    "    rightOutput=nodetoRootPath(root.right,a)\n",
    "    if rightOutput !=None:\n",
    "        rightOutput.append(root.data)\n",
    "        return rightOutput\n",
    "    else:\n",
    "        return None"
   ]
  },
  {
   "cell_type": "markdown",
   "metadata": {},
   "source": [
    "### Delete in BST VVVVVVVVVVVIIIIIIIIIIIII"
   ]
  },
  {
   "cell_type": "code",
   "execution_count": null,
   "metadata": {},
   "outputs": [],
   "source": [
    "def delete(data):\n",
    "    deleted,newRoot=deleteHelper(root,data)\n",
    "    if deleted:\n",
    "        numNode-+1\n",
    "    root=newRoot\n",
    "    return deleted\n",
    "\n",
    "def deleteHelper(root,data):\n",
    "    if root==None:\n",
    "        return False,None\n",
    "    if root.data<data:\n",
    "        deleted,newRightRoot=deleteHelper(root.right,data)\n",
    "        root.right=newRightNode\n",
    "        return deleted,root\n",
    "    if root.data>data:\n",
    "        deleted,newLeftRoot=deleteHelper(root.left,data)\n",
    "        root.left=newLefttNode\n",
    "        return deleted,root\n",
    "    if root.left ==None and root.right==None:\n",
    "        return True , None\n",
    "    if root.left==None:\n",
    "        return True,root.right\n",
    "    if root.right==None:\n",
    "        return True,root.left\n",
    "\n",
    "    replacement=mini(root.right)\n",
    "    root.data=replacement\n",
    "    deleted,newRightNode=deleteHelper(root.right,replacement)\n",
    "    root.right=newRightNode\n",
    "    return True,root\n",
    "\n",
    "def mini(root):\n",
    "    if root ==None:\n",
    "        return 100000\n",
    "    if root.left==None:\n",
    "        return root.data\n",
    "    return mini(root.left)"
   ]
  },
  {
   "cell_type": "markdown",
   "metadata": {},
   "source": [
    "### min"
   ]
  },
  {
   "cell_type": "code",
   "execution_count": null,
   "metadata": {},
   "outputs": [],
   "source": [
    "def helper(root):\n",
    "    if root==None:\n",
    "        return float('INF')\n",
    "    left=helper(root.left)\n",
    "    if root.data<left:\n",
    "        return root.data\n",
    "    return left\n",
    "\n",
    "\n",
    "\n",
    "def minValue(root):\n",
    "    ##Your code here\n",
    "    return helper(root)"
   ]
  },
  {
   "cell_type": "markdown",
   "metadata": {},
   "source": [
    "### Predecessor and Successor \n",
    "Easy Accuracy: 46.01% Submissions: 30375 Points: 2\n",
    "There is BST given with root node with key part as integer only. You need to find the inorder successor and predecessor of a given key. In case, if the either of predecessor or successor is not found print -1.\n",
    "\n",
    "Input:\n",
    "The first line of input contains an integer T denoting the number of test cases. Then T test cases follow. Each test case contains n denoting the number of edges of the BST. The next line contains the edges of the BST. The last line contains the key.\n",
    "\n",
    "Output:\n",
    "Print the predecessor followed by successor for the given key. If the predecessor or successor is not found print -1.\n",
    "\n",
    "Constraints:\n",
    "1<=T<=100\n",
    "1<=n<=100\n",
    "1<=data of node<=100\n",
    "1<=key<=100\n",
    "\n",
    "Example:\n",
    "Input:\n",
    "2\n",
    "6\n",
    "50 30 L 30 20 L 30 40 R 50 70 R 70 60 L 70 80 R\n",
    "65\n",
    "6\n",
    "50 30 L 30 20 L 30 40 R 50 70 R 70 60 L 70 80 R\n",
    "100\n",
    "\n",
    "Output:\n",
    "60 70\n",
    "80 -1"
   ]
  },
  {
   "cell_type": "code",
   "execution_count": null,
   "metadata": {},
   "outputs": [],
   "source": []
  },
  {
   "cell_type": "code",
   "execution_count": null,
   "metadata": {},
   "outputs": [],
   "source": []
  },
  {
   "cell_type": "code",
   "execution_count": null,
   "metadata": {},
   "outputs": [],
   "source": []
  },
  {
   "cell_type": "code",
   "execution_count": null,
   "metadata": {},
   "outputs": [],
   "source": []
  },
  {
   "cell_type": "code",
   "execution_count": null,
   "metadata": {},
   "outputs": [],
   "source": []
  },
  {
   "cell_type": "code",
   "execution_count": null,
   "metadata": {},
   "outputs": [],
   "source": []
  },
  {
   "cell_type": "code",
   "execution_count": null,
   "metadata": {},
   "outputs": [],
   "source": []
  },
  {
   "cell_type": "code",
   "execution_count": null,
   "metadata": {},
   "outputs": [],
   "source": []
  },
  {
   "cell_type": "code",
   "execution_count": null,
   "metadata": {},
   "outputs": [],
   "source": []
  },
  {
   "cell_type": "code",
   "execution_count": null,
   "metadata": {},
   "outputs": [],
   "source": []
  },
  {
   "cell_type": "code",
   "execution_count": null,
   "metadata": {},
   "outputs": [],
   "source": []
  },
  {
   "cell_type": "code",
   "execution_count": null,
   "metadata": {},
   "outputs": [],
   "source": []
  },
  {
   "cell_type": "code",
   "execution_count": null,
   "metadata": {},
   "outputs": [],
   "source": []
  },
  {
   "cell_type": "code",
   "execution_count": null,
   "metadata": {},
   "outputs": [],
   "source": []
  },
  {
   "cell_type": "code",
   "execution_count": null,
   "metadata": {},
   "outputs": [],
   "source": []
  },
  {
   "cell_type": "code",
   "execution_count": null,
   "metadata": {},
   "outputs": [],
   "source": []
  },
  {
   "cell_type": "code",
   "execution_count": null,
   "metadata": {},
   "outputs": [],
   "source": []
  },
  {
   "cell_type": "code",
   "execution_count": null,
   "metadata": {},
   "outputs": [],
   "source": []
  },
  {
   "cell_type": "code",
   "execution_count": null,
   "metadata": {},
   "outputs": [],
   "source": []
  },
  {
   "cell_type": "code",
   "execution_count": null,
   "metadata": {},
   "outputs": [],
   "source": []
  },
  {
   "cell_type": "code",
   "execution_count": null,
   "metadata": {},
   "outputs": [],
   "source": []
  },
  {
   "cell_type": "code",
   "execution_count": null,
   "metadata": {},
   "outputs": [],
   "source": []
  }
 ],
 "metadata": {
  "kernelspec": {
   "display_name": "Python 3",
   "language": "python",
   "name": "python3"
  },
  "language_info": {
   "codemirror_mode": {
    "name": "ipython",
    "version": 3
   },
   "file_extension": ".py",
   "mimetype": "text/x-python",
   "name": "python",
   "nbconvert_exporter": "python",
   "pygments_lexer": "ipython3",
   "version": "3.8.5"
  }
 },
 "nbformat": 4,
 "nbformat_minor": 4
}
