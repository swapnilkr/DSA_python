{
 "cells": [
  {
   "cell_type": "markdown",
   "metadata": {},
   "source": [
    "### search a node in bst"
   ]
  },
  {
   "cell_type": "code",
   "execution_count": null,
   "metadata": {},
   "outputs": [],
   "source": [
    "def searchInBST(root, k):\n",
    "    if root is None:\n",
    "        return None\n",
    "    if root.data==k:\n",
    "        return root\n",
    "    elif root.data>k:\n",
    "        searchInBST(root.left,k)\n",
    "    else:\n",
    "        searchInBST(root.right,k)"
   ]
  },
  {
   "cell_type": "markdown",
   "metadata": {},
   "source": [
    "### PRINT ELEMENTS IN RANGE K1 & K2"
   ]
  },
  {
   "cell_type": "code",
   "execution_count": null,
   "metadata": {},
   "outputs": [],
   "source": [
    "def elementsInRangeK1K2(root, k1, k2):\n",
    "    if root==None:\n",
    "        return None\n",
    "    if root.data >k2:\n",
    "        elementsInRangeK1K2(root.left, k1, k2)\n",
    "    elif root.data<k1:\n",
    "        elementsInRangeK1K2(root.right, k1, k2)\n",
    "    else:\n",
    "        print(root.data,end=\" \")\n",
    "        elementsInRangeK1K2(root.left, k1, k2)\n",
    "        elementsInRangeK1K2(root.right, k1, k2)\n",
    "    pass"
   ]
  },
  {
   "cell_type": "markdown",
   "metadata": {},
   "source": [
    "### Sorted array into BST"
   ]
  },
  {
   "cell_type": "code",
   "execution_count": null,
   "metadata": {},
   "outputs": [],
   "source": [
    "def constructBST(list):\n",
    "    if not list:\n",
    "        return None\n",
    "    \n",
    "    mid = (len(list))//2\n",
    "    if len(list) %2==0:\n",
    "        mid=mid -1\n",
    "    root = BinaryTreeNode(list[mid])\n",
    "    root.left = constructBST(list[:mid])\n",
    "    root.right = constructBST(list[mid+1:])\n",
    "    \n",
    "    return root"
   ]
  },
  {
   "cell_type": "markdown",
   "metadata": {},
   "source": [
    "### is check BST"
   ]
  },
  {
   "cell_type": "code",
   "execution_count": null,
   "metadata": {},
   "outputs": [],
   "source": [
    "def maxTree(root):\n",
    "    if root==None:\n",
    "        return -100000\n",
    "    leftMax=maxTree(root.left)\n",
    "    rightMax=maxTree(root.right)\n",
    "    return min(leftMax,rightMax,root.data)\n",
    "\n",
    "def minTree(root):\n",
    "    if root==None:\n",
    "        return 100000\n",
    "    leftMin=minTree(root.left)\n",
    "    rightMin=minTree(root.right)\n",
    "    return min(leftMin,rightMin,root.data)\n",
    "\n",
    "\n",
    "def isBST(root):\n",
    "    if root==None:\n",
    "        return True\n",
    "    leftMax=maxTree(root.left)\n",
    "    rightMin=minTree(root.right)\n",
    "    if root.data>rightMin or root.data<=leftMax:\n",
    "        return False\n",
    "    isLeftBST=isBST(root.left)\n",
    "    isRightBST=isBST(root.right)\n",
    "\n",
    "    return isLeftBST and isRightBST"
   ]
  },
  {
   "cell_type": "markdown",
   "metadata": {},
   "source": [
    "### improved"
   ]
  },
  {
   "cell_type": "code",
   "execution_count": null,
   "metadata": {},
   "outputs": [],
   "source": [
    "def isBST(root):\n",
    "    if root ==None:\n",
    "        return 100000,-100000,True\n",
    "    leftMin,leftMax,isLeftBST=isBST(root.left)\n",
    "    rightMin,rightMax,isRightBST=isBST(root.right)\n",
    "    minimum=min(leftMin,rightMin,root.data)\n",
    "    maximum=max(rightMax,leftMax,root.data)\n",
    "    isTreeBST=True\n",
    "    if root.data<=leftMax or root.data>rightMin:\n",
    "        isTreeBST=False\n",
    "    if not (isLeftBST) or not(isRightBST):\n",
    "        return False\n",
    "    return minimum,maximum,isTreeBST"
   ]
  },
  {
   "cell_type": "markdown",
   "metadata": {},
   "source": [
    "### Best"
   ]
  },
  {
   "cell_type": "code",
   "execution_count": null,
   "metadata": {},
   "outputs": [],
   "source": [
    "def isBST(root,min_range,max_range):\n",
    "    if root==None:\n",
    "        return True\n",
    "    if root.data<min_range or root.data>max_range:\n",
    "        return False\n",
    "    isLeftWithinConstraints =isBST(root.left,min_range,root.data-1)\n",
    "    isRighttWithinConstraints =isBST(root.right,root.data,max_range)\n",
    "    return isLeftWithinConstraints and isRighttWithinConstraints"
   ]
  },
  {
   "cell_type": "code",
   "execution_count": null,
   "metadata": {},
   "outputs": [],
   "source": []
  },
  {
   "cell_type": "code",
   "execution_count": null,
   "metadata": {},
   "outputs": [],
   "source": []
  },
  {
   "cell_type": "code",
   "execution_count": null,
   "metadata": {},
   "outputs": [],
   "source": []
  },
  {
   "cell_type": "code",
   "execution_count": null,
   "metadata": {},
   "outputs": [],
   "source": []
  },
  {
   "cell_type": "code",
   "execution_count": null,
   "metadata": {},
   "outputs": [],
   "source": []
  },
  {
   "cell_type": "code",
   "execution_count": null,
   "metadata": {},
   "outputs": [],
   "source": []
  },
  {
   "cell_type": "code",
   "execution_count": null,
   "metadata": {},
   "outputs": [],
   "source": []
  },
  {
   "cell_type": "code",
   "execution_count": null,
   "metadata": {},
   "outputs": [],
   "source": []
  },
  {
   "cell_type": "code",
   "execution_count": null,
   "metadata": {},
   "outputs": [],
   "source": []
  },
  {
   "cell_type": "code",
   "execution_count": null,
   "metadata": {},
   "outputs": [],
   "source": []
  },
  {
   "cell_type": "code",
   "execution_count": null,
   "metadata": {},
   "outputs": [],
   "source": []
  },
  {
   "cell_type": "code",
   "execution_count": null,
   "metadata": {},
   "outputs": [],
   "source": []
  },
  {
   "cell_type": "code",
   "execution_count": null,
   "metadata": {},
   "outputs": [],
   "source": []
  },
  {
   "cell_type": "code",
   "execution_count": null,
   "metadata": {},
   "outputs": [],
   "source": []
  },
  {
   "cell_type": "code",
   "execution_count": null,
   "metadata": {},
   "outputs": [],
   "source": []
  },
  {
   "cell_type": "code",
   "execution_count": null,
   "metadata": {},
   "outputs": [],
   "source": []
  },
  {
   "cell_type": "code",
   "execution_count": null,
   "metadata": {},
   "outputs": [],
   "source": []
  },
  {
   "cell_type": "code",
   "execution_count": null,
   "metadata": {},
   "outputs": [],
   "source": []
  },
  {
   "cell_type": "code",
   "execution_count": null,
   "metadata": {},
   "outputs": [],
   "source": []
  },
  {
   "cell_type": "code",
   "execution_count": null,
   "metadata": {},
   "outputs": [],
   "source": []
  },
  {
   "cell_type": "code",
   "execution_count": null,
   "metadata": {},
   "outputs": [],
   "source": []
  },
  {
   "cell_type": "code",
   "execution_count": null,
   "metadata": {},
   "outputs": [],
   "source": []
  },
  {
   "cell_type": "code",
   "execution_count": null,
   "metadata": {},
   "outputs": [],
   "source": []
  },
  {
   "cell_type": "code",
   "execution_count": null,
   "metadata": {},
   "outputs": [],
   "source": []
  },
  {
   "cell_type": "code",
   "execution_count": null,
   "metadata": {},
   "outputs": [],
   "source": []
  },
  {
   "cell_type": "code",
   "execution_count": null,
   "metadata": {},
   "outputs": [],
   "source": []
  },
  {
   "cell_type": "code",
   "execution_count": null,
   "metadata": {},
   "outputs": [],
   "source": []
  },
  {
   "cell_type": "code",
   "execution_count": null,
   "metadata": {},
   "outputs": [],
   "source": []
  },
  {
   "cell_type": "code",
   "execution_count": null,
   "metadata": {},
   "outputs": [],
   "source": []
  },
  {
   "cell_type": "code",
   "execution_count": null,
   "metadata": {},
   "outputs": [],
   "source": []
  },
  {
   "cell_type": "code",
   "execution_count": null,
   "metadata": {},
   "outputs": [],
   "source": []
  }
 ],
 "metadata": {
  "kernelspec": {
   "display_name": "Python 3",
   "language": "python",
   "name": "python3"
  },
  "language_info": {
   "codemirror_mode": {
    "name": "ipython",
    "version": 3
   },
   "file_extension": ".py",
   "mimetype": "text/x-python",
   "name": "python",
   "nbconvert_exporter": "python",
   "pygments_lexer": "ipython3",
   "version": "3.8.5"
  }
 },
 "nbformat": 4,
 "nbformat_minor": 4
}
