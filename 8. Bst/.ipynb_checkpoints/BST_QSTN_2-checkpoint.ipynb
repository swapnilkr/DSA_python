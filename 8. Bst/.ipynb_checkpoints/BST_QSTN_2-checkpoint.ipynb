{
 "cells": [
  {
   "cell_type": "markdown",
   "metadata": {},
   "source": [
    "# Min swap to sort array"
   ]
  },
  {
   "cell_type": "code",
   "execution_count": null,
   "metadata": {},
   "outputs": [],
   "source": [
    "def minSwaps(arr, N):\n",
    "     \n",
    "    ans = 0\n",
    "    temp = arr.copy()\n",
    "    temp.sort()\n",
    "    for i in range(N):\n",
    "       \n",
    "        # This is checking whether\n",
    "        # the current element is\n",
    "        # at the right place or not\n",
    "        if (arr[i] != temp[i]):\n",
    "            ans += 1\n",
    " \n",
    "            # Swap the current element\n",
    "            # with the right index\n",
    "            # so that arr[0] to arr[i]\n",
    "            # is sorted\n",
    "            swap(arr, i,\n",
    "                 indexOf(arr, temp[i]))\n",
    "   \n",
    "    return ans\n",
    "   \n",
    "def swap(arr, i, j):\n",
    "     \n",
    "    temp = arr[i]\n",
    "    arr[i] = arr[j]\n",
    "    arr[j] = temp\n",
    "     \n",
    "def indexOf(arr, ele):\n",
    "    \n",
    "    for i in range(len(arr)):       \n",
    "        if (arr[i] == ele):\n",
    "                return i\n",
    "    return -1"
   ]
  },
  {
   "cell_type": "code",
   "execution_count": null,
   "metadata": {},
   "outputs": [],
   "source": [
    "def minSwap(arr, n):\n",
    "     \n",
    "    ans = 0\n",
    "    temp = arr.copy()\n",
    " \n",
    "    # Dictionary which stores the\n",
    "      # indexes of the input array\n",
    "    h = {}\n",
    " \n",
    "    temp.sort()\n",
    " \n",
    "    for i in range(n):\n",
    "         \n",
    "        #h.[arr[i]\n",
    "        h[arr[i]] = i\n",
    "         \n",
    "    init = 0\n",
    "     \n",
    "    for i in range(n):\n",
    " \n",
    "        # This is checking whether\n",
    "        # the current element is\n",
    "        # at the right place or not\n",
    "        if (arr[i] != temp[i]):\n",
    "            ans += 1\n",
    "            init = arr[i]\n",
    " \n",
    "            # If not, swap this element\n",
    "              # with the index of the\n",
    "              # element which should come here\n",
    "            arr[i], arr[h[temp[i]]] = arr[h[temp[i]]], arr[i]\n",
    " \n",
    "            # Update the indexes in\n",
    "              # the hashmap accordingly\n",
    "            h[init] = h[temp[i]]\n",
    "            h[temp[i]] = i\n",
    "             \n",
    "    return ans"
   ]
  },
  {
   "cell_type": "code",
   "execution_count": null,
   "metadata": {},
   "outputs": [],
   "source": []
  },
  {
   "cell_type": "markdown",
   "metadata": {},
   "source": [
    "## Minimum swap required to convert binary tree to binary search tree\n",
    "\n",
    "Given the array representation of Complete Binary Tree i.e, if index i is the parent, index 2*i + 1 is the left child and index 2*i + 2 is the right child. The task is to find the minimum number of swap required to convert it into Binary Search Tree.\n",
    "\n",
    "Examples:  \n",
    "\n",
    "Input : arr[] = { 5, 6, 7, 8, 9, 10, 11 }\n",
    "Output : 3\n",
    "Binary tree of the given array:\n",
    "dig11\n",
    "\n",
    "Swap 1: Swap node 8 with node 5.\n",
    "Swap 2: Swap node 9 with node 10.\n",
    "Swap 3: Swap node 10 with node 7.\n",
    "dig21\n",
    "\n",
    "So, minimum 3 swaps are required.\n",
    "\n",
    "\n",
    "Input : arr[] = { 1, 2, 3 }\n",
    "Output : 1\n",
    "Binary tree of the given array:\n",
    "dig3\n",
    "\n",
    "\n",
    "\n",
    "\n",
    "After swapping node 1 with node 2.\n",
    "dig41\n",
    "\n",
    "So, only 1 swap required."
   ]
  },
  {
   "cell_type": "markdown",
   "metadata": {},
   "source": [
    "## The idea is to use the fact that inorder traversal of Binary Search Tree is in increasing order of their value. \n",
    "So, find the inorder traversal of the Binary Tree and store it in the array and try to sort the array. The minimum number of swap required to get the array sorted will be the answer."
   ]
  },
  {
   "cell_type": "code",
   "execution_count": null,
   "metadata": {},
   "outputs": [],
   "source": [
    "def inorder(a, n, index):\n",
    "     \n",
    "    global v\n",
    "     \n",
    "    # If index is greater or equal to\n",
    "    # vector size\n",
    "    if (index >= n):\n",
    "        return\n",
    "     \n",
    "    inorder(a, n, 2 * index + 1)\n",
    " \n",
    "    # Push elements in vector\n",
    "    v.append(a[index])\n",
    "    inorder(a, n, 2 * index + 2)\n",
    " \n",
    "# Function to find minimum swaps\n",
    "# to sort an array\n",
    "def minSwaps():\n",
    "     \n",
    "    global v\n",
    "    t = [[0, 0] for i in range(len(v))]\n",
    "    ans = -2\n",
    " \n",
    "    for i in range(len(v)):\n",
    "        t[i][0], t[i][1] = v[i], i\n",
    " \n",
    "    t, i = sorted(t), 0\n",
    " \n",
    "    while i < len(t):\n",
    "         \n",
    "        # break\n",
    "        # second element is equal to i\n",
    "        if (i == t[i][1]):\n",
    "            i += 1\n",
    "            continue\n",
    "        else:\n",
    "             \n",
    "            # Swaping of elements\n",
    "            t[i][0], t[t[i][1]][0] = t[t[i][1]][0], t[i][0]\n",
    "            t[i][1], t[t[i][1]][1] = t[t[i][1]][1], t[i][1]\n",
    " \n",
    "        # Second is not equal to i\n",
    "        if (i == t[i][1]):\n",
    "            i -= 1\n",
    " \n",
    "        i += 1\n",
    " \n",
    "        ans += 1\n",
    " \n",
    "    return ans"
   ]
  },
  {
   "cell_type": "markdown",
   "metadata": {},
   "source": [
    "## Binary Tree to Binary Search Tree Conversion\n",
    "\n",
    "\n",
    "Given a Binary Tree, convert it to a Binary Search Tree. The conversion must be done in such a way that keeps the original structure of Binary Tree. \n",
    "\n",
    "Examples\n",
    "\n",
    "Example 1\n",
    "Input:\n",
    "          10\n",
    "         /  \\\n",
    "        2    7\n",
    "       / \\\n",
    "      8   4\n",
    "Output:\n",
    "          8\n",
    "         /  \\\n",
    "        4    10\n",
    "       / \\\n",
    "      2   7\n",
    "\n",
    "\n",
    "Example 2\n",
    "Input:\n",
    "          10\n",
    "         /  \\\n",
    "        30   15\n",
    "       /      \\\n",
    "      20       5\n",
    "Output:\n",
    "          15\n",
    "         /  \\\n",
    "       10    20\n",
    "       /      \\\n",
    "      5        30"
   ]
  },
  {
   "cell_type": "markdown",
   "metadata": {},
   "source": [
    "# Solution\n",
    "\n",
    "Following is a 3 step solution for converting Binary tree to Binary Search Tree.\n",
    "\n",
    "1) Create a temp array arr[] that stores inorder traversal of the tree. This step takes O(n) time.\n",
    "\n",
    "\n",
    "\n",
    "\n",
    "2) Sort the temp array arr[]. Time complexity of this step depends upon the sorting algorithm. In the following implementation, Quick Sort is used which takes (n^2) time. This can be done in O(nLogn) time using Heap Sort or Merge Sort.\n",
    "\n",
    "3) <b>Again do inorder traversal</b> of tree and copy array elements to tree nodes one by one. This step takes O(n) time.\n",
    "\n"
   ]
  },
  {
   "cell_type": "code",
   "execution_count": null,
   "metadata": {},
   "outputs": [],
   "source": [
    "# This function converts a given binary tree to BST\n",
    "def binaryTreeToBST(root):\n",
    "     \n",
    "    # Base Case: Tree is empty\n",
    "    if root is None:\n",
    "        return\n",
    "     \n",
    "    # Count the number of nodes in Binary Tree so that\n",
    "    # we know the size of temporary array to be created\n",
    "    n = countNodes(root)\n",
    " \n",
    "    # Create the temp array and store the inorder traversal\n",
    "    # of tree\n",
    "    arr = []\n",
    "    storeInorder(root, arr)\n",
    "     \n",
    "    # Sort the array\n",
    "    arr.sort()\n",
    " \n",
    "    # copy array elements back to binary tree\n",
    "    arrayToBST(arr, root)\n",
    "    \n",
    "    \n",
    "# A helper funtion to count nodes in a binary tree\n",
    "def countNodes(root):\n",
    "    if root is None:\n",
    "        return 0\n",
    " \n",
    "    return countNodes(root.left) + countNodes(root.right) + 1    \n",
    "\n",
    "\n",
    "\n",
    "\n",
    "def storeInorder(root, inorder):\n",
    "     \n",
    "    # Base Case\n",
    "    if root is None:\n",
    "        return\n",
    "     \n",
    "    # First store the left subtree\n",
    "    storeInorder(root.left, inorder)\n",
    "     \n",
    "    # Copy the root's data\n",
    "    inorder.append(root.data)\n",
    " \n",
    "    # Finally store the right subtree\n",
    "    storeInorder(root.right, inorder)\n",
    " \n",
    "\n",
    "\n",
    "\n",
    " \n",
    "# Helper function that copies contents of sorted array\n",
    "# to Binary tree\n",
    "def arrayToBST(arr, root):\n",
    " \n",
    "    # Base Case\n",
    "    if root is None:\n",
    "        return\n",
    "     \n",
    "    # First update the left subtree\n",
    "    arrayToBST(arr, root.left)\n",
    " \n",
    "    # now update root's data delete the value from array\n",
    "    root.data = arr[0]\n",
    "    arr.pop(0)\n",
    " \n",
    "    # Finally update the right subtree\n",
    "    arrayToBST(arr, root.right)    "
   ]
  },
  {
   "cell_type": "code",
   "execution_count": null,
   "metadata": {},
   "outputs": [],
   "source": []
  },
  {
   "cell_type": "code",
   "execution_count": null,
   "metadata": {},
   "outputs": [],
   "source": []
  },
  {
   "cell_type": "code",
   "execution_count": null,
   "metadata": {},
   "outputs": [],
   "source": []
  },
  {
   "cell_type": "code",
   "execution_count": null,
   "metadata": {},
   "outputs": [],
   "source": []
  },
  {
   "cell_type": "code",
   "execution_count": null,
   "metadata": {},
   "outputs": [],
   "source": []
  },
  {
   "cell_type": "code",
   "execution_count": null,
   "metadata": {},
   "outputs": [],
   "source": []
  },
  {
   "cell_type": "code",
   "execution_count": null,
   "metadata": {},
   "outputs": [],
   "source": []
  },
  {
   "cell_type": "code",
   "execution_count": null,
   "metadata": {},
   "outputs": [],
   "source": []
  },
  {
   "cell_type": "code",
   "execution_count": null,
   "metadata": {},
   "outputs": [],
   "source": []
  },
  {
   "cell_type": "code",
   "execution_count": null,
   "metadata": {},
   "outputs": [],
   "source": []
  },
  {
   "cell_type": "code",
   "execution_count": null,
   "metadata": {},
   "outputs": [],
   "source": []
  },
  {
   "cell_type": "code",
   "execution_count": null,
   "metadata": {},
   "outputs": [],
   "source": []
  },
  {
   "cell_type": "code",
   "execution_count": null,
   "metadata": {},
   "outputs": [],
   "source": []
  },
  {
   "cell_type": "code",
   "execution_count": null,
   "metadata": {},
   "outputs": [],
   "source": []
  },
  {
   "cell_type": "code",
   "execution_count": null,
   "metadata": {},
   "outputs": [],
   "source": []
  },
  {
   "cell_type": "code",
   "execution_count": null,
   "metadata": {},
   "outputs": [],
   "source": []
  },
  {
   "cell_type": "code",
   "execution_count": null,
   "metadata": {},
   "outputs": [],
   "source": []
  },
  {
   "cell_type": "code",
   "execution_count": null,
   "metadata": {},
   "outputs": [],
   "source": []
  },
  {
   "cell_type": "code",
   "execution_count": null,
   "metadata": {},
   "outputs": [],
   "source": []
  },
  {
   "cell_type": "code",
   "execution_count": null,
   "metadata": {},
   "outputs": [],
   "source": []
  },
  {
   "cell_type": "code",
   "execution_count": null,
   "metadata": {},
   "outputs": [],
   "source": []
  },
  {
   "cell_type": "code",
   "execution_count": null,
   "metadata": {},
   "outputs": [],
   "source": []
  },
  {
   "cell_type": "code",
   "execution_count": null,
   "metadata": {},
   "outputs": [],
   "source": []
  },
  {
   "cell_type": "code",
   "execution_count": null,
   "metadata": {},
   "outputs": [],
   "source": []
  },
  {
   "cell_type": "code",
   "execution_count": null,
   "metadata": {},
   "outputs": [],
   "source": []
  },
  {
   "cell_type": "code",
   "execution_count": null,
   "metadata": {},
   "outputs": [],
   "source": []
  },
  {
   "cell_type": "code",
   "execution_count": null,
   "metadata": {},
   "outputs": [],
   "source": []
  },
  {
   "cell_type": "code",
   "execution_count": null,
   "metadata": {},
   "outputs": [],
   "source": []
  },
  {
   "cell_type": "code",
   "execution_count": null,
   "metadata": {},
   "outputs": [],
   "source": []
  },
  {
   "cell_type": "code",
   "execution_count": null,
   "metadata": {},
   "outputs": [],
   "source": []
  },
  {
   "cell_type": "code",
   "execution_count": null,
   "metadata": {},
   "outputs": [],
   "source": []
  },
  {
   "cell_type": "code",
   "execution_count": null,
   "metadata": {},
   "outputs": [],
   "source": []
  },
  {
   "cell_type": "code",
   "execution_count": null,
   "metadata": {},
   "outputs": [],
   "source": []
  },
  {
   "cell_type": "code",
   "execution_count": null,
   "metadata": {},
   "outputs": [],
   "source": []
  },
  {
   "cell_type": "code",
   "execution_count": null,
   "metadata": {},
   "outputs": [],
   "source": []
  },
  {
   "cell_type": "code",
   "execution_count": null,
   "metadata": {},
   "outputs": [],
   "source": []
  },
  {
   "cell_type": "code",
   "execution_count": null,
   "metadata": {},
   "outputs": [],
   "source": []
  },
  {
   "cell_type": "code",
   "execution_count": null,
   "metadata": {},
   "outputs": [],
   "source": []
  },
  {
   "cell_type": "code",
   "execution_count": null,
   "metadata": {},
   "outputs": [],
   "source": []
  },
  {
   "cell_type": "code",
   "execution_count": null,
   "metadata": {},
   "outputs": [],
   "source": []
  },
  {
   "cell_type": "code",
   "execution_count": null,
   "metadata": {},
   "outputs": [],
   "source": []
  },
  {
   "cell_type": "code",
   "execution_count": null,
   "metadata": {},
   "outputs": [],
   "source": []
  },
  {
   "cell_type": "code",
   "execution_count": null,
   "metadata": {},
   "outputs": [],
   "source": []
  },
  {
   "cell_type": "code",
   "execution_count": null,
   "metadata": {},
   "outputs": [],
   "source": []
  },
  {
   "cell_type": "code",
   "execution_count": null,
   "metadata": {},
   "outputs": [],
   "source": []
  },
  {
   "cell_type": "code",
   "execution_count": null,
   "metadata": {},
   "outputs": [],
   "source": []
  },
  {
   "cell_type": "code",
   "execution_count": null,
   "metadata": {},
   "outputs": [],
   "source": []
  },
  {
   "cell_type": "code",
   "execution_count": null,
   "metadata": {},
   "outputs": [],
   "source": []
  },
  {
   "cell_type": "code",
   "execution_count": null,
   "metadata": {},
   "outputs": [],
   "source": []
  },
  {
   "cell_type": "code",
   "execution_count": null,
   "metadata": {},
   "outputs": [],
   "source": []
  },
  {
   "cell_type": "code",
   "execution_count": null,
   "metadata": {},
   "outputs": [],
   "source": []
  },
  {
   "cell_type": "code",
   "execution_count": null,
   "metadata": {},
   "outputs": [],
   "source": []
  },
  {
   "cell_type": "code",
   "execution_count": null,
   "metadata": {},
   "outputs": [],
   "source": []
  },
  {
   "cell_type": "code",
   "execution_count": null,
   "metadata": {},
   "outputs": [],
   "source": []
  },
  {
   "cell_type": "code",
   "execution_count": null,
   "metadata": {},
   "outputs": [],
   "source": []
  },
  {
   "cell_type": "code",
   "execution_count": null,
   "metadata": {},
   "outputs": [],
   "source": []
  },
  {
   "cell_type": "code",
   "execution_count": null,
   "metadata": {},
   "outputs": [],
   "source": []
  },
  {
   "cell_type": "code",
   "execution_count": null,
   "metadata": {},
   "outputs": [],
   "source": []
  },
  {
   "cell_type": "code",
   "execution_count": null,
   "metadata": {},
   "outputs": [],
   "source": []
  },
  {
   "cell_type": "code",
   "execution_count": null,
   "metadata": {},
   "outputs": [],
   "source": []
  },
  {
   "cell_type": "code",
   "execution_count": null,
   "metadata": {},
   "outputs": [],
   "source": []
  },
  {
   "cell_type": "code",
   "execution_count": null,
   "metadata": {},
   "outputs": [],
   "source": []
  },
  {
   "cell_type": "code",
   "execution_count": null,
   "metadata": {},
   "outputs": [],
   "source": []
  },
  {
   "cell_type": "code",
   "execution_count": null,
   "metadata": {},
   "outputs": [],
   "source": []
  },
  {
   "cell_type": "code",
   "execution_count": null,
   "metadata": {},
   "outputs": [],
   "source": []
  },
  {
   "cell_type": "code",
   "execution_count": null,
   "metadata": {},
   "outputs": [],
   "source": []
  },
  {
   "cell_type": "code",
   "execution_count": null,
   "metadata": {},
   "outputs": [],
   "source": []
  },
  {
   "cell_type": "code",
   "execution_count": null,
   "metadata": {},
   "outputs": [],
   "source": []
  },
  {
   "cell_type": "code",
   "execution_count": null,
   "metadata": {},
   "outputs": [],
   "source": []
  },
  {
   "cell_type": "code",
   "execution_count": null,
   "metadata": {},
   "outputs": [],
   "source": []
  },
  {
   "cell_type": "code",
   "execution_count": null,
   "metadata": {},
   "outputs": [],
   "source": []
  },
  {
   "cell_type": "code",
   "execution_count": null,
   "metadata": {},
   "outputs": [],
   "source": []
  },
  {
   "cell_type": "code",
   "execution_count": null,
   "metadata": {},
   "outputs": [],
   "source": []
  },
  {
   "cell_type": "code",
   "execution_count": null,
   "metadata": {},
   "outputs": [],
   "source": []
  },
  {
   "cell_type": "code",
   "execution_count": null,
   "metadata": {},
   "outputs": [],
   "source": []
  },
  {
   "cell_type": "code",
   "execution_count": null,
   "metadata": {},
   "outputs": [],
   "source": []
  },
  {
   "cell_type": "code",
   "execution_count": null,
   "metadata": {},
   "outputs": [],
   "source": []
  },
  {
   "cell_type": "code",
   "execution_count": null,
   "metadata": {},
   "outputs": [],
   "source": []
  },
  {
   "cell_type": "code",
   "execution_count": null,
   "metadata": {},
   "outputs": [],
   "source": []
  },
  {
   "cell_type": "code",
   "execution_count": null,
   "metadata": {},
   "outputs": [],
   "source": []
  },
  {
   "cell_type": "code",
   "execution_count": null,
   "metadata": {},
   "outputs": [],
   "source": []
  },
  {
   "cell_type": "code",
   "execution_count": null,
   "metadata": {},
   "outputs": [],
   "source": []
  },
  {
   "cell_type": "code",
   "execution_count": null,
   "metadata": {},
   "outputs": [],
   "source": []
  },
  {
   "cell_type": "code",
   "execution_count": null,
   "metadata": {},
   "outputs": [],
   "source": []
  },
  {
   "cell_type": "code",
   "execution_count": null,
   "metadata": {},
   "outputs": [],
   "source": []
  },
  {
   "cell_type": "code",
   "execution_count": null,
   "metadata": {},
   "outputs": [],
   "source": []
  },
  {
   "cell_type": "code",
   "execution_count": null,
   "metadata": {},
   "outputs": [],
   "source": []
  },
  {
   "cell_type": "code",
   "execution_count": null,
   "metadata": {},
   "outputs": [],
   "source": []
  },
  {
   "cell_type": "code",
   "execution_count": null,
   "metadata": {},
   "outputs": [],
   "source": []
  },
  {
   "cell_type": "code",
   "execution_count": null,
   "metadata": {},
   "outputs": [],
   "source": []
  },
  {
   "cell_type": "code",
   "execution_count": null,
   "metadata": {},
   "outputs": [],
   "source": []
  },
  {
   "cell_type": "code",
   "execution_count": null,
   "metadata": {},
   "outputs": [],
   "source": []
  },
  {
   "cell_type": "code",
   "execution_count": null,
   "metadata": {},
   "outputs": [],
   "source": []
  },
  {
   "cell_type": "code",
   "execution_count": null,
   "metadata": {},
   "outputs": [],
   "source": []
  },
  {
   "cell_type": "code",
   "execution_count": null,
   "metadata": {},
   "outputs": [],
   "source": []
  },
  {
   "cell_type": "code",
   "execution_count": null,
   "metadata": {},
   "outputs": [],
   "source": []
  },
  {
   "cell_type": "markdown",
   "metadata": {},
   "source": []
  }
 ],
 "metadata": {
  "kernelspec": {
   "display_name": "Python 3",
   "language": "python",
   "name": "python3"
  },
  "language_info": {
   "codemirror_mode": {
    "name": "ipython",
    "version": 3
   },
   "file_extension": ".py",
   "mimetype": "text/x-python",
   "name": "python",
   "nbconvert_exporter": "python",
   "pygments_lexer": "ipython3",
   "version": "3.8.5"
  }
 },
 "nbformat": 4,
 "nbformat_minor": 4
}
