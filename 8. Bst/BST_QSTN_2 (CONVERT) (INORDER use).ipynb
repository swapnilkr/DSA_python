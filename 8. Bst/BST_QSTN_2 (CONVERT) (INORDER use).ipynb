{
 "cells": [
  {
   "cell_type": "markdown",
   "metadata": {},
   "source": [
    "## Array to BST"
   ]
  },
  {
   "cell_type": "code",
   "execution_count": null,
   "metadata": {},
   "outputs": [],
   "source": [
    "def arr_to_bst(arr):\n",
    "    if not arr:\n",
    "        return None\n",
    "    mid = len(arr) // 2\n",
    "    root = Node(arr[mid])\n",
    "    root.left = arr_to_bst(arr[:mid])\n",
    "    root.right = arr_to_bst(arr[mid + 1:])\n",
    "    return root"
   ]
  },
  {
   "cell_type": "code",
   "execution_count": null,
   "metadata": {},
   "outputs": [],
   "source": [
    "def arrayToBST(arr, root):\n",
    " \n",
    "    # Base Case\n",
    "    if root is None:\n",
    "        return\n",
    "     \n",
    "    # First update the left subtree\n",
    "    arrayToBST(arr, root.left)\n",
    " \n",
    "    # now update root's data delete the value from array\n",
    "    root.data = arr[0]\n",
    "    arr.pop(0)\n",
    " \n",
    "    # Finally update the right subtree\n",
    "    arrayToBST(arr, root.right)  "
   ]
  },
  {
   "cell_type": "code",
   "execution_count": null,
   "metadata": {},
   "outputs": [],
   "source": []
  },
  {
   "cell_type": "markdown",
   "metadata": {},
   "source": [
    "# Min swap to sort array"
   ]
  },
  {
   "cell_type": "code",
   "execution_count": null,
   "metadata": {},
   "outputs": [],
   "source": [
    "def minSwaps(arr, N):\n",
    "     \n",
    "    ans = 0\n",
    "    temp = arr.copy()\n",
    "    temp.sort()\n",
    "    for i in range(N):\n",
    "       \n",
    "        # This is checking whether\n",
    "        # the current element is\n",
    "        # at the right place or not\n",
    "        if (arr[i] != temp[i]):\n",
    "            ans += 1\n",
    " \n",
    "            # Swap the current element\n",
    "            # with the right index\n",
    "            # so that arr[0] to arr[i]\n",
    "            # is sorted\n",
    "            swap(arr, i,\n",
    "                 indexOf(arr, temp[i]))\n",
    "   \n",
    "    return ans\n",
    "   \n",
    "def swap(arr, i, j):\n",
    "     \n",
    "    temp = arr[i]\n",
    "    arr[i] = arr[j]\n",
    "    arr[j] = temp\n",
    "     \n",
    "def indexOf(arr, ele):\n",
    "    \n",
    "    for i in range(len(arr)):       \n",
    "        if (arr[i] == ele):\n",
    "                return i\n",
    "    return -1"
   ]
  },
  {
   "cell_type": "code",
   "execution_count": null,
   "metadata": {},
   "outputs": [],
   "source": [
    "def minSwap(arr, n):\n",
    "     \n",
    "    ans = 0\n",
    "    temp = arr.copy()\n",
    " \n",
    "    # Dictionary which stores the\n",
    "      # indexes of the input array\n",
    "    h = {}\n",
    " \n",
    "    temp.sort()\n",
    " \n",
    "    for i in range(n):\n",
    "         \n",
    "        #h.[arr[i]\n",
    "        h[arr[i]] = i\n",
    "         \n",
    "    init = 0\n",
    "     \n",
    "    for i in range(n):\n",
    " \n",
    "        # This is checking whether\n",
    "        # the current element is\n",
    "        # at the right place or not\n",
    "        if (arr[i] != temp[i]):\n",
    "            ans += 1\n",
    "            init = arr[i]\n",
    " \n",
    "            # If not, swap this element\n",
    "              # with the index of the\n",
    "              # element which should come here\n",
    "            arr[i], arr[h[temp[i]]] = arr[h[temp[i]]], arr[i]\n",
    " \n",
    "            # Update the indexes in\n",
    "              # the hashmap accordingly\n",
    "            h[init] = h[temp[i]]\n",
    "            h[temp[i]] = i\n",
    "             \n",
    "    return ans"
   ]
  },
  {
   "cell_type": "code",
   "execution_count": null,
   "metadata": {},
   "outputs": [],
   "source": []
  },
  {
   "cell_type": "markdown",
   "metadata": {},
   "source": [
    "## Minimum swap required to convert binary tree to binary search tree\n",
    "\n",
    "Given the array representation of Complete Binary Tree i.e, if index i is the parent, index 2*i + 1 is the left child and index 2*i + 2 is the right child. The task is to find the minimum number of swap required to convert it into Binary Search Tree.\n",
    "\n",
    "Examples:  \n",
    "\n",
    "Input : arr[] = { 5, 6, 7, 8, 9, 10, 11 }\n",
    "Output : 3\n",
    "Binary tree of the given array:\n",
    "dig11\n",
    "\n",
    "Swap 1: Swap node 8 with node 5.\n",
    "Swap 2: Swap node 9 with node 10.\n",
    "Swap 3: Swap node 10 with node 7.\n",
    "dig21\n",
    "\n",
    "So, minimum 3 swaps are required.\n",
    "\n",
    "\n",
    "Input : arr[] = { 1, 2, 3 }\n",
    "Output : 1\n",
    "Binary tree of the given array:\n",
    "dig3\n",
    "\n",
    "\n",
    "\n",
    "\n",
    "After swapping node 1 with node 2.\n",
    "dig41\n",
    "\n",
    "So, only 1 swap required."
   ]
  },
  {
   "cell_type": "markdown",
   "metadata": {},
   "source": [
    "## The idea is to use the fact that inorder traversal of Binary Search Tree is in increasing order of their value. \n",
    "So, find the inorder traversal of the Binary Tree and store it in the array and try to sort the array. The minimum number of swap required to get the array sorted will be the answer."
   ]
  },
  {
   "cell_type": "code",
   "execution_count": null,
   "metadata": {},
   "outputs": [],
   "source": [
    "def inorder(a, n, index):\n",
    "     \n",
    "    global v\n",
    "     \n",
    "    # If index is greater or equal to\n",
    "    # vector size\n",
    "    if (index >= n):\n",
    "        return\n",
    "     \n",
    "    inorder(a, n, 2 * index + 1)\n",
    " \n",
    "    # Push elements in vector\n",
    "    v.append(a[index])\n",
    "    inorder(a, n, 2 * index + 2)\n",
    " \n",
    "# Function to find minimum swaps\n",
    "# to sort an array\n",
    "def minSwaps():\n",
    "     \n",
    "    global v\n",
    "    t = [[0, 0] for i in range(len(v))]\n",
    "    ans = -2\n",
    " \n",
    "    for i in range(len(v)):\n",
    "        t[i][0], t[i][1] = v[i], i\n",
    " \n",
    "    t, i = sorted(t), 0\n",
    " \n",
    "    while i < len(t):\n",
    "         \n",
    "        # break\n",
    "        # second element is equal to i\n",
    "        if (i == t[i][1]):\n",
    "            i += 1\n",
    "            continue\n",
    "        else:\n",
    "             \n",
    "            # Swaping of elements\n",
    "            t[i][0], t[t[i][1]][0] = t[t[i][1]][0], t[i][0]\n",
    "            t[i][1], t[t[i][1]][1] = t[t[i][1]][1], t[i][1]\n",
    " \n",
    "        # Second is not equal to i\n",
    "        if (i == t[i][1]):\n",
    "            i -= 1\n",
    " \n",
    "        i += 1\n",
    " \n",
    "        ans += 1\n",
    " \n",
    "    return ans"
   ]
  },
  {
   "cell_type": "markdown",
   "metadata": {},
   "source": [
    "## Binary Tree to Binary Search Tree Conversion\n",
    "\n",
    "\n",
    "Given a Binary Tree, convert it to a Binary Search Tree. The conversion must be done in such a way that keeps the original structure of Binary Tree. \n",
    "\n",
    "Examples\n",
    "\n",
    "Example 1\n",
    "Input:\n",
    "          10\n",
    "         /  \\\n",
    "        2    7\n",
    "       / \\\n",
    "      8   4\n",
    "Output:\n",
    "          8\n",
    "         /  \\\n",
    "        4    10\n",
    "       / \\\n",
    "      2   7\n",
    "\n",
    "\n",
    "Example 2\n",
    "Input:\n",
    "          10\n",
    "         /  \\\n",
    "        30   15\n",
    "       /      \\\n",
    "      20       5\n",
    "Output:\n",
    "          15\n",
    "         /  \\\n",
    "       10    20\n",
    "       /      \\\n",
    "      5        30"
   ]
  },
  {
   "cell_type": "markdown",
   "metadata": {},
   "source": [
    "# Solution\n",
    "\n",
    "Following is a 3 step solution for converting Binary tree to Binary Search Tree.\n",
    "\n",
    "1) Create a temp array arr[] that stores inorder traversal of the tree. This step takes O(n) time.\n",
    "\n",
    "\n",
    "\n",
    "\n",
    "2) Sort the temp array arr[]. Time complexity of this step depends upon the sorting algorithm. In the following implementation, Quick Sort is used which takes (n^2) time. This can be done in O(nLogn) time using Heap Sort or Merge Sort.\n",
    "\n",
    "3) <b>Again do inorder traversal</b> of tree and copy array elements to tree nodes one by one. This step takes O(n) time.\n",
    "\n"
   ]
  },
  {
   "cell_type": "code",
   "execution_count": null,
   "metadata": {},
   "outputs": [],
   "source": [
    "# This function converts a given binary tree to BST\n",
    "def binaryTreeToBST(root):\n",
    "     \n",
    "    # Base Case: Tree is empty\n",
    "    if root is None:\n",
    "        return\n",
    "     \n",
    "    # Count the number of nodes in Binary Tree so that\n",
    "    # we know the size of temporary array to be created\n",
    "    n = countNodes(root)\n",
    " \n",
    "    # Create the temp array and store the inorder traversal\n",
    "    # of tree\n",
    "    arr = []\n",
    "    storeInorder(root, arr)\n",
    "     \n",
    "    # Sort the array\n",
    "    arr.sort()\n",
    " \n",
    "    # copy array elements back to binary tree\n",
    "    arrayToBST(arr, root)\n",
    "    \n",
    "    \n",
    "# A helper funtion to count nodes in a binary tree\n",
    "def countNodes(root):\n",
    "    if root is None:\n",
    "        return 0\n",
    " \n",
    "    return countNodes(root.left) + countNodes(root.right) + 1    \n",
    "\n",
    "\n",
    "\n",
    "\n",
    "def storeInorder(root, inorder):\n",
    "     \n",
    "    # Base Case\n",
    "    if root is None:\n",
    "        return\n",
    "     \n",
    "    # First store the left subtree\n",
    "    storeInorder(root.left, inorder)\n",
    "     \n",
    "    # Copy the root's data\n",
    "    inorder.append(root.data)\n",
    " \n",
    "    # Finally store the right subtree\n",
    "    storeInorder(root.right, inorder)\n",
    " \n",
    "\n",
    "\n",
    "\n",
    " \n",
    "# Helper function that copies contents of sorted array\n",
    "# to Binary tree\n",
    "def arrayToBST(arr, root):\n",
    " \n",
    "    # Base Case\n",
    "    if root is None:\n",
    "        return\n",
    "     \n",
    "    # First update the left subtree\n",
    "    arrayToBST(arr, root.left)\n",
    " \n",
    "    # now update root's data delete the value from array\n",
    "    root.data = arr[0]\n",
    "    arr.pop(0)\n",
    " \n",
    "    # Finally update the right subtree\n",
    "    arrayToBST(arr, root.right)    "
   ]
  },
  {
   "cell_type": "markdown",
   "metadata": {},
   "source": [
    "## Convert a normal BST to Balanced BST\n",
    "Difficulty Level : Medium\n",
    "Last Updated : 02 Jul, 2021\n",
    "Given a BST (Binary Search Tree) that may be unbalanced, convert it into a balanced BST that has minimum possible height.\n",
    "Examples : \n",
    "\n",
    "Input:\n",
    "       30\n",
    "      /\n",
    "     20\n",
    "    /\n",
    "   10\n",
    "Output:\n",
    "     20\n",
    "   /   \\\n",
    " 10     30\n",
    "\n",
    "\n",
    "Input:\n",
    "         4\n",
    "        /\n",
    "       3\n",
    "      /\n",
    "     2\n",
    "    /\n",
    "   1\n",
    "Output:\n",
    "      3            3           2\n",
    "    /  \\         /  \\        /  \\\n",
    "   1    4   OR  2    4  OR  1    3   OR ..\n",
    "    \\          /                   \\\n",
    "     2        1                     4 \n",
    "\n",
    "Input:\n",
    "          4\n",
    "        /   \\\n",
    "       3     5\n",
    "      /       \\\n",
    "     2         6 \n",
    "    /           \\\n",
    "   1             7\n",
    "Output:\n",
    "       4\n",
    "    /    \\\n",
    "   2      6\n",
    " /  \\    /  \\\n",
    "1    3  5    7 "
   ]
  },
  {
   "cell_type": "markdown",
   "metadata": {},
   "source": [
    "1.Traverse given BST in inorder and store result in an array. This step takes O(n) time. Note that this array would be sorted as inorder traversal of BST always produces sorted sequence.\n",
    "\n",
    "\n",
    "2.Build a balanced BST from the above created sorted array using the recursive approach discussed here. This step also takes O(n) time as we traverse every element exactly once and processing an element takes O(1) time."
   ]
  },
  {
   "cell_type": "code",
   "execution_count": null,
   "metadata": {},
   "outputs": [],
   "source": [
    "def buildTree(root):\n",
    "     \n",
    "    # Store nodes of given BST in sorted order\n",
    "    nodes=[]\n",
    "    storeBSTNodes(root,nodes)\n",
    " \n",
    "    # Constucts BST from nodes[]\n",
    "    n=len(nodes)\n",
    "    return buildTreeUtil(nodes,0,n-1)\n",
    "\n",
    "\n",
    "# This function traverse the skewed binary tree and\n",
    "# stores its nodes pointers in vector nodes[]\n",
    "\n",
    "\n",
    "\n",
    "#### inorder traversal######\n",
    "#### already soorted since BST inorder####\n",
    "def storeBSTNodes(root,nodes):\n",
    "     \n",
    "    # Base case\n",
    "    if not root:\n",
    "        return\n",
    "     \n",
    "    # Store nodes in Inorder (which is sorted\n",
    "    # order for BST)\n",
    "    storeBSTNodes(root.left,nodes)\n",
    "    nodes.append(root)\n",
    "    storeBSTNodes(root.right,nodes)\n",
    "\n",
    "\n",
    "    \n",
    "### to make bal bst ####\n",
    "def buildTreeUtil(nodes,start,end):\n",
    "     \n",
    "    # base case\n",
    "    if start>end:\n",
    "        return None\n",
    " \n",
    "    # Get the middle element and make it root\n",
    "    mid=(start+end)//2\n",
    "    node=nodes[mid]\n",
    " \n",
    "    # Using index in Inorder traversal, construct\n",
    "    # left and right subtress\n",
    "    node.left=buildTreeUtil(nodes,start,mid-1)\n",
    "    node.right=buildTreeUtil(nodes,mid+1,end)\n",
    "    return node\n"
   ]
  },
  {
   "cell_type": "markdown",
   "metadata": {},
   "source": [
    "## Merge Two Balanced Binary Search Trees\n",
    "You are given two balanced binary search trees e.g., AVL or Red-Black Tree. Write a function that merges the two given balanced BSTs into a balanced binary search tree. Let there be m elements in the first tree and n elements in the other tree. Your merge function should take O(m+n) time.\n",
    "In the following solutions, it is assumed that the sizes of trees are also given as input. If the size is not given, then we can get the size by traversing the tree (See this)."
   ]
  },
  {
   "cell_type": "markdown",
   "metadata": {},
   "source": [
    "### Method 1 (Insert elements of the first tree to second) \n",
    "Take all elements of first BST one by one, and insert them into the second BST. Inserting an element to a self balancing BST takes Logn time (See this) where n is size of the BST. So time complexity of this method is Log(n) + Log(n+1) … Log(m+n-1). The value of this expression will be between mLogn and mLog(m+n-1). As an optimization, we can pick the smaller tree as first tree.\n"
   ]
  },
  {
   "cell_type": "markdown",
   "metadata": {},
   "source": [
    "### Method 2 (Merge Inorder Traversals) \n",
    "1) Do inorder traversal of first tree and store the traversal in one temp array arr1[]. This step takes O(m) time. \n",
    "2) Do inorder traversal of second tree and store the traversal in another temp array arr2[]. This step takes O(n) time. \n",
    "3) The arrays created in step 1 and 2 are sorted arrays. Merge the two sorted arrays into one array of size m + n. This step takes O(m+n) time. \n",
    "4) Construct a balanced tree from the merged array using the technique discussed in this post. This step takes O(m+n) time.\n",
    "Time complexity of this method is O(m+n) which is better than method 1. This method takes O(m+n) time even if the input BSTs are not balanced. \n",
    "Following is implementation of this method."
   ]
  },
  {
   "cell_type": "code",
   "execution_count": null,
   "metadata": {},
   "outputs": [],
   "source": [
    "def merge_sorted_arr(arr1, arr2):\n",
    "    arr = []\n",
    "    i = j = 0\n",
    "    while i < len(arr1) and j < len(arr2):\n",
    "        if arr1[i] <= arr2[j]:\n",
    "            arr.append(arr1[i])\n",
    "            i += 1\n",
    "        else:\n",
    "            arr.append(arr2[j])\n",
    "            j += 1\n",
    "    while i < len(arr1):\n",
    "        arr.append(arr1[i])\n",
    "        i += 1\n",
    "    while i < len(arr2):\n",
    "        arr.append(arr2[j])\n",
    "        j += 1\n",
    "    return arr\n",
    " \n",
    "# A helper function that stores inorder\n",
    "# traversal of a tree in arr\n",
    "def inorder(root, arr = []):\n",
    "    if root:\n",
    "        inorder(root.left, arr)\n",
    "        arr.append(root.val)\n",
    "        inorder(root.right, arr)\n",
    " \n",
    "# A utility function to insert the values\n",
    "# in the individual Tree\n",
    "def insert(root, val):\n",
    "    if not root:\n",
    "        return Node(val)\n",
    "    if root.val == val:\n",
    "        return root\n",
    "    elif root.val > val:\n",
    "        root.left = insert(root.left, val)\n",
    "    else:\n",
    "        root.right = insert(root.right, val)\n",
    "    return root\n",
    " \n",
    "# Converts the merged array to a balanced BST\n",
    "# Explanation of the below code:\n",
    "# https://www.geeksforgeeks.org/sorted-array-to-balanced-bst/\n",
    "def arr_to_bst(arr):\n",
    "    if not arr:\n",
    "        return None\n",
    "    mid = len(arr) // 2\n",
    "    root = Node(arr[mid])\n",
    "    root.left = arr_to_bst(arr[:mid])\n",
    "    root.right = arr_to_bst(arr[mid + 1:])\n",
    "    return root"
   ]
  },
  {
   "cell_type": "code",
   "execution_count": null,
   "metadata": {},
   "outputs": [],
   "source": []
  },
  {
   "cell_type": "code",
   "execution_count": null,
   "metadata": {},
   "outputs": [],
   "source": []
  },
  {
   "cell_type": "code",
   "execution_count": null,
   "metadata": {},
   "outputs": [],
   "source": []
  },
  {
   "cell_type": "code",
   "execution_count": null,
   "metadata": {},
   "outputs": [],
   "source": []
  },
  {
   "cell_type": "code",
   "execution_count": null,
   "metadata": {},
   "outputs": [],
   "source": []
  },
  {
   "cell_type": "code",
   "execution_count": null,
   "metadata": {},
   "outputs": [],
   "source": []
  },
  {
   "cell_type": "code",
   "execution_count": null,
   "metadata": {},
   "outputs": [],
   "source": []
  },
  {
   "cell_type": "code",
   "execution_count": null,
   "metadata": {},
   "outputs": [],
   "source": []
  },
  {
   "cell_type": "code",
   "execution_count": null,
   "metadata": {},
   "outputs": [],
   "source": []
  },
  {
   "cell_type": "code",
   "execution_count": null,
   "metadata": {},
   "outputs": [],
   "source": []
  },
  {
   "cell_type": "code",
   "execution_count": null,
   "metadata": {},
   "outputs": [],
   "source": []
  },
  {
   "cell_type": "code",
   "execution_count": null,
   "metadata": {},
   "outputs": [],
   "source": []
  },
  {
   "cell_type": "code",
   "execution_count": null,
   "metadata": {},
   "outputs": [],
   "source": []
  },
  {
   "cell_type": "code",
   "execution_count": null,
   "metadata": {},
   "outputs": [],
   "source": []
  },
  {
   "cell_type": "code",
   "execution_count": null,
   "metadata": {},
   "outputs": [],
   "source": []
  },
  {
   "cell_type": "code",
   "execution_count": null,
   "metadata": {},
   "outputs": [],
   "source": []
  },
  {
   "cell_type": "code",
   "execution_count": null,
   "metadata": {},
   "outputs": [],
   "source": []
  },
  {
   "cell_type": "code",
   "execution_count": null,
   "metadata": {},
   "outputs": [],
   "source": []
  },
  {
   "cell_type": "code",
   "execution_count": null,
   "metadata": {},
   "outputs": [],
   "source": []
  },
  {
   "cell_type": "code",
   "execution_count": null,
   "metadata": {},
   "outputs": [],
   "source": []
  },
  {
   "cell_type": "code",
   "execution_count": null,
   "metadata": {},
   "outputs": [],
   "source": []
  },
  {
   "cell_type": "code",
   "execution_count": null,
   "metadata": {},
   "outputs": [],
   "source": []
  },
  {
   "cell_type": "code",
   "execution_count": null,
   "metadata": {},
   "outputs": [],
   "source": []
  },
  {
   "cell_type": "code",
   "execution_count": null,
   "metadata": {},
   "outputs": [],
   "source": []
  },
  {
   "cell_type": "code",
   "execution_count": null,
   "metadata": {},
   "outputs": [],
   "source": []
  },
  {
   "cell_type": "code",
   "execution_count": null,
   "metadata": {},
   "outputs": [],
   "source": []
  },
  {
   "cell_type": "code",
   "execution_count": null,
   "metadata": {},
   "outputs": [],
   "source": []
  },
  {
   "cell_type": "code",
   "execution_count": null,
   "metadata": {},
   "outputs": [],
   "source": []
  },
  {
   "cell_type": "code",
   "execution_count": null,
   "metadata": {},
   "outputs": [],
   "source": []
  },
  {
   "cell_type": "code",
   "execution_count": null,
   "metadata": {},
   "outputs": [],
   "source": []
  },
  {
   "cell_type": "code",
   "execution_count": null,
   "metadata": {},
   "outputs": [],
   "source": []
  },
  {
   "cell_type": "code",
   "execution_count": null,
   "metadata": {},
   "outputs": [],
   "source": []
  },
  {
   "cell_type": "code",
   "execution_count": null,
   "metadata": {},
   "outputs": [],
   "source": []
  },
  {
   "cell_type": "code",
   "execution_count": null,
   "metadata": {},
   "outputs": [],
   "source": []
  },
  {
   "cell_type": "code",
   "execution_count": null,
   "metadata": {},
   "outputs": [],
   "source": []
  },
  {
   "cell_type": "code",
   "execution_count": null,
   "metadata": {},
   "outputs": [],
   "source": []
  },
  {
   "cell_type": "code",
   "execution_count": null,
   "metadata": {},
   "outputs": [],
   "source": []
  },
  {
   "cell_type": "code",
   "execution_count": null,
   "metadata": {},
   "outputs": [],
   "source": []
  },
  {
   "cell_type": "code",
   "execution_count": null,
   "metadata": {},
   "outputs": [],
   "source": []
  },
  {
   "cell_type": "code",
   "execution_count": null,
   "metadata": {},
   "outputs": [],
   "source": []
  },
  {
   "cell_type": "code",
   "execution_count": null,
   "metadata": {},
   "outputs": [],
   "source": []
  },
  {
   "cell_type": "code",
   "execution_count": null,
   "metadata": {},
   "outputs": [],
   "source": []
  },
  {
   "cell_type": "code",
   "execution_count": null,
   "metadata": {},
   "outputs": [],
   "source": []
  },
  {
   "cell_type": "code",
   "execution_count": null,
   "metadata": {},
   "outputs": [],
   "source": []
  },
  {
   "cell_type": "code",
   "execution_count": null,
   "metadata": {},
   "outputs": [],
   "source": []
  },
  {
   "cell_type": "code",
   "execution_count": null,
   "metadata": {},
   "outputs": [],
   "source": []
  },
  {
   "cell_type": "code",
   "execution_count": null,
   "metadata": {},
   "outputs": [],
   "source": []
  },
  {
   "cell_type": "code",
   "execution_count": null,
   "metadata": {},
   "outputs": [],
   "source": []
  },
  {
   "cell_type": "code",
   "execution_count": null,
   "metadata": {},
   "outputs": [],
   "source": []
  },
  {
   "cell_type": "code",
   "execution_count": null,
   "metadata": {},
   "outputs": [],
   "source": []
  },
  {
   "cell_type": "code",
   "execution_count": null,
   "metadata": {},
   "outputs": [],
   "source": []
  },
  {
   "cell_type": "code",
   "execution_count": null,
   "metadata": {},
   "outputs": [],
   "source": []
  },
  {
   "cell_type": "code",
   "execution_count": null,
   "metadata": {},
   "outputs": [],
   "source": []
  },
  {
   "cell_type": "code",
   "execution_count": null,
   "metadata": {},
   "outputs": [],
   "source": []
  },
  {
   "cell_type": "code",
   "execution_count": null,
   "metadata": {},
   "outputs": [],
   "source": []
  },
  {
   "cell_type": "code",
   "execution_count": null,
   "metadata": {},
   "outputs": [],
   "source": []
  },
  {
   "cell_type": "code",
   "execution_count": null,
   "metadata": {},
   "outputs": [],
   "source": []
  },
  {
   "cell_type": "code",
   "execution_count": null,
   "metadata": {},
   "outputs": [],
   "source": []
  },
  {
   "cell_type": "code",
   "execution_count": null,
   "metadata": {},
   "outputs": [],
   "source": []
  },
  {
   "cell_type": "code",
   "execution_count": null,
   "metadata": {},
   "outputs": [],
   "source": []
  },
  {
   "cell_type": "code",
   "execution_count": null,
   "metadata": {},
   "outputs": [],
   "source": []
  },
  {
   "cell_type": "code",
   "execution_count": null,
   "metadata": {},
   "outputs": [],
   "source": []
  },
  {
   "cell_type": "code",
   "execution_count": null,
   "metadata": {},
   "outputs": [],
   "source": []
  },
  {
   "cell_type": "code",
   "execution_count": null,
   "metadata": {},
   "outputs": [],
   "source": []
  },
  {
   "cell_type": "code",
   "execution_count": null,
   "metadata": {},
   "outputs": [],
   "source": []
  },
  {
   "cell_type": "code",
   "execution_count": null,
   "metadata": {},
   "outputs": [],
   "source": []
  },
  {
   "cell_type": "code",
   "execution_count": null,
   "metadata": {},
   "outputs": [],
   "source": []
  },
  {
   "cell_type": "code",
   "execution_count": null,
   "metadata": {},
   "outputs": [],
   "source": []
  },
  {
   "cell_type": "code",
   "execution_count": null,
   "metadata": {},
   "outputs": [],
   "source": []
  },
  {
   "cell_type": "code",
   "execution_count": null,
   "metadata": {},
   "outputs": [],
   "source": []
  },
  {
   "cell_type": "code",
   "execution_count": null,
   "metadata": {},
   "outputs": [],
   "source": []
  },
  {
   "cell_type": "code",
   "execution_count": null,
   "metadata": {},
   "outputs": [],
   "source": []
  },
  {
   "cell_type": "code",
   "execution_count": null,
   "metadata": {},
   "outputs": [],
   "source": []
  },
  {
   "cell_type": "code",
   "execution_count": null,
   "metadata": {},
   "outputs": [],
   "source": []
  },
  {
   "cell_type": "code",
   "execution_count": null,
   "metadata": {},
   "outputs": [],
   "source": []
  },
  {
   "cell_type": "code",
   "execution_count": null,
   "metadata": {},
   "outputs": [],
   "source": []
  },
  {
   "cell_type": "code",
   "execution_count": null,
   "metadata": {},
   "outputs": [],
   "source": []
  },
  {
   "cell_type": "code",
   "execution_count": null,
   "metadata": {},
   "outputs": [],
   "source": []
  },
  {
   "cell_type": "code",
   "execution_count": null,
   "metadata": {},
   "outputs": [],
   "source": []
  },
  {
   "cell_type": "code",
   "execution_count": null,
   "metadata": {},
   "outputs": [],
   "source": []
  },
  {
   "cell_type": "code",
   "execution_count": null,
   "metadata": {},
   "outputs": [],
   "source": []
  },
  {
   "cell_type": "code",
   "execution_count": null,
   "metadata": {},
   "outputs": [],
   "source": []
  },
  {
   "cell_type": "code",
   "execution_count": null,
   "metadata": {},
   "outputs": [],
   "source": []
  },
  {
   "cell_type": "code",
   "execution_count": null,
   "metadata": {},
   "outputs": [],
   "source": []
  },
  {
   "cell_type": "code",
   "execution_count": null,
   "metadata": {},
   "outputs": [],
   "source": []
  },
  {
   "cell_type": "code",
   "execution_count": null,
   "metadata": {},
   "outputs": [],
   "source": []
  },
  {
   "cell_type": "code",
   "execution_count": null,
   "metadata": {},
   "outputs": [],
   "source": []
  },
  {
   "cell_type": "code",
   "execution_count": null,
   "metadata": {},
   "outputs": [],
   "source": []
  },
  {
   "cell_type": "code",
   "execution_count": null,
   "metadata": {},
   "outputs": [],
   "source": []
  },
  {
   "cell_type": "markdown",
   "metadata": {},
   "source": []
  }
 ],
 "metadata": {
  "kernelspec": {
   "display_name": "Python 3",
   "language": "python",
   "name": "python3"
  },
  "language_info": {
   "codemirror_mode": {
    "name": "ipython",
    "version": 3
   },
   "file_extension": ".py",
   "mimetype": "text/x-python",
   "name": "python",
   "nbconvert_exporter": "python",
   "pygments_lexer": "ipython3",
   "version": "3.8.5"
  }
 },
 "nbformat": 4,
 "nbformat_minor": 4
}
