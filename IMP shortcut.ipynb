{
 "cells": [
  {
   "cell_type": "code",
   "execution_count": null,
   "metadata": {},
   "outputs": [],
   "source": [
    "## subaarray\n",
    "\n",
    "def printSubArrays(arr, start, end):\n",
    "     \n",
    "    # Stop if we have reached the end of the array   \n",
    "    if end == len(arr):\n",
    "        return\n",
    "     \n",
    "    # Increment the end point and start from 0\n",
    "    elif start > end:\n",
    "        return printSubArrays(arr, 0, end + 1)\n",
    "         \n",
    "    # Print the subarray and increment the starting\n",
    "    # point\n",
    "    else:\n",
    "        print(arr[start:end + 1])\n",
    "        return printSubArrays(arr, start + 1, end)"
   ]
  },
  {
   "cell_type": "code",
   "execution_count": null,
   "metadata": {},
   "outputs": [],
   "source": [
    "## subsq\n",
    "def printSubsequences(arr, index, subarr): \n",
    "        \n",
    "    # Print the subsequence when reach  \n",
    "    # the leaf of recursion tree \n",
    "    if index == len(arr): \n",
    "            \n",
    "        # Condition to avoid printing \n",
    "        # empty subsequence \n",
    "        if len(subarr) != 0: \n",
    "            print(subarr) \n",
    "        \n",
    "    else: \n",
    "        # Subsequence without including  \n",
    "        # the element at current index \n",
    "        printSubsequences(arr, index + 1, subarr) \n",
    "            \n",
    "        # Subsequence including the element \n",
    "        # at current index \n",
    "        printSubsequences(arr, index + 1,  \n",
    "                            subarr+[arr[index]]) \n",
    "        \n",
    "    return"
   ]
  },
  {
   "cell_type": "code",
   "execution_count": 2,
   "metadata": {},
   "outputs": [
    {
     "name": "stdout",
     "output_type": "stream",
     "text": [
      "('a', 'b', 'c')\n",
      "('a', 'c', 'b')\n",
      "('b', 'a', 'c')\n",
      "('b', 'c', 'a')\n",
      "('c', 'a', 'b')\n",
      "('c', 'b', 'a')\n",
      "(1, 2)\n",
      "(1, 3)\n",
      "(2, 1)\n",
      "(2, 3)\n",
      "(3, 1)\n",
      "(3, 2)\n"
     ]
    }
   ],
   "source": [
    "### Permutations\n",
    "from itertools import permutations\n",
    " \n",
    "# Get all permutations of [1, 2, 3]\n",
    "perm = permutations(\"abc\")\n",
    " \n",
    "# Print the obtained permutations\n",
    "for i in list(perm):\n",
    "    print (i)\n",
    "    \n",
    "    \n",
    "from itertools import permutations\n",
    " \n",
    "# Get all permutations of length 2\n",
    "# and length 2\n",
    "perm = permutations([1, 2, 3], 2)\n",
    " \n",
    "# Print the obtained permutations\n",
    "for i in list(perm):\n",
    "    print (i)"
   ]
  },
  {
   "cell_type": "code",
   "execution_count": 7,
   "metadata": {},
   "outputs": [
    {
     "name": "stdout",
     "output_type": "stream",
     "text": [
      "(1, 2)\n",
      "(1, 3)\n",
      "(2, 3)\n"
     ]
    }
   ],
   "source": [
    "#Combination \n",
    "#This method takes a list and an input r as an input and return an object list of tuples which contain all possible combination of length r in a list form.\n",
    "\n",
    "\n",
    "from itertools import combinations\n",
    " \n",
    "# Get all combinations of [1, 2, 3]\n",
    "# and length 2\n",
    "comb = combinations([1, 2, 3],2)\n",
    " \n",
    "# Print the obtained combinations\n",
    "for i in list(comb):\n",
    "    print (i)"
   ]
  },
  {
   "cell_type": "code",
   "execution_count": null,
   "metadata": {},
   "outputs": [],
   "source": [
    "# vvvii\n",
    "\n",
    "list(zip(*strs))\n",
    "strs = [\"flower\",\"flow\",\"flight\"]\n",
    "strs = [\"flower\",\"flow\",\"flight\"]\n",
    "l = list(zip(*strs))\n",
    ">>> l = [('f', 'f', 'f'), ('l', 'l', 'l'), ('o', 'o', 'i'), ('w', 'w', 'g')]"
   ]
  },
  {
   "cell_type": "markdown",
   "metadata": {},
   "source": [
    "## Square root of an integer\n",
    "\n",
    "Given an integer x, find it’s square root. If x is not a perfect square, then return floor(√x).\n",
    "\n",
    "Examples : \n",
    "\n",
    "Input: x = 4\n",
    "Output: 2\n",
    "Explanation:  The square root of 4 is 2.\n",
    "\n",
    "Input: x = 11\n",
    "Output: 3\n",
    "Explanation:  The square root of 11 lies in between\n",
    "3 and 4 so floor of the square root is 3.\n",
    " \n"
   ]
  },
  {
   "cell_type": "markdown",
   "metadata": {},
   "source": [
    "There can be many ways to solve this problem. For example Babylonian Method is one way.\n",
    "Simple Approach: To find the floor of the square root, try with all-natural numbers starting from 1. Continue incrementing the number until the square of that number is greater than the given number.\n",
    "\n",
    "Algorithm: \n",
    "Create a variable (counter) i and take care of some base cases, i.e when the given number is 0 or 1.\n",
    "Run a loop until i*i <= n , where n is the given number. Increment i by 1.\n",
    "The floor of the square root of the number is i – 1\n",
    "Implementation:\n"
   ]
  },
  {
   "cell_type": "code",
   "execution_count": null,
   "metadata": {},
   "outputs": [],
   "source": [
    "# Python3 program to find floor(sqrt(x)\n",
    " \n",
    "# Returns floor of square root of x\n",
    "def floorSqrt(x):\n",
    " \n",
    "    # Base cases\n",
    "    if (x == 0 or x == 1):\n",
    "        return x\n",
    " \n",
    "    # Staring from 1, try all numbers until\n",
    "    # i*i is greater than or equal to x.\n",
    "    i = 1; result = 1\n",
    "    while (result <= x):\n",
    "     \n",
    "        i += 1\n",
    "        result = i * i\n",
    "     \n",
    "    return i - 1\n",
    " \n",
    "# Driver Code\n",
    "x = 11\n",
    "print(floorSqrt(x))\n",
    " \n",
    "\n",
    "\n",
    "     "
   ]
  },
  {
   "cell_type": "markdown",
   "metadata": {},
   "source": [
    "\n",
    "Output :\n",
    "\n",
    "3\n",
    "#### Complexity Analysis: \n",
    "#### Time Complexity: O(√ n). \n",
    "#### Only one traversal of the solution is needed, so the time complexity is O(√ n).\n",
    "#### Space Complexity: O(1). \n",
    "#### Constant extra space is needed.\n",
    "#### Thanks Fattepur Mahesh for suggesting this solution. "
   ]
  },
  {
   "cell_type": "markdown",
   "metadata": {},
   "source": [
    "Better Approach: The idea is to find the largest integer i whose square is less than or equal to the given number. The idea is to use Binary Search to solve the problem. The values of i * i is monotonically increasing, so the problem can be solved using binary search. \n",
    "Algorithm: \n",
    "Take care of some base cases, i.e when the given number is 0 or 1.\n",
    "Create some variables, lowerbound l = 0, upperbound r = n, where n is the given number, mid and ans to store the answer.\n",
    "Run a loop until l <= r , the search space vanishes\n",
    "Check if the square of mid (mid = (l + r)/2 ) is less than or equal to n, If yes then search for a larger value in second half of search space, i.e l = mid + 1, update ans = mid\n",
    "Else if the square of mid is more than n then search for a smaller value in first half of search space, i.e r = mid – 1\n",
    "Print the value of answer ( ans)\n",
    "Implementation:"
   ]
  },
  {
   "cell_type": "code",
   "execution_count": null,
   "metadata": {},
   "outputs": [],
   "source": [
    "\n",
    "\n",
    "# Python 3 program to find floor(sqrt(x)\n",
    " \n",
    "# Returns floor of square root of x        \n",
    "def floorSqrt(x) :\n",
    " \n",
    "    # Base cases\n",
    "    if (x == 0 or x == 1) :\n",
    "        return x\n",
    "  \n",
    "    # Do Binary Search for floor(sqrt(x))\n",
    "    start = 1\n",
    "    end = x  \n",
    "    while (start <= end) :\n",
    "        mid = (start + end) // 2\n",
    "         \n",
    "        # If x is a perfect square\n",
    "        if (mid*mid == x) :\n",
    "            return mid\n",
    "             \n",
    "        # Since we need floor, we update\n",
    "        # answer when mid*mid is smaller\n",
    "        # than x, and move closer to sqrt(x)\n",
    "        if (mid * mid < x) :\n",
    "            start = mid + 1\n",
    "            ans = mid\n",
    "             \n",
    "        else :\n",
    "             \n",
    "            # If mid*mid is greater than x\n",
    "            end = mid-1\n",
    "             \n",
    "    return ans\n",
    " \n",
    "# driver code   \n",
    "x = 11\n",
    "print(floorSqrt(x))"
   ]
  },
  {
   "cell_type": "code",
   "execution_count": null,
   "metadata": {},
   "outputs": [],
   "source": []
  },
  {
   "cell_type": "code",
   "execution_count": 2,
   "metadata": {},
   "outputs": [
    {
     "data": {
      "text/plain": [
       "10"
      ]
     },
     "execution_count": 2,
     "metadata": {},
     "output_type": "execute_result"
    }
   ],
   "source": [
    "### binary to decimal\n",
    "\n",
    "int('1010',2)"
   ]
  },
  {
   "cell_type": "code",
   "execution_count": 2,
   "metadata": {},
   "outputs": [
    {
     "name": "stdout",
     "output_type": "stream",
     "text": [
      "1 0 1 10 11 01 101 "
     ]
    }
   ],
   "source": [
    "### print all subsequences of str\n",
    "\n",
    "import itertools\n",
    " \n",
    "def Sub_Sequences(STR):\n",
    "    combs = []\n",
    "    for l in range(1, len(STR)+1):\n",
    "        combs.append(list(itertools.combinations(STR, l)))\n",
    "    for c in combs:\n",
    "        for t in c:\n",
    "            print (''.join(t), end =' ')\n",
    "Sub_Sequences(\"101\")"
   ]
  },
  {
   "cell_type": "code",
   "execution_count": 1,
   "metadata": {},
   "outputs": [
    {
     "name": "stdout",
     "output_type": "stream",
     "text": [
      "\n"
     ]
    },
    {
     "ename": "TypeError",
     "evalue": "sequence item 0: expected str instance, int found",
     "output_type": "error",
     "traceback": [
      "\u001b[1;31m---------------------------------------------------------------------------\u001b[0m",
      "\u001b[1;31mTypeError\u001b[0m                                 Traceback (most recent call last)",
      "\u001b[1;32m<ipython-input-1-667b85254a6c>\u001b[0m in \u001b[0;36m<module>\u001b[1;34m\u001b[0m\n\u001b[0;32m      7\u001b[0m         \u001b[1;32mfor\u001b[0m \u001b[0melement\u001b[0m \u001b[1;32min\u001b[0m \u001b[0mcombinations\u001b[0m\u001b[1;33m(\u001b[0m\u001b[0mstring\u001b[0m\u001b[1;33m,\u001b[0m\u001b[0mi\u001b[0m\u001b[1;33m)\u001b[0m\u001b[1;33m:\u001b[0m\u001b[1;33m\u001b[0m\u001b[1;33m\u001b[0m\u001b[0m\n\u001b[0;32m      8\u001b[0m             \u001b[0mprint\u001b[0m\u001b[1;33m(\u001b[0m\u001b[1;34m''\u001b[0m\u001b[1;33m.\u001b[0m\u001b[0mjoin\u001b[0m\u001b[1;33m(\u001b[0m\u001b[0melement\u001b[0m\u001b[1;33m)\u001b[0m\u001b[1;33m)\u001b[0m\u001b[1;33m\u001b[0m\u001b[1;33m\u001b[0m\u001b[0m\n\u001b[1;32m----> 9\u001b[1;33m \u001b[0mprint_powerset\u001b[0m\u001b[1;33m(\u001b[0m\u001b[1;33m[\u001b[0m\u001b[1;36m1\u001b[0m\u001b[1;33m,\u001b[0m\u001b[1;36m2\u001b[0m\u001b[1;33m,\u001b[0m\u001b[1;36m3\u001b[0m\u001b[1;33m]\u001b[0m\u001b[1;33m)\u001b[0m\u001b[1;33m\u001b[0m\u001b[1;33m\u001b[0m\u001b[0m\n\u001b[0m",
      "\u001b[1;32m<ipython-input-1-667b85254a6c>\u001b[0m in \u001b[0;36mprint_powerset\u001b[1;34m(string)\u001b[0m\n\u001b[0;32m      6\u001b[0m     \u001b[1;32mfor\u001b[0m \u001b[0mi\u001b[0m \u001b[1;32min\u001b[0m \u001b[0mrange\u001b[0m\u001b[1;33m(\u001b[0m\u001b[1;36m0\u001b[0m\u001b[1;33m,\u001b[0m\u001b[0mlen\u001b[0m\u001b[1;33m(\u001b[0m\u001b[0mstring\u001b[0m\u001b[1;33m)\u001b[0m\u001b[1;33m+\u001b[0m\u001b[1;36m1\u001b[0m\u001b[1;33m)\u001b[0m\u001b[1;33m:\u001b[0m\u001b[1;33m\u001b[0m\u001b[1;33m\u001b[0m\u001b[0m\n\u001b[0;32m      7\u001b[0m         \u001b[1;32mfor\u001b[0m \u001b[0melement\u001b[0m \u001b[1;32min\u001b[0m \u001b[0mcombinations\u001b[0m\u001b[1;33m(\u001b[0m\u001b[0mstring\u001b[0m\u001b[1;33m,\u001b[0m\u001b[0mi\u001b[0m\u001b[1;33m)\u001b[0m\u001b[1;33m:\u001b[0m\u001b[1;33m\u001b[0m\u001b[1;33m\u001b[0m\u001b[0m\n\u001b[1;32m----> 8\u001b[1;33m             \u001b[0mprint\u001b[0m\u001b[1;33m(\u001b[0m\u001b[1;34m''\u001b[0m\u001b[1;33m.\u001b[0m\u001b[0mjoin\u001b[0m\u001b[1;33m(\u001b[0m\u001b[0melement\u001b[0m\u001b[1;33m)\u001b[0m\u001b[1;33m)\u001b[0m\u001b[1;33m\u001b[0m\u001b[1;33m\u001b[0m\u001b[0m\n\u001b[0m\u001b[0;32m      9\u001b[0m \u001b[0mprint_powerset\u001b[0m\u001b[1;33m(\u001b[0m\u001b[1;33m[\u001b[0m\u001b[1;36m1\u001b[0m\u001b[1;33m,\u001b[0m\u001b[1;36m2\u001b[0m\u001b[1;33m,\u001b[0m\u001b[1;36m3\u001b[0m\u001b[1;33m]\u001b[0m\u001b[1;33m)\u001b[0m\u001b[1;33m\u001b[0m\u001b[1;33m\u001b[0m\u001b[0m\n",
      "\u001b[1;31mTypeError\u001b[0m: sequence item 0: expected str instance, int found"
     ]
    }
   ],
   "source": [
    "\n",
    "### print all subsequences of str\n",
    "from itertools import combinations\n",
    "\n",
    "\n",
    "def print_powerset(string):\n",
    "    for i in range(0,len(string)+1):\n",
    "        for element in combinations(string,i):\n",
    "            print(''.join(element))\n",
    "print_powerset([1,2,3])"
   ]
  },
  {
   "cell_type": "code",
   "execution_count": 2,
   "metadata": {},
   "outputs": [
    {
     "name": "stdout",
     "output_type": "stream",
     "text": [
      "['a', 'ab', 'abc', 'abcd', 'abcde', 'b', 'bc', 'bcd', 'bcde', 'c', 'cd', 'cde', 'd', 'de', 'e']\n"
     ]
    }
   ],
   "source": [
    "### contiguous subsequence\n",
    "def get_all_substrings(input_string):\n",
    "    length = len(input_string)\n",
    "    return [input_string[i:j+1] for i in range(length) for j in range(i,length)]\n",
    "\n",
    "print (get_all_substrings('abcde'))"
   ]
  },
  {
   "cell_type": "code",
   "execution_count": 3,
   "metadata": {},
   "outputs": [
    {
     "data": {
      "text/plain": [
       "['a', 'ab', 'abc', 'b', 'bc', 'c']"
      ]
     },
     "execution_count": 3,
     "metadata": {},
     "output_type": "execute_result"
    }
   ],
   "source": [
    "######## substring\n",
    "\n",
    "\n",
    "def find(test_str):\n",
    "    res = [test_str[i: j] for i in range(len(test_str))\n",
    "          for j in range(i + 1, len(test_str) + 1)]\n",
    "    return res\n",
    "find('abc')"
   ]
  },
  {
   "cell_type": "code",
   "execution_count": null,
   "metadata": {},
   "outputs": [],
   "source": [
    "### decimal to bin\n",
    "\n",
    "b=bin(n).replace(\"0b\",\"\")\n",
    "\n",
    "def b(n):\n",
    "    if n>=1:\n",
    "        b(n//2)\n",
    "    print(n%2)"
   ]
  },
  {
   "cell_type": "markdown",
   "metadata": {},
   "source": [
    "# vvvvi"
   ]
  },
  {
   "cell_type": "code",
   "execution_count": 1,
   "metadata": {},
   "outputs": [
    {
     "ename": "SyntaxError",
     "evalue": "invalid syntax (<ipython-input-1-22c16393f0bc>, line 1)",
     "output_type": "error",
     "traceback": [
      "\u001b[1;36m  File \u001b[1;32m\"<ipython-input-1-22c16393f0bc>\"\u001b[1;36m, line \u001b[1;32m1\u001b[0m\n\u001b[1;33m    left shift\u001b[0m\n\u001b[1;37m         ^\u001b[0m\n\u001b[1;31mSyntaxError\u001b[0m\u001b[1;31m:\u001b[0m invalid syntax\n"
     ]
    }
   ],
   "source": [
    "left shift\n",
    "x<<y---- x*(2**y)\n",
    "\n",
    "right shift\n",
    "\n",
    "x>>y---- x//(2*y)"
   ]
  }
 ],
 "metadata": {
  "kernelspec": {
   "display_name": "Python 3",
   "language": "python",
   "name": "python3"
  },
  "language_info": {
   "codemirror_mode": {
    "name": "ipython",
    "version": 3
   },
   "file_extension": ".py",
   "mimetype": "text/x-python",
   "name": "python",
   "nbconvert_exporter": "python",
   "pygments_lexer": "ipython3",
   "version": "3.8.5"
  }
 },
 "nbformat": 4,
 "nbformat_minor": 4
}
