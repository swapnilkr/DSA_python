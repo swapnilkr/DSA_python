{
 "cells": [
  {
   "cell_type": "code",
   "execution_count": null,
   "metadata": {},
   "outputs": [],
   "source": [
    "### Python program maximum of three\n",
    "\n",
    "def maximum(a, b, c):\n",
    "  \n",
    "    if (a >= b) and (a >= c):\n",
    "        largest = a\n",
    "  \n",
    "    elif (b >= a) and (b >= c):\n",
    "        largest = b\n",
    "    else:\n",
    "        largest = c\n",
    "          \n",
    "    return largest\n",
    "\n",
    "\n",
    "def maximum(a, b, c):\n",
    "    list = [a, b, c]\n",
    "    return max(list)\n",
    "\n",
    "\n",
    "\n",
    "a = 10\n",
    "b = 14\n",
    "c = 12\n",
    "print(max(a, b, c))"
   ]
  },
  {
   "cell_type": "code",
   "execution_count": null,
   "metadata": {},
   "outputs": [],
   "source": [
    "#### How to swap two numbers without using a temporary variable?\n",
    "\n",
    "\n",
    "x = 10\n",
    "y = 5\n",
    " \n",
    "# Code to swap 'x' and 'y'\n",
    " \n",
    "# x now becomes 15\n",
    "x = x + y\n",
    " \n",
    "# y becomes 10\n",
    "y = x - y\n",
    " \n",
    "# x becomes 5\n",
    "x = x - y"
   ]
  },
  {
   "cell_type": "code",
   "execution_count": null,
   "metadata": {},
   "outputs": [],
   "source": [
    "x = 10\n",
    "y = 5\n",
    " \n",
    "# code to swap\n",
    "# 'x' and 'y'\n",
    " \n",
    "# x now becomes 50\n",
    "x = x * y\n",
    " \n",
    "# y becomes 10\n",
    "y = x // y;\n",
    " \n",
    "# x becomes 5\n",
    "x = x // y;"
   ]
  },
  {
   "cell_type": "code",
   "execution_count": null,
   "metadata": {},
   "outputs": [],
   "source": [
    "# Python3 code to swap using XOR\n",
    " \n",
    "x = 10\n",
    "y = 5\n",
    " \n",
    "# Code to swap 'x' and 'y'\n",
    "x = x ^ y; # x now becomes 15 (1111)\n",
    "y = x ^ y; # y becomes 10 (1010)\n",
    "x = x ^ y; # x becomes 5 (0101)"
   ]
  },
  {
   "cell_type": "code",
   "execution_count": null,
   "metadata": {},
   "outputs": [],
   "source": [
    "# Program to print GP (Geometric Progression)\n",
    "\n",
    "def printGP(a, r, n):\n",
    "    for i in range(0, n):\n",
    "        curr_term = a * pow(r, i)\n",
    "        print(curr_term, end =\" \")"
   ]
  },
  {
   "cell_type": "code",
   "execution_count": null,
   "metadata": {},
   "outputs": [],
   "source": [
    "# Program for Fibonacci numbers\n",
    "\n",
    "def Fibonacci(n):\n",
    "    if n<0:\n",
    "        print(\"Incorrect input\")\n",
    "    # First Fibonacci number is 0\n",
    "    elif n==0:\n",
    "        return 0\n",
    "    # Second Fibonacci number is 1\n",
    "    elif n==1:\n",
    "        return 1\n",
    "    else:\n",
    "        return Fibonacci(n-1)+Fibonacci(n-2)\n",
    " \n",
    "# Driver Program\n",
    " \n",
    "print(Fibonacci(9))"
   ]
  },
  {
   "cell_type": "code",
   "execution_count": null,
   "metadata": {},
   "outputs": [],
   "source": [
    "def fibonacci(n):\n",
    "     \n",
    "    # Taking 1st two fibonacci numbers as 0 and 1\n",
    "    f = [0, 1]\n",
    "     \n",
    "     \n",
    "    for i in range(2, n+1):\n",
    "        f.append(f[i-1] + f[i-2])\n",
    "    return f[n]\n",
    "     \n",
    "print(fibonacci(9))"
   ]
  },
  {
   "cell_type": "code",
   "execution_count": null,
   "metadata": {},
   "outputs": [],
   "source": [
    "\n",
    "# Function for nth fibonacci number - Space Optimisation\n",
    "# Taking 1st two fibonacci numbers as 0 and 1\n",
    " \n",
    "def fibonacci(n):\n",
    "    a = 0\n",
    "    b = 1\n",
    "    if n < 0:\n",
    "        print(\"Incorrect input\")\n",
    "    elif n == 0:\n",
    "        return a\n",
    "    elif n == 1:\n",
    "        return b\n",
    "    else:\n",
    "        for i in range(2,n+1):\n",
    "            c = a + b\n",
    "            a = b\n",
    "            b = c\n",
    "        return b\n",
    " \n",
    "# Driver Program\n",
    " \n",
    "print(fibonacci(9))"
   ]
  },
  {
   "cell_type": "markdown",
   "metadata": {},
   "source": [
    "#### (Using power of the matrix {{1, 1}, {1, 0}}) \n",
    "This another O(n) which relies on the fact that if we n times multiply the matrix M = {{1,1},{1,0}} to itself (in other words calculate power(M, n)), then we get the (n+1)th Fibonacci number as the element at row and column (0, 0) in the resultant matrix.\n",
    "The matrix representation gives the following closed expression for the Fibonacci numbers: "
   ]
  },
  {
   "cell_type": "code",
   "execution_count": null,
   "metadata": {},
   "outputs": [],
   "source": [
    "###### VVVVVVVVVVIIIIIIIIIIIIII\n",
    "\n",
    "\n",
    "def fib(n):\n",
    "    F = [[1, 1],\n",
    "         [1, 0]]\n",
    "    if (n == 0):\n",
    "        return 0\n",
    "    power(F, n - 1)\n",
    "     \n",
    "    return F[0][0]\n",
    " \n",
    "def multiply(F, M):\n",
    " \n",
    "    x = (F[0][0] * M[0][0] +\n",
    "         F[0][1] * M[1][0])\n",
    "    y = (F[0][0] * M[0][1] +\n",
    "         F[0][1] * M[1][1])\n",
    "    z = (F[1][0] * M[0][0] +\n",
    "         F[1][1] * M[1][0])\n",
    "    w = (F[1][0] * M[0][1] +\n",
    "         F[1][1] * M[1][1])\n",
    "     \n",
    "    F[0][0] = x\n",
    "    F[0][1] = y\n",
    "    F[1][0] = z\n",
    "    F[1][1] = w\n",
    " \n",
    "def power(F, n):\n",
    " \n",
    "    M = [[1, 1],\n",
    "         [1, 0]]\n",
    " \n",
    "    # n - 1 times multiply the\n",
    "    # matrix to {{1,0},{0,1}}\n",
    "    for i in range(2, n + 1):\n",
    "        multiply(F, M)\n",
    " \n",
    "# Driver Code\n",
    "if __name__ == \"__main__\":\n",
    "    n = 9\n",
    "    print(fib(n))"
   ]
  },
  {
   "cell_type": "code",
   "execution_count": null,
   "metadata": {},
   "outputs": [],
   "source": [
    "### prime number in range\n",
    "\n",
    " \n",
    "def SieveOfEratosthenes(n):\n",
    " \n",
    "    # Create a boolean array\n",
    "    # \"prime[0..n]\" and initialize\n",
    "    #  all entries it as true.\n",
    "    # A value in prime[i] will\n",
    "    # finally be false if i is\n",
    "    # Not a prime, else true.\n",
    "    prime = [True for i in range(n+1)]\n",
    "    p = 2\n",
    "    while (p * p <= n):\n",
    " \n",
    "        # If prime[p] is not\n",
    "        # changed, then it is a prime\n",
    "        if (prime[p] == True):\n",
    " \n",
    "            # Update all multiples of p\n",
    "            for i in range(p * p, n+1, p):\n",
    "                prime[i] = False\n",
    "        p += 1\n",
    " \n",
    "    # Print all prime numbers\n",
    "    for p in range(2, n+1):\n",
    "        if prime[p]:\n",
    "            print p,\n",
    " \n",
    " \n",
    "# Driver code\n",
    "if __name__ == '__main__':\n",
    "    n = 30\n",
    "    print \"Following are the prime numbers smaller\",\n",
    "    print \"than or equal to\", n\n",
    "    SieveOfEratosthenes(n)"
   ]
  },
  {
   "cell_type": "code",
   "execution_count": null,
   "metadata": {},
   "outputs": [],
   "source": [
    "### rev ll\n",
    "\n",
    "def reverseRecursive(head):\n",
    "    if head is None or head.next is None:\n",
    "        return head\n",
    "    \n",
    "    smallHead=reverseRecursive(head.next)\n",
    "    tail=head.next\n",
    "    tail.next=head\n",
    "    head.next=None\n",
    "    return smallHead"
   ]
  },
  {
   "cell_type": "code",
   "execution_count": null,
   "metadata": {},
   "outputs": [],
   "source": [
    "### dfs\n",
    "\n",
    "\n",
    "def __dfsHelper(self,sv,visited): ##start vertex\n",
    "\n",
    "    print(sv)\n",
    "    visited[sv]=True\n",
    "    for i in range(self. nVertices):\n",
    "        if self.adjMatrix[sv][i]>0 and visited[i] is False:\n",
    "            self.__dfsHelper(i,visited)\n",
    "\n",
    "\n",
    "def dfs(self):\n",
    "    visited=[False for i in range(self.nVertices)]\n",
    "    self.__dfsHelper(0,visited)"
   ]
  },
  {
   "cell_type": "code",
   "execution_count": null,
   "metadata": {},
   "outputs": [],
   "source": [
    "### bfs\n",
    "\n",
    "def bfs(self):\n",
    "    q=queue.Queue()\n",
    "    visited=[False for i in range(self.nVertices)]\n",
    "    q.put(0)\n",
    "    visited[0]=True\n",
    "    while q.empty() is False:\n",
    "        u=q.get()\n",
    "        print(u)\n",
    "        for i in range (self.nVertices):\n",
    "            if self.adjMatrix[u][i]>0 and visited[i] is False:\n",
    "                q.put(i)\n",
    "                visited[i]=True"
   ]
  },
  {
   "cell_type": "markdown",
   "metadata": {},
   "source": [
    "Algorithm\t           Time Complexity\t \n",
    "                  Best\t        Average\t     Worst\t \n",
    "Selection Sort\t  Ω(n^2)\t    θ(n^2)\t     O(n^2)\t \n",
    "Bubble Sort\t      Ω(n)\t        θ(n^2)\t     O(n^2)\t \n",
    "Insertion Sort\t  Ω(n)\t        θ(n^2)\t     O(n^2)\t \n",
    "Heap Sort\t      Ω(n log(n))\tθ(n log(n))\t O(n log(n))\t \n",
    "Quick Sort\t      Ω(n log(n))\tθ(n log(n))\t O(n^2)\t \n",
    "Merge Sort\t      Ω(n log(n))\tθ(n log(n))\t O(n log(n))\t \n",
    "Bucket Sort\t      Ω(n+k)\t    θ(n+k)\t     O(n^2)\t \n",
    "Radix Sort\t      Ω(nk)\t        θ(nk)\t     O(nk)"
   ]
  },
  {
   "cell_type": "code",
   "execution_count": null,
   "metadata": {},
   "outputs": [],
   "source": [
    "def mergesort(li1,li2):\n",
    "    i=0\n",
    "    j=0\n",
    "    len1=len(li1)\n",
    "    len2=len(li2)\n",
    "    li3=[]\n",
    "    while (i<len1) and (j<len2):\n",
    "        if li1[i]<li2[j]:\n",
    "            li3.append(li1[i])\n",
    "            i=i+1\n",
    "        else:\n",
    "            li3.append(li2[j])\n",
    "            j=j+1\n",
    "    while i<len1:\n",
    "        li3.append(li1[i])\n",
    "        i=i+1\n",
    "    while j<len2:\n",
    "        li3.append(li2[j])\n",
    "        j=j+1\n",
    "    return li3\n",
    "            \n",
    "        \n",
    "            \n",
    "n1=int(input())\n",
    "li1=[int(x) for x in input().split()]\n",
    "n2=int(input())\n",
    "li2=[int(x) for x in input().split()]\n",
    "li3=[]\n",
    "li3=mergesort(li1,li2)\n",
    "for ele in li3:\n",
    "    print(ele,end=\" \")"
   ]
  },
  {
   "cell_type": "code",
   "execution_count": null,
   "metadata": {},
   "outputs": [],
   "source": [
    "def merge(a1,a2,a):\n",
    "    i=0\n",
    "    k=0\n",
    "    j=0\n",
    "    while i<len(a1) and j <len(a2):\n",
    "        if(a1[i]<a2[j]):\n",
    "            a[k]=a1[i]\n",
    "            k=k+1\n",
    "            i=i+1\n",
    "        else:\n",
    "            a[k]=a2[j]\n",
    "            k=k+1\n",
    "            j=j+1\n",
    "    while i<len(a1):\n",
    "        a[k]=a1[i]\n",
    "        k=k+1\n",
    "        i=i+1\n",
    "    while j<len(a2):\n",
    "        a[k]=a2[j]\n",
    "        k=k+1\n",
    "        j=j+1\n",
    "\n",
    "        \n",
    "def mergesort(a):\n",
    "    if len(a)==0 or len(a)==1:\n",
    "        return \n",
    "    mid=len(a)//2\n",
    "    a1=a[0:mid]\n",
    "    a2=a[mid:]\n",
    "    mergesort(a1)\n",
    "    mergesort(a2)\n",
    "    merge(a1,a2,a)\n"
   ]
  },
  {
   "cell_type": "code",
   "execution_count": null,
   "metadata": {},
   "outputs": [],
   "source": [
    "def partition(a,si,ei):\n",
    "    pivot=a[si]\n",
    "    c=0\n",
    "    ###find no of ele smaller than pivot\n",
    "    for i in range(si,ei+1):\n",
    "        if a[i]<pivot:\n",
    "            c+=1\n",
    "    a[si+c],a[si]=a[si],a[si+c] ### pivot swapped\n",
    "    pivotindex=si+c\n",
    "    i=si\n",
    "    j=ei\n",
    "    while i <j:\n",
    "        if (a[i]<pivot):\n",
    "            i=i+1\n",
    "        elif a[j]>=pivot:\n",
    "            j=j-1\n",
    "        else:\n",
    "            a[i],a[j]=a[j],a[i]\n",
    "            i+=1\n",
    "            j-=1\n",
    "    return pivotindex\n",
    "\n",
    "def quicksort(a,si,ei):\n",
    "    if si>=ei:\n",
    "        return\n",
    "    pivotindex=partition(a,si,ei)\n",
    "    quicksort(a,si,pivotindex-1)\n",
    "    quicksort(a,pivotindex+1,ei)\n",
    "    "
   ]
  },
  {
   "cell_type": "code",
   "execution_count": null,
   "metadata": {},
   "outputs": [],
   "source": []
  },
  {
   "cell_type": "code",
   "execution_count": null,
   "metadata": {},
   "outputs": [],
   "source": []
  },
  {
   "cell_type": "code",
   "execution_count": null,
   "metadata": {},
   "outputs": [],
   "source": []
  },
  {
   "cell_type": "code",
   "execution_count": null,
   "metadata": {},
   "outputs": [],
   "source": []
  },
  {
   "cell_type": "code",
   "execution_count": null,
   "metadata": {},
   "outputs": [],
   "source": []
  },
  {
   "cell_type": "code",
   "execution_count": null,
   "metadata": {},
   "outputs": [],
   "source": []
  },
  {
   "cell_type": "code",
   "execution_count": null,
   "metadata": {},
   "outputs": [],
   "source": []
  },
  {
   "cell_type": "code",
   "execution_count": null,
   "metadata": {},
   "outputs": [],
   "source": []
  },
  {
   "cell_type": "code",
   "execution_count": null,
   "metadata": {},
   "outputs": [],
   "source": []
  },
  {
   "cell_type": "code",
   "execution_count": null,
   "metadata": {},
   "outputs": [],
   "source": []
  },
  {
   "cell_type": "code",
   "execution_count": null,
   "metadata": {},
   "outputs": [],
   "source": []
  },
  {
   "cell_type": "code",
   "execution_count": null,
   "metadata": {},
   "outputs": [],
   "source": []
  },
  {
   "cell_type": "code",
   "execution_count": null,
   "metadata": {},
   "outputs": [],
   "source": []
  },
  {
   "cell_type": "code",
   "execution_count": null,
   "metadata": {},
   "outputs": [],
   "source": []
  },
  {
   "cell_type": "code",
   "execution_count": null,
   "metadata": {},
   "outputs": [],
   "source": []
  },
  {
   "cell_type": "code",
   "execution_count": null,
   "metadata": {},
   "outputs": [],
   "source": []
  },
  {
   "cell_type": "code",
   "execution_count": null,
   "metadata": {},
   "outputs": [],
   "source": []
  },
  {
   "cell_type": "code",
   "execution_count": null,
   "metadata": {},
   "outputs": [],
   "source": []
  },
  {
   "cell_type": "code",
   "execution_count": null,
   "metadata": {},
   "outputs": [],
   "source": []
  },
  {
   "cell_type": "code",
   "execution_count": null,
   "metadata": {},
   "outputs": [],
   "source": []
  },
  {
   "cell_type": "code",
   "execution_count": null,
   "metadata": {},
   "outputs": [],
   "source": []
  },
  {
   "cell_type": "code",
   "execution_count": null,
   "metadata": {},
   "outputs": [],
   "source": []
  },
  {
   "cell_type": "code",
   "execution_count": null,
   "metadata": {},
   "outputs": [],
   "source": []
  },
  {
   "cell_type": "code",
   "execution_count": null,
   "metadata": {},
   "outputs": [],
   "source": []
  },
  {
   "cell_type": "code",
   "execution_count": null,
   "metadata": {},
   "outputs": [],
   "source": []
  },
  {
   "cell_type": "code",
   "execution_count": null,
   "metadata": {},
   "outputs": [],
   "source": []
  },
  {
   "cell_type": "code",
   "execution_count": null,
   "metadata": {},
   "outputs": [],
   "source": []
  },
  {
   "cell_type": "code",
   "execution_count": null,
   "metadata": {},
   "outputs": [],
   "source": []
  },
  {
   "cell_type": "code",
   "execution_count": null,
   "metadata": {},
   "outputs": [],
   "source": []
  },
  {
   "cell_type": "code",
   "execution_count": null,
   "metadata": {},
   "outputs": [],
   "source": []
  },
  {
   "cell_type": "code",
   "execution_count": null,
   "metadata": {},
   "outputs": [],
   "source": []
  },
  {
   "cell_type": "code",
   "execution_count": null,
   "metadata": {},
   "outputs": [],
   "source": []
  },
  {
   "cell_type": "code",
   "execution_count": null,
   "metadata": {},
   "outputs": [],
   "source": []
  },
  {
   "cell_type": "code",
   "execution_count": null,
   "metadata": {},
   "outputs": [],
   "source": []
  },
  {
   "cell_type": "code",
   "execution_count": null,
   "metadata": {},
   "outputs": [],
   "source": []
  },
  {
   "cell_type": "code",
   "execution_count": null,
   "metadata": {},
   "outputs": [],
   "source": []
  },
  {
   "cell_type": "code",
   "execution_count": null,
   "metadata": {},
   "outputs": [],
   "source": []
  },
  {
   "cell_type": "code",
   "execution_count": null,
   "metadata": {},
   "outputs": [],
   "source": []
  },
  {
   "cell_type": "code",
   "execution_count": null,
   "metadata": {},
   "outputs": [],
   "source": []
  },
  {
   "cell_type": "code",
   "execution_count": null,
   "metadata": {},
   "outputs": [],
   "source": []
  },
  {
   "cell_type": "code",
   "execution_count": null,
   "metadata": {},
   "outputs": [],
   "source": []
  },
  {
   "cell_type": "code",
   "execution_count": null,
   "metadata": {},
   "outputs": [],
   "source": []
  },
  {
   "cell_type": "code",
   "execution_count": null,
   "metadata": {},
   "outputs": [],
   "source": []
  },
  {
   "cell_type": "code",
   "execution_count": null,
   "metadata": {},
   "outputs": [],
   "source": []
  },
  {
   "cell_type": "code",
   "execution_count": null,
   "metadata": {},
   "outputs": [],
   "source": []
  }
 ],
 "metadata": {
  "kernelspec": {
   "display_name": "Python 3",
   "language": "python",
   "name": "python3"
  },
  "language_info": {
   "codemirror_mode": {
    "name": "ipython",
    "version": 3
   },
   "file_extension": ".py",
   "mimetype": "text/x-python",
   "name": "python",
   "nbconvert_exporter": "python",
   "pygments_lexer": "ipython3",
   "version": "3.8.5"
  }
 },
 "nbformat": 4,
 "nbformat_minor": 4
}
