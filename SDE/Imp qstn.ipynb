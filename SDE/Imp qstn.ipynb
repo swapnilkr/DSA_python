{
 "cells": [
  {
   "cell_type": "markdown",
   "metadata": {},
   "source": [
    "### Find the repeating and the missing\n",
    "\n",
    "Given an unsorted array of size n. Array elements are in the range from 1 to n. One number from set {1, 2, …n} is missing and one number occurs twice in the array. Find these two numbers.\n",
    "\n",
    "Examples: \n",
    "\n",
    " Input: arr[] = {3, 1, 3}\n",
    "Output: Missing = 2, Repeating = 3\n",
    "Explanation: In the array, \n",
    "2 is missing and 3 occurs twice \n",
    "\n",
    "Input: arr[] = {4, 3, 6, 2, 1, 1}\n",
    "Output: Missing = 5, Repeating = 1"
   ]
  },
  {
   "cell_type": "markdown",
   "metadata": {},
   "source": [
    "Method 1 (Use Sorting)\n",
    "Approach: \n",
    "\n",
    "Sort the input array.\n",
    "Traverse the array and check for missing and repeating."
   ]
  },
  {
   "cell_type": "markdown",
   "metadata": {},
   "source": [
    "Method 3 (Use elements as Index and mark the visited places)\n",
    "Approach: \n",
    "Traverse the array. While traversing, use the absolute value of every element as an index and make the value at this index as negative to mark it visited. If something is already marked negative then this is the repeating element. To find missing, traverse the array again and look for a positive value."
   ]
  },
  {
   "cell_type": "code",
   "execution_count": null,
   "metadata": {},
   "outputs": [],
   "source": [
    "def printTwoElements( arr, size):\n",
    "    for i in range(size):\n",
    "        if arr[abs(arr[i])-1] > 0:\n",
    "            arr[abs(arr[i])-1] = -arr[abs(arr[i])-1]\n",
    "        else:\n",
    "            print(\"The repeating element is\", abs(arr[i]))\n",
    "              \n",
    "    for i in range(size):\n",
    "        if arr[i]>0:\n",
    "            print(\"and the missing element is\", i + 1)\n",
    "  "
   ]
  },
  {
   "cell_type": "markdown",
   "metadata": {},
   "source": [
    "# Efficiently merging two sorted arrays with O(1) extra space\n",
    "\n",
    "\n",
    "Given two sorted arrays, we need to merge them in O((n+m)*log(n+m)) time with O(1) extra space into a sorted array, when n is the size of the first array, and m is the size of the second array.\n",
    "\n",
    "Example:  \n",
    "\n",
    "Input: ar1[] = {10};\n",
    "       ar2[] = {2, 3};\n",
    "Output: ar1[] = {2}\n",
    "        ar2[] = {3, 10}  \n",
    "\n",
    "Input: ar1[] = {1, 5, 9, 10, 15, 20};\n",
    "       ar2[] = {2, 3, 8, 13};\n",
    "Output: ar1[] = {1, 2, 3, 5, 8, 9}\n",
    "        ar2[] = {10, 13, 15, 20}\n",
    "Recommended: Please solve it on “PRACTICE ” first, before moving on to the solution. \n",
    " \n",
    "We have discussed a quadratic time solution in the below post. \n",
    "\n",
    "In this post, a better solution is discussed.\n",
    "The idea: We start comparing elements that are far from each other rather than adjacent. \n",
    "For every pass, we calculate the gap and compare the elements towards the right of the gap. Every pass, the gap reduces to the ceiling value of dividing by 2.\n",
    "\n",
    "Examples: \n",
    "\n",
    "\n",
    "First example: \n",
    "a1[] = {3 27 38 43}, \n",
    "a2[] = {9 10 82}\n",
    "Start with \n",
    "gap =  ceiling of n/2 = 4 \n",
    "[This gap is for whole merged array]\n",
    "3 27 38 43   9 10 82 \n",
    "3 27 38 43   9 10 82\n",
    "3 10 38 43   9 27 82\n",
    "\n",
    "gap = 2:\n",
    "3 10 38 43   9 27 82\n",
    "3 10 38 43   9 27 82\n",
    "3 10 38 43   9 27 82 \n",
    "3 10 9 43   38 27 82\n",
    "3 10 9 27   38 43 82\n",
    "\n",
    "gap = 1:\n",
    "3 10 9 27   38 43 82\n",
    "3 10 9 27   38 43 82\n",
    "3 9 10 27   38 43 82\n",
    "3 9 10 27   38 43 82\n",
    "3 9 10 27   38 43 82\n",
    "3 9 10 27   38 43 82\n",
    "Output : 3 9 10 27 38 43 82\n",
    "\n",
    "Second Example: \n",
    "a1[] = {10 27 38 43 82}, \n",
    "a2[] = {3 9}\n",
    "Start with gap = ceiling of n/2 (4):\n",
    "10 27 38 43 82   3 9 \n",
    "10 27 38 43 82   3 9\n",
    "10 3 38 43 82   27 9\n",
    "10 3 9 43 82   27 38\n",
    "\n",
    "gap = 2:\n",
    "10 3 9 43 82   27 38\n",
    "9 3 10 43 82   27 38\n",
    "9 3 10 43 82   27 38\n",
    "9 3 10 43 82   27 38\n",
    "9 3 10 27 82   43 38\n",
    "9 3 10 27 38   43 82\n",
    "\n",
    "gap = 1\n",
    "9 3 10 27 38   43 82\n",
    "3 9 10 27 38   43 82\n",
    "3 9 10 27 38   43 82\n",
    "3 9 10 27 38   43 82\n",
    "3 9 10 27 38   43 82\n",
    "3 9 10 27 38   43 82\n",
    "\n",
    "\n",
    "Output : 3 9 10 27 38   43 82"
   ]
  },
  {
   "cell_type": "code",
   "execution_count": null,
   "metadata": {},
   "outputs": [],
   "source": [
    "def nextGap(gap):\n",
    " \n",
    "    if (gap <= 1):\n",
    "        return 0\n",
    "    return (gap // 2) + (gap % 2)\n",
    " \n",
    " \n",
    "def merge(arr1, arr2, n, m):\n",
    " \n",
    "    gap = n + m\n",
    "    gap = nextGap(gap)\n",
    "    while gap > 0:\n",
    " \n",
    "        # comparing elements in\n",
    "        # the first array.\n",
    "        i = 0\n",
    "        while i + gap < n:\n",
    "            if (arr1[i] > arr1[i + gap]):\n",
    "                arr1[i], arr1[i + gap] = arr1[i + gap], arr1[i]\n",
    " \n",
    "            i += 1\n",
    " \n",
    "        # comparing elements in both arrays.\n",
    "        j = gap - n if gap > n else 0\n",
    "        while i < n and j < m:\n",
    "            if (arr1[i] > arr2[j]):\n",
    "                arr1[i], arr2[j] = arr2[j], arr1[i]\n",
    " \n",
    "            i += 1\n",
    "            j += 1\n",
    " \n",
    "        if (j < m):\n",
    " \n",
    "            # comparing elements in the\n",
    "            # second array.\n",
    "            j = 0\n",
    "            while j + gap < m:\n",
    "                if (arr2[j] > arr2[j + gap]):\n",
    "                    arr2[j], arr2[j + gap] = arr2[j + gap], arr2[j]\n",
    " \n",
    "                j += 1\n",
    " \n",
    "        gap = nextGap(gap)\n",
    " \n",
    " \n",
    "# Driver code\n",
    "if __name__ == \"__main__\":\n",
    " \n",
    "    a1 = [10, 27, 38, 43, 82]\n",
    "    a2 = [3, 9]\n",
    "    n = len(a1)\n",
    "    m = len(a2)\n",
    " \n",
    "    # Function Call\n",
    "    merge(a1, a2, n, m)\n",
    " \n",
    "    print(\"First Array: \", end=\"\")\n",
    "    for i in range(n):\n",
    "        print(a1[i], end=\" \")\n",
    "    print()\n",
    " \n",
    "    print(\"Second Array: \", end=\"\")\n",
    "    for i in range(m):\n",
    "        print(a2[i], end=\" \")\n",
    "    print()"
   ]
  },
  {
   "cell_type": "code",
   "execution_count": null,
   "metadata": {},
   "outputs": [],
   "source": []
  },
  {
   "cell_type": "markdown",
   "metadata": {},
   "source": [
    "### Set Matrix Zeroes\n",
    "Given an m x n integer matrix matrix, if an element is 0, set its entire row and column to 0's, and return the matrix.\n",
    "\n",
    "You must do it in place.\n",
    "\n",
    " \n",
    "\n",
    "Example 1:\n",
    "\n",
    "\n",
    "Input: matrix = [[1,1,1],[1,0,1],[1,1,1]]\n",
    "Output: [[1,0,1],[0,0,0],[1,0,1]]\n",
    "Example 2:\n",
    "\n",
    "\n",
    "Input: matrix = [[0,1,2,0],[3,4,5,2],[1,3,1,5]]\n",
    "Output: [[0,0,0,0],[0,4,5,0],[0,3,1,0]]\n",
    " \n",
    "\n",
    "Constraints:\n",
    "\n",
    "m == matrix.length\n",
    "n == matrix[0].length\n",
    "1 <= m, n <= 200\n",
    "-231 <= matrix[i][j] <= 231 - 1\n",
    " \n",
    " \n",
    " \n",
    " \n",
    " \n",
    " \n",
    " imp case\n",
    " \n",
    " i=[[0,1,2,0],[3,4,5,2],[1,3,1,5]]\n",
    " o=[[0,0,0,0],[0,4,5,0],[0,3,1,0]]"
   ]
  },
  {
   "cell_type": "code",
   "execution_count": null,
   "metadata": {},
   "outputs": [],
   "source": [
    "class Solution:\n",
    "    def setZeroes(self, matrix: List[List[int]]) -> None:\n",
    "        \"\"\"\n",
    "        Do not return anything, modify matrix in-place instead.\n",
    "        \"\"\"\n",
    "        row=set()\n",
    "        col=set()\n",
    "        c=0\n",
    "        r_l=len(matrix)\n",
    "        c_l=len(matrix[0])\n",
    "        for i in matrix:\n",
    "\n",
    "            if 0 in i:\n",
    "                row.add(c)\n",
    "                for j in range(0,c_l):\n",
    "                    if matrix[c][j]==0:\n",
    "                        col.add(j)\n",
    "            c+=1\n",
    "        for i in row:\n",
    "            matrix[i]=[0]*c_l\n",
    "        for i in col:\n",
    "            for j in range(0,r_l):\n",
    "                matrix[j][i]=0\n",
    "        return matrix\n",
    "            \n",
    "        "
   ]
  },
  {
   "cell_type": "markdown",
   "metadata": {},
   "source": [
    " ### Pascals triangle\n",
    " Pattern- <br>\n",
    "     1 <br>\n",
    "    1 1<br>\n",
    "   1 2 1<br>\n",
    "  1 3 3 1<br>\n",
    " 1 4 6 4 1<br>"
   ]
  },
  {
   "cell_type": "code",
   "execution_count": 3,
   "metadata": {},
   "outputs": [
    {
     "name": "stdout",
     "output_type": "stream",
     "text": [
      "       1 \n",
      "     1 1 \n",
      "   1 2 1 \n",
      " 1 3 3 1 \n",
      "1 4 6 4 1 \n"
     ]
    }
   ],
   "source": [
    "def pascal_tri(n):\n",
    "    nsp=n+2\n",
    "    for row in range(0,n):\n",
    "        for csp in range(0,nsp):\n",
    "            print(end=\"\" )\n",
    "        for i in range(0,row+1):\n",
    "            print(binomialcoff(row,i),end=\" \")\n",
    "        nsp=nsp-2\n",
    "        print()\n",
    "def binomialcoff(n,k):\n",
    "    res=1\n",
    "    if k>n-k:\n",
    "        k=n-k\n",
    "    for i in range(0,k):\n",
    "        res*=n-i\n",
    "        res/=i+1\n",
    "    return int(res)\n",
    "\n",
    "pascal_tri(5)\n",
    "            "
   ]
  },
  {
   "cell_type": "code",
   "execution_count": null,
   "metadata": {},
   "outputs": [],
   "source": []
  },
  {
   "cell_type": "code",
   "execution_count": null,
   "metadata": {},
   "outputs": [],
   "source": []
  },
  {
   "cell_type": "code",
   "execution_count": null,
   "metadata": {},
   "outputs": [],
   "source": []
  },
  {
   "cell_type": "code",
   "execution_count": null,
   "metadata": {},
   "outputs": [],
   "source": []
  },
  {
   "cell_type": "code",
   "execution_count": null,
   "metadata": {},
   "outputs": [],
   "source": []
  },
  {
   "cell_type": "code",
   "execution_count": null,
   "metadata": {},
   "outputs": [],
   "source": []
  },
  {
   "cell_type": "code",
   "execution_count": null,
   "metadata": {},
   "outputs": [],
   "source": []
  },
  {
   "cell_type": "code",
   "execution_count": null,
   "metadata": {},
   "outputs": [],
   "source": []
  },
  {
   "cell_type": "code",
   "execution_count": null,
   "metadata": {},
   "outputs": [],
   "source": []
  },
  {
   "cell_type": "code",
   "execution_count": null,
   "metadata": {},
   "outputs": [],
   "source": []
  },
  {
   "cell_type": "code",
   "execution_count": null,
   "metadata": {},
   "outputs": [],
   "source": []
  },
  {
   "cell_type": "code",
   "execution_count": null,
   "metadata": {},
   "outputs": [],
   "source": []
  },
  {
   "cell_type": "code",
   "execution_count": null,
   "metadata": {},
   "outputs": [],
   "source": []
  },
  {
   "cell_type": "code",
   "execution_count": null,
   "metadata": {},
   "outputs": [],
   "source": []
  },
  {
   "cell_type": "code",
   "execution_count": null,
   "metadata": {},
   "outputs": [],
   "source": []
  },
  {
   "cell_type": "code",
   "execution_count": null,
   "metadata": {},
   "outputs": [],
   "source": []
  },
  {
   "cell_type": "code",
   "execution_count": null,
   "metadata": {},
   "outputs": [],
   "source": []
  },
  {
   "cell_type": "code",
   "execution_count": null,
   "metadata": {},
   "outputs": [],
   "source": []
  },
  {
   "cell_type": "code",
   "execution_count": null,
   "metadata": {},
   "outputs": [],
   "source": []
  },
  {
   "cell_type": "code",
   "execution_count": null,
   "metadata": {},
   "outputs": [],
   "source": []
  },
  {
   "cell_type": "code",
   "execution_count": null,
   "metadata": {},
   "outputs": [],
   "source": []
  },
  {
   "cell_type": "code",
   "execution_count": null,
   "metadata": {},
   "outputs": [],
   "source": []
  },
  {
   "cell_type": "code",
   "execution_count": null,
   "metadata": {},
   "outputs": [],
   "source": []
  },
  {
   "cell_type": "code",
   "execution_count": null,
   "metadata": {},
   "outputs": [],
   "source": []
  },
  {
   "cell_type": "code",
   "execution_count": null,
   "metadata": {},
   "outputs": [],
   "source": []
  },
  {
   "cell_type": "code",
   "execution_count": null,
   "metadata": {},
   "outputs": [],
   "source": []
  },
  {
   "cell_type": "code",
   "execution_count": null,
   "metadata": {},
   "outputs": [],
   "source": []
  },
  {
   "cell_type": "code",
   "execution_count": null,
   "metadata": {},
   "outputs": [],
   "source": []
  },
  {
   "cell_type": "code",
   "execution_count": null,
   "metadata": {},
   "outputs": [],
   "source": []
  },
  {
   "cell_type": "code",
   "execution_count": null,
   "metadata": {},
   "outputs": [],
   "source": []
  },
  {
   "cell_type": "code",
   "execution_count": null,
   "metadata": {},
   "outputs": [],
   "source": []
  },
  {
   "cell_type": "code",
   "execution_count": null,
   "metadata": {},
   "outputs": [],
   "source": []
  },
  {
   "cell_type": "code",
   "execution_count": null,
   "metadata": {},
   "outputs": [],
   "source": []
  },
  {
   "cell_type": "code",
   "execution_count": null,
   "metadata": {},
   "outputs": [],
   "source": []
  },
  {
   "cell_type": "code",
   "execution_count": null,
   "metadata": {},
   "outputs": [],
   "source": []
  },
  {
   "cell_type": "code",
   "execution_count": null,
   "metadata": {},
   "outputs": [],
   "source": []
  },
  {
   "cell_type": "code",
   "execution_count": null,
   "metadata": {},
   "outputs": [],
   "source": []
  },
  {
   "cell_type": "code",
   "execution_count": null,
   "metadata": {},
   "outputs": [],
   "source": []
  }
 ],
 "metadata": {
  "kernelspec": {
   "display_name": "Python 3",
   "language": "python",
   "name": "python3"
  },
  "language_info": {
   "codemirror_mode": {
    "name": "ipython",
    "version": 3
   },
   "file_extension": ".py",
   "mimetype": "text/x-python",
   "name": "python",
   "nbconvert_exporter": "python",
   "pygments_lexer": "ipython3",
   "version": "3.8.5"
  }
 },
 "nbformat": 4,
 "nbformat_minor": 4
}
